{
 "cells": [
  {
   "cell_type": "code",
   "execution_count": 5,
   "id": "68376ac3-a47c-4563-99ad-799516fee9cc",
   "metadata": {},
   "outputs": [],
   "source": [
    "import numpy as np\n",
    "import pandas as pd"
   ]
  },
  {
   "cell_type": "code",
   "execution_count": 6,
   "id": "d9672af8-cae3-4f5c-ac17-41904ebca6ff",
   "metadata": {},
   "outputs": [
    {
     "data": {
      "text/html": [
       "<div>\n",
       "<style scoped>\n",
       "    .dataframe tbody tr th:only-of-type {\n",
       "        vertical-align: middle;\n",
       "    }\n",
       "\n",
       "    .dataframe tbody tr th {\n",
       "        vertical-align: top;\n",
       "    }\n",
       "\n",
       "    .dataframe thead th {\n",
       "        text-align: right;\n",
       "    }\n",
       "</style>\n",
       "<table border=\"1\" class=\"dataframe\">\n",
       "  <thead>\n",
       "    <tr style=\"text-align: right;\">\n",
       "      <th></th>\n",
       "      <th>listing_id</th>\n",
       "      <th>date</th>\n",
       "      <th>available</th>\n",
       "      <th>price</th>\n",
       "      <th>adjusted_price</th>\n",
       "      <th>minimum_nights</th>\n",
       "      <th>maximum_nights</th>\n",
       "    </tr>\n",
       "  </thead>\n",
       "  <tbody>\n",
       "    <tr>\n",
       "      <th>0</th>\n",
       "      <td>2595</td>\n",
       "      <td>6/4/2022</td>\n",
       "      <td>f</td>\n",
       "      <td>$225.00</td>\n",
       "      <td>$225.00</td>\n",
       "      <td>30</td>\n",
       "      <td>1125</td>\n",
       "    </tr>\n",
       "    <tr>\n",
       "      <th>1</th>\n",
       "      <td>2595</td>\n",
       "      <td>6/5/2022</td>\n",
       "      <td>f</td>\n",
       "      <td>$225.00</td>\n",
       "      <td>$225.00</td>\n",
       "      <td>30</td>\n",
       "      <td>1125</td>\n",
       "    </tr>\n",
       "    <tr>\n",
       "      <th>2</th>\n",
       "      <td>2595</td>\n",
       "      <td>6/6/2022</td>\n",
       "      <td>f</td>\n",
       "      <td>$225.00</td>\n",
       "      <td>$225.00</td>\n",
       "      <td>30</td>\n",
       "      <td>1125</td>\n",
       "    </tr>\n",
       "    <tr>\n",
       "      <th>3</th>\n",
       "      <td>2595</td>\n",
       "      <td>6/7/2022</td>\n",
       "      <td>f</td>\n",
       "      <td>$225.00</td>\n",
       "      <td>$225.00</td>\n",
       "      <td>30</td>\n",
       "      <td>1125</td>\n",
       "    </tr>\n",
       "    <tr>\n",
       "      <th>4</th>\n",
       "      <td>2595</td>\n",
       "      <td>6/8/2022</td>\n",
       "      <td>f</td>\n",
       "      <td>$225.00</td>\n",
       "      <td>$225.00</td>\n",
       "      <td>30</td>\n",
       "      <td>1125</td>\n",
       "    </tr>\n",
       "  </tbody>\n",
       "</table>\n",
       "</div>"
      ],
      "text/plain": [
       "   listing_id      date available     price adjusted_price  minimum_nights  \\\n",
       "0        2595  6/4/2022         f  $225.00        $225.00               30   \n",
       "1        2595  6/5/2022         f  $225.00        $225.00               30   \n",
       "2        2595  6/6/2022         f  $225.00        $225.00               30   \n",
       "3        2595  6/7/2022         f  $225.00        $225.00               30   \n",
       "4        2595  6/8/2022         f  $225.00        $225.00               30   \n",
       "\n",
       "   maximum_nights  \n",
       "0            1125  \n",
       "1            1125  \n",
       "2            1125  \n",
       "3            1125  \n",
       "4            1125  "
      ]
     },
     "execution_count": 6,
     "metadata": {},
     "output_type": "execute_result"
    }
   ],
   "source": [
    "calendar = pd.read_csv('data/calendar.csv')\n",
    "calendar.head()"
   ]
  },
  {
   "cell_type": "code",
   "execution_count": 7,
   "id": "c2a41eaf-c354-4b15-8f01-0a743777aebe",
   "metadata": {},
   "outputs": [],
   "source": [
    "pd.set_option('display.max_columns', None)"
   ]
  },
  {
   "cell_type": "code",
   "execution_count": 8,
   "id": "614d3eca-288e-4f14-8913-99a16a056368",
   "metadata": {},
   "outputs": [
    {
     "name": "stderr",
     "output_type": "stream",
     "text": [
      "C:\\Users\\matth\\anaconda3\\lib\\site-packages\\IPython\\core\\interactiveshell.py:3444: DtypeWarning: Columns (67) have mixed types.Specify dtype option on import or set low_memory=False.\n",
      "  exec(code_obj, self.user_global_ns, self.user_ns)\n"
     ]
    },
    {
     "data": {
      "text/html": [
       "<div>\n",
       "<style scoped>\n",
       "    .dataframe tbody tr th:only-of-type {\n",
       "        vertical-align: middle;\n",
       "    }\n",
       "\n",
       "    .dataframe tbody tr th {\n",
       "        vertical-align: top;\n",
       "    }\n",
       "\n",
       "    .dataframe thead th {\n",
       "        text-align: right;\n",
       "    }\n",
       "</style>\n",
       "<table border=\"1\" class=\"dataframe\">\n",
       "  <thead>\n",
       "    <tr style=\"text-align: right;\">\n",
       "      <th></th>\n",
       "      <th>id</th>\n",
       "      <th>listing_url</th>\n",
       "      <th>scrape_id</th>\n",
       "      <th>last_scraped</th>\n",
       "      <th>name</th>\n",
       "      <th>description</th>\n",
       "      <th>neighborhood_overview</th>\n",
       "      <th>picture_url</th>\n",
       "      <th>host_id</th>\n",
       "      <th>host_url</th>\n",
       "      <th>host_name</th>\n",
       "      <th>host_since</th>\n",
       "      <th>host_location</th>\n",
       "      <th>host_about</th>\n",
       "      <th>host_response_time</th>\n",
       "      <th>host_response_rate</th>\n",
       "      <th>host_acceptance_rate</th>\n",
       "      <th>host_is_superhost</th>\n",
       "      <th>host_thumbnail_url</th>\n",
       "      <th>host_picture_url</th>\n",
       "      <th>host_neighbourhood</th>\n",
       "      <th>host_listings_count</th>\n",
       "      <th>host_total_listings_count</th>\n",
       "      <th>host_verifications</th>\n",
       "      <th>host_has_profile_pic</th>\n",
       "      <th>host_identity_verified</th>\n",
       "      <th>neighbourhood</th>\n",
       "      <th>neighbourhood_cleansed</th>\n",
       "      <th>neighbourhood_group_cleansed</th>\n",
       "      <th>latitude</th>\n",
       "      <th>longitude</th>\n",
       "      <th>property_type</th>\n",
       "      <th>room_type</th>\n",
       "      <th>accommodates</th>\n",
       "      <th>bathrooms</th>\n",
       "      <th>bathrooms_text</th>\n",
       "      <th>bedrooms</th>\n",
       "      <th>beds</th>\n",
       "      <th>amenities</th>\n",
       "      <th>price</th>\n",
       "      <th>minimum_nights</th>\n",
       "      <th>maximum_nights</th>\n",
       "      <th>minimum_minimum_nights</th>\n",
       "      <th>maximum_minimum_nights</th>\n",
       "      <th>minimum_maximum_nights</th>\n",
       "      <th>maximum_maximum_nights</th>\n",
       "      <th>minimum_nights_avg_ntm</th>\n",
       "      <th>maximum_nights_avg_ntm</th>\n",
       "      <th>calendar_updated</th>\n",
       "      <th>has_availability</th>\n",
       "      <th>availability_30</th>\n",
       "      <th>availability_60</th>\n",
       "      <th>availability_90</th>\n",
       "      <th>availability_365</th>\n",
       "      <th>calendar_last_scraped</th>\n",
       "      <th>number_of_reviews</th>\n",
       "      <th>number_of_reviews_ltm</th>\n",
       "      <th>number_of_reviews_l30d</th>\n",
       "      <th>first_review</th>\n",
       "      <th>last_review</th>\n",
       "      <th>review_scores_rating</th>\n",
       "      <th>review_scores_accuracy</th>\n",
       "      <th>review_scores_cleanliness</th>\n",
       "      <th>review_scores_checkin</th>\n",
       "      <th>review_scores_communication</th>\n",
       "      <th>review_scores_location</th>\n",
       "      <th>review_scores_value</th>\n",
       "      <th>license</th>\n",
       "      <th>instant_bookable</th>\n",
       "      <th>calculated_host_listings_count</th>\n",
       "      <th>calculated_host_listings_count_entire_homes</th>\n",
       "      <th>calculated_host_listings_count_private_rooms</th>\n",
       "      <th>calculated_host_listings_count_shared_rooms</th>\n",
       "      <th>reviews_per_month</th>\n",
       "    </tr>\n",
       "  </thead>\n",
       "  <tbody>\n",
       "    <tr>\n",
       "      <th>0</th>\n",
       "      <td>2595.0</td>\n",
       "      <td>https://www.airbnb.com/rooms/2595</td>\n",
       "      <td>2.022060e+13</td>\n",
       "      <td>6/4/2022</td>\n",
       "      <td>Skylit Midtown Castle</td>\n",
       "      <td>Beautiful, spacious skylit studio in the heart...</td>\n",
       "      <td>Centrally located in the heart of Manhattan ju...</td>\n",
       "      <td>https://a0.muscache.com/pictures/f0813a11-40b2...</td>\n",
       "      <td>2845</td>\n",
       "      <td>https://www.airbnb.com/users/show/2845</td>\n",
       "      <td>Jennifer</td>\n",
       "      <td>9/9/2008</td>\n",
       "      <td>New York, New York, United States</td>\n",
       "      <td>A New Yorker since (Phone number hidden by Air...</td>\n",
       "      <td>a few days or more</td>\n",
       "      <td>39%</td>\n",
       "      <td>19%</td>\n",
       "      <td>f</td>\n",
       "      <td>https://a0.muscache.com/im/pictures/user/50fc5...</td>\n",
       "      <td>https://a0.muscache.com/im/pictures/user/50fc5...</td>\n",
       "      <td>Midtown</td>\n",
       "      <td>6.0</td>\n",
       "      <td>6.0</td>\n",
       "      <td>['email', 'phone', 'work_email']</td>\n",
       "      <td>t</td>\n",
       "      <td>t</td>\n",
       "      <td>New York, United States</td>\n",
       "      <td>Midtown</td>\n",
       "      <td>Manhattan</td>\n",
       "      <td>40.75356</td>\n",
       "      <td>-73.98559</td>\n",
       "      <td>Entire rental unit</td>\n",
       "      <td>Entire home/apt</td>\n",
       "      <td>1</td>\n",
       "      <td>NaN</td>\n",
       "      <td>1 bath</td>\n",
       "      <td>NaN</td>\n",
       "      <td>1.0</td>\n",
       "      <td>[\"Essentials\", \"Bathtub\", \"Extra pillows and b...</td>\n",
       "      <td>$225.00</td>\n",
       "      <td>30</td>\n",
       "      <td>1125</td>\n",
       "      <td>30.0</td>\n",
       "      <td>30.0</td>\n",
       "      <td>1125.0</td>\n",
       "      <td>1125.0</td>\n",
       "      <td>30.0</td>\n",
       "      <td>1125.0</td>\n",
       "      <td>NaN</td>\n",
       "      <td>t</td>\n",
       "      <td>0</td>\n",
       "      <td>3</td>\n",
       "      <td>33</td>\n",
       "      <td>308</td>\n",
       "      <td>6/4/2022</td>\n",
       "      <td>48</td>\n",
       "      <td>0</td>\n",
       "      <td>0</td>\n",
       "      <td>11/21/2009</td>\n",
       "      <td>11/4/2019</td>\n",
       "      <td>4.70</td>\n",
       "      <td>4.72</td>\n",
       "      <td>4.62</td>\n",
       "      <td>4.76</td>\n",
       "      <td>4.79</td>\n",
       "      <td>4.86</td>\n",
       "      <td>4.41</td>\n",
       "      <td>NaN</td>\n",
       "      <td>f</td>\n",
       "      <td>3</td>\n",
       "      <td>3</td>\n",
       "      <td>0</td>\n",
       "      <td>0</td>\n",
       "      <td>0.31</td>\n",
       "    </tr>\n",
       "    <tr>\n",
       "      <th>1</th>\n",
       "      <td>5121.0</td>\n",
       "      <td>https://www.airbnb.com/rooms/5121</td>\n",
       "      <td>2.022060e+13</td>\n",
       "      <td>6/4/2022</td>\n",
       "      <td>BlissArtsSpace!</td>\n",
       "      <td>One room available for rent in a 2 bedroom apt...</td>\n",
       "      <td>NaN</td>\n",
       "      <td>https://a0.muscache.com/pictures/2090980c-b68e...</td>\n",
       "      <td>7356</td>\n",
       "      <td>https://www.airbnb.com/users/show/7356</td>\n",
       "      <td>Garon</td>\n",
       "      <td>2/3/2009</td>\n",
       "      <td>New York, New York, United States</td>\n",
       "      <td>I am an artist(painter, filmmaker) and curato...</td>\n",
       "      <td>within an hour</td>\n",
       "      <td>100%</td>\n",
       "      <td>100%</td>\n",
       "      <td>f</td>\n",
       "      <td>https://a0.muscache.com/im/pictures/user/72a61...</td>\n",
       "      <td>https://a0.muscache.com/im/pictures/user/72a61...</td>\n",
       "      <td>Bedford-Stuyvesant</td>\n",
       "      <td>1.0</td>\n",
       "      <td>1.0</td>\n",
       "      <td>['email', 'phone']</td>\n",
       "      <td>t</td>\n",
       "      <td>t</td>\n",
       "      <td>NaN</td>\n",
       "      <td>Bedford-Stuyvesant</td>\n",
       "      <td>Brooklyn</td>\n",
       "      <td>40.68535</td>\n",
       "      <td>-73.95512</td>\n",
       "      <td>Private room in rental unit</td>\n",
       "      <td>Private room</td>\n",
       "      <td>2</td>\n",
       "      <td>NaN</td>\n",
       "      <td>NaN</td>\n",
       "      <td>1.0</td>\n",
       "      <td>1.0</td>\n",
       "      <td>[\"Heating\", \"Long term stays allowed\", \"Kitche...</td>\n",
       "      <td>$60.00</td>\n",
       "      <td>30</td>\n",
       "      <td>730</td>\n",
       "      <td>30.0</td>\n",
       "      <td>30.0</td>\n",
       "      <td>730.0</td>\n",
       "      <td>730.0</td>\n",
       "      <td>30.0</td>\n",
       "      <td>730.0</td>\n",
       "      <td>NaN</td>\n",
       "      <td>t</td>\n",
       "      <td>30</td>\n",
       "      <td>60</td>\n",
       "      <td>90</td>\n",
       "      <td>365</td>\n",
       "      <td>6/4/2022</td>\n",
       "      <td>50</td>\n",
       "      <td>0</td>\n",
       "      <td>0</td>\n",
       "      <td>5/28/2009</td>\n",
       "      <td>12/2/2019</td>\n",
       "      <td>4.52</td>\n",
       "      <td>4.22</td>\n",
       "      <td>4.09</td>\n",
       "      <td>4.91</td>\n",
       "      <td>4.91</td>\n",
       "      <td>4.47</td>\n",
       "      <td>4.52</td>\n",
       "      <td>NaN</td>\n",
       "      <td>f</td>\n",
       "      <td>2</td>\n",
       "      <td>0</td>\n",
       "      <td>2</td>\n",
       "      <td>0</td>\n",
       "      <td>0.32</td>\n",
       "    </tr>\n",
       "    <tr>\n",
       "      <th>2</th>\n",
       "      <td>5136.0</td>\n",
       "      <td>https://www.airbnb.com/rooms/5136</td>\n",
       "      <td>2.022060e+13</td>\n",
       "      <td>6/4/2022</td>\n",
       "      <td>Spacious Brooklyn Duplex, Patio + Garden</td>\n",
       "      <td>We welcome you to stay in our lovely 2 br dupl...</td>\n",
       "      <td>NaN</td>\n",
       "      <td>https://a0.muscache.com/pictures/miso/Hosting-...</td>\n",
       "      <td>7378</td>\n",
       "      <td>https://www.airbnb.com/users/show/7378</td>\n",
       "      <td>Rebecca</td>\n",
       "      <td>2/3/2009</td>\n",
       "      <td>Brooklyn, New York, United States</td>\n",
       "      <td>Rebecca is an artist/designer, and Henoch is i...</td>\n",
       "      <td>within an hour</td>\n",
       "      <td>100%</td>\n",
       "      <td>50%</td>\n",
       "      <td>f</td>\n",
       "      <td>https://a0.muscache.com/im/users/7378/profile_...</td>\n",
       "      <td>https://a0.muscache.com/im/users/7378/profile_...</td>\n",
       "      <td>Greenwood Heights</td>\n",
       "      <td>1.0</td>\n",
       "      <td>1.0</td>\n",
       "      <td>['email', 'phone']</td>\n",
       "      <td>t</td>\n",
       "      <td>t</td>\n",
       "      <td>NaN</td>\n",
       "      <td>Sunset Park</td>\n",
       "      <td>Brooklyn</td>\n",
       "      <td>40.66265</td>\n",
       "      <td>-73.99454</td>\n",
       "      <td>Entire rental unit</td>\n",
       "      <td>Entire home/apt</td>\n",
       "      <td>4</td>\n",
       "      <td>NaN</td>\n",
       "      <td>1.5 baths</td>\n",
       "      <td>2.0</td>\n",
       "      <td>2.0</td>\n",
       "      <td>[\"Dryer\", \"Heating\", \"Hair dryer\", \"Carbon mon...</td>\n",
       "      <td>$275.00</td>\n",
       "      <td>21</td>\n",
       "      <td>1125</td>\n",
       "      <td>21.0</td>\n",
       "      <td>21.0</td>\n",
       "      <td>1125.0</td>\n",
       "      <td>1125.0</td>\n",
       "      <td>21.0</td>\n",
       "      <td>1125.0</td>\n",
       "      <td>NaN</td>\n",
       "      <td>t</td>\n",
       "      <td>3</td>\n",
       "      <td>3</td>\n",
       "      <td>4</td>\n",
       "      <td>250</td>\n",
       "      <td>6/4/2022</td>\n",
       "      <td>2</td>\n",
       "      <td>1</td>\n",
       "      <td>0</td>\n",
       "      <td>1/2/2014</td>\n",
       "      <td>8/8/2021</td>\n",
       "      <td>5.00</td>\n",
       "      <td>5.00</td>\n",
       "      <td>5.00</td>\n",
       "      <td>5.00</td>\n",
       "      <td>5.00</td>\n",
       "      <td>4.50</td>\n",
       "      <td>5.00</td>\n",
       "      <td>NaN</td>\n",
       "      <td>f</td>\n",
       "      <td>1</td>\n",
       "      <td>1</td>\n",
       "      <td>0</td>\n",
       "      <td>0</td>\n",
       "      <td>0.02</td>\n",
       "    </tr>\n",
       "    <tr>\n",
       "      <th>3</th>\n",
       "      <td>5178.0</td>\n",
       "      <td>https://www.airbnb.com/rooms/5178</td>\n",
       "      <td>2.022060e+13</td>\n",
       "      <td>6/4/2022</td>\n",
       "      <td>Large Furnished Room Near B'way</td>\n",
       "      <td>Please don’t expect the luxury here just a bas...</td>\n",
       "      <td>Theater district, many restaurants around here.</td>\n",
       "      <td>https://a0.muscache.com/pictures/12065/f070997...</td>\n",
       "      <td>8967</td>\n",
       "      <td>https://www.airbnb.com/users/show/8967</td>\n",
       "      <td>Shunichi</td>\n",
       "      <td>3/3/2009</td>\n",
       "      <td>New York, New York, United States</td>\n",
       "      <td>I used to work for a financial industry but no...</td>\n",
       "      <td>within a day</td>\n",
       "      <td>100%</td>\n",
       "      <td>100%</td>\n",
       "      <td>f</td>\n",
       "      <td>https://a0.muscache.com/im/users/8967/profile_...</td>\n",
       "      <td>https://a0.muscache.com/im/users/8967/profile_...</td>\n",
       "      <td>Hell's Kitchen</td>\n",
       "      <td>1.0</td>\n",
       "      <td>1.0</td>\n",
       "      <td>['email', 'phone']</td>\n",
       "      <td>t</td>\n",
       "      <td>f</td>\n",
       "      <td>New York, United States</td>\n",
       "      <td>Midtown</td>\n",
       "      <td>Manhattan</td>\n",
       "      <td>40.76457</td>\n",
       "      <td>-73.98317</td>\n",
       "      <td>Private room in rental unit</td>\n",
       "      <td>Private room</td>\n",
       "      <td>2</td>\n",
       "      <td>NaN</td>\n",
       "      <td>1 bath</td>\n",
       "      <td>1.0</td>\n",
       "      <td>1.0</td>\n",
       "      <td>[\"Conditioner\", \"Essentials\", \"Extra pillows a...</td>\n",
       "      <td>$68.00</td>\n",
       "      <td>2</td>\n",
       "      <td>14</td>\n",
       "      <td>2.0</td>\n",
       "      <td>2.0</td>\n",
       "      <td>14.0</td>\n",
       "      <td>14.0</td>\n",
       "      <td>2.0</td>\n",
       "      <td>14.0</td>\n",
       "      <td>NaN</td>\n",
       "      <td>t</td>\n",
       "      <td>3</td>\n",
       "      <td>5</td>\n",
       "      <td>9</td>\n",
       "      <td>172</td>\n",
       "      <td>6/4/2022</td>\n",
       "      <td>536</td>\n",
       "      <td>62</td>\n",
       "      <td>2</td>\n",
       "      <td>5/6/2009</td>\n",
       "      <td>5/9/2022</td>\n",
       "      <td>4.23</td>\n",
       "      <td>4.24</td>\n",
       "      <td>3.75</td>\n",
       "      <td>4.66</td>\n",
       "      <td>4.44</td>\n",
       "      <td>4.87</td>\n",
       "      <td>4.39</td>\n",
       "      <td>NaN</td>\n",
       "      <td>f</td>\n",
       "      <td>1</td>\n",
       "      <td>0</td>\n",
       "      <td>1</td>\n",
       "      <td>0</td>\n",
       "      <td>3.37</td>\n",
       "    </tr>\n",
       "    <tr>\n",
       "      <th>4</th>\n",
       "      <td>5203.0</td>\n",
       "      <td>https://www.airbnb.com/rooms/5203</td>\n",
       "      <td>2.022060e+13</td>\n",
       "      <td>6/3/2022</td>\n",
       "      <td>Cozy Clean Guest Room - Family Apt</td>\n",
       "      <td>Our best guests are seeking a safe, clean, spa...</td>\n",
       "      <td>Our neighborhood is full of restaurants and ca...</td>\n",
       "      <td>https://a0.muscache.com/pictures/103776/b37157...</td>\n",
       "      <td>7490</td>\n",
       "      <td>https://www.airbnb.com/users/show/7490</td>\n",
       "      <td>MaryEllen</td>\n",
       "      <td>2/5/2009</td>\n",
       "      <td>New York, New York, United States</td>\n",
       "      <td>Welcome to family life with my oldest two away...</td>\n",
       "      <td>NaN</td>\n",
       "      <td>NaN</td>\n",
       "      <td>NaN</td>\n",
       "      <td>f</td>\n",
       "      <td>https://a0.muscache.com/im/users/7490/profile_...</td>\n",
       "      <td>https://a0.muscache.com/im/users/7490/profile_...</td>\n",
       "      <td>Upper West Side</td>\n",
       "      <td>1.0</td>\n",
       "      <td>1.0</td>\n",
       "      <td>['email', 'phone']</td>\n",
       "      <td>t</td>\n",
       "      <td>t</td>\n",
       "      <td>New York, United States</td>\n",
       "      <td>Upper West Side</td>\n",
       "      <td>Manhattan</td>\n",
       "      <td>40.80380</td>\n",
       "      <td>-73.96751</td>\n",
       "      <td>Private room in rental unit</td>\n",
       "      <td>Private room</td>\n",
       "      <td>1</td>\n",
       "      <td>NaN</td>\n",
       "      <td>1 shared bath</td>\n",
       "      <td>1.0</td>\n",
       "      <td>1.0</td>\n",
       "      <td>[\"Carbon monoxide alarm\", \"Heating\", \"Essentia...</td>\n",
       "      <td>$75.00</td>\n",
       "      <td>2</td>\n",
       "      <td>14</td>\n",
       "      <td>2.0</td>\n",
       "      <td>2.0</td>\n",
       "      <td>14.0</td>\n",
       "      <td>14.0</td>\n",
       "      <td>2.0</td>\n",
       "      <td>14.0</td>\n",
       "      <td>NaN</td>\n",
       "      <td>t</td>\n",
       "      <td>0</td>\n",
       "      <td>0</td>\n",
       "      <td>0</td>\n",
       "      <td>0</td>\n",
       "      <td>6/3/2022</td>\n",
       "      <td>118</td>\n",
       "      <td>0</td>\n",
       "      <td>0</td>\n",
       "      <td>9/7/2009</td>\n",
       "      <td>7/21/2017</td>\n",
       "      <td>4.91</td>\n",
       "      <td>4.83</td>\n",
       "      <td>4.82</td>\n",
       "      <td>4.97</td>\n",
       "      <td>4.95</td>\n",
       "      <td>4.94</td>\n",
       "      <td>4.92</td>\n",
       "      <td>NaN</td>\n",
       "      <td>f</td>\n",
       "      <td>1</td>\n",
       "      <td>0</td>\n",
       "      <td>1</td>\n",
       "      <td>0</td>\n",
       "      <td>0.76</td>\n",
       "    </tr>\n",
       "  </tbody>\n",
       "</table>\n",
       "</div>"
      ],
      "text/plain": [
       "       id                        listing_url     scrape_id last_scraped  \\\n",
       "0  2595.0  https://www.airbnb.com/rooms/2595  2.022060e+13     6/4/2022   \n",
       "1  5121.0  https://www.airbnb.com/rooms/5121  2.022060e+13     6/4/2022   \n",
       "2  5136.0  https://www.airbnb.com/rooms/5136  2.022060e+13     6/4/2022   \n",
       "3  5178.0  https://www.airbnb.com/rooms/5178  2.022060e+13     6/4/2022   \n",
       "4  5203.0  https://www.airbnb.com/rooms/5203  2.022060e+13     6/3/2022   \n",
       "\n",
       "                                       name  \\\n",
       "0                     Skylit Midtown Castle   \n",
       "1                           BlissArtsSpace!   \n",
       "2  Spacious Brooklyn Duplex, Patio + Garden   \n",
       "3          Large Furnished Room Near B'way　   \n",
       "4        Cozy Clean Guest Room - Family Apt   \n",
       "\n",
       "                                         description  \\\n",
       "0  Beautiful, spacious skylit studio in the heart...   \n",
       "1  One room available for rent in a 2 bedroom apt...   \n",
       "2  We welcome you to stay in our lovely 2 br dupl...   \n",
       "3  Please don’t expect the luxury here just a bas...   \n",
       "4  Our best guests are seeking a safe, clean, spa...   \n",
       "\n",
       "                               neighborhood_overview  \\\n",
       "0  Centrally located in the heart of Manhattan ju...   \n",
       "1                                                NaN   \n",
       "2                                                NaN   \n",
       "3    Theater district, many restaurants around here.   \n",
       "4  Our neighborhood is full of restaurants and ca...   \n",
       "\n",
       "                                         picture_url  host_id  \\\n",
       "0  https://a0.muscache.com/pictures/f0813a11-40b2...     2845   \n",
       "1  https://a0.muscache.com/pictures/2090980c-b68e...     7356   \n",
       "2  https://a0.muscache.com/pictures/miso/Hosting-...     7378   \n",
       "3  https://a0.muscache.com/pictures/12065/f070997...     8967   \n",
       "4  https://a0.muscache.com/pictures/103776/b37157...     7490   \n",
       "\n",
       "                                 host_url  host_name host_since  \\\n",
       "0  https://www.airbnb.com/users/show/2845   Jennifer   9/9/2008   \n",
       "1  https://www.airbnb.com/users/show/7356      Garon   2/3/2009   \n",
       "2  https://www.airbnb.com/users/show/7378    Rebecca   2/3/2009   \n",
       "3  https://www.airbnb.com/users/show/8967   Shunichi   3/3/2009   \n",
       "4  https://www.airbnb.com/users/show/7490  MaryEllen   2/5/2009   \n",
       "\n",
       "                       host_location  \\\n",
       "0  New York, New York, United States   \n",
       "1  New York, New York, United States   \n",
       "2  Brooklyn, New York, United States   \n",
       "3  New York, New York, United States   \n",
       "4  New York, New York, United States   \n",
       "\n",
       "                                          host_about  host_response_time  \\\n",
       "0  A New Yorker since (Phone number hidden by Air...  a few days or more   \n",
       "1   I am an artist(painter, filmmaker) and curato...      within an hour   \n",
       "2  Rebecca is an artist/designer, and Henoch is i...      within an hour   \n",
       "3  I used to work for a financial industry but no...        within a day   \n",
       "4  Welcome to family life with my oldest two away...                 NaN   \n",
       "\n",
       "  host_response_rate host_acceptance_rate host_is_superhost  \\\n",
       "0                39%                  19%                 f   \n",
       "1               100%                 100%                 f   \n",
       "2               100%                  50%                 f   \n",
       "3               100%                 100%                 f   \n",
       "4                NaN                  NaN                 f   \n",
       "\n",
       "                                  host_thumbnail_url  \\\n",
       "0  https://a0.muscache.com/im/pictures/user/50fc5...   \n",
       "1  https://a0.muscache.com/im/pictures/user/72a61...   \n",
       "2  https://a0.muscache.com/im/users/7378/profile_...   \n",
       "3  https://a0.muscache.com/im/users/8967/profile_...   \n",
       "4  https://a0.muscache.com/im/users/7490/profile_...   \n",
       "\n",
       "                                    host_picture_url  host_neighbourhood  \\\n",
       "0  https://a0.muscache.com/im/pictures/user/50fc5...             Midtown   \n",
       "1  https://a0.muscache.com/im/pictures/user/72a61...  Bedford-Stuyvesant   \n",
       "2  https://a0.muscache.com/im/users/7378/profile_...   Greenwood Heights   \n",
       "3  https://a0.muscache.com/im/users/8967/profile_...      Hell's Kitchen   \n",
       "4  https://a0.muscache.com/im/users/7490/profile_...     Upper West Side   \n",
       "\n",
       "   host_listings_count  host_total_listings_count  \\\n",
       "0                  6.0                        6.0   \n",
       "1                  1.0                        1.0   \n",
       "2                  1.0                        1.0   \n",
       "3                  1.0                        1.0   \n",
       "4                  1.0                        1.0   \n",
       "\n",
       "                 host_verifications host_has_profile_pic  \\\n",
       "0  ['email', 'phone', 'work_email']                    t   \n",
       "1                ['email', 'phone']                    t   \n",
       "2                ['email', 'phone']                    t   \n",
       "3                ['email', 'phone']                    t   \n",
       "4                ['email', 'phone']                    t   \n",
       "\n",
       "  host_identity_verified            neighbourhood neighbourhood_cleansed  \\\n",
       "0                      t  New York, United States                Midtown   \n",
       "1                      t                      NaN     Bedford-Stuyvesant   \n",
       "2                      t                      NaN            Sunset Park   \n",
       "3                      f  New York, United States                Midtown   \n",
       "4                      t  New York, United States        Upper West Side   \n",
       "\n",
       "  neighbourhood_group_cleansed  latitude  longitude  \\\n",
       "0                    Manhattan  40.75356  -73.98559   \n",
       "1                     Brooklyn  40.68535  -73.95512   \n",
       "2                     Brooklyn  40.66265  -73.99454   \n",
       "3                    Manhattan  40.76457  -73.98317   \n",
       "4                    Manhattan  40.80380  -73.96751   \n",
       "\n",
       "                 property_type        room_type  accommodates  bathrooms  \\\n",
       "0           Entire rental unit  Entire home/apt             1        NaN   \n",
       "1  Private room in rental unit     Private room             2        NaN   \n",
       "2           Entire rental unit  Entire home/apt             4        NaN   \n",
       "3  Private room in rental unit     Private room             2        NaN   \n",
       "4  Private room in rental unit     Private room             1        NaN   \n",
       "\n",
       "  bathrooms_text  bedrooms  beds  \\\n",
       "0         1 bath       NaN   1.0   \n",
       "1            NaN       1.0   1.0   \n",
       "2      1.5 baths       2.0   2.0   \n",
       "3         1 bath       1.0   1.0   \n",
       "4  1 shared bath       1.0   1.0   \n",
       "\n",
       "                                           amenities     price  \\\n",
       "0  [\"Essentials\", \"Bathtub\", \"Extra pillows and b...  $225.00    \n",
       "1  [\"Heating\", \"Long term stays allowed\", \"Kitche...   $60.00    \n",
       "2  [\"Dryer\", \"Heating\", \"Hair dryer\", \"Carbon mon...  $275.00    \n",
       "3  [\"Conditioner\", \"Essentials\", \"Extra pillows a...   $68.00    \n",
       "4  [\"Carbon monoxide alarm\", \"Heating\", \"Essentia...   $75.00    \n",
       "\n",
       "   minimum_nights  maximum_nights  minimum_minimum_nights  \\\n",
       "0              30            1125                    30.0   \n",
       "1              30             730                    30.0   \n",
       "2              21            1125                    21.0   \n",
       "3               2              14                     2.0   \n",
       "4               2              14                     2.0   \n",
       "\n",
       "   maximum_minimum_nights  minimum_maximum_nights  maximum_maximum_nights  \\\n",
       "0                    30.0                  1125.0                  1125.0   \n",
       "1                    30.0                   730.0                   730.0   \n",
       "2                    21.0                  1125.0                  1125.0   \n",
       "3                     2.0                    14.0                    14.0   \n",
       "4                     2.0                    14.0                    14.0   \n",
       "\n",
       "   minimum_nights_avg_ntm  maximum_nights_avg_ntm  calendar_updated  \\\n",
       "0                    30.0                  1125.0               NaN   \n",
       "1                    30.0                   730.0               NaN   \n",
       "2                    21.0                  1125.0               NaN   \n",
       "3                     2.0                    14.0               NaN   \n",
       "4                     2.0                    14.0               NaN   \n",
       "\n",
       "  has_availability  availability_30  availability_60  availability_90  \\\n",
       "0                t                0                3               33   \n",
       "1                t               30               60               90   \n",
       "2                t                3                3                4   \n",
       "3                t                3                5                9   \n",
       "4                t                0                0                0   \n",
       "\n",
       "   availability_365 calendar_last_scraped  number_of_reviews  \\\n",
       "0               308              6/4/2022                 48   \n",
       "1               365              6/4/2022                 50   \n",
       "2               250              6/4/2022                  2   \n",
       "3               172              6/4/2022                536   \n",
       "4                 0              6/3/2022                118   \n",
       "\n",
       "   number_of_reviews_ltm  number_of_reviews_l30d first_review last_review  \\\n",
       "0                      0                       0   11/21/2009   11/4/2019   \n",
       "1                      0                       0    5/28/2009   12/2/2019   \n",
       "2                      1                       0     1/2/2014    8/8/2021   \n",
       "3                     62                       2     5/6/2009    5/9/2022   \n",
       "4                      0                       0     9/7/2009   7/21/2017   \n",
       "\n",
       "   review_scores_rating  review_scores_accuracy  review_scores_cleanliness  \\\n",
       "0                  4.70                    4.72                       4.62   \n",
       "1                  4.52                    4.22                       4.09   \n",
       "2                  5.00                    5.00                       5.00   \n",
       "3                  4.23                    4.24                       3.75   \n",
       "4                  4.91                    4.83                       4.82   \n",
       "\n",
       "   review_scores_checkin  review_scores_communication  review_scores_location  \\\n",
       "0                   4.76                         4.79                    4.86   \n",
       "1                   4.91                         4.91                    4.47   \n",
       "2                   5.00                         5.00                    4.50   \n",
       "3                   4.66                         4.44                    4.87   \n",
       "4                   4.97                         4.95                    4.94   \n",
       "\n",
       "   review_scores_value license instant_bookable  \\\n",
       "0                 4.41     NaN                f   \n",
       "1                 4.52     NaN                f   \n",
       "2                 5.00     NaN                f   \n",
       "3                 4.39     NaN                f   \n",
       "4                 4.92     NaN                f   \n",
       "\n",
       "   calculated_host_listings_count  \\\n",
       "0                               3   \n",
       "1                               2   \n",
       "2                               1   \n",
       "3                               1   \n",
       "4                               1   \n",
       "\n",
       "   calculated_host_listings_count_entire_homes  \\\n",
       "0                                            3   \n",
       "1                                            0   \n",
       "2                                            1   \n",
       "3                                            0   \n",
       "4                                            0   \n",
       "\n",
       "   calculated_host_listings_count_private_rooms  \\\n",
       "0                                             0   \n",
       "1                                             2   \n",
       "2                                             0   \n",
       "3                                             1   \n",
       "4                                             1   \n",
       "\n",
       "   calculated_host_listings_count_shared_rooms  reviews_per_month  \n",
       "0                                            0               0.31  \n",
       "1                                            0               0.32  \n",
       "2                                            0               0.02  \n",
       "3                                            0               3.37  \n",
       "4                                            0               0.76  "
      ]
     },
     "execution_count": 8,
     "metadata": {},
     "output_type": "execute_result"
    }
   ],
   "source": [
    "listings = pd.read_csv('data/listings.csv')\n",
    "listings.head()"
   ]
  },
  {
   "cell_type": "code",
   "execution_count": 9,
   "id": "24a37117-8b74-4208-8d8d-b2fb44543cea",
   "metadata": {},
   "outputs": [
    {
     "name": "stdout",
     "output_type": "stream",
     "text": [
      "<class 'pandas.core.frame.DataFrame'>\n",
      "RangeIndex: 1048575 entries, 0 to 1048574\n",
      "Data columns (total 7 columns):\n",
      " #   Column          Non-Null Count    Dtype \n",
      "---  ------          --------------    ----- \n",
      " 0   listing_id      1048575 non-null  int64 \n",
      " 1   date            1048575 non-null  object\n",
      " 2   available       1048575 non-null  object\n",
      " 3   price           1048575 non-null  object\n",
      " 4   adjusted_price  1048575 non-null  object\n",
      " 5   minimum_nights  1048575 non-null  int64 \n",
      " 6   maximum_nights  1048575 non-null  int64 \n",
      "dtypes: int64(3), object(4)\n",
      "memory usage: 56.0+ MB\n"
     ]
    }
   ],
   "source": [
    "calendar.info()"
   ]
  },
  {
   "cell_type": "code",
   "execution_count": 10,
   "id": "504e833b-38f1-444a-bc10-7401528dc958",
   "metadata": {},
   "outputs": [
    {
     "data": {
      "text/plain": [
       "listing_id        0\n",
       "date              0\n",
       "available         0\n",
       "price             0\n",
       "adjusted_price    0\n",
       "minimum_nights    0\n",
       "maximum_nights    0\n",
       "dtype: int64"
      ]
     },
     "execution_count": 10,
     "metadata": {},
     "output_type": "execute_result"
    }
   ],
   "source": [
    "calendar.isnull().sum()"
   ]
  },
  {
   "cell_type": "code",
   "execution_count": 11,
   "id": "a9f7f713-f637-4815-a440-52cb7fbd7ea9",
   "metadata": {},
   "outputs": [],
   "source": [
    "calendar['date'] = pd.to_datetime(calendar['date'], format='%m/%d/%Y')"
   ]
  },
  {
   "cell_type": "code",
   "execution_count": 12,
   "id": "c5cd469b-664b-4f30-a0c3-a4fddbb75c7d",
   "metadata": {},
   "outputs": [
    {
     "data": {
      "text/plain": [
       "f    732055\n",
       "t    316520\n",
       "Name: available, dtype: int64"
      ]
     },
     "execution_count": 12,
     "metadata": {},
     "output_type": "execute_result"
    }
   ],
   "source": [
    "calendar['available'].value_counts()"
   ]
  },
  {
   "cell_type": "code",
   "execution_count": 13,
   "id": "5a569bd7-be7a-45ad-adde-affda3647220",
   "metadata": {},
   "outputs": [
    {
     "data": {
      "text/plain": [
       "0    732055\n",
       "1    316520\n",
       "Name: available, dtype: int64"
      ]
     },
     "execution_count": 13,
     "metadata": {},
     "output_type": "execute_result"
    }
   ],
   "source": [
    "#1 for \"true\" and 0 for \"false\"\n",
    "calendar['available'] = calendar['available'].map(lambda x: 1 if x == 't' else 0)\n",
    "calendar['available'].value_counts()"
   ]
  },
  {
   "cell_type": "code",
   "execution_count": 14,
   "id": "4dd64015-be31-47be-b386-74bcd90f5211",
   "metadata": {},
   "outputs": [],
   "source": [
    "calendar['price'] = calendar['price'].map(lambda x: x.replace(',',''))\n",
    "calendar['price'] = calendar['price'].map(lambda x: float(x[1:]) if x[0] == '$' else float(x))"
   ]
  },
  {
   "cell_type": "markdown",
   "id": "d57698b5-9e6e-4977-bef6-7e3b64777cdf",
   "metadata": {},
   "source": [
    "Price and adjusted_price are the same so we will drop adjusted_price"
   ]
  },
  {
   "cell_type": "code",
   "execution_count": 15,
   "id": "91ca7f40-f2fe-4f96-a11e-9ceae21f9ca0",
   "metadata": {},
   "outputs": [],
   "source": [
    "calendar = calendar.drop(columns=['adjusted_price'])"
   ]
  },
  {
   "cell_type": "code",
   "execution_count": 16,
   "id": "6e65c591-5966-43df-a693-7a596d90e6b0",
   "metadata": {},
   "outputs": [
    {
     "name": "stdout",
     "output_type": "stream",
     "text": [
      "<class 'pandas.core.frame.DataFrame'>\n",
      "RangeIndex: 1048575 entries, 0 to 1048574\n",
      "Data columns (total 6 columns):\n",
      " #   Column          Non-Null Count    Dtype         \n",
      "---  ------          --------------    -----         \n",
      " 0   listing_id      1048575 non-null  int64         \n",
      " 1   date            1048575 non-null  datetime64[ns]\n",
      " 2   available       1048575 non-null  int64         \n",
      " 3   price           1048575 non-null  float64       \n",
      " 4   minimum_nights  1048575 non-null  int64         \n",
      " 5   maximum_nights  1048575 non-null  int64         \n",
      "dtypes: datetime64[ns](1), float64(1), int64(4)\n",
      "memory usage: 48.0 MB\n"
     ]
    }
   ],
   "source": [
    "calendar.info()"
   ]
  },
  {
   "cell_type": "code",
   "execution_count": 17,
   "id": "9ab11689-495d-4e04-86c7-5a89942fcd1f",
   "metadata": {
    "scrolled": true,
    "tags": []
   },
   "outputs": [
    {
     "name": "stdout",
     "output_type": "stream",
     "text": [
      "<class 'pandas.core.frame.DataFrame'>\n",
      "RangeIndex: 37410 entries, 0 to 37409\n",
      "Data columns (total 74 columns):\n",
      " #   Column                                        Non-Null Count  Dtype  \n",
      "---  ------                                        --------------  -----  \n",
      " 0   id                                            37410 non-null  float64\n",
      " 1   listing_url                                   37410 non-null  object \n",
      " 2   scrape_id                                     37410 non-null  float64\n",
      " 3   last_scraped                                  37410 non-null  object \n",
      " 4   name                                          37396 non-null  object \n",
      " 5   description                                   36523 non-null  object \n",
      " 6   neighborhood_overview                         22430 non-null  object \n",
      " 7   picture_url                                   37410 non-null  object \n",
      " 8   host_id                                       37410 non-null  int64  \n",
      " 9   host_url                                      37410 non-null  object \n",
      " 10  host_name                                     37344 non-null  object \n",
      " 11  host_since                                    37344 non-null  object \n",
      " 12  host_location                                 37247 non-null  object \n",
      " 13  host_about                                    21054 non-null  object \n",
      " 14  host_response_time                            24200 non-null  object \n",
      " 15  host_response_rate                            24200 non-null  object \n",
      " 16  host_acceptance_rate                          25678 non-null  object \n",
      " 17  host_is_superhost                             37344 non-null  object \n",
      " 18  host_thumbnail_url                            37344 non-null  object \n",
      " 19  host_picture_url                              37344 non-null  object \n",
      " 20  host_neighbourhood                            29868 non-null  object \n",
      " 21  host_listings_count                           37344 non-null  float64\n",
      " 22  host_total_listings_count                     37344 non-null  float64\n",
      " 23  host_verifications                            37410 non-null  object \n",
      " 24  host_has_profile_pic                          37344 non-null  object \n",
      " 25  host_identity_verified                        37344 non-null  object \n",
      " 26  neighbourhood                                 22431 non-null  object \n",
      " 27  neighbourhood_cleansed                        37410 non-null  object \n",
      " 28  neighbourhood_group_cleansed                  37410 non-null  object \n",
      " 29  latitude                                      37410 non-null  float64\n",
      " 30  longitude                                     37410 non-null  float64\n",
      " 31  property_type                                 37410 non-null  object \n",
      " 32  room_type                                     37410 non-null  object \n",
      " 33  accommodates                                  37410 non-null  int64  \n",
      " 34  bathrooms                                     0 non-null      float64\n",
      " 35  bathrooms_text                                37329 non-null  object \n",
      " 36  bedrooms                                      33756 non-null  float64\n",
      " 37  beds                                          36509 non-null  float64\n",
      " 38  amenities                                     37410 non-null  object \n",
      " 39  price                                         37410 non-null  object \n",
      " 40  minimum_nights                                37410 non-null  int64  \n",
      " 41  maximum_nights                                37410 non-null  int64  \n",
      " 42  minimum_minimum_nights                        37395 non-null  float64\n",
      " 43  maximum_minimum_nights                        37395 non-null  float64\n",
      " 44  minimum_maximum_nights                        37395 non-null  float64\n",
      " 45  maximum_maximum_nights                        37395 non-null  float64\n",
      " 46  minimum_nights_avg_ntm                        37395 non-null  float64\n",
      " 47  maximum_nights_avg_ntm                        37395 non-null  float64\n",
      " 48  calendar_updated                              0 non-null      float64\n",
      " 49  has_availability                              37410 non-null  object \n",
      " 50  availability_30                               37410 non-null  int64  \n",
      " 51  availability_60                               37410 non-null  int64  \n",
      " 52  availability_90                               37410 non-null  int64  \n",
      " 53  availability_365                              37410 non-null  int64  \n",
      " 54  calendar_last_scraped                         37410 non-null  object \n",
      " 55  number_of_reviews                             37410 non-null  int64  \n",
      " 56  number_of_reviews_ltm                         37410 non-null  int64  \n",
      " 57  number_of_reviews_l30d                        37410 non-null  int64  \n",
      " 58  first_review                                  29461 non-null  object \n",
      " 59  last_review                                   29461 non-null  object \n",
      " 60  review_scores_rating                          29461 non-null  float64\n",
      " 61  review_scores_accuracy                        28982 non-null  float64\n",
      " 62  review_scores_cleanliness                     28992 non-null  float64\n",
      " 63  review_scores_checkin                         28978 non-null  float64\n",
      " 64  review_scores_communication                   28987 non-null  float64\n",
      " 65  review_scores_location                        28975 non-null  float64\n",
      " 66  review_scores_value                           28975 non-null  float64\n",
      " 67  license                                       4 non-null      object \n",
      " 68  instant_bookable                              37410 non-null  object \n",
      " 69  calculated_host_listings_count                37410 non-null  int64  \n",
      " 70  calculated_host_listings_count_entire_homes   37410 non-null  int64  \n",
      " 71  calculated_host_listings_count_private_rooms  37410 non-null  int64  \n",
      " 72  calculated_host_listings_count_shared_rooms   37410 non-null  int64  \n",
      " 73  reviews_per_month                             29461 non-null  float64\n",
      "dtypes: float64(24), int64(15), object(35)\n",
      "memory usage: 21.1+ MB\n"
     ]
    }
   ],
   "source": [
    "listings.info()"
   ]
  },
  {
   "cell_type": "code",
   "execution_count": 18,
   "id": "578525de-5692-48e6-b450-e2d3ad41797f",
   "metadata": {},
   "outputs": [],
   "source": [
    "pd.set_option('display.max_rows', None)"
   ]
  },
  {
   "cell_type": "code",
   "execution_count": 19,
   "id": "a7cb66d2-a66e-4481-ba21-aacda4d95eb1",
   "metadata": {
    "scrolled": true,
    "tags": []
   },
   "outputs": [
    {
     "data": {
      "text/plain": [
       "id                                                  0\n",
       "listing_url                                         0\n",
       "scrape_id                                           0\n",
       "last_scraped                                        0\n",
       "name                                               14\n",
       "description                                       887\n",
       "neighborhood_overview                           14980\n",
       "picture_url                                         0\n",
       "host_id                                             0\n",
       "host_url                                            0\n",
       "host_name                                          66\n",
       "host_since                                         66\n",
       "host_location                                     163\n",
       "host_about                                      16356\n",
       "host_response_time                              13210\n",
       "host_response_rate                              13210\n",
       "host_acceptance_rate                            11732\n",
       "host_is_superhost                                  66\n",
       "host_thumbnail_url                                 66\n",
       "host_picture_url                                   66\n",
       "host_neighbourhood                               7542\n",
       "host_listings_count                                66\n",
       "host_total_listings_count                          66\n",
       "host_verifications                                  0\n",
       "host_has_profile_pic                               66\n",
       "host_identity_verified                             66\n",
       "neighbourhood                                   14979\n",
       "neighbourhood_cleansed                              0\n",
       "neighbourhood_group_cleansed                        0\n",
       "latitude                                            0\n",
       "longitude                                           0\n",
       "property_type                                       0\n",
       "room_type                                           0\n",
       "accommodates                                        0\n",
       "bathrooms                                       37410\n",
       "bathrooms_text                                     81\n",
       "bedrooms                                         3654\n",
       "beds                                              901\n",
       "amenities                                           0\n",
       "price                                               0\n",
       "minimum_nights                                      0\n",
       "maximum_nights                                      0\n",
       "minimum_minimum_nights                             15\n",
       "maximum_minimum_nights                             15\n",
       "minimum_maximum_nights                             15\n",
       "maximum_maximum_nights                             15\n",
       "minimum_nights_avg_ntm                             15\n",
       "maximum_nights_avg_ntm                             15\n",
       "calendar_updated                                37410\n",
       "has_availability                                    0\n",
       "availability_30                                     0\n",
       "availability_60                                     0\n",
       "availability_90                                     0\n",
       "availability_365                                    0\n",
       "calendar_last_scraped                               0\n",
       "number_of_reviews                                   0\n",
       "number_of_reviews_ltm                               0\n",
       "number_of_reviews_l30d                              0\n",
       "first_review                                     7949\n",
       "last_review                                      7949\n",
       "review_scores_rating                             7949\n",
       "review_scores_accuracy                           8428\n",
       "review_scores_cleanliness                        8418\n",
       "review_scores_checkin                            8432\n",
       "review_scores_communication                      8423\n",
       "review_scores_location                           8435\n",
       "review_scores_value                              8435\n",
       "license                                         37406\n",
       "instant_bookable                                    0\n",
       "calculated_host_listings_count                      0\n",
       "calculated_host_listings_count_entire_homes         0\n",
       "calculated_host_listings_count_private_rooms        0\n",
       "calculated_host_listings_count_shared_rooms         0\n",
       "reviews_per_month                                7949\n",
       "dtype: int64"
      ]
     },
     "execution_count": 19,
     "metadata": {},
     "output_type": "execute_result"
    }
   ],
   "source": [
    "listings.isnull().sum()"
   ]
  },
  {
   "cell_type": "code",
   "execution_count": 20,
   "id": "618c1313-bec5-4ef3-8696-a8ae3095f1a3",
   "metadata": {},
   "outputs": [
    {
     "data": {
      "text/plain": [
       "37410"
      ]
     },
     "execution_count": 20,
     "metadata": {},
     "output_type": "execute_result"
    }
   ],
   "source": [
    "len(listings)"
   ]
  },
  {
   "cell_type": "markdown",
   "id": "d06e2e18-971f-417a-86f1-c6330c7a8b6b",
   "metadata": {},
   "source": [
    "We have to figure out which columns we need and which we don't"
   ]
  },
  {
   "cell_type": "markdown",
   "id": "69eb0586-f4f0-4416-b562-b9d81cbcea96",
   "metadata": {},
   "source": [
    "For starters, we don't need listing_url, scrape_id, last_scraped, name, picture_url, host_name, host_since, host_thumbnail_url, host_picture_url, or calendar_last_scraped\n"
   ]
  },
  {
   "cell_type": "code",
   "execution_count": 21,
   "id": "e1e3c52b-777e-4f78-bad8-851f4748f764",
   "metadata": {},
   "outputs": [],
   "source": [
    "listings = listings.drop(columns=['listing_url', 'scrape_id', 'last_scraped', 'name', 'listing_url', 'scrape_id', 'last_scraped',\n",
    "                                  'name', 'picture_url', 'host_url', 'host_name', 'host_since', 'host_thumbnail_url', 'host_picture_url',\n",
    "                                  'calendar_last_scraped'])"
   ]
  },
  {
   "cell_type": "markdown",
   "id": "1ce037d2-13db-4283-932d-2a8a3418160e",
   "metadata": {},
   "source": [
    "Same with host location, since it is all in New York\n"
   ]
  },
  {
   "cell_type": "code",
   "execution_count": 22,
   "id": "846f929d-ee72-4947-adf5-5e5220efc77b",
   "metadata": {},
   "outputs": [],
   "source": [
    "listings = listings.drop(columns=['host_location'])"
   ]
  },
  {
   "cell_type": "markdown",
   "id": "8b6c6680-d16b-46a9-9505-4a68e4044b9d",
   "metadata": {},
   "source": [
    "Now let's look at description\n"
   ]
  },
  {
   "cell_type": "code",
   "execution_count": 23,
   "id": "bbe98b63-ad84-4bba-bbf4-b054f3531d52",
   "metadata": {},
   "outputs": [
    {
     "name": "stderr",
     "output_type": "stream",
     "text": [
      "C:\\Users\\matth\\AppData\\Local\\Temp/ipykernel_27608/993632117.py:6: SettingWithCopyWarning: \n",
      "A value is trying to be set on a copy of a slice from a DataFrame\n",
      "\n",
      "See the caveats in the documentation: https://pandas.pydata.org/pandas-docs/stable/user_guide/indexing.html#returning-a-view-versus-a-copy\n",
      "  listings['full_description'][i] = listings['description'][i] + \" \" + listings['neighborhood_overview'][i]\n",
      "C:\\Users\\matth\\anaconda3\\lib\\site-packages\\pandas\\core\\indexing.py:1732: SettingWithCopyWarning: \n",
      "A value is trying to be set on a copy of a slice from a DataFrame\n",
      "\n",
      "See the caveats in the documentation: https://pandas.pydata.org/pandas-docs/stable/user_guide/indexing.html#returning-a-view-versus-a-copy\n",
      "  self._setitem_single_block(indexer, value, name)\n"
     ]
    }
   ],
   "source": [
    "#description is similar to neighborhood_overview so we can combine then drop\n",
    "listings['full_description'] = np.nan\n",
    "for i in listings.index:\n",
    "    if type(listings['description'][i]) == str:\n",
    "        if type(listings['neighborhood_overview'][i]) == str:\n",
    "            listings['full_description'][i] = listings['description'][i] + \" \" + listings['neighborhood_overview'][i]\n",
    "        else:\n",
    "            listings['full_description'][i] = listings['description'][i]\n",
    "    elif type(listings['neighborhood_overview'][i]):\n",
    "        listings['full_description'][i] = listings['neighborhood_overview'][i]\n",
    "    else:\n",
    "        listings['full_description'][i] = np.nan"
   ]
  },
  {
   "cell_type": "code",
   "execution_count": 24,
   "id": "231b0322-0d04-412c-9e34-2ceaefe03049",
   "metadata": {},
   "outputs": [],
   "source": [
    "listings = listings.drop(columns=['description', 'neighborhood_overview'])"
   ]
  },
  {
   "cell_type": "code",
   "execution_count": 25,
   "id": "3f401e3e-b169-4c09-afbe-0b39fdc46721",
   "metadata": {},
   "outputs": [
    {
     "name": "stderr",
     "output_type": "stream",
     "text": [
      "C:\\Users\\matth\\AppData\\Local\\Temp/ipykernel_27608/2684406174.py:5: SettingWithCopyWarning: \n",
      "A value is trying to be set on a copy of a slice from a DataFrame\n",
      "\n",
      "See the caveats in the documentation: https://pandas.pydata.org/pandas-docs/stable/user_guide/indexing.html#returning-a-view-versus-a-copy\n",
      "  listings['full_description'][i] = listings['full_description'][i] + \" \" + listings['host_about'][i]\n",
      "C:\\Users\\matth\\AppData\\Local\\Temp/ipykernel_27608/2684406174.py:7: SettingWithCopyWarning: \n",
      "A value is trying to be set on a copy of a slice from a DataFrame\n",
      "\n",
      "See the caveats in the documentation: https://pandas.pydata.org/pandas-docs/stable/user_guide/indexing.html#returning-a-view-versus-a-copy\n",
      "  listings['full_description'][i] = listings['full_description'][i]\n",
      "C:\\Users\\matth\\AppData\\Local\\Temp/ipykernel_27608/2684406174.py:9: SettingWithCopyWarning: \n",
      "A value is trying to be set on a copy of a slice from a DataFrame\n",
      "\n",
      "See the caveats in the documentation: https://pandas.pydata.org/pandas-docs/stable/user_guide/indexing.html#returning-a-view-versus-a-copy\n",
      "  listings['full_description'][i] = listings['host_about'][i]\n"
     ]
    }
   ],
   "source": [
    "#Let's also add host_about to full_description\n",
    "for i in listings.index:\n",
    "    if type(listings['full_description'][i]) == str:\n",
    "        if type(listings['host_about'][i]) == str:\n",
    "            listings['full_description'][i] = listings['full_description'][i] + \" \" + listings['host_about'][i]\n",
    "        else:\n",
    "            listings['full_description'][i] = listings['full_description'][i]\n",
    "    elif type(listings['host_about'][i]):\n",
    "        listings['full_description'][i] = listings['host_about'][i]\n",
    "    else:\n",
    "        listings['full_description'][i] = np.nan"
   ]
  },
  {
   "cell_type": "code",
   "execution_count": 26,
   "id": "38a84a7a-0c19-489b-818c-c318640ef8f5",
   "metadata": {},
   "outputs": [],
   "source": [
    "listings = listings.drop(columns=['host_about'])"
   ]
  },
  {
   "cell_type": "code",
   "execution_count": 27,
   "id": "75ed5bf6-f7ff-40c5-8a4e-b7ad2e377583",
   "metadata": {},
   "outputs": [
    {
     "data": {
      "text/plain": [
       "within an hour        14578\n",
       "within a few hours     5516\n",
       "within a day           3325\n",
       "a few days or more      781\n",
       "Name: host_response_time, dtype: int64"
      ]
     },
     "execution_count": 27,
     "metadata": {},
     "output_type": "execute_result"
    }
   ],
   "source": [
    "listings['host_response_time'].value_counts()"
   ]
  },
  {
   "cell_type": "code",
   "execution_count": 28,
   "id": "f0c967be-cacc-4c91-8182-d4ecf04f5d12",
   "metadata": {},
   "outputs": [],
   "source": [
    "listings['host_response_time'] = listings['host_response_time'].fillna('unknown')"
   ]
  },
  {
   "cell_type": "code",
   "execution_count": 29,
   "id": "6bce408d-b16e-4e3d-a62a-2ffbdb2f4430",
   "metadata": {},
   "outputs": [
    {
     "data": {
      "text/plain": [
       "within an hour        14578\n",
       "unknown               13210\n",
       "within a few hours     5516\n",
       "within a day           3325\n",
       "a few days or more      781\n",
       "Name: host_response_time, dtype: int64"
      ]
     },
     "execution_count": 29,
     "metadata": {},
     "output_type": "execute_result"
    }
   ],
   "source": [
    "listings['host_response_time'].value_counts()"
   ]
  },
  {
   "cell_type": "markdown",
   "id": "88025b13-40e4-4c9f-b904-0481d36bbf52",
   "metadata": {},
   "source": [
    "Let's drop host_response_rate and host_acceptance_rate since there are too many of them"
   ]
  },
  {
   "cell_type": "code",
   "execution_count": 30,
   "id": "2b638ba0-58d4-4389-83f2-fdd0e32e39bc",
   "metadata": {},
   "outputs": [],
   "source": [
    "listings = listings.drop(columns=['host_response_rate', 'host_acceptance_rate'])"
   ]
  },
  {
   "cell_type": "markdown",
   "id": "4d442f1d-9242-4304-a495-119a4861309a",
   "metadata": {},
   "source": [
    "host_neighbourhood and neighbourhood is the same so let's drop neighbourhood\n"
   ]
  },
  {
   "cell_type": "code",
   "execution_count": 31,
   "id": "3fa1230d-17b1-4ef7-9609-68f4ab4c673c",
   "metadata": {},
   "outputs": [],
   "source": [
    "listings = listings.drop(columns=['neighbourhood'])"
   ]
  },
  {
   "cell_type": "markdown",
   "id": "11ec58a4-ebfc-4e45-98e2-f0f1e98c594c",
   "metadata": {},
   "source": [
    "Bathrooms has too many nan values.\n"
   ]
  },
  {
   "cell_type": "code",
   "execution_count": 32,
   "id": "25d535eb-84c3-427f-bf10-e193e09b7c27",
   "metadata": {},
   "outputs": [],
   "source": [
    "listings = listings.drop(columns=['bathrooms', 'bathrooms_text'])"
   ]
  },
  {
   "cell_type": "markdown",
   "id": "4318a89f-39dc-4e10-938d-c1df25c94feb",
   "metadata": {},
   "source": [
    "Bedrooms and beds are basically the same same so let's drop bedrooms\n"
   ]
  },
  {
   "cell_type": "code",
   "execution_count": 33,
   "id": "f092fd31-6fbc-4a83-946d-3db1c69b9eae",
   "metadata": {},
   "outputs": [],
   "source": [
    "listings = listings.drop(columns=['bedrooms'])"
   ]
  },
  {
   "cell_type": "markdown",
   "id": "a5dde000-5e08-4830-a820-3cff89bea0eb",
   "metadata": {},
   "source": [
    "Let's fix price"
   ]
  },
  {
   "cell_type": "code",
   "execution_count": 34,
   "id": "e047a9f8-ad13-45ee-b05a-8860df2ad341",
   "metadata": {},
   "outputs": [
    {
     "data": {
      "text/plain": [
       "pandas.core.series.Series"
      ]
     },
     "execution_count": 34,
     "metadata": {},
     "output_type": "execute_result"
    }
   ],
   "source": [
    "listings['price'] = listings['price'].map(lambda x: x.replace(',',''))\n",
    "listings['price'] = listings['price'].map(lambda x: float(x[1:]) if x[0] == '$' else float(x))\n",
    "type(listings['price'])"
   ]
  },
  {
   "cell_type": "markdown",
   "id": "dc5374f4-e2c6-4bdf-9524-29243328863c",
   "metadata": {},
   "source": [
    "calendar_updated has too many nan values\n"
   ]
  },
  {
   "cell_type": "code",
   "execution_count": 35,
   "id": "d712fbd3-6ce3-41f5-8160-56bf5b57be2f",
   "metadata": {},
   "outputs": [],
   "source": [
    "listings = listings.drop(columns=['calendar_updated'])"
   ]
  },
  {
   "cell_type": "markdown",
   "id": "8e92a2b6-7784-4ff2-bdbc-42ee96f7a35f",
   "metadata": {},
   "source": [
    "Let's combine first_review and last_review\n"
   ]
  },
  {
   "cell_type": "code",
   "execution_count": 36,
   "id": "d8158dd2-c0cb-4d85-b0ff-4de6ac191422",
   "metadata": {},
   "outputs": [],
   "source": [
    "listings['review'] = str(listings['first_review']) + \" \" + str(listings['last_review'])\n",
    "listings = listings.drop(columns=['first_review', 'last_review'])"
   ]
  },
  {
   "cell_type": "markdown",
   "id": "fafa8fe6-cec2-4c86-95e8-058ee08501fd",
   "metadata": {},
   "source": [
    "We will drop license then check the nulls again\n"
   ]
  },
  {
   "cell_type": "code",
   "execution_count": 37,
   "id": "a255d8bd-31d9-4089-93a4-fb66580135c2",
   "metadata": {},
   "outputs": [],
   "source": [
    "listings = listings.drop(columns=['license'])"
   ]
  },
  {
   "cell_type": "code",
   "execution_count": 38,
   "id": "fbeebd51-c968-4112-bce3-b62edbc9b19d",
   "metadata": {},
   "outputs": [
    {
     "data": {
      "text/plain": [
       "id                                                 0\n",
       "host_id                                            0\n",
       "host_response_time                                 0\n",
       "host_is_superhost                                 66\n",
       "host_neighbourhood                              7542\n",
       "host_listings_count                               66\n",
       "host_total_listings_count                         66\n",
       "host_verifications                                 0\n",
       "host_has_profile_pic                              66\n",
       "host_identity_verified                            66\n",
       "neighbourhood_cleansed                             0\n",
       "neighbourhood_group_cleansed                       0\n",
       "latitude                                           0\n",
       "longitude                                          0\n",
       "property_type                                      0\n",
       "room_type                                          0\n",
       "accommodates                                       0\n",
       "beds                                             901\n",
       "amenities                                          0\n",
       "price                                              0\n",
       "minimum_nights                                     0\n",
       "maximum_nights                                     0\n",
       "minimum_minimum_nights                            15\n",
       "maximum_minimum_nights                            15\n",
       "minimum_maximum_nights                            15\n",
       "maximum_maximum_nights                            15\n",
       "minimum_nights_avg_ntm                            15\n",
       "maximum_nights_avg_ntm                            15\n",
       "has_availability                                   0\n",
       "availability_30                                    0\n",
       "availability_60                                    0\n",
       "availability_90                                    0\n",
       "availability_365                                   0\n",
       "number_of_reviews                                  0\n",
       "number_of_reviews_ltm                              0\n",
       "number_of_reviews_l30d                             0\n",
       "review_scores_rating                            7949\n",
       "review_scores_accuracy                          8428\n",
       "review_scores_cleanliness                       8418\n",
       "review_scores_checkin                           8432\n",
       "review_scores_communication                     8423\n",
       "review_scores_location                          8435\n",
       "review_scores_value                             8435\n",
       "instant_bookable                                   0\n",
       "calculated_host_listings_count                     0\n",
       "calculated_host_listings_count_entire_homes        0\n",
       "calculated_host_listings_count_private_rooms       0\n",
       "calculated_host_listings_count_shared_rooms        0\n",
       "reviews_per_month                               7949\n",
       "full_description                                 469\n",
       "review                                             0\n",
       "dtype: int64"
      ]
     },
     "execution_count": 38,
     "metadata": {},
     "output_type": "execute_result"
    }
   ],
   "source": [
    "listings.isna().sum()"
   ]
  },
  {
   "cell_type": "markdown",
   "id": "349b8b73-5a30-47a6-bd46-876700632523",
   "metadata": {},
   "source": [
    "I am going to readjust the columns so they don't have na values."
   ]
  },
  {
   "cell_type": "code",
   "execution_count": 39,
   "id": "0fd491e0-e869-4f87-a034-0b0d8b14245f",
   "metadata": {},
   "outputs": [
    {
     "data": {
      "text/plain": [
       "id                                                0\n",
       "host_id                                           0\n",
       "host_response_time                                0\n",
       "host_is_superhost                                66\n",
       "host_listings_count                              66\n",
       "host_total_listings_count                        66\n",
       "host_verifications                                0\n",
       "host_has_profile_pic                             66\n",
       "host_identity_verified                           66\n",
       "neighbourhood_cleansed                            0\n",
       "neighbourhood_group_cleansed                      0\n",
       "latitude                                          0\n",
       "longitude                                         0\n",
       "property_type                                     0\n",
       "room_type                                         0\n",
       "accommodates                                      0\n",
       "beds                                            901\n",
       "amenities                                         0\n",
       "price                                             0\n",
       "minimum_nights                                    0\n",
       "maximum_nights                                    0\n",
       "minimum_minimum_nights                           15\n",
       "maximum_minimum_nights                           15\n",
       "minimum_maximum_nights                           15\n",
       "maximum_maximum_nights                           15\n",
       "minimum_nights_avg_ntm                           15\n",
       "maximum_nights_avg_ntm                           15\n",
       "has_availability                                  0\n",
       "availability_30                                   0\n",
       "availability_60                                   0\n",
       "availability_90                                   0\n",
       "availability_365                                  0\n",
       "number_of_reviews                                 0\n",
       "number_of_reviews_ltm                             0\n",
       "number_of_reviews_l30d                            0\n",
       "review_scores_rating                              0\n",
       "review_scores_accuracy                            0\n",
       "review_scores_cleanliness                         0\n",
       "review_scores_checkin                             0\n",
       "review_scores_communication                       0\n",
       "review_scores_location                            0\n",
       "review_scores_value                               0\n",
       "instant_bookable                                  0\n",
       "calculated_host_listings_count                    0\n",
       "calculated_host_listings_count_entire_homes       0\n",
       "calculated_host_listings_count_private_rooms      0\n",
       "calculated_host_listings_count_shared_rooms       0\n",
       "full_description                                469\n",
       "review                                            0\n",
       "dtype: int64"
      ]
     },
     "execution_count": 39,
     "metadata": {},
     "output_type": "execute_result"
    }
   ],
   "source": [
    "listings['review_scores_rating'] = listings['review_scores_rating'].fillna('unknown')\n",
    "listings['review_scores_accuracy'] = listings['review_scores_accuracy'].fillna('unknown')\n",
    "listings['review_scores_cleanliness'] = listings['review_scores_cleanliness'].fillna('unknown')\n",
    "listings['review_scores_checkin'] = listings['review_scores_checkin'].fillna('unknown')\n",
    "listings['review_scores_communication'] = listings['review_scores_communication'].fillna('unknown')\n",
    "listings['review_scores_location'] = listings['review_scores_location'].fillna('unknown')\n",
    "listings['review_scores_value'] = listings['review_scores_value'].fillna('unknown')\n",
    "listings = listings.drop(columns=['host_neighbourhood', 'reviews_per_month'])\n",
    "listings.isna().sum()"
   ]
  },
  {
   "cell_type": "markdown",
   "id": "1172f2cb-84e6-42d5-ae65-9a7a6b003347",
   "metadata": {},
   "source": [
    "host_total_listings_counts look like basically the same thing as host_listings_counts so let's just drop it"
   ]
  },
  {
   "cell_type": "code",
   "execution_count": 40,
   "id": "f0e543e5-2c09-4183-a1f1-2e66507128a8",
   "metadata": {},
   "outputs": [],
   "source": [
    "listings = listings.drop(columns=['host_total_listings_count'])"
   ]
  },
  {
   "cell_type": "markdown",
   "id": "c19df10c-fc6e-4a6a-8a3e-fec06abc56d1",
   "metadata": {},
   "source": [
    "Too many night values listed. Let's just keep the first 2\n"
   ]
  },
  {
   "cell_type": "code",
   "execution_count": 41,
   "id": "745d90e0-670e-4d59-9758-e5df0fbb0e00",
   "metadata": {},
   "outputs": [],
   "source": [
    "listings = listings.drop(columns=['minimum_minimum_nights', 'maximum_minimum_nights', 'minimum_maximum_nights',\n",
    "                                  'maximum_maximum_nights', 'minimum_nights_avg_ntm', 'maximum_nights_avg_ntm'])"
   ]
  },
  {
   "cell_type": "markdown",
   "id": "dbe74b0b-a011-478c-a0c5-6e5922e12068",
   "metadata": {},
   "source": [
    "availability_365 incompasses the rest of them, so let's drop the rest"
   ]
  },
  {
   "cell_type": "code",
   "execution_count": 42,
   "id": "0a563325-414f-43c9-98b4-b64381b39fc0",
   "metadata": {},
   "outputs": [],
   "source": [
    "listings = listings.drop(columns=['availability_30', 'availability_60', 'availability_90'])"
   ]
  },
  {
   "cell_type": "markdown",
   "id": "90ebadfc-db1b-4a00-b01f-61083ffb78ca",
   "metadata": {},
   "source": [
    "Number of reviews and calculated host listings seem to be listed multiple times under different names. Let's change that"
   ]
  },
  {
   "cell_type": "code",
   "execution_count": 43,
   "id": "2f31fee3-e0c2-43b8-95a7-18703a551945",
   "metadata": {},
   "outputs": [],
   "source": [
    "listings = listings.drop(columns=['number_of_reviews_ltm', 'number_of_reviews_l30d', 'calculated_host_listings_count_entire_homes',\n",
    "                                  'calculated_host_listings_count_private_rooms', 'calculated_host_listings_count_shared_rooms'])"
   ]
  },
  {
   "cell_type": "markdown",
   "id": "a61532ba-9282-4c08-8cc4-a940d17ce437",
   "metadata": {},
   "source": [
    "lets drop na\n"
   ]
  },
  {
   "cell_type": "code",
   "execution_count": 44,
   "id": "ded1abe0-fafe-4cc5-ae05-b7ab10d24235",
   "metadata": {},
   "outputs": [
    {
     "data": {
      "text/plain": [
       "id                                0\n",
       "host_id                           0\n",
       "host_response_time                0\n",
       "host_is_superhost                 0\n",
       "host_listings_count               0\n",
       "host_verifications                0\n",
       "host_has_profile_pic              0\n",
       "host_identity_verified            0\n",
       "neighbourhood_cleansed            0\n",
       "neighbourhood_group_cleansed      0\n",
       "latitude                          0\n",
       "longitude                         0\n",
       "property_type                     0\n",
       "room_type                         0\n",
       "accommodates                      0\n",
       "beds                              0\n",
       "amenities                         0\n",
       "price                             0\n",
       "minimum_nights                    0\n",
       "maximum_nights                    0\n",
       "has_availability                  0\n",
       "availability_365                  0\n",
       "number_of_reviews                 0\n",
       "review_scores_rating              0\n",
       "review_scores_accuracy            0\n",
       "review_scores_cleanliness         0\n",
       "review_scores_checkin             0\n",
       "review_scores_communication       0\n",
       "review_scores_location            0\n",
       "review_scores_value               0\n",
       "instant_bookable                  0\n",
       "calculated_host_listings_count    0\n",
       "full_description                  0\n",
       "review                            0\n",
       "dtype: int64"
      ]
     },
     "execution_count": 44,
     "metadata": {},
     "output_type": "execute_result"
    }
   ],
   "source": [
    "listings.dropna(inplace=True)\n",
    "listings.isna().sum()"
   ]
  },
  {
   "cell_type": "code",
   "execution_count": 45,
   "id": "16b95dc5-9cae-467d-bf09-993dedb8f6b5",
   "metadata": {},
   "outputs": [
    {
     "data": {
      "text/html": [
       "<div>\n",
       "<style scoped>\n",
       "    .dataframe tbody tr th:only-of-type {\n",
       "        vertical-align: middle;\n",
       "    }\n",
       "\n",
       "    .dataframe tbody tr th {\n",
       "        vertical-align: top;\n",
       "    }\n",
       "\n",
       "    .dataframe thead th {\n",
       "        text-align: right;\n",
       "    }\n",
       "</style>\n",
       "<table border=\"1\" class=\"dataframe\">\n",
       "  <thead>\n",
       "    <tr style=\"text-align: right;\">\n",
       "      <th></th>\n",
       "      <th>id</th>\n",
       "      <th>host_id</th>\n",
       "      <th>host_response_time</th>\n",
       "      <th>host_is_superhost</th>\n",
       "      <th>host_listings_count</th>\n",
       "      <th>host_verifications</th>\n",
       "      <th>host_has_profile_pic</th>\n",
       "      <th>host_identity_verified</th>\n",
       "      <th>neighbourhood_cleansed</th>\n",
       "      <th>neighbourhood_group_cleansed</th>\n",
       "      <th>latitude</th>\n",
       "      <th>longitude</th>\n",
       "      <th>property_type</th>\n",
       "      <th>room_type</th>\n",
       "      <th>accommodates</th>\n",
       "      <th>beds</th>\n",
       "      <th>amenities</th>\n",
       "      <th>price</th>\n",
       "      <th>minimum_nights</th>\n",
       "      <th>maximum_nights</th>\n",
       "      <th>has_availability</th>\n",
       "      <th>availability_365</th>\n",
       "      <th>number_of_reviews</th>\n",
       "      <th>review_scores_rating</th>\n",
       "      <th>review_scores_accuracy</th>\n",
       "      <th>review_scores_cleanliness</th>\n",
       "      <th>review_scores_checkin</th>\n",
       "      <th>review_scores_communication</th>\n",
       "      <th>review_scores_location</th>\n",
       "      <th>review_scores_value</th>\n",
       "      <th>instant_bookable</th>\n",
       "      <th>calculated_host_listings_count</th>\n",
       "      <th>full_description</th>\n",
       "      <th>review</th>\n",
       "    </tr>\n",
       "  </thead>\n",
       "  <tbody>\n",
       "    <tr>\n",
       "      <th>0</th>\n",
       "      <td>2595.0</td>\n",
       "      <td>2845</td>\n",
       "      <td>a few days or more</td>\n",
       "      <td>f</td>\n",
       "      <td>6.0</td>\n",
       "      <td>['email', 'phone', 'work_email']</td>\n",
       "      <td>t</td>\n",
       "      <td>t</td>\n",
       "      <td>Midtown</td>\n",
       "      <td>Manhattan</td>\n",
       "      <td>40.75356</td>\n",
       "      <td>-73.98559</td>\n",
       "      <td>Entire rental unit</td>\n",
       "      <td>Entire home/apt</td>\n",
       "      <td>1</td>\n",
       "      <td>1.0</td>\n",
       "      <td>[\"Essentials\", \"Bathtub\", \"Extra pillows and b...</td>\n",
       "      <td>225.0</td>\n",
       "      <td>30</td>\n",
       "      <td>1125</td>\n",
       "      <td>t</td>\n",
       "      <td>308</td>\n",
       "      <td>48</td>\n",
       "      <td>4.7</td>\n",
       "      <td>4.72</td>\n",
       "      <td>4.62</td>\n",
       "      <td>4.76</td>\n",
       "      <td>4.79</td>\n",
       "      <td>4.86</td>\n",
       "      <td>4.41</td>\n",
       "      <td>f</td>\n",
       "      <td>3</td>\n",
       "      <td>Beautiful, spacious skylit studio in the heart...</td>\n",
       "      <td>0        11/21/2009\\n1         5/28/2009\\n2   ...</td>\n",
       "    </tr>\n",
       "    <tr>\n",
       "      <th>1</th>\n",
       "      <td>5121.0</td>\n",
       "      <td>7356</td>\n",
       "      <td>within an hour</td>\n",
       "      <td>f</td>\n",
       "      <td>1.0</td>\n",
       "      <td>['email', 'phone']</td>\n",
       "      <td>t</td>\n",
       "      <td>t</td>\n",
       "      <td>Bedford-Stuyvesant</td>\n",
       "      <td>Brooklyn</td>\n",
       "      <td>40.68535</td>\n",
       "      <td>-73.95512</td>\n",
       "      <td>Private room in rental unit</td>\n",
       "      <td>Private room</td>\n",
       "      <td>2</td>\n",
       "      <td>1.0</td>\n",
       "      <td>[\"Heating\", \"Long term stays allowed\", \"Kitche...</td>\n",
       "      <td>60.0</td>\n",
       "      <td>30</td>\n",
       "      <td>730</td>\n",
       "      <td>t</td>\n",
       "      <td>365</td>\n",
       "      <td>50</td>\n",
       "      <td>4.52</td>\n",
       "      <td>4.22</td>\n",
       "      <td>4.09</td>\n",
       "      <td>4.91</td>\n",
       "      <td>4.91</td>\n",
       "      <td>4.47</td>\n",
       "      <td>4.52</td>\n",
       "      <td>f</td>\n",
       "      <td>2</td>\n",
       "      <td>One room available for rent in a 2 bedroom apt...</td>\n",
       "      <td>0        11/21/2009\\n1         5/28/2009\\n2   ...</td>\n",
       "    </tr>\n",
       "    <tr>\n",
       "      <th>2</th>\n",
       "      <td>5136.0</td>\n",
       "      <td>7378</td>\n",
       "      <td>within an hour</td>\n",
       "      <td>f</td>\n",
       "      <td>1.0</td>\n",
       "      <td>['email', 'phone']</td>\n",
       "      <td>t</td>\n",
       "      <td>t</td>\n",
       "      <td>Sunset Park</td>\n",
       "      <td>Brooklyn</td>\n",
       "      <td>40.66265</td>\n",
       "      <td>-73.99454</td>\n",
       "      <td>Entire rental unit</td>\n",
       "      <td>Entire home/apt</td>\n",
       "      <td>4</td>\n",
       "      <td>2.0</td>\n",
       "      <td>[\"Dryer\", \"Heating\", \"Hair dryer\", \"Carbon mon...</td>\n",
       "      <td>275.0</td>\n",
       "      <td>21</td>\n",
       "      <td>1125</td>\n",
       "      <td>t</td>\n",
       "      <td>250</td>\n",
       "      <td>2</td>\n",
       "      <td>5.0</td>\n",
       "      <td>5.0</td>\n",
       "      <td>5.0</td>\n",
       "      <td>5.0</td>\n",
       "      <td>5.0</td>\n",
       "      <td>4.5</td>\n",
       "      <td>5.0</td>\n",
       "      <td>f</td>\n",
       "      <td>1</td>\n",
       "      <td>We welcome you to stay in our lovely 2 br dupl...</td>\n",
       "      <td>0        11/21/2009\\n1         5/28/2009\\n2   ...</td>\n",
       "    </tr>\n",
       "    <tr>\n",
       "      <th>3</th>\n",
       "      <td>5178.0</td>\n",
       "      <td>8967</td>\n",
       "      <td>within a day</td>\n",
       "      <td>f</td>\n",
       "      <td>1.0</td>\n",
       "      <td>['email', 'phone']</td>\n",
       "      <td>t</td>\n",
       "      <td>f</td>\n",
       "      <td>Midtown</td>\n",
       "      <td>Manhattan</td>\n",
       "      <td>40.76457</td>\n",
       "      <td>-73.98317</td>\n",
       "      <td>Private room in rental unit</td>\n",
       "      <td>Private room</td>\n",
       "      <td>2</td>\n",
       "      <td>1.0</td>\n",
       "      <td>[\"Conditioner\", \"Essentials\", \"Extra pillows a...</td>\n",
       "      <td>68.0</td>\n",
       "      <td>2</td>\n",
       "      <td>14</td>\n",
       "      <td>t</td>\n",
       "      <td>172</td>\n",
       "      <td>536</td>\n",
       "      <td>4.23</td>\n",
       "      <td>4.24</td>\n",
       "      <td>3.75</td>\n",
       "      <td>4.66</td>\n",
       "      <td>4.44</td>\n",
       "      <td>4.87</td>\n",
       "      <td>4.39</td>\n",
       "      <td>f</td>\n",
       "      <td>1</td>\n",
       "      <td>Please don’t expect the luxury here just a bas...</td>\n",
       "      <td>0        11/21/2009\\n1         5/28/2009\\n2   ...</td>\n",
       "    </tr>\n",
       "    <tr>\n",
       "      <th>4</th>\n",
       "      <td>5203.0</td>\n",
       "      <td>7490</td>\n",
       "      <td>unknown</td>\n",
       "      <td>f</td>\n",
       "      <td>1.0</td>\n",
       "      <td>['email', 'phone']</td>\n",
       "      <td>t</td>\n",
       "      <td>t</td>\n",
       "      <td>Upper West Side</td>\n",
       "      <td>Manhattan</td>\n",
       "      <td>40.80380</td>\n",
       "      <td>-73.96751</td>\n",
       "      <td>Private room in rental unit</td>\n",
       "      <td>Private room</td>\n",
       "      <td>1</td>\n",
       "      <td>1.0</td>\n",
       "      <td>[\"Carbon monoxide alarm\", \"Heating\", \"Essentia...</td>\n",
       "      <td>75.0</td>\n",
       "      <td>2</td>\n",
       "      <td>14</td>\n",
       "      <td>t</td>\n",
       "      <td>0</td>\n",
       "      <td>118</td>\n",
       "      <td>4.91</td>\n",
       "      <td>4.83</td>\n",
       "      <td>4.82</td>\n",
       "      <td>4.97</td>\n",
       "      <td>4.95</td>\n",
       "      <td>4.94</td>\n",
       "      <td>4.92</td>\n",
       "      <td>f</td>\n",
       "      <td>1</td>\n",
       "      <td>Our best guests are seeking a safe, clean, spa...</td>\n",
       "      <td>0        11/21/2009\\n1         5/28/2009\\n2   ...</td>\n",
       "    </tr>\n",
       "  </tbody>\n",
       "</table>\n",
       "</div>"
      ],
      "text/plain": [
       "       id  host_id  host_response_time host_is_superhost  host_listings_count  \\\n",
       "0  2595.0     2845  a few days or more                 f                  6.0   \n",
       "1  5121.0     7356      within an hour                 f                  1.0   \n",
       "2  5136.0     7378      within an hour                 f                  1.0   \n",
       "3  5178.0     8967        within a day                 f                  1.0   \n",
       "4  5203.0     7490             unknown                 f                  1.0   \n",
       "\n",
       "                 host_verifications host_has_profile_pic  \\\n",
       "0  ['email', 'phone', 'work_email']                    t   \n",
       "1                ['email', 'phone']                    t   \n",
       "2                ['email', 'phone']                    t   \n",
       "3                ['email', 'phone']                    t   \n",
       "4                ['email', 'phone']                    t   \n",
       "\n",
       "  host_identity_verified neighbourhood_cleansed neighbourhood_group_cleansed  \\\n",
       "0                      t                Midtown                    Manhattan   \n",
       "1                      t     Bedford-Stuyvesant                     Brooklyn   \n",
       "2                      t            Sunset Park                     Brooklyn   \n",
       "3                      f                Midtown                    Manhattan   \n",
       "4                      t        Upper West Side                    Manhattan   \n",
       "\n",
       "   latitude  longitude                property_type        room_type  \\\n",
       "0  40.75356  -73.98559           Entire rental unit  Entire home/apt   \n",
       "1  40.68535  -73.95512  Private room in rental unit     Private room   \n",
       "2  40.66265  -73.99454           Entire rental unit  Entire home/apt   \n",
       "3  40.76457  -73.98317  Private room in rental unit     Private room   \n",
       "4  40.80380  -73.96751  Private room in rental unit     Private room   \n",
       "\n",
       "   accommodates  beds                                          amenities  \\\n",
       "0             1   1.0  [\"Essentials\", \"Bathtub\", \"Extra pillows and b...   \n",
       "1             2   1.0  [\"Heating\", \"Long term stays allowed\", \"Kitche...   \n",
       "2             4   2.0  [\"Dryer\", \"Heating\", \"Hair dryer\", \"Carbon mon...   \n",
       "3             2   1.0  [\"Conditioner\", \"Essentials\", \"Extra pillows a...   \n",
       "4             1   1.0  [\"Carbon monoxide alarm\", \"Heating\", \"Essentia...   \n",
       "\n",
       "   price  minimum_nights  maximum_nights has_availability  availability_365  \\\n",
       "0  225.0              30            1125                t               308   \n",
       "1   60.0              30             730                t               365   \n",
       "2  275.0              21            1125                t               250   \n",
       "3   68.0               2              14                t               172   \n",
       "4   75.0               2              14                t                 0   \n",
       "\n",
       "   number_of_reviews review_scores_rating review_scores_accuracy  \\\n",
       "0                 48                  4.7                   4.72   \n",
       "1                 50                 4.52                   4.22   \n",
       "2                  2                  5.0                    5.0   \n",
       "3                536                 4.23                   4.24   \n",
       "4                118                 4.91                   4.83   \n",
       "\n",
       "  review_scores_cleanliness review_scores_checkin review_scores_communication  \\\n",
       "0                      4.62                  4.76                        4.79   \n",
       "1                      4.09                  4.91                        4.91   \n",
       "2                       5.0                   5.0                         5.0   \n",
       "3                      3.75                  4.66                        4.44   \n",
       "4                      4.82                  4.97                        4.95   \n",
       "\n",
       "  review_scores_location review_scores_value instant_bookable  \\\n",
       "0                   4.86                4.41                f   \n",
       "1                   4.47                4.52                f   \n",
       "2                    4.5                 5.0                f   \n",
       "3                   4.87                4.39                f   \n",
       "4                   4.94                4.92                f   \n",
       "\n",
       "   calculated_host_listings_count  \\\n",
       "0                               3   \n",
       "1                               2   \n",
       "2                               1   \n",
       "3                               1   \n",
       "4                               1   \n",
       "\n",
       "                                    full_description  \\\n",
       "0  Beautiful, spacious skylit studio in the heart...   \n",
       "1  One room available for rent in a 2 bedroom apt...   \n",
       "2  We welcome you to stay in our lovely 2 br dupl...   \n",
       "3  Please don’t expect the luxury here just a bas...   \n",
       "4  Our best guests are seeking a safe, clean, spa...   \n",
       "\n",
       "                                              review  \n",
       "0  0        11/21/2009\\n1         5/28/2009\\n2   ...  \n",
       "1  0        11/21/2009\\n1         5/28/2009\\n2   ...  \n",
       "2  0        11/21/2009\\n1         5/28/2009\\n2   ...  \n",
       "3  0        11/21/2009\\n1         5/28/2009\\n2   ...  \n",
       "4  0        11/21/2009\\n1         5/28/2009\\n2   ...  "
      ]
     },
     "execution_count": 45,
     "metadata": {},
     "output_type": "execute_result"
    }
   ],
   "source": [
    "listings.head()"
   ]
  },
  {
   "cell_type": "markdown",
   "id": "4138fb83-6301-4609-a544-4a33a64e77b0",
   "metadata": {},
   "source": [
    "Let's turn all t f columns into 1 and 0 columns where 1 is t and 0 is f\n"
   ]
  },
  {
   "cell_type": "code",
   "execution_count": 46,
   "id": "7b9865bb-ef71-4473-9397-700f5f382608",
   "metadata": {},
   "outputs": [],
   "source": [
    "listings['host_is_superhost'] = listings['host_is_superhost'].map(lambda x: 1 if x == 't' else 0)\n",
    "listings['host_has_profile_pic'] = listings['host_has_profile_pic'].map(lambda x: 1 if x == 't' else 0)\n",
    "listings['host_identity_verified'] = listings['host_identity_verified'].map(lambda x: 1 if x == 't' else 0)\n",
    "listings['has_availability'] = listings['has_availability'].map(lambda x: 1 if x == 't' else 0)\n",
    "listings['instant_bookable'] = listings['instant_bookable'].map(lambda x: 1 if x == 't' else 0)"
   ]
  },
  {
   "cell_type": "code",
   "execution_count": 47,
   "id": "de870f3d-6a67-48b4-a7be-41d8a9fefac8",
   "metadata": {},
   "outputs": [
    {
     "data": {
      "text/plain": [
       "36050"
      ]
     },
     "execution_count": 47,
     "metadata": {},
     "output_type": "execute_result"
    }
   ],
   "source": [
    "len(listings)"
   ]
  },
  {
   "cell_type": "code",
   "execution_count": 48,
   "id": "cd7ab68c-303f-4d44-a6ed-538ece9c33f2",
   "metadata": {},
   "outputs": [
    {
     "data": {
      "text/plain": [
       "2873"
      ]
     },
     "execution_count": 48,
     "metadata": {},
     "output_type": "execute_result"
    }
   ],
   "source": [
    "len(calendar['listing_id'].unique())"
   ]
  },
  {
   "cell_type": "code",
   "execution_count": 49,
   "id": "db55edb7-bee7-416f-98e3-14b1bfbbdf8d",
   "metadata": {},
   "outputs": [
    {
     "data": {
      "text/plain": [
       "35899"
      ]
     },
     "execution_count": 49,
     "metadata": {},
     "output_type": "execute_result"
    }
   ],
   "source": [
    "listings['id'] = listings['id'].map(lambda x: int(x))\n",
    "len(listings['id'].unique())"
   ]
  },
  {
   "cell_type": "markdown",
   "id": "d12ea4f8-9fe6-43ff-9fcd-630fbaad5cb2",
   "metadata": {},
   "source": [
    "Let's merge calendar and listings"
   ]
  },
  {
   "cell_type": "code",
   "execution_count": 50,
   "id": "c5f92a36-1a3d-46a4-b477-246914ae913e",
   "metadata": {},
   "outputs": [
    {
     "data": {
      "text/html": [
       "<div>\n",
       "<style scoped>\n",
       "    .dataframe tbody tr th:only-of-type {\n",
       "        vertical-align: middle;\n",
       "    }\n",
       "\n",
       "    .dataframe tbody tr th {\n",
       "        vertical-align: top;\n",
       "    }\n",
       "\n",
       "    .dataframe thead th {\n",
       "        text-align: right;\n",
       "    }\n",
       "</style>\n",
       "<table border=\"1\" class=\"dataframe\">\n",
       "  <thead>\n",
       "    <tr style=\"text-align: right;\">\n",
       "      <th></th>\n",
       "      <th>id</th>\n",
       "      <th>date</th>\n",
       "      <th>available</th>\n",
       "      <th>price</th>\n",
       "      <th>minimum_nights</th>\n",
       "      <th>maximum_nights</th>\n",
       "    </tr>\n",
       "  </thead>\n",
       "  <tbody>\n",
       "    <tr>\n",
       "      <th>0</th>\n",
       "      <td>2595</td>\n",
       "      <td>2022-06-04</td>\n",
       "      <td>0</td>\n",
       "      <td>225.0</td>\n",
       "      <td>30</td>\n",
       "      <td>1125</td>\n",
       "    </tr>\n",
       "    <tr>\n",
       "      <th>1</th>\n",
       "      <td>2595</td>\n",
       "      <td>2022-06-05</td>\n",
       "      <td>0</td>\n",
       "      <td>225.0</td>\n",
       "      <td>30</td>\n",
       "      <td>1125</td>\n",
       "    </tr>\n",
       "    <tr>\n",
       "      <th>2</th>\n",
       "      <td>2595</td>\n",
       "      <td>2022-06-06</td>\n",
       "      <td>0</td>\n",
       "      <td>225.0</td>\n",
       "      <td>30</td>\n",
       "      <td>1125</td>\n",
       "    </tr>\n",
       "    <tr>\n",
       "      <th>3</th>\n",
       "      <td>2595</td>\n",
       "      <td>2022-06-07</td>\n",
       "      <td>0</td>\n",
       "      <td>225.0</td>\n",
       "      <td>30</td>\n",
       "      <td>1125</td>\n",
       "    </tr>\n",
       "    <tr>\n",
       "      <th>4</th>\n",
       "      <td>2595</td>\n",
       "      <td>2022-06-08</td>\n",
       "      <td>0</td>\n",
       "      <td>225.0</td>\n",
       "      <td>30</td>\n",
       "      <td>1125</td>\n",
       "    </tr>\n",
       "  </tbody>\n",
       "</table>\n",
       "</div>"
      ],
      "text/plain": [
       "     id       date  available  price  minimum_nights  maximum_nights\n",
       "0  2595 2022-06-04          0  225.0              30            1125\n",
       "1  2595 2022-06-05          0  225.0              30            1125\n",
       "2  2595 2022-06-06          0  225.0              30            1125\n",
       "3  2595 2022-06-07          0  225.0              30            1125\n",
       "4  2595 2022-06-08          0  225.0              30            1125"
      ]
     },
     "execution_count": 50,
     "metadata": {},
     "output_type": "execute_result"
    }
   ],
   "source": [
    "calendar = calendar.rename(columns={'listing_id': 'id'})\n",
    "calendar.head()"
   ]
  },
  {
   "cell_type": "code",
   "execution_count": 51,
   "id": "d845723a-2f7d-4b46-bbbc-d6d45f2b077c",
   "metadata": {},
   "outputs": [
    {
     "data": {
      "text/html": [
       "<div>\n",
       "<style scoped>\n",
       "    .dataframe tbody tr th:only-of-type {\n",
       "        vertical-align: middle;\n",
       "    }\n",
       "\n",
       "    .dataframe tbody tr th {\n",
       "        vertical-align: top;\n",
       "    }\n",
       "\n",
       "    .dataframe thead th {\n",
       "        text-align: right;\n",
       "    }\n",
       "</style>\n",
       "<table border=\"1\" class=\"dataframe\">\n",
       "  <thead>\n",
       "    <tr style=\"text-align: right;\">\n",
       "      <th></th>\n",
       "      <th>id</th>\n",
       "      <th>date</th>\n",
       "      <th>available</th>\n",
       "      <th>price</th>\n",
       "      <th>minimum_nights</th>\n",
       "      <th>maximum_nights</th>\n",
       "      <th>host_id</th>\n",
       "      <th>host_response_time</th>\n",
       "      <th>host_is_superhost</th>\n",
       "      <th>host_listings_count</th>\n",
       "      <th>host_verifications</th>\n",
       "      <th>host_has_profile_pic</th>\n",
       "      <th>host_identity_verified</th>\n",
       "      <th>neighbourhood_cleansed</th>\n",
       "      <th>neighbourhood_group_cleansed</th>\n",
       "      <th>latitude</th>\n",
       "      <th>longitude</th>\n",
       "      <th>property_type</th>\n",
       "      <th>room_type</th>\n",
       "      <th>accommodates</th>\n",
       "      <th>beds</th>\n",
       "      <th>amenities</th>\n",
       "      <th>has_availability</th>\n",
       "      <th>availability_365</th>\n",
       "      <th>number_of_reviews</th>\n",
       "      <th>review_scores_rating</th>\n",
       "      <th>review_scores_accuracy</th>\n",
       "      <th>review_scores_cleanliness</th>\n",
       "      <th>review_scores_checkin</th>\n",
       "      <th>review_scores_communication</th>\n",
       "      <th>review_scores_location</th>\n",
       "      <th>review_scores_value</th>\n",
       "      <th>instant_bookable</th>\n",
       "      <th>calculated_host_listings_count</th>\n",
       "      <th>full_description</th>\n",
       "      <th>review</th>\n",
       "    </tr>\n",
       "  </thead>\n",
       "  <tbody>\n",
       "    <tr>\n",
       "      <th>0</th>\n",
       "      <td>2595</td>\n",
       "      <td>2022-06-04</td>\n",
       "      <td>0</td>\n",
       "      <td>225.0</td>\n",
       "      <td>30</td>\n",
       "      <td>1125</td>\n",
       "      <td>2845.0</td>\n",
       "      <td>a few days or more</td>\n",
       "      <td>0.0</td>\n",
       "      <td>6.0</td>\n",
       "      <td>['email', 'phone', 'work_email']</td>\n",
       "      <td>1.0</td>\n",
       "      <td>1.0</td>\n",
       "      <td>Midtown</td>\n",
       "      <td>Manhattan</td>\n",
       "      <td>40.75356</td>\n",
       "      <td>-73.98559</td>\n",
       "      <td>Entire rental unit</td>\n",
       "      <td>Entire home/apt</td>\n",
       "      <td>1.0</td>\n",
       "      <td>1.0</td>\n",
       "      <td>[\"Essentials\", \"Bathtub\", \"Extra pillows and b...</td>\n",
       "      <td>1.0</td>\n",
       "      <td>308.0</td>\n",
       "      <td>48.0</td>\n",
       "      <td>4.7</td>\n",
       "      <td>4.72</td>\n",
       "      <td>4.62</td>\n",
       "      <td>4.76</td>\n",
       "      <td>4.79</td>\n",
       "      <td>4.86</td>\n",
       "      <td>4.41</td>\n",
       "      <td>0.0</td>\n",
       "      <td>3.0</td>\n",
       "      <td>Beautiful, spacious skylit studio in the heart...</td>\n",
       "      <td>0        11/21/2009\\n1         5/28/2009\\n2   ...</td>\n",
       "    </tr>\n",
       "    <tr>\n",
       "      <th>1</th>\n",
       "      <td>2595</td>\n",
       "      <td>2022-06-05</td>\n",
       "      <td>0</td>\n",
       "      <td>225.0</td>\n",
       "      <td>30</td>\n",
       "      <td>1125</td>\n",
       "      <td>2845.0</td>\n",
       "      <td>a few days or more</td>\n",
       "      <td>0.0</td>\n",
       "      <td>6.0</td>\n",
       "      <td>['email', 'phone', 'work_email']</td>\n",
       "      <td>1.0</td>\n",
       "      <td>1.0</td>\n",
       "      <td>Midtown</td>\n",
       "      <td>Manhattan</td>\n",
       "      <td>40.75356</td>\n",
       "      <td>-73.98559</td>\n",
       "      <td>Entire rental unit</td>\n",
       "      <td>Entire home/apt</td>\n",
       "      <td>1.0</td>\n",
       "      <td>1.0</td>\n",
       "      <td>[\"Essentials\", \"Bathtub\", \"Extra pillows and b...</td>\n",
       "      <td>1.0</td>\n",
       "      <td>308.0</td>\n",
       "      <td>48.0</td>\n",
       "      <td>4.7</td>\n",
       "      <td>4.72</td>\n",
       "      <td>4.62</td>\n",
       "      <td>4.76</td>\n",
       "      <td>4.79</td>\n",
       "      <td>4.86</td>\n",
       "      <td>4.41</td>\n",
       "      <td>0.0</td>\n",
       "      <td>3.0</td>\n",
       "      <td>Beautiful, spacious skylit studio in the heart...</td>\n",
       "      <td>0        11/21/2009\\n1         5/28/2009\\n2   ...</td>\n",
       "    </tr>\n",
       "    <tr>\n",
       "      <th>2</th>\n",
       "      <td>2595</td>\n",
       "      <td>2022-06-06</td>\n",
       "      <td>0</td>\n",
       "      <td>225.0</td>\n",
       "      <td>30</td>\n",
       "      <td>1125</td>\n",
       "      <td>2845.0</td>\n",
       "      <td>a few days or more</td>\n",
       "      <td>0.0</td>\n",
       "      <td>6.0</td>\n",
       "      <td>['email', 'phone', 'work_email']</td>\n",
       "      <td>1.0</td>\n",
       "      <td>1.0</td>\n",
       "      <td>Midtown</td>\n",
       "      <td>Manhattan</td>\n",
       "      <td>40.75356</td>\n",
       "      <td>-73.98559</td>\n",
       "      <td>Entire rental unit</td>\n",
       "      <td>Entire home/apt</td>\n",
       "      <td>1.0</td>\n",
       "      <td>1.0</td>\n",
       "      <td>[\"Essentials\", \"Bathtub\", \"Extra pillows and b...</td>\n",
       "      <td>1.0</td>\n",
       "      <td>308.0</td>\n",
       "      <td>48.0</td>\n",
       "      <td>4.7</td>\n",
       "      <td>4.72</td>\n",
       "      <td>4.62</td>\n",
       "      <td>4.76</td>\n",
       "      <td>4.79</td>\n",
       "      <td>4.86</td>\n",
       "      <td>4.41</td>\n",
       "      <td>0.0</td>\n",
       "      <td>3.0</td>\n",
       "      <td>Beautiful, spacious skylit studio in the heart...</td>\n",
       "      <td>0        11/21/2009\\n1         5/28/2009\\n2   ...</td>\n",
       "    </tr>\n",
       "    <tr>\n",
       "      <th>3</th>\n",
       "      <td>2595</td>\n",
       "      <td>2022-06-07</td>\n",
       "      <td>0</td>\n",
       "      <td>225.0</td>\n",
       "      <td>30</td>\n",
       "      <td>1125</td>\n",
       "      <td>2845.0</td>\n",
       "      <td>a few days or more</td>\n",
       "      <td>0.0</td>\n",
       "      <td>6.0</td>\n",
       "      <td>['email', 'phone', 'work_email']</td>\n",
       "      <td>1.0</td>\n",
       "      <td>1.0</td>\n",
       "      <td>Midtown</td>\n",
       "      <td>Manhattan</td>\n",
       "      <td>40.75356</td>\n",
       "      <td>-73.98559</td>\n",
       "      <td>Entire rental unit</td>\n",
       "      <td>Entire home/apt</td>\n",
       "      <td>1.0</td>\n",
       "      <td>1.0</td>\n",
       "      <td>[\"Essentials\", \"Bathtub\", \"Extra pillows and b...</td>\n",
       "      <td>1.0</td>\n",
       "      <td>308.0</td>\n",
       "      <td>48.0</td>\n",
       "      <td>4.7</td>\n",
       "      <td>4.72</td>\n",
       "      <td>4.62</td>\n",
       "      <td>4.76</td>\n",
       "      <td>4.79</td>\n",
       "      <td>4.86</td>\n",
       "      <td>4.41</td>\n",
       "      <td>0.0</td>\n",
       "      <td>3.0</td>\n",
       "      <td>Beautiful, spacious skylit studio in the heart...</td>\n",
       "      <td>0        11/21/2009\\n1         5/28/2009\\n2   ...</td>\n",
       "    </tr>\n",
       "    <tr>\n",
       "      <th>4</th>\n",
       "      <td>2595</td>\n",
       "      <td>2022-06-08</td>\n",
       "      <td>0</td>\n",
       "      <td>225.0</td>\n",
       "      <td>30</td>\n",
       "      <td>1125</td>\n",
       "      <td>2845.0</td>\n",
       "      <td>a few days or more</td>\n",
       "      <td>0.0</td>\n",
       "      <td>6.0</td>\n",
       "      <td>['email', 'phone', 'work_email']</td>\n",
       "      <td>1.0</td>\n",
       "      <td>1.0</td>\n",
       "      <td>Midtown</td>\n",
       "      <td>Manhattan</td>\n",
       "      <td>40.75356</td>\n",
       "      <td>-73.98559</td>\n",
       "      <td>Entire rental unit</td>\n",
       "      <td>Entire home/apt</td>\n",
       "      <td>1.0</td>\n",
       "      <td>1.0</td>\n",
       "      <td>[\"Essentials\", \"Bathtub\", \"Extra pillows and b...</td>\n",
       "      <td>1.0</td>\n",
       "      <td>308.0</td>\n",
       "      <td>48.0</td>\n",
       "      <td>4.7</td>\n",
       "      <td>4.72</td>\n",
       "      <td>4.62</td>\n",
       "      <td>4.76</td>\n",
       "      <td>4.79</td>\n",
       "      <td>4.86</td>\n",
       "      <td>4.41</td>\n",
       "      <td>0.0</td>\n",
       "      <td>3.0</td>\n",
       "      <td>Beautiful, spacious skylit studio in the heart...</td>\n",
       "      <td>0        11/21/2009\\n1         5/28/2009\\n2   ...</td>\n",
       "    </tr>\n",
       "  </tbody>\n",
       "</table>\n",
       "</div>"
      ],
      "text/plain": [
       "     id       date  available  price  minimum_nights  maximum_nights  host_id  \\\n",
       "0  2595 2022-06-04          0  225.0              30            1125   2845.0   \n",
       "1  2595 2022-06-05          0  225.0              30            1125   2845.0   \n",
       "2  2595 2022-06-06          0  225.0              30            1125   2845.0   \n",
       "3  2595 2022-06-07          0  225.0              30            1125   2845.0   \n",
       "4  2595 2022-06-08          0  225.0              30            1125   2845.0   \n",
       "\n",
       "   host_response_time  host_is_superhost  host_listings_count  \\\n",
       "0  a few days or more                0.0                  6.0   \n",
       "1  a few days or more                0.0                  6.0   \n",
       "2  a few days or more                0.0                  6.0   \n",
       "3  a few days or more                0.0                  6.0   \n",
       "4  a few days or more                0.0                  6.0   \n",
       "\n",
       "                 host_verifications  host_has_profile_pic  \\\n",
       "0  ['email', 'phone', 'work_email']                   1.0   \n",
       "1  ['email', 'phone', 'work_email']                   1.0   \n",
       "2  ['email', 'phone', 'work_email']                   1.0   \n",
       "3  ['email', 'phone', 'work_email']                   1.0   \n",
       "4  ['email', 'phone', 'work_email']                   1.0   \n",
       "\n",
       "   host_identity_verified neighbourhood_cleansed neighbourhood_group_cleansed  \\\n",
       "0                     1.0                Midtown                    Manhattan   \n",
       "1                     1.0                Midtown                    Manhattan   \n",
       "2                     1.0                Midtown                    Manhattan   \n",
       "3                     1.0                Midtown                    Manhattan   \n",
       "4                     1.0                Midtown                    Manhattan   \n",
       "\n",
       "   latitude  longitude       property_type        room_type  accommodates  \\\n",
       "0  40.75356  -73.98559  Entire rental unit  Entire home/apt           1.0   \n",
       "1  40.75356  -73.98559  Entire rental unit  Entire home/apt           1.0   \n",
       "2  40.75356  -73.98559  Entire rental unit  Entire home/apt           1.0   \n",
       "3  40.75356  -73.98559  Entire rental unit  Entire home/apt           1.0   \n",
       "4  40.75356  -73.98559  Entire rental unit  Entire home/apt           1.0   \n",
       "\n",
       "   beds                                          amenities  has_availability  \\\n",
       "0   1.0  [\"Essentials\", \"Bathtub\", \"Extra pillows and b...               1.0   \n",
       "1   1.0  [\"Essentials\", \"Bathtub\", \"Extra pillows and b...               1.0   \n",
       "2   1.0  [\"Essentials\", \"Bathtub\", \"Extra pillows and b...               1.0   \n",
       "3   1.0  [\"Essentials\", \"Bathtub\", \"Extra pillows and b...               1.0   \n",
       "4   1.0  [\"Essentials\", \"Bathtub\", \"Extra pillows and b...               1.0   \n",
       "\n",
       "   availability_365  number_of_reviews review_scores_rating  \\\n",
       "0             308.0               48.0                  4.7   \n",
       "1             308.0               48.0                  4.7   \n",
       "2             308.0               48.0                  4.7   \n",
       "3             308.0               48.0                  4.7   \n",
       "4             308.0               48.0                  4.7   \n",
       "\n",
       "  review_scores_accuracy review_scores_cleanliness review_scores_checkin  \\\n",
       "0                   4.72                      4.62                  4.76   \n",
       "1                   4.72                      4.62                  4.76   \n",
       "2                   4.72                      4.62                  4.76   \n",
       "3                   4.72                      4.62                  4.76   \n",
       "4                   4.72                      4.62                  4.76   \n",
       "\n",
       "  review_scores_communication review_scores_location review_scores_value  \\\n",
       "0                        4.79                   4.86                4.41   \n",
       "1                        4.79                   4.86                4.41   \n",
       "2                        4.79                   4.86                4.41   \n",
       "3                        4.79                   4.86                4.41   \n",
       "4                        4.79                   4.86                4.41   \n",
       "\n",
       "   instant_bookable  calculated_host_listings_count  \\\n",
       "0               0.0                             3.0   \n",
       "1               0.0                             3.0   \n",
       "2               0.0                             3.0   \n",
       "3               0.0                             3.0   \n",
       "4               0.0                             3.0   \n",
       "\n",
       "                                    full_description  \\\n",
       "0  Beautiful, spacious skylit studio in the heart...   \n",
       "1  Beautiful, spacious skylit studio in the heart...   \n",
       "2  Beautiful, spacious skylit studio in the heart...   \n",
       "3  Beautiful, spacious skylit studio in the heart...   \n",
       "4  Beautiful, spacious skylit studio in the heart...   \n",
       "\n",
       "                                              review  \n",
       "0  0        11/21/2009\\n1         5/28/2009\\n2   ...  \n",
       "1  0        11/21/2009\\n1         5/28/2009\\n2   ...  \n",
       "2  0        11/21/2009\\n1         5/28/2009\\n2   ...  \n",
       "3  0        11/21/2009\\n1         5/28/2009\\n2   ...  \n",
       "4  0        11/21/2009\\n1         5/28/2009\\n2   ...  "
      ]
     },
     "execution_count": 51,
     "metadata": {},
     "output_type": "execute_result"
    }
   ],
   "source": [
    "df_full = pd.merge(calendar, listings.drop(columns=['price', 'minimum_nights', 'maximum_nights']), how='left', on='id')\n",
    "df_full.head()"
   ]
  },
  {
   "cell_type": "code",
   "execution_count": 52,
   "id": "1e6d141f-72ec-4a1f-9f31-bdd7f6510672",
   "metadata": {},
   "outputs": [
    {
     "data": {
      "text/plain": [
       "1048575"
      ]
     },
     "execution_count": 52,
     "metadata": {},
     "output_type": "execute_result"
    }
   ],
   "source": [
    "len(df_full)"
   ]
  },
  {
   "cell_type": "code",
   "execution_count": 53,
   "id": "ef1fec5a-65da-4364-aa64-875ee38197a9",
   "metadata": {},
   "outputs": [
    {
     "data": {
      "text/plain": [
       "id                                    0\n",
       "date                                  0\n",
       "available                             0\n",
       "price                                 0\n",
       "minimum_nights                        0\n",
       "maximum_nights                        0\n",
       "host_id                           13505\n",
       "host_response_time                13505\n",
       "host_is_superhost                 13505\n",
       "host_listings_count               13505\n",
       "host_verifications                13505\n",
       "host_has_profile_pic              13505\n",
       "host_identity_verified            13505\n",
       "neighbourhood_cleansed            13505\n",
       "neighbourhood_group_cleansed      13505\n",
       "latitude                          13505\n",
       "longitude                         13505\n",
       "property_type                     13505\n",
       "room_type                         13505\n",
       "accommodates                      13505\n",
       "beds                              13505\n",
       "amenities                         13505\n",
       "has_availability                  13505\n",
       "availability_365                  13505\n",
       "number_of_reviews                 13505\n",
       "review_scores_rating              13505\n",
       "review_scores_accuracy            13505\n",
       "review_scores_cleanliness         13505\n",
       "review_scores_checkin             13505\n",
       "review_scores_communication       13505\n",
       "review_scores_location            13505\n",
       "review_scores_value               13505\n",
       "instant_bookable                  13505\n",
       "calculated_host_listings_count    13505\n",
       "full_description                  13505\n",
       "review                            13505\n",
       "dtype: int64"
      ]
     },
     "execution_count": 53,
     "metadata": {},
     "output_type": "execute_result"
    }
   ],
   "source": [
    "df_full.isna().sum()"
   ]
  },
  {
   "cell_type": "code",
   "execution_count": 54,
   "id": "dfc1d515-d102-4824-982a-907ce40d7fdf",
   "metadata": {},
   "outputs": [
    {
     "data": {
      "text/plain": [
       "1035070"
      ]
     },
     "execution_count": 54,
     "metadata": {},
     "output_type": "execute_result"
    }
   ],
   "source": [
    "df_full = df_full.dropna()\n",
    "len(df_full)"
   ]
  },
  {
   "cell_type": "code",
   "execution_count": 55,
   "id": "006114a8-a4a3-4a8f-abcd-356f264b7895",
   "metadata": {},
   "outputs": [
    {
     "data": {
      "text/plain": [
       "Jul    87916\n",
       "Aug    87916\n",
       "Oct    87916\n",
       "Dec    87916\n",
       "Jan    87916\n",
       "Mar    87909\n",
       "May    87885\n",
       "Sep    85080\n",
       "Nov    85080\n",
       "Jun    85078\n",
       "Apr    85050\n",
       "Feb    79408\n",
       "Name: month, dtype: int64"
      ]
     },
     "execution_count": 55,
     "metadata": {},
     "output_type": "execute_result"
    }
   ],
   "source": [
    "df_full['month'] = df_full['date'].dt.month\n",
    "month_dict = {1: 'Jan', 2: 'Feb', 3: 'Mar', 4: 'Apr', 5: 'May', 6: 'Jun', 7: 'Jul', 8: 'Aug', 9: 'Sep', 10: 'Oct', 11: 'Nov', 12: 'Dec'}\n",
    "df_full['month'] = df_full['month'].map(lambda x: month_dict[x])\n",
    "df_full['month'].value_counts()"
   ]
  },
  {
   "cell_type": "markdown",
   "id": "810828e4-b554-49b1-b510-52b74f8db48c",
   "metadata": {},
   "source": [
    "Now let's export this data set"
   ]
  },
  {
   "cell_type": "code",
   "execution_count": 107,
   "id": "34d449f1-7699-4ed6-bbca-0c0c4bd1491b",
   "metadata": {
    "scrolled": true,
    "tags": []
   },
   "outputs": [
    {
     "ename": "OSError",
     "evalue": "[Errno 28] No space left on device",
     "output_type": "error",
     "traceback": [
      "\u001b[1;31m---------------------------------------------------------------------------\u001b[0m",
      "\u001b[1;31mOSError\u001b[0m                                   Traceback (most recent call last)",
      "\u001b[1;32m~\\AppData\\Local\\Temp/ipykernel_27608/3523232271.py\u001b[0m in \u001b[0;36m<module>\u001b[1;34m\u001b[0m\n\u001b[1;32m----> 1\u001b[1;33m \u001b[0mdf_full\u001b[0m\u001b[1;33m.\u001b[0m\u001b[0mto_csv\u001b[0m\u001b[1;33m(\u001b[0m\u001b[1;34m'data/df_full.csv'\u001b[0m\u001b[1;33m)\u001b[0m\u001b[1;33m\u001b[0m\u001b[1;33m\u001b[0m\u001b[0m\n\u001b[0m",
      "\u001b[1;32m~\\anaconda3\\lib\\site-packages\\pandas\\core\\generic.py\u001b[0m in \u001b[0;36mto_csv\u001b[1;34m(self, path_or_buf, sep, na_rep, float_format, columns, header, index, index_label, mode, encoding, compression, quoting, quotechar, line_terminator, chunksize, date_format, doublequote, escapechar, decimal, errors, storage_options)\u001b[0m\n\u001b[0;32m   3464\u001b[0m         )\n\u001b[0;32m   3465\u001b[0m \u001b[1;33m\u001b[0m\u001b[0m\n\u001b[1;32m-> 3466\u001b[1;33m         return DataFrameRenderer(formatter).to_csv(\n\u001b[0m\u001b[0;32m   3467\u001b[0m             \u001b[0mpath_or_buf\u001b[0m\u001b[1;33m,\u001b[0m\u001b[1;33m\u001b[0m\u001b[1;33m\u001b[0m\u001b[0m\n\u001b[0;32m   3468\u001b[0m             \u001b[0mline_terminator\u001b[0m\u001b[1;33m=\u001b[0m\u001b[0mline_terminator\u001b[0m\u001b[1;33m,\u001b[0m\u001b[1;33m\u001b[0m\u001b[1;33m\u001b[0m\u001b[0m\n",
      "\u001b[1;32m~\\anaconda3\\lib\\site-packages\\pandas\\io\\formats\\format.py\u001b[0m in \u001b[0;36mto_csv\u001b[1;34m(self, path_or_buf, encoding, sep, columns, index_label, mode, compression, quoting, quotechar, line_terminator, chunksize, date_format, doublequote, escapechar, errors, storage_options)\u001b[0m\n\u001b[0;32m   1103\u001b[0m             \u001b[0mformatter\u001b[0m\u001b[1;33m=\u001b[0m\u001b[0mself\u001b[0m\u001b[1;33m.\u001b[0m\u001b[0mfmt\u001b[0m\u001b[1;33m,\u001b[0m\u001b[1;33m\u001b[0m\u001b[1;33m\u001b[0m\u001b[0m\n\u001b[0;32m   1104\u001b[0m         )\n\u001b[1;32m-> 1105\u001b[1;33m         \u001b[0mcsv_formatter\u001b[0m\u001b[1;33m.\u001b[0m\u001b[0msave\u001b[0m\u001b[1;33m(\u001b[0m\u001b[1;33m)\u001b[0m\u001b[1;33m\u001b[0m\u001b[1;33m\u001b[0m\u001b[0m\n\u001b[0m\u001b[0;32m   1106\u001b[0m \u001b[1;33m\u001b[0m\u001b[0m\n\u001b[0;32m   1107\u001b[0m         \u001b[1;32mif\u001b[0m \u001b[0mcreated_buffer\u001b[0m\u001b[1;33m:\u001b[0m\u001b[1;33m\u001b[0m\u001b[1;33m\u001b[0m\u001b[0m\n",
      "\u001b[1;32m~\\anaconda3\\lib\\site-packages\\pandas\\io\\formats\\csvs.py\u001b[0m in \u001b[0;36msave\u001b[1;34m(self)\u001b[0m\n\u001b[0;32m    255\u001b[0m             )\n\u001b[0;32m    256\u001b[0m \u001b[1;33m\u001b[0m\u001b[0m\n\u001b[1;32m--> 257\u001b[1;33m             \u001b[0mself\u001b[0m\u001b[1;33m.\u001b[0m\u001b[0m_save\u001b[0m\u001b[1;33m(\u001b[0m\u001b[1;33m)\u001b[0m\u001b[1;33m\u001b[0m\u001b[1;33m\u001b[0m\u001b[0m\n\u001b[0m\u001b[0;32m    258\u001b[0m \u001b[1;33m\u001b[0m\u001b[0m\n\u001b[0;32m    259\u001b[0m     \u001b[1;32mdef\u001b[0m \u001b[0m_save\u001b[0m\u001b[1;33m(\u001b[0m\u001b[0mself\u001b[0m\u001b[1;33m)\u001b[0m \u001b[1;33m->\u001b[0m \u001b[1;32mNone\u001b[0m\u001b[1;33m:\u001b[0m\u001b[1;33m\u001b[0m\u001b[1;33m\u001b[0m\u001b[0m\n",
      "\u001b[1;32m~\\anaconda3\\lib\\site-packages\\pandas\\io\\formats\\csvs.py\u001b[0m in \u001b[0;36m_save\u001b[1;34m(self)\u001b[0m\n\u001b[0;32m    260\u001b[0m         \u001b[1;32mif\u001b[0m \u001b[0mself\u001b[0m\u001b[1;33m.\u001b[0m\u001b[0m_need_to_save_header\u001b[0m\u001b[1;33m:\u001b[0m\u001b[1;33m\u001b[0m\u001b[1;33m\u001b[0m\u001b[0m\n\u001b[0;32m    261\u001b[0m             \u001b[0mself\u001b[0m\u001b[1;33m.\u001b[0m\u001b[0m_save_header\u001b[0m\u001b[1;33m(\u001b[0m\u001b[1;33m)\u001b[0m\u001b[1;33m\u001b[0m\u001b[1;33m\u001b[0m\u001b[0m\n\u001b[1;32m--> 262\u001b[1;33m         \u001b[0mself\u001b[0m\u001b[1;33m.\u001b[0m\u001b[0m_save_body\u001b[0m\u001b[1;33m(\u001b[0m\u001b[1;33m)\u001b[0m\u001b[1;33m\u001b[0m\u001b[1;33m\u001b[0m\u001b[0m\n\u001b[0m\u001b[0;32m    263\u001b[0m \u001b[1;33m\u001b[0m\u001b[0m\n\u001b[0;32m    264\u001b[0m     \u001b[1;32mdef\u001b[0m \u001b[0m_save_header\u001b[0m\u001b[1;33m(\u001b[0m\u001b[0mself\u001b[0m\u001b[1;33m)\u001b[0m \u001b[1;33m->\u001b[0m \u001b[1;32mNone\u001b[0m\u001b[1;33m:\u001b[0m\u001b[1;33m\u001b[0m\u001b[1;33m\u001b[0m\u001b[0m\n",
      "\u001b[1;32m~\\anaconda3\\lib\\site-packages\\pandas\\io\\formats\\csvs.py\u001b[0m in \u001b[0;36m_save_body\u001b[1;34m(self)\u001b[0m\n\u001b[0;32m    298\u001b[0m             \u001b[1;32mif\u001b[0m \u001b[0mstart_i\u001b[0m \u001b[1;33m>=\u001b[0m \u001b[0mend_i\u001b[0m\u001b[1;33m:\u001b[0m\u001b[1;33m\u001b[0m\u001b[1;33m\u001b[0m\u001b[0m\n\u001b[0;32m    299\u001b[0m                 \u001b[1;32mbreak\u001b[0m\u001b[1;33m\u001b[0m\u001b[1;33m\u001b[0m\u001b[0m\n\u001b[1;32m--> 300\u001b[1;33m             \u001b[0mself\u001b[0m\u001b[1;33m.\u001b[0m\u001b[0m_save_chunk\u001b[0m\u001b[1;33m(\u001b[0m\u001b[0mstart_i\u001b[0m\u001b[1;33m,\u001b[0m \u001b[0mend_i\u001b[0m\u001b[1;33m)\u001b[0m\u001b[1;33m\u001b[0m\u001b[1;33m\u001b[0m\u001b[0m\n\u001b[0m\u001b[0;32m    301\u001b[0m \u001b[1;33m\u001b[0m\u001b[0m\n\u001b[0;32m    302\u001b[0m     \u001b[1;32mdef\u001b[0m \u001b[0m_save_chunk\u001b[0m\u001b[1;33m(\u001b[0m\u001b[0mself\u001b[0m\u001b[1;33m,\u001b[0m \u001b[0mstart_i\u001b[0m\u001b[1;33m:\u001b[0m \u001b[0mint\u001b[0m\u001b[1;33m,\u001b[0m \u001b[0mend_i\u001b[0m\u001b[1;33m:\u001b[0m \u001b[0mint\u001b[0m\u001b[1;33m)\u001b[0m \u001b[1;33m->\u001b[0m \u001b[1;32mNone\u001b[0m\u001b[1;33m:\u001b[0m\u001b[1;33m\u001b[0m\u001b[1;33m\u001b[0m\u001b[0m\n",
      "\u001b[1;32m~\\anaconda3\\lib\\site-packages\\pandas\\io\\formats\\csvs.py\u001b[0m in \u001b[0;36m_save_chunk\u001b[1;34m(self, start_i, end_i)\u001b[0m\n\u001b[0;32m    309\u001b[0m \u001b[1;33m\u001b[0m\u001b[0m\n\u001b[0;32m    310\u001b[0m         \u001b[0mix\u001b[0m \u001b[1;33m=\u001b[0m \u001b[0mself\u001b[0m\u001b[1;33m.\u001b[0m\u001b[0mdata_index\u001b[0m\u001b[1;33m[\u001b[0m\u001b[0mslicer\u001b[0m\u001b[1;33m]\u001b[0m\u001b[1;33m.\u001b[0m\u001b[0m_format_native_types\u001b[0m\u001b[1;33m(\u001b[0m\u001b[1;33m**\u001b[0m\u001b[0mself\u001b[0m\u001b[1;33m.\u001b[0m\u001b[0m_number_format\u001b[0m\u001b[1;33m)\u001b[0m\u001b[1;33m\u001b[0m\u001b[1;33m\u001b[0m\u001b[0m\n\u001b[1;32m--> 311\u001b[1;33m         libwriters.write_csv_rows(\n\u001b[0m\u001b[0;32m    312\u001b[0m             \u001b[0mdata\u001b[0m\u001b[1;33m,\u001b[0m\u001b[1;33m\u001b[0m\u001b[1;33m\u001b[0m\u001b[0m\n\u001b[0;32m    313\u001b[0m             \u001b[0mix\u001b[0m\u001b[1;33m,\u001b[0m\u001b[1;33m\u001b[0m\u001b[1;33m\u001b[0m\u001b[0m\n",
      "\u001b[1;32m~\\anaconda3\\lib\\site-packages\\pandas\\_libs\\writers.pyx\u001b[0m in \u001b[0;36mpandas._libs.writers.write_csv_rows\u001b[1;34m()\u001b[0m\n",
      "\u001b[1;31mOSError\u001b[0m: [Errno 28] No space left on device"
     ]
    }
   ],
   "source": [
    "#df_full.to_csv('data/df_full.csv')"
   ]
  },
  {
   "cell_type": "markdown",
   "id": "770e1937-2546-4caa-93f2-cf16be690278",
   "metadata": {},
   "source": [
    "___"
   ]
  },
  {
   "cell_type": "code",
   "execution_count": 57,
   "id": "5a3092bc-7ede-44b4-a210-c7746c9efe8e",
   "metadata": {},
   "outputs": [],
   "source": [
    "import numpy as np\n",
    "import pandas as pd\n",
    "import seaborn as sns\n",
    "import matplotlib.pyplot as plt"
   ]
  },
  {
   "cell_type": "code",
   "execution_count": 58,
   "id": "550b88e6-add0-46fb-919a-191c3889c8a2",
   "metadata": {},
   "outputs": [
    {
     "data": {
      "text/html": [
       "<div>\n",
       "<style scoped>\n",
       "    .dataframe tbody tr th:only-of-type {\n",
       "        vertical-align: middle;\n",
       "    }\n",
       "\n",
       "    .dataframe tbody tr th {\n",
       "        vertical-align: top;\n",
       "    }\n",
       "\n",
       "    .dataframe thead th {\n",
       "        text-align: right;\n",
       "    }\n",
       "</style>\n",
       "<table border=\"1\" class=\"dataframe\">\n",
       "  <thead>\n",
       "    <tr style=\"text-align: right;\">\n",
       "      <th></th>\n",
       "      <th>id</th>\n",
       "      <th>date</th>\n",
       "      <th>available</th>\n",
       "      <th>price</th>\n",
       "      <th>minimum_nights</th>\n",
       "      <th>maximum_nights</th>\n",
       "      <th>host_id</th>\n",
       "      <th>host_response_time</th>\n",
       "      <th>host_is_superhost</th>\n",
       "      <th>host_listings_count</th>\n",
       "      <th>host_verifications</th>\n",
       "      <th>host_has_profile_pic</th>\n",
       "      <th>host_identity_verified</th>\n",
       "      <th>neighbourhood_cleansed</th>\n",
       "      <th>neighbourhood_group_cleansed</th>\n",
       "      <th>latitude</th>\n",
       "      <th>longitude</th>\n",
       "      <th>property_type</th>\n",
       "      <th>room_type</th>\n",
       "      <th>accommodates</th>\n",
       "      <th>beds</th>\n",
       "      <th>amenities</th>\n",
       "      <th>has_availability</th>\n",
       "      <th>availability_365</th>\n",
       "      <th>number_of_reviews</th>\n",
       "      <th>review_scores_rating</th>\n",
       "      <th>review_scores_accuracy</th>\n",
       "      <th>review_scores_cleanliness</th>\n",
       "      <th>review_scores_checkin</th>\n",
       "      <th>review_scores_communication</th>\n",
       "      <th>review_scores_location</th>\n",
       "      <th>review_scores_value</th>\n",
       "      <th>instant_bookable</th>\n",
       "      <th>calculated_host_listings_count</th>\n",
       "      <th>full_description</th>\n",
       "      <th>review</th>\n",
       "      <th>month</th>\n",
       "    </tr>\n",
       "  </thead>\n",
       "  <tbody>\n",
       "    <tr>\n",
       "      <th>0</th>\n",
       "      <td>2595</td>\n",
       "      <td>2022-06-04</td>\n",
       "      <td>0</td>\n",
       "      <td>225.0</td>\n",
       "      <td>30</td>\n",
       "      <td>1125</td>\n",
       "      <td>2845.0</td>\n",
       "      <td>a few days or more</td>\n",
       "      <td>0.0</td>\n",
       "      <td>6.0</td>\n",
       "      <td>['email', 'phone', 'work_email']</td>\n",
       "      <td>1.0</td>\n",
       "      <td>1.0</td>\n",
       "      <td>Midtown</td>\n",
       "      <td>Manhattan</td>\n",
       "      <td>40.75356</td>\n",
       "      <td>-73.98559</td>\n",
       "      <td>Entire rental unit</td>\n",
       "      <td>Entire home/apt</td>\n",
       "      <td>1.0</td>\n",
       "      <td>1.0</td>\n",
       "      <td>[\"Essentials\", \"Bathtub\", \"Extra pillows and b...</td>\n",
       "      <td>1.0</td>\n",
       "      <td>308.0</td>\n",
       "      <td>48.0</td>\n",
       "      <td>4.7</td>\n",
       "      <td>4.72</td>\n",
       "      <td>4.62</td>\n",
       "      <td>4.76</td>\n",
       "      <td>4.79</td>\n",
       "      <td>4.86</td>\n",
       "      <td>4.41</td>\n",
       "      <td>0.0</td>\n",
       "      <td>3.0</td>\n",
       "      <td>Beautiful, spacious skylit studio in the heart...</td>\n",
       "      <td>0        11/21/2009\\n1         5/28/2009\\n2   ...</td>\n",
       "      <td>Jun</td>\n",
       "    </tr>\n",
       "    <tr>\n",
       "      <th>1</th>\n",
       "      <td>2595</td>\n",
       "      <td>2022-06-05</td>\n",
       "      <td>0</td>\n",
       "      <td>225.0</td>\n",
       "      <td>30</td>\n",
       "      <td>1125</td>\n",
       "      <td>2845.0</td>\n",
       "      <td>a few days or more</td>\n",
       "      <td>0.0</td>\n",
       "      <td>6.0</td>\n",
       "      <td>['email', 'phone', 'work_email']</td>\n",
       "      <td>1.0</td>\n",
       "      <td>1.0</td>\n",
       "      <td>Midtown</td>\n",
       "      <td>Manhattan</td>\n",
       "      <td>40.75356</td>\n",
       "      <td>-73.98559</td>\n",
       "      <td>Entire rental unit</td>\n",
       "      <td>Entire home/apt</td>\n",
       "      <td>1.0</td>\n",
       "      <td>1.0</td>\n",
       "      <td>[\"Essentials\", \"Bathtub\", \"Extra pillows and b...</td>\n",
       "      <td>1.0</td>\n",
       "      <td>308.0</td>\n",
       "      <td>48.0</td>\n",
       "      <td>4.7</td>\n",
       "      <td>4.72</td>\n",
       "      <td>4.62</td>\n",
       "      <td>4.76</td>\n",
       "      <td>4.79</td>\n",
       "      <td>4.86</td>\n",
       "      <td>4.41</td>\n",
       "      <td>0.0</td>\n",
       "      <td>3.0</td>\n",
       "      <td>Beautiful, spacious skylit studio in the heart...</td>\n",
       "      <td>0        11/21/2009\\n1         5/28/2009\\n2   ...</td>\n",
       "      <td>Jun</td>\n",
       "    </tr>\n",
       "    <tr>\n",
       "      <th>2</th>\n",
       "      <td>2595</td>\n",
       "      <td>2022-06-06</td>\n",
       "      <td>0</td>\n",
       "      <td>225.0</td>\n",
       "      <td>30</td>\n",
       "      <td>1125</td>\n",
       "      <td>2845.0</td>\n",
       "      <td>a few days or more</td>\n",
       "      <td>0.0</td>\n",
       "      <td>6.0</td>\n",
       "      <td>['email', 'phone', 'work_email']</td>\n",
       "      <td>1.0</td>\n",
       "      <td>1.0</td>\n",
       "      <td>Midtown</td>\n",
       "      <td>Manhattan</td>\n",
       "      <td>40.75356</td>\n",
       "      <td>-73.98559</td>\n",
       "      <td>Entire rental unit</td>\n",
       "      <td>Entire home/apt</td>\n",
       "      <td>1.0</td>\n",
       "      <td>1.0</td>\n",
       "      <td>[\"Essentials\", \"Bathtub\", \"Extra pillows and b...</td>\n",
       "      <td>1.0</td>\n",
       "      <td>308.0</td>\n",
       "      <td>48.0</td>\n",
       "      <td>4.7</td>\n",
       "      <td>4.72</td>\n",
       "      <td>4.62</td>\n",
       "      <td>4.76</td>\n",
       "      <td>4.79</td>\n",
       "      <td>4.86</td>\n",
       "      <td>4.41</td>\n",
       "      <td>0.0</td>\n",
       "      <td>3.0</td>\n",
       "      <td>Beautiful, spacious skylit studio in the heart...</td>\n",
       "      <td>0        11/21/2009\\n1         5/28/2009\\n2   ...</td>\n",
       "      <td>Jun</td>\n",
       "    </tr>\n",
       "    <tr>\n",
       "      <th>3</th>\n",
       "      <td>2595</td>\n",
       "      <td>2022-06-07</td>\n",
       "      <td>0</td>\n",
       "      <td>225.0</td>\n",
       "      <td>30</td>\n",
       "      <td>1125</td>\n",
       "      <td>2845.0</td>\n",
       "      <td>a few days or more</td>\n",
       "      <td>0.0</td>\n",
       "      <td>6.0</td>\n",
       "      <td>['email', 'phone', 'work_email']</td>\n",
       "      <td>1.0</td>\n",
       "      <td>1.0</td>\n",
       "      <td>Midtown</td>\n",
       "      <td>Manhattan</td>\n",
       "      <td>40.75356</td>\n",
       "      <td>-73.98559</td>\n",
       "      <td>Entire rental unit</td>\n",
       "      <td>Entire home/apt</td>\n",
       "      <td>1.0</td>\n",
       "      <td>1.0</td>\n",
       "      <td>[\"Essentials\", \"Bathtub\", \"Extra pillows and b...</td>\n",
       "      <td>1.0</td>\n",
       "      <td>308.0</td>\n",
       "      <td>48.0</td>\n",
       "      <td>4.7</td>\n",
       "      <td>4.72</td>\n",
       "      <td>4.62</td>\n",
       "      <td>4.76</td>\n",
       "      <td>4.79</td>\n",
       "      <td>4.86</td>\n",
       "      <td>4.41</td>\n",
       "      <td>0.0</td>\n",
       "      <td>3.0</td>\n",
       "      <td>Beautiful, spacious skylit studio in the heart...</td>\n",
       "      <td>0        11/21/2009\\n1         5/28/2009\\n2   ...</td>\n",
       "      <td>Jun</td>\n",
       "    </tr>\n",
       "    <tr>\n",
       "      <th>4</th>\n",
       "      <td>2595</td>\n",
       "      <td>2022-06-08</td>\n",
       "      <td>0</td>\n",
       "      <td>225.0</td>\n",
       "      <td>30</td>\n",
       "      <td>1125</td>\n",
       "      <td>2845.0</td>\n",
       "      <td>a few days or more</td>\n",
       "      <td>0.0</td>\n",
       "      <td>6.0</td>\n",
       "      <td>['email', 'phone', 'work_email']</td>\n",
       "      <td>1.0</td>\n",
       "      <td>1.0</td>\n",
       "      <td>Midtown</td>\n",
       "      <td>Manhattan</td>\n",
       "      <td>40.75356</td>\n",
       "      <td>-73.98559</td>\n",
       "      <td>Entire rental unit</td>\n",
       "      <td>Entire home/apt</td>\n",
       "      <td>1.0</td>\n",
       "      <td>1.0</td>\n",
       "      <td>[\"Essentials\", \"Bathtub\", \"Extra pillows and b...</td>\n",
       "      <td>1.0</td>\n",
       "      <td>308.0</td>\n",
       "      <td>48.0</td>\n",
       "      <td>4.7</td>\n",
       "      <td>4.72</td>\n",
       "      <td>4.62</td>\n",
       "      <td>4.76</td>\n",
       "      <td>4.79</td>\n",
       "      <td>4.86</td>\n",
       "      <td>4.41</td>\n",
       "      <td>0.0</td>\n",
       "      <td>3.0</td>\n",
       "      <td>Beautiful, spacious skylit studio in the heart...</td>\n",
       "      <td>0        11/21/2009\\n1         5/28/2009\\n2   ...</td>\n",
       "      <td>Jun</td>\n",
       "    </tr>\n",
       "  </tbody>\n",
       "</table>\n",
       "</div>"
      ],
      "text/plain": [
       "     id       date  available  price  minimum_nights  maximum_nights  host_id  \\\n",
       "0  2595 2022-06-04          0  225.0              30            1125   2845.0   \n",
       "1  2595 2022-06-05          0  225.0              30            1125   2845.0   \n",
       "2  2595 2022-06-06          0  225.0              30            1125   2845.0   \n",
       "3  2595 2022-06-07          0  225.0              30            1125   2845.0   \n",
       "4  2595 2022-06-08          0  225.0              30            1125   2845.0   \n",
       "\n",
       "   host_response_time  host_is_superhost  host_listings_count  \\\n",
       "0  a few days or more                0.0                  6.0   \n",
       "1  a few days or more                0.0                  6.0   \n",
       "2  a few days or more                0.0                  6.0   \n",
       "3  a few days or more                0.0                  6.0   \n",
       "4  a few days or more                0.0                  6.0   \n",
       "\n",
       "                 host_verifications  host_has_profile_pic  \\\n",
       "0  ['email', 'phone', 'work_email']                   1.0   \n",
       "1  ['email', 'phone', 'work_email']                   1.0   \n",
       "2  ['email', 'phone', 'work_email']                   1.0   \n",
       "3  ['email', 'phone', 'work_email']                   1.0   \n",
       "4  ['email', 'phone', 'work_email']                   1.0   \n",
       "\n",
       "   host_identity_verified neighbourhood_cleansed neighbourhood_group_cleansed  \\\n",
       "0                     1.0                Midtown                    Manhattan   \n",
       "1                     1.0                Midtown                    Manhattan   \n",
       "2                     1.0                Midtown                    Manhattan   \n",
       "3                     1.0                Midtown                    Manhattan   \n",
       "4                     1.0                Midtown                    Manhattan   \n",
       "\n",
       "   latitude  longitude       property_type        room_type  accommodates  \\\n",
       "0  40.75356  -73.98559  Entire rental unit  Entire home/apt           1.0   \n",
       "1  40.75356  -73.98559  Entire rental unit  Entire home/apt           1.0   \n",
       "2  40.75356  -73.98559  Entire rental unit  Entire home/apt           1.0   \n",
       "3  40.75356  -73.98559  Entire rental unit  Entire home/apt           1.0   \n",
       "4  40.75356  -73.98559  Entire rental unit  Entire home/apt           1.0   \n",
       "\n",
       "   beds                                          amenities  has_availability  \\\n",
       "0   1.0  [\"Essentials\", \"Bathtub\", \"Extra pillows and b...               1.0   \n",
       "1   1.0  [\"Essentials\", \"Bathtub\", \"Extra pillows and b...               1.0   \n",
       "2   1.0  [\"Essentials\", \"Bathtub\", \"Extra pillows and b...               1.0   \n",
       "3   1.0  [\"Essentials\", \"Bathtub\", \"Extra pillows and b...               1.0   \n",
       "4   1.0  [\"Essentials\", \"Bathtub\", \"Extra pillows and b...               1.0   \n",
       "\n",
       "   availability_365  number_of_reviews review_scores_rating  \\\n",
       "0             308.0               48.0                  4.7   \n",
       "1             308.0               48.0                  4.7   \n",
       "2             308.0               48.0                  4.7   \n",
       "3             308.0               48.0                  4.7   \n",
       "4             308.0               48.0                  4.7   \n",
       "\n",
       "  review_scores_accuracy review_scores_cleanliness review_scores_checkin  \\\n",
       "0                   4.72                      4.62                  4.76   \n",
       "1                   4.72                      4.62                  4.76   \n",
       "2                   4.72                      4.62                  4.76   \n",
       "3                   4.72                      4.62                  4.76   \n",
       "4                   4.72                      4.62                  4.76   \n",
       "\n",
       "  review_scores_communication review_scores_location review_scores_value  \\\n",
       "0                        4.79                   4.86                4.41   \n",
       "1                        4.79                   4.86                4.41   \n",
       "2                        4.79                   4.86                4.41   \n",
       "3                        4.79                   4.86                4.41   \n",
       "4                        4.79                   4.86                4.41   \n",
       "\n",
       "   instant_bookable  calculated_host_listings_count  \\\n",
       "0               0.0                             3.0   \n",
       "1               0.0                             3.0   \n",
       "2               0.0                             3.0   \n",
       "3               0.0                             3.0   \n",
       "4               0.0                             3.0   \n",
       "\n",
       "                                    full_description  \\\n",
       "0  Beautiful, spacious skylit studio in the heart...   \n",
       "1  Beautiful, spacious skylit studio in the heart...   \n",
       "2  Beautiful, spacious skylit studio in the heart...   \n",
       "3  Beautiful, spacious skylit studio in the heart...   \n",
       "4  Beautiful, spacious skylit studio in the heart...   \n",
       "\n",
       "                                              review month  \n",
       "0  0        11/21/2009\\n1         5/28/2009\\n2   ...   Jun  \n",
       "1  0        11/21/2009\\n1         5/28/2009\\n2   ...   Jun  \n",
       "2  0        11/21/2009\\n1         5/28/2009\\n2   ...   Jun  \n",
       "3  0        11/21/2009\\n1         5/28/2009\\n2   ...   Jun  \n",
       "4  0        11/21/2009\\n1         5/28/2009\\n2   ...   Jun  "
      ]
     },
     "execution_count": 58,
     "metadata": {},
     "output_type": "execute_result"
    }
   ],
   "source": [
    "df_full.head()"
   ]
  },
  {
   "cell_type": "code",
   "execution_count": 59,
   "id": "fbbcdf85-7949-43ad-9d28-fe21dc9bd870",
   "metadata": {},
   "outputs": [],
   "source": [
    "#df_full.drop(columns=['Unnamed: 0'], inplace=True)\n",
    "#df_full.head()"
   ]
  },
  {
   "cell_type": "markdown",
   "id": "2e64ab40-cc99-4dcf-9416-0c237e52310f",
   "metadata": {},
   "source": [
    "Let's run some EDA first and see what we can find\n"
   ]
  },
  {
   "cell_type": "code",
   "execution_count": 60,
   "id": "22bde5dd-555a-4131-8c1a-0d3f87a11401",
   "metadata": {},
   "outputs": [
    {
     "data": {
      "text/plain": [
       "<AxesSubplot:xlabel='host_response_time', ylabel='price'>"
      ]
     },
     "execution_count": 60,
     "metadata": {},
     "output_type": "execute_result"
    },
    {
     "data": {
      "image/png": "[encoded data removed]",
      "text/plain": [
       "<Figure size 720x576 with 1 Axes>"
      ]
     },
     "metadata": {
      "needs_background": "light"
     },
     "output_type": "display_data"
    }
   ],
   "source": [
    "#Price vs host_response_time\n",
    "plt.figure(figsize=(10,8))\n",
    "sns.barplot(y=\"price\", x=\"host_response_time\", data=df_full)"
   ]
  },
  {
   "cell_type": "markdown",
   "id": "a4434932-cac0-489e-bdfd-eb968d2d0dc4",
   "metadata": {},
   "source": [
    "A host that responds in a few days or more has the highest priced AirBnBs. The rest are roughly the same"
   ]
  },
  {
   "cell_type": "code",
   "execution_count": 61,
   "id": "2b2060d9-9bc9-4344-9214-c2d32b21b358",
   "metadata": {},
   "outputs": [
    {
     "data": {
      "text/plain": [
       "<AxesSubplot:xlabel='host_is_superhost', ylabel='price'>"
      ]
     },
     "execution_count": 61,
     "metadata": {},
     "output_type": "execute_result"
    },
    {
     "data": {
      "image/png": "[encoded data removed]",
      "text/plain": [
       "<Figure size 720x576 with 1 Axes>"
      ]
     },
     "metadata": {
      "needs_background": "light"
     },
     "output_type": "display_data"
    }
   ],
   "source": [
    "#Price vs host_is_superhost\n",
    "plt.figure(figsize=(10,8))\n",
    "sns.boxplot(data=df_full, x='host_is_superhost', y='price')"
   ]
  },
  {
   "cell_type": "markdown",
   "id": "a32cd199-edab-43a3-95bc-56ef93c1a7de",
   "metadata": {},
   "source": [
    "There are too many outliers that we can't see the data. Let's look where the price is under $1000\n"
   ]
  },
  {
   "cell_type": "code",
   "execution_count": 62,
   "id": "7b11536b-cafa-47b4-b52a-9579b304e7ed",
   "metadata": {},
   "outputs": [
    {
     "data": {
      "text/plain": [
       "<AxesSubplot:xlabel='host_is_superhost', ylabel='price'>"
      ]
     },
     "execution_count": 62,
     "metadata": {},
     "output_type": "execute_result"
    },
    {
     "data": {
      "image/png": "[encoded data removed]",
      "text/plain": [
       "<Figure size 720x576 with 1 Axes>"
      ]
     },
     "metadata": {
      "needs_background": "light"
     },
     "output_type": "display_data"
    }
   ],
   "source": [
    "#Price < $1000 vs host_is_superhost\n",
    "plt.figure(figsize=(10,8))\n",
    "sns.boxplot(data=df_full[df_full['price'] < 1000], x='host_is_superhost', y='price')"
   ]
  },
  {
   "cell_type": "markdown",
   "id": "4210522f-e754-4094-aba7-9a45748dc13f",
   "metadata": {},
   "source": [
    "They look about even with being a superhost maybe being a bit higher."
   ]
  },
  {
   "cell_type": "code",
   "execution_count": 63,
   "id": "025a03d1-fc8f-4755-a77c-e2c021984fb1",
   "metadata": {},
   "outputs": [
    {
     "data": {
      "text/plain": [
       "<AxesSubplot:xlabel='host_listings_count', ylabel='price'>"
      ]
     },
     "execution_count": 63,
     "metadata": {},
     "output_type": "execute_result"
    },
    {
     "data": {
      "image/png": "[encoded data removed]",
      "text/plain": [
       "<Figure size 720x576 with 1 Axes>"
      ]
     },
     "metadata": {
      "needs_background": "light"
     },
     "output_type": "display_data"
    }
   ],
   "source": [
    "#Price vs host_listings_count\n",
    "plt.figure(figsize=(10,8))\n",
    "sns.scatterplot(data=df_full, x='host_listings_count', y='price')"
   ]
  },
  {
   "cell_type": "markdown",
   "id": "58a0c9ce-15b3-45f7-9458-adfb589823ab",
   "metadata": {},
   "source": [
    "There doesn't seem to be any patterns here"
   ]
  },
  {
   "cell_type": "code",
   "execution_count": 64,
   "id": "4f407d66-7d7b-4b4c-9d61-3aa4a05543a6",
   "metadata": {},
   "outputs": [
    {
     "data": {
      "text/plain": [
       "<AxesSubplot:xlabel='host_has_profile_pic', ylabel='price'>"
      ]
     },
     "execution_count": 64,
     "metadata": {},
     "output_type": "execute_result"
    },
    {
     "data": {
      "image/png": "[encoded data removed]",
      "text/plain": [
       "<Figure size 720x576 with 1 Axes>"
      ]
     },
     "metadata": {
      "needs_background": "light"
     },
     "output_type": "display_data"
    }
   ],
   "source": [
    "#Price vs host_has_profile_pic\n",
    "plt.figure(figsize=(10,8))\n",
    "sns.boxplot(data=df_full, x='host_has_profile_pic', y='price')"
   ]
  },
  {
   "cell_type": "markdown",
   "id": "cdb0b4c4-1b9c-4f93-8306-48be8e968e95",
   "metadata": {},
   "source": [
    "Again there are a lot of outliers making it hard to see the data so let's zoom in on the less than $1000 group\n"
   ]
  },
  {
   "cell_type": "code",
   "execution_count": 65,
   "id": "2781644c-3264-4a51-8662-38780c753c17",
   "metadata": {},
   "outputs": [
    {
     "data": {
      "text/plain": [
       "<AxesSubplot:xlabel='host_has_profile_pic', ylabel='price'>"
      ]
     },
     "execution_count": 65,
     "metadata": {},
     "output_type": "execute_result"
    },
    {
     "data": {
      "image/png": "[encoded data removed]",
      "text/plain": [
       "<Figure size 720x576 with 1 Axes>"
      ]
     },
     "metadata": {
      "needs_background": "light"
     },
     "output_type": "display_data"
    }
   ],
   "source": [
    "#Price < $1000 vs host_has_profile_pic\n",
    "plt.figure(figsize=(10,8))\n",
    "sns.boxplot(data=df_full[df_full['price'] < 1000], x='host_has_profile_pic', y='price')"
   ]
  },
  {
   "cell_type": "markdown",
   "id": "d5413b6d-f302-44bc-97ce-f469c30b0b49",
   "metadata": {},
   "source": [
    "It isn't clear if one should have a profile pic based on the boxplot.\n",
    "\n",
    "Now that we know there are outliers, let's just look at the less than $1000 for host_identity_verified"
   ]
  },
  {
   "cell_type": "code",
   "execution_count": 66,
   "id": "c4329410-b19f-49c5-b2d1-dead4f4766c8",
   "metadata": {},
   "outputs": [
    {
     "data": {
      "text/plain": [
       "<AxesSubplot:xlabel='host_identity_verified', ylabel='price'>"
      ]
     },
     "execution_count": 66,
     "metadata": {},
     "output_type": "execute_result"
    },
    {
     "data": {
      "image/png": "[encoded data removed]",
      "text/plain": [
       "<Figure size 720x576 with 1 Axes>"
      ]
     },
     "metadata": {
      "needs_background": "light"
     },
     "output_type": "display_data"
    }
   ],
   "source": [
    "#Price < $1000 vs host_identity_verified\n",
    "plt.figure(figsize=(10,8))\n",
    "sns.boxplot(data=df_full[df_full['price'] < 1000], x='host_identity_verified', y='price')"
   ]
  },
  {
   "cell_type": "markdown",
   "id": "81851044-2f81-49ab-9dc6-18492869688e",
   "metadata": {},
   "source": [
    "Having your identity verified at best gives a tiny edge on it not being verified"
   ]
  },
  {
   "cell_type": "code",
   "execution_count": 67,
   "id": "ca397629-4b1d-4acc-978d-ece7b7cedf83",
   "metadata": {},
   "outputs": [
    {
     "data": {
      "text/plain": [
       "<AxesSubplot:xlabel='neighbourhood_group_cleansed', ylabel='price'>"
      ]
     },
     "execution_count": 67,
     "metadata": {},
     "output_type": "execute_result"
    },
    {
     "data": {
      "image/png": "[encoded data removed]",
      "text/plain": [
       "<Figure size 720x576 with 1 Axes>"
      ]
     },
     "metadata": {
      "needs_background": "light"
     },
     "output_type": "display_data"
    }
   ],
   "source": [
    "#Price vs boroughs\n",
    "plt.figure(figsize=(10,8))\n",
    "sns.barplot(y=\"price\", x=\"neighbourhood_group_cleansed\", data=df_full)"
   ]
  },
  {
   "cell_type": "markdown",
   "id": "0de2ae6d-e721-4671-821b-683fc9c699c7",
   "metadata": {},
   "source": [
    "Manhattan costs much more than the other boroughs of New York. Brooklyn is second highest priced, followed by Staten Island, Queens, and the Bronx has the lowest priced AirBnBs."
   ]
  },
  {
   "cell_type": "code",
   "execution_count": 68,
   "id": "ce779ae7-e83b-4e38-8345-a7185d341e19",
   "metadata": {},
   "outputs": [
    {
     "data": {
      "text/plain": [
       "<AxesSubplot:xlabel='room_type', ylabel='price'>"
      ]
     },
     "execution_count": 68,
     "metadata": {},
     "output_type": "execute_result"
    },
    {
     "data": {
      "image/png": "[encoded data removed]",
      "text/plain": [
       "<Figure size 720x576 with 1 Axes>"
      ]
     },
     "metadata": {
      "needs_background": "light"
     },
     "output_type": "display_data"
    }
   ],
   "source": [
    "#Price vs Room type\n",
    "plt.figure(figsize=(10,8))\n",
    "sns.barplot(y=\"price\", x=\"room_type\", data=df_full)"
   ]
  },
  {
   "cell_type": "markdown",
   "id": "ffd523d4-ca06-4aaf-baeb-ac95e794c1b4",
   "metadata": {},
   "source": [
    "Hotel_room and Entire home/apt AirBnBs cost the most. A private room costs the least."
   ]
  },
  {
   "cell_type": "code",
   "execution_count": 69,
   "id": "290e59c8-24c4-4124-9913-c6a94cf2ade8",
   "metadata": {},
   "outputs": [
    {
     "data": {
      "text/plain": [
       "<AxesSubplot:xlabel='minimum_nights', ylabel='price'>"
      ]
     },
     "execution_count": 69,
     "metadata": {},
     "output_type": "execute_result"
    },
    {
     "data": {
      "image/png": "[encoded data removed]",
      "text/plain": [
       "<Figure size 720x576 with 1 Axes>"
      ]
     },
     "metadata": {
      "needs_background": "light"
     },
     "output_type": "display_data"
    }
   ],
   "source": [
    "#Price vs Min Nights\n",
    "plt.figure(figsize=(10,8))\n",
    "sns.scatterplot(data=df_full, x='minimum_nights', y='price')"
   ]
  },
  {
   "cell_type": "code",
   "execution_count": 70,
   "id": "458a3eb0-f793-4a3d-8181-09fce129b75f",
   "metadata": {},
   "outputs": [
    {
     "data": {
      "text/plain": [
       "<AxesSubplot:xlabel='maximum_nights', ylabel='price'>"
      ]
     },
     "execution_count": 70,
     "metadata": {},
     "output_type": "execute_result"
    },
    {
     "data": {
      "image/png": "[encoded data removed]",
      "text/plain": [
       "<Figure size 720x576 with 1 Axes>"
      ]
     },
     "metadata": {
      "needs_background": "light"
     },
     "output_type": "display_data"
    }
   ],
   "source": [
    "#Price vs Max Nights\n",
    "plt.figure(figsize=(10,8))\n",
    "sns.scatterplot(data=df_full, x='maximum_nights', y='price')"
   ]
  },
  {
   "cell_type": "markdown",
   "id": "9c9fe7ca-be2b-4bc6-83a0-a124f82ff7c9",
   "metadata": {},
   "source": [
    "Can't seem to find a pattern\n"
   ]
  },
  {
   "cell_type": "code",
   "execution_count": 71,
   "id": "c9902c89-2f2f-424d-933a-12e0f92d0921",
   "metadata": {},
   "outputs": [
    {
     "data": {
      "text/plain": [
       "<AxesSubplot:xlabel='has_availability', ylabel='price'>"
      ]
     },
     "execution_count": 71,
     "metadata": {},
     "output_type": "execute_result"
    },
    {
     "data": {
      "image/png": "[encoded data removed]",
      "text/plain": [
       "<Figure size 720x576 with 1 Axes>"
      ]
     },
     "metadata": {
      "needs_background": "light"
     },
     "output_type": "display_data"
    }
   ],
   "source": [
    "#Price < $1000 vs Has Availability\n",
    "plt.figure(figsize=(10,8))\n",
    "sns.boxplot(data=df_full[df_full['price'] < 1000], x='has_availability', y='price')"
   ]
  },
  {
   "cell_type": "markdown",
   "id": "62d40735-3b12-4309-b117-d4e00e815226",
   "metadata": {},
   "source": [
    "Having availability at best only gives a tiny price increase\n"
   ]
  },
  {
   "cell_type": "code",
   "execution_count": 72,
   "id": "2a574223-86c3-4dbd-afe4-be5fe479ce4e",
   "metadata": {},
   "outputs": [
    {
     "data": {
      "text/plain": [
       "<AxesSubplot:xlabel='availability_365', ylabel='price'>"
      ]
     },
     "execution_count": 72,
     "metadata": {},
     "output_type": "execute_result"
    },
    {
     "data": {
      "image/png": "[encoded data removed]",
      "text/plain": [
       "<Figure size 720x576 with 1 Axes>"
      ]
     },
     "metadata": {
      "needs_background": "light"
     },
     "output_type": "display_data"
    }
   ],
   "source": [
    "#Price vs availability_365\n",
    "plt.figure(figsize=(10,8))\n",
    "sns.scatterplot(data=df_full, x='availability_365', y='price')"
   ]
  },
  {
   "cell_type": "markdown",
   "id": "3ff55f33-9f11-47bd-b5b8-2e6751862368",
   "metadata": {},
   "source": [
    "We can't see any pattern here\n"
   ]
  },
  {
   "cell_type": "code",
   "execution_count": 73,
   "id": "eea54cf4-9446-4e37-b73f-670bc703d539",
   "metadata": {},
   "outputs": [
    {
     "data": {
      "text/plain": [
       "<AxesSubplot:xlabel='number_of_reviews', ylabel='price'>"
      ]
     },
     "execution_count": 73,
     "metadata": {},
     "output_type": "execute_result"
    },
    {
     "data": {
      "image/png": "[encoded data removed]",
      "text/plain": [
       "<Figure size 720x576 with 1 Axes>"
      ]
     },
     "metadata": {
      "needs_background": "light"
     },
     "output_type": "display_data"
    }
   ],
   "source": [
    "#Price vs Number of Reviews\n",
    "plt.figure(figsize=(10,8))\n",
    "sns.scatterplot(data=df_full, x='number_of_reviews', y='price')"
   ]
  },
  {
   "cell_type": "code",
   "execution_count": 74,
   "id": "51f0d860-24d6-40a7-8ace-c71a4eee2a6b",
   "metadata": {},
   "outputs": [
    {
     "data": {
      "text/plain": [
       "<AxesSubplot:xlabel='instant_bookable', ylabel='price'>"
      ]
     },
     "execution_count": 74,
     "metadata": {},
     "output_type": "execute_result"
    },
    {
     "data": {
      "image/png": "[encoded data removed]",
      "text/plain": [
       "<Figure size 720x576 with 1 Axes>"
      ]
     },
     "metadata": {
      "needs_background": "light"
     },
     "output_type": "display_data"
    }
   ],
   "source": [
    "#Price < $1000 vs Instant Bookable\n",
    "plt.figure(figsize=(10,8))\n",
    "sns.boxplot(data=df_full[df_full['price'] < 1000], x='instant_bookable', y='price')"
   ]
  },
  {
   "cell_type": "markdown",
   "id": "ce28b33e-fe2c-4d1e-85cd-67a3f41501f1",
   "metadata": {},
   "source": [
    "There is no noticeable difference in having or not having instant bookable "
   ]
  },
  {
   "cell_type": "code",
   "execution_count": 75,
   "id": "14670df3-f1dc-4a92-af5e-258ea9cc4b5d",
   "metadata": {},
   "outputs": [
    {
     "data": {
      "text/plain": [
       "<AxesSubplot:xlabel='calculated_host_listings_count', ylabel='price'>"
      ]
     },
     "execution_count": 75,
     "metadata": {},
     "output_type": "execute_result"
    },
    {
     "data": {
      "image/png": "[encoded data removed]",
      "text/plain": [
       "<Figure size 720x576 with 1 Axes>"
      ]
     },
     "metadata": {
      "needs_background": "light"
     },
     "output_type": "display_data"
    }
   ],
   "source": [
    "#Price vs Host Listings Count\n",
    "plt.figure(figsize=(10,8))\n",
    "sns.scatterplot(data=df_full, x='calculated_host_listings_count', y='price')"
   ]
  },
  {
   "cell_type": "markdown",
   "id": "42226089-ba3d-4cc3-8a47-991d2c6b176e",
   "metadata": {},
   "source": [
    "No pattern"
   ]
  },
  {
   "cell_type": "code",
   "execution_count": 76,
   "id": "4fa70f75-8d66-4df0-ab26-5bd111734a2e",
   "metadata": {},
   "outputs": [
    {
     "data": {
      "text/plain": [
       "<AxesSubplot:xlabel='month', ylabel='price'>"
      ]
     },
     "execution_count": 76,
     "metadata": {},
     "output_type": "execute_result"
    },
    {
     "data": {
      "image/png": "[encoded data removed]",
      "text/plain": [
       "<Figure size 432x288 with 1 Axes>"
      ]
     },
     "metadata": {
      "needs_background": "light"
     },
     "output_type": "display_data"
    }
   ],
   "source": [
    "sns.barplot(y=\"price\", x=\"month\", data=df_full)"
   ]
  },
  {
   "cell_type": "markdown",
   "id": "236b9084-1236-41bc-bd9a-dbdaacc003d5",
   "metadata": {},
   "source": [
    "Only July seems to have an increase in price. But not by much\n"
   ]
  },
  {
   "cell_type": "markdown",
   "id": "8ea80506-9d2d-44a0-9e57-edf140bd3fb4",
   "metadata": {},
   "source": [
    "____"
   ]
  },
  {
   "cell_type": "markdown",
   "id": "7da72236-5f92-41e2-aaf5-f197219e57e8",
   "metadata": {},
   "source": [
    "To calculate the estimated price of an AirBnB, we will use a regression model. I will try this for each borrow."
   ]
  },
  {
   "cell_type": "code",
   "execution_count": 77,
   "id": "aae8b74c-c099-427a-9bad-528055dd730e",
   "metadata": {},
   "outputs": [],
   "source": [
    "import numpy as np\n",
    "import pandas as pd\n",
    "import seaborn as sns\n",
    "import matplotlib.pyplot as plt\n",
    "from sklearn.model_selection import train_test_split, cross_val_score\n",
    "from sklearn.linear_model import LinearRegression\n",
    "from sklearn.tree import DecisionTreeRegressor\n",
    "from sklearn.preprocessing import StandardScaler, PolynomialFeatures\n",
    "from sklearn import metrics"
   ]
  },
  {
   "cell_type": "code",
   "execution_count": 78,
   "id": "953a57f9-84a6-4745-95bd-76e29f767998",
   "metadata": {},
   "outputs": [],
   "source": [
    "#df_full = pd.read_csv('data/df_full.csv')\n",
    "#df_full.head()"
   ]
  },
  {
   "cell_type": "markdown",
   "id": "7f51c8e7-b744-4988-8762-8a2f26fcda62",
   "metadata": {},
   "source": [
    "Making a boroughs dataframe to make a good heatmap"
   ]
  },
  {
   "cell_type": "code",
   "execution_count": 79,
   "id": "b1043cee-7c46-4a21-8899-92529934c842",
   "metadata": {},
   "outputs": [],
   "source": [
    "dummy_array = ['neighbourhood_group_cleansed']\n",
    "listings_dummy = pd.get_dummies(listings, columns=dummy_array, drop_first=False)"
   ]
  },
  {
   "cell_type": "code",
   "execution_count": 80,
   "id": "1a093a98-eca7-40ea-a493-bde9cdbbf692",
   "metadata": {},
   "outputs": [],
   "source": [
    "boroughs = pd.get_dummies(df_full[['price', 'neighbourhood_group_cleansed']], columns=['neighbourhood_group_cleansed'])"
   ]
  },
  {
   "cell_type": "code",
   "execution_count": 81,
   "id": "79025b23-59aa-48cb-a37a-221f41d981d7",
   "metadata": {},
   "outputs": [
    {
     "data": {
      "image/png": "[encoded data removed]",
      "text/plain": [
       "<Figure size 720x576 with 2 Axes>"
      ]
     },
     "metadata": {
      "needs_background": "light"
     },
     "output_type": "display_data"
    }
   ],
   "source": [
    "#look at the heat map\n",
    "plt.figure(figsize=(10,8))\n",
    "sns.heatmap(boroughs.corr()[['price']].sort_values(by='price',ascending=False),\n",
    "            annot = True,\n",
    "            vmin = -1,\n",
    "            vmax = 1,\n",
    "            cmap = 'coolwarm');"
   ]
  },
  {
   "cell_type": "markdown",
   "id": "1cb90339-1e0c-42f7-861f-4ad358299d80",
   "metadata": {},
   "source": [
    "We will first look at it in order of relevance. Manhattan will go first"
   ]
  },
  {
   "cell_type": "code",
   "execution_count": 82,
   "id": "1065d5e0-08cd-40a2-9f2f-f58e1790c614",
   "metadata": {},
   "outputs": [
    {
     "data": {
      "text/plain": [
       "1035070"
      ]
     },
     "execution_count": 82,
     "metadata": {},
     "output_type": "execute_result"
    }
   ],
   "source": [
    "len(df_full)"
   ]
  },
  {
   "cell_type": "code",
   "execution_count": 83,
   "id": "c7c8f959-bd2d-4921-80ed-b657480e21b9",
   "metadata": {},
   "outputs": [
    {
     "data": {
      "text/plain": [
       "469320"
      ]
     },
     "execution_count": 83,
     "metadata": {},
     "output_type": "execute_result"
    }
   ],
   "source": [
    "Manhattan = df_full.copy()\n",
    "Manhattan = Manhattan[Manhattan['neighbourhood_group_cleansed'] == 'Manhattan']\n",
    "len(Manhattan)"
   ]
  },
  {
   "cell_type": "markdown",
   "id": "44f40b7b-eabd-4ec4-8d4c-1ec04060009a",
   "metadata": {},
   "source": [
    "As we saw in the EDA section, we should make dummies of host_response_time and room_type"
   ]
  },
  {
   "cell_type": "code",
   "execution_count": 84,
   "id": "f1ff9510-ae7e-4363-8929-4b608124143b",
   "metadata": {},
   "outputs": [],
   "source": [
    "Manhattan_dummies = pd.get_dummies(Manhattan, columns=['host_response_time', 'room_type'])"
   ]
  },
  {
   "cell_type": "code",
   "execution_count": 85,
   "id": "d96014f4-868f-4fda-9f72-6fa9e531a06e",
   "metadata": {},
   "outputs": [
    {
     "data": {
      "text/plain": [
       "room_type_Private room                  -0.128061\n",
       "longitude                               -0.107898\n",
       "latitude                                -0.096309\n",
       "has_availability                        -0.076666\n",
       "number_of_reviews                       -0.054570\n",
       "host_response_time_within a day         -0.041290\n",
       "host_identity_verified                  -0.034939\n",
       "host_is_superhost                       -0.019604\n",
       "calculated_host_listings_count          -0.016046\n",
       "host_response_time_within an hour       -0.014874\n",
       "instant_bookable                        -0.012008\n",
       "host_response_time_within a few hours   -0.008531\n",
       "host_id                                  0.000784\n",
       "host_has_profile_pic                     0.001274\n",
       "id                                       0.001468\n",
       "room_type_Shared room                    0.003272\n",
       "host_listings_count                      0.004914\n",
       "available                                0.015329\n",
       "availability_365                         0.018623\n",
       "host_response_time_unknown               0.026754\n",
       "minimum_nights                           0.037256\n",
       "maximum_nights                           0.054382\n",
       "host_response_time_a few days or more    0.058663\n",
       "room_type_Entire home/apt                0.126013\n",
       "beds                                     0.241772\n",
       "accommodates                             0.258995\n",
       "price                                    1.000000\n",
       "Name: price, dtype: float64"
      ]
     },
     "execution_count": 85,
     "metadata": {},
     "output_type": "execute_result"
    }
   ],
   "source": [
    "Manhattan_dummies.corr()['price'].sort_values()"
   ]
  },
  {
   "cell_type": "markdown",
   "id": "96768192-cad0-4ef3-9946-ac368774313d",
   "metadata": {},
   "source": [
    "Let's create a model. I'll keep adding features until the model doesn't get better. I'll do this for each borough. (Note: I did not save all of them what you are seeing is the best model)"
   ]
  },
  {
   "cell_type": "code",
   "execution_count": 86,
   "id": "000ef0f9-71be-4999-86b9-945bf746b6d1",
   "metadata": {},
   "outputs": [],
   "source": [
    "def tts_borough(df, xvars, dge):\n",
    "    X = df[xvars]\n",
    "    y = df['price']\n",
    "    poly = PolynomialFeatures(include_bias = False, degree = dge)\n",
    "    X_poly = poly.fit_transform(X)\n",
    "    X_train, X_test, y_train, y_test = train_test_split(X_poly, y, random_state=42)\n",
    "    return X_train, X_test, y_train, y_test"
   ]
  },
  {
   "cell_type": "code",
   "execution_count": 87,
   "id": "a61ee21b-920c-4cc8-bf53-c237feecc10f",
   "metadata": {},
   "outputs": [],
   "source": [
    "xvars = ['accommodates', 'beds', 'room_type_Private room', 'room_type_Entire home/apt', 'longitude', 'latitude', 'has_availability']\n",
    "         #'number_of_reviews', 'maximum_nights', 'host_response_time_within a day', 'minimum_nights', 'host_response_time_unknown']\n",
    "X_train, X_test, y_train, y_test = tts_borough(Manhattan_dummies, xvars, 2)"
   ]
  },
  {
   "cell_type": "markdown",
   "id": "14ab3f0e-4491-4d18-bd47-e3c549eb633d",
   "metadata": {},
   "source": [
    "Let's make a linear regression model\n"
   ]
  },
  {
   "cell_type": "code",
   "execution_count": 88,
   "id": "91a9f88c-ee4f-4c64-8ce3-e9e5f4e36977",
   "metadata": {},
   "outputs": [],
   "source": [
    "lr = LinearRegression()"
   ]
  },
  {
   "cell_type": "code",
   "execution_count": 89,
   "id": "8789a1f4-27e3-4916-a75f-a170ccaed700",
   "metadata": {},
   "outputs": [
    {
     "data": {
      "text/plain": [
       "0.14992254254323414"
      ]
     },
     "execution_count": 89,
     "metadata": {},
     "output_type": "execute_result"
    }
   ],
   "source": [
    "cross_val_score(lr, X_train, y_train, cv = 5).mean()"
   ]
  },
  {
   "cell_type": "code",
   "execution_count": 90,
   "id": "4fea65f9-884b-4f10-98f4-8835ddb2a5fb",
   "metadata": {},
   "outputs": [
    {
     "data": {
      "text/plain": [
       "LinearRegression()"
      ]
     },
     "execution_count": 90,
     "metadata": {},
     "output_type": "execute_result"
    }
   ],
   "source": [
    "lr.fit(X_train, y_train)"
   ]
  },
  {
   "cell_type": "code",
   "execution_count": 91,
   "id": "3641de8f-d59e-4331-84f7-b920b320c5be",
   "metadata": {},
   "outputs": [],
   "source": [
    "prediction = lr.predict(X_test)"
   ]
  },
  {
   "cell_type": "markdown",
   "id": "01e5438f-45be-44bf-b35d-231551f8eb48",
   "metadata": {},
   "source": [
    "The function is"
   ]
  },
  {
   "cell_type": "code",
   "execution_count": 92,
   "id": "4fad9bc1-024e-4446-9a91-0691d40e736b",
   "metadata": {},
   "outputs": [
    {
     "name": "stdout",
     "output_type": "stream",
     "text": [
      "Model intercept: -531306042.6143767\n",
      "Model coefficient values: [-1.01403997e+05  1.74468510e+05  1.10669162e+04  6.41183001e+04\n",
      " -1.17780751e+07  4.69007473e+06 -5.17404389e+04  2.98247609e+00\n",
      " -4.54046484e+00 -1.33172658e+02 -8.63614122e+01 -1.27509522e+03\n",
      "  1.75022759e+02  9.74183237e+01  5.66306659e+00  1.85526142e+02\n",
      "  1.43533249e+02  1.68401727e+03 -1.22127733e+03 -2.83689769e+02\n",
      "  1.10669163e+04  1.55542511e-06  4.22198899e+02  2.21003791e+02\n",
      "  1.46667907e+02  6.41183005e+04  1.46014147e+03 -4.96444605e+02\n",
      "  6.02715899e+01 -6.91263456e+04  3.80068200e+04 -7.46493526e+02\n",
      " -2.30322881e+04  1.18339523e+03 -5.17404389e+04]\n"
     ]
    }
   ],
   "source": [
    "print(f'Model intercept: {lr.intercept_}')\n",
    "print(f'Model coefficient values: {lr.coef_}')"
   ]
  },
  {
   "cell_type": "markdown",
   "id": "b481bb68-284a-43dd-b846-11a86aebe3cd",
   "metadata": {},
   "source": [
    "The R^2 value is"
   ]
  },
  {
   "cell_type": "code",
   "execution_count": 93,
   "id": "8605d340-dab5-494f-9866-149840553a4a",
   "metadata": {},
   "outputs": [
    {
     "name": "stdout",
     "output_type": "stream",
     "text": [
      "Training R2: 0.141631773839774\n",
      "Testing R2: 0.19491185140151768\n"
     ]
    }
   ],
   "source": [
    "print(f'Training R2: {lr.score(X_train, y_train)}')\n",
    "print(f'Testing R2: {lr.score(X_test, y_test)}')"
   ]
  },
  {
   "cell_type": "markdown",
   "id": "5565d14c-443a-499e-9c03-d341ac7d2242",
   "metadata": {},
   "source": [
    "The mean squared error is"
   ]
  },
  {
   "cell_type": "code",
   "execution_count": 94,
   "id": "29804cc6-2716-4573-a745-64633fab9197",
   "metadata": {},
   "outputs": [
    {
     "data": {
      "text/plain": [
       "175396.3974895145"
      ]
     },
     "execution_count": 94,
     "metadata": {},
     "output_type": "execute_result"
    }
   ],
   "source": [
    "metrics.mean_squared_error(y_test, prediction)"
   ]
  },
  {
   "cell_type": "markdown",
   "id": "433b1a5f-3452-4368-833f-ce0094ed7e6c",
   "metadata": {},
   "source": [
    "And the root mean squered error is"
   ]
  },
  {
   "cell_type": "code",
   "execution_count": 95,
   "id": "bd45d5f1-d5da-457f-a538-af451c3ee1f1",
   "metadata": {},
   "outputs": [
    {
     "data": {
      "text/plain": [
       "418.803530894278"
      ]
     },
     "execution_count": 95,
     "metadata": {},
     "output_type": "execute_result"
    }
   ],
   "source": [
    "np.sqrt(metrics.mean_squared_error(y_test, prediction))"
   ]
  },
  {
   "cell_type": "markdown",
   "id": "ea3a95dc-4c4b-4766-9e4f-f702e1f76188",
   "metadata": {},
   "source": [
    "How about the mean of residuals"
   ]
  },
  {
   "cell_type": "code",
   "execution_count": 96,
   "id": "7f71c02b-186a-4d3e-8aa5-8ac24f215248",
   "metadata": {},
   "outputs": [
    {
     "data": {
      "text/plain": [
       "117.34281586432186"
      ]
     },
     "execution_count": 96,
     "metadata": {},
     "output_type": "execute_result"
    }
   ],
   "source": [
    "residuals = y_test - prediction\n",
    "np.abs(residuals).mean()"
   ]
  },
  {
   "cell_type": "markdown",
   "id": "878ac32a-4a8a-444d-9d7c-13d3d4cd51ca",
   "metadata": {},
   "source": [
    "This model isn't very good. There error is high and doesn't count for much of the data. Let's try the decision tree regressor model"
   ]
  },
  {
   "cell_type": "code",
   "execution_count": 97,
   "id": "cbf3ac8b-c9cf-454c-9702-4ef8608ed752",
   "metadata": {},
   "outputs": [
    {
     "data": {
      "text/plain": [
       "room_type_Private room                  -0.128061\n",
       "longitude                               -0.107898\n",
       "latitude                                -0.096309\n",
       "has_availability                        -0.076666\n",
       "number_of_reviews                       -0.054570\n",
       "host_response_time_within a day         -0.041290\n",
       "host_identity_verified                  -0.034939\n",
       "host_is_superhost                       -0.019604\n",
       "calculated_host_listings_count          -0.016046\n",
       "host_response_time_within an hour       -0.014874\n",
       "instant_bookable                        -0.012008\n",
       "host_response_time_within a few hours   -0.008531\n",
       "host_id                                  0.000784\n",
       "host_has_profile_pic                     0.001274\n",
       "id                                       0.001468\n",
       "room_type_Shared room                    0.003272\n",
       "host_listings_count                      0.004914\n",
       "available                                0.015329\n",
       "availability_365                         0.018623\n",
       "host_response_time_unknown               0.026754\n",
       "minimum_nights                           0.037256\n",
       "maximum_nights                           0.054382\n",
       "host_response_time_a few days or more    0.058663\n",
       "room_type_Entire home/apt                0.126013\n",
       "beds                                     0.241772\n",
       "accommodates                             0.258995\n",
       "price                                    1.000000\n",
       "Name: price, dtype: float64"
      ]
     },
     "execution_count": 97,
     "metadata": {},
     "output_type": "execute_result"
    }
   ],
   "source": [
    "Manhattan_dummies.corr()['price'].sort_values()"
   ]
  },
  {
   "cell_type": "markdown",
   "id": "1cdd36ca-3f2a-4d5e-a122-6a8b354b6a31",
   "metadata": {},
   "source": [
    "Again, I did not save all of them what you are seeing is the best model"
   ]
  },
  {
   "cell_type": "code",
   "execution_count": 98,
   "id": "d2ae8f2c-84e0-4621-ab7c-6beef582f151",
   "metadata": {},
   "outputs": [],
   "source": [
    "xvars = ['accommodates', 'beds', 'room_type_Private room', 'room_type_Entire home/apt', 'longitude', 'latitude']\n",
    "X = Manhattan_dummies[xvars]\n",
    "y = Manhattan_dummies['price']\n",
    "X_train, X_test, y_train, y_test = train_test_split(X, y, random_state=42)"
   ]
  },
  {
   "cell_type": "code",
   "execution_count": 99,
   "id": "efd577d9-3c36-4757-8abf-6342daa893d2",
   "metadata": {},
   "outputs": [],
   "source": [
    "#I tweeked this until I got the best result\n",
    "dt = DecisionTreeRegressor(random_state=42)#max_depth=35, min_samples_split=2, min_samples_leaf=2, random_state=42)"
   ]
  },
  {
   "cell_type": "code",
   "execution_count": 100,
   "id": "aec9a16f-6b08-430a-8ac4-4ac7f768bed9",
   "metadata": {},
   "outputs": [
    {
     "data": {
      "text/plain": [
       "DecisionTreeRegressor(random_state=42)"
      ]
     },
     "execution_count": 100,
     "metadata": {},
     "output_type": "execute_result"
    }
   ],
   "source": [
    "dt.fit(X_train, y_train)"
   ]
  },
  {
   "cell_type": "code",
   "execution_count": 101,
   "id": "1327e8ba-8276-4676-b27d-d5b617e5cf02",
   "metadata": {},
   "outputs": [],
   "source": [
    "prediction = dt.predict(X_test)"
   ]
  },
  {
   "cell_type": "code",
   "execution_count": 102,
   "id": "ad406e51-65ae-4c67-a2ff-412e6da7eba4",
   "metadata": {},
   "outputs": [
    {
     "name": "stdout",
     "output_type": "stream",
     "text": [
      "Score on training set: 0.47327498499947585\n",
      "Score on testing set: 0.6028663936001599\n"
     ]
    }
   ],
   "source": [
    "print(f'Score on training set: {dt.score(X_train, y_train)}')\n",
    "print(f'Score on testing set: {dt.score(X_test, y_test)}')"
   ]
  },
  {
   "cell_type": "code",
   "execution_count": 103,
   "id": "9271a0fa-390f-4d5c-a0f9-6794c8b777c4",
   "metadata": {},
   "outputs": [
    {
     "data": {
      "text/plain": [
       "86519.4749243413"
      ]
     },
     "execution_count": 103,
     "metadata": {},
     "output_type": "execute_result"
    }
   ],
   "source": [
    "metrics.mean_squared_error(y_test, prediction)"
   ]
  },
  {
   "cell_type": "code",
   "execution_count": 104,
   "id": "bdf9e040-8d25-485e-802d-e11672a6e00f",
   "metadata": {},
   "outputs": [
    {
     "data": {
      "text/plain": [
       "294.14192989837625"
      ]
     },
     "execution_count": 104,
     "metadata": {},
     "output_type": "execute_result"
    }
   ],
   "source": [
    "np.sqrt(metrics.mean_squared_error(y_test, prediction))"
   ]
  },
  {
   "cell_type": "code",
   "execution_count": 105,
   "id": "9919a109-78be-4e93-a9be-4ef61798ab53",
   "metadata": {},
   "outputs": [
    {
     "data": {
      "text/plain": [
       "13.617887454514777"
      ]
     },
     "execution_count": 105,
     "metadata": {},
     "output_type": "execute_result"
    }
   ],
   "source": [
    "residuals = y_test - prediction\n",
    "np.abs(residuals).mean()"
   ]
  },
  {
   "cell_type": "markdown",
   "id": "9e7180c0-583e-41ba-a9eb-2c62f6170bc8",
   "metadata": {},
   "source": [
    "This model is definitly better than the linear regression model"
   ]
  },
  {
   "cell_type": "code",
   "execution_count": null,
   "id": "3e3bcb6c-9a13-4d34-9bb2-c9fdaedf58b0",
   "metadata": {},
   "outputs": [],
   "source": []
  }
 ],
 "metadata": {
  "kernelspec": {
   "display_name": "Python 3 (ipykernel)",
   "language": "python",
   "name": "python3"
  },
  "language_info": {
   "codemirror_mode": {
    "name": "ipython",
    "version": 3
   },
   "file_extension": ".py",
   "mimetype": "text/x-python",
   "name": "python",
   "nbconvert_exporter": "python",
   "pygments_lexer": "ipython3",
   "version": "3.9.7"
  }
 },
 "nbformat": 4,
 "nbformat_minor": 5
}
