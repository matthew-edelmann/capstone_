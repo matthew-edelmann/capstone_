{
 "cells": [
  {
   "cell_type": "code",
   "execution_count": 1,
   "id": "16588231-fceb-4e2d-b18c-42d1d24d9465",
   "metadata": {},
   "outputs": [],
   "source": [
    "import numpy as np\n",
    "import pandas as pd\n",
    "import seaborn as sns\n",
    "import matplotlib.pyplot as plt\n",
    "from sklearn.model_selection import train_test_split, cross_val_score\n",
    "from sklearn.linear_model import LinearRegression\n",
    "from sklearn.tree import DecisionTreeRegressor\n",
    "from sklearn.preprocessing import StandardScaler, PolynomialFeatures\n",
    "from sklearn.ensemble import BaggingRegressor, RandomForestRegressor, ExtraTreesRegressor\n",
    "from sklearn import metrics\n",
    "import pickle"
   ]
  },
  {
   "cell_type": "code",
   "execution_count": 2,
   "id": "2f4fc3ed-e403-4a93-a1a6-87656d675885",
   "metadata": {},
   "outputs": [
    {
     "data": {
      "text/html": [
       "<div>\n",
       "<style scoped>\n",
       "    .dataframe tbody tr th:only-of-type {\n",
       "        vertical-align: middle;\n",
       "    }\n",
       "\n",
       "    .dataframe tbody tr th {\n",
       "        vertical-align: top;\n",
       "    }\n",
       "\n",
       "    .dataframe thead th {\n",
       "        text-align: right;\n",
       "    }\n",
       "</style>\n",
       "<table border=\"1\" class=\"dataframe\">\n",
       "  <thead>\n",
       "    <tr style=\"text-align: right;\">\n",
       "      <th></th>\n",
       "      <th>id</th>\n",
       "      <th>date</th>\n",
       "      <th>available</th>\n",
       "      <th>price</th>\n",
       "      <th>minimum_nights</th>\n",
       "      <th>maximum_nights</th>\n",
       "      <th>host_id</th>\n",
       "      <th>host_response_time</th>\n",
       "      <th>host_is_superhost</th>\n",
       "      <th>host_listings_count</th>\n",
       "      <th>...</th>\n",
       "      <th>review_scores_accuracy</th>\n",
       "      <th>review_scores_cleanliness</th>\n",
       "      <th>review_scores_checkin</th>\n",
       "      <th>review_scores_communication</th>\n",
       "      <th>review_scores_location</th>\n",
       "      <th>review_scores_value</th>\n",
       "      <th>instant_bookable</th>\n",
       "      <th>calculated_host_listings_count</th>\n",
       "      <th>review</th>\n",
       "      <th>month</th>\n",
       "    </tr>\n",
       "  </thead>\n",
       "  <tbody>\n",
       "    <tr>\n",
       "      <th>0</th>\n",
       "      <td>2595</td>\n",
       "      <td>2022-06-04</td>\n",
       "      <td>0</td>\n",
       "      <td>225.0</td>\n",
       "      <td>30</td>\n",
       "      <td>1125</td>\n",
       "      <td>2845.0</td>\n",
       "      <td>a few days or more</td>\n",
       "      <td>0.0</td>\n",
       "      <td>6.0</td>\n",
       "      <td>...</td>\n",
       "      <td>4.72</td>\n",
       "      <td>4.62</td>\n",
       "      <td>4.76</td>\n",
       "      <td>4.79</td>\n",
       "      <td>4.86</td>\n",
       "      <td>4.41</td>\n",
       "      <td>0.0</td>\n",
       "      <td>3.0</td>\n",
       "      <td>0        11/21/2009\\n1         5/28/2009\\n2   ...</td>\n",
       "      <td>Jun</td>\n",
       "    </tr>\n",
       "    <tr>\n",
       "      <th>1</th>\n",
       "      <td>2595</td>\n",
       "      <td>2022-06-05</td>\n",
       "      <td>0</td>\n",
       "      <td>225.0</td>\n",
       "      <td>30</td>\n",
       "      <td>1125</td>\n",
       "      <td>2845.0</td>\n",
       "      <td>a few days or more</td>\n",
       "      <td>0.0</td>\n",
       "      <td>6.0</td>\n",
       "      <td>...</td>\n",
       "      <td>4.72</td>\n",
       "      <td>4.62</td>\n",
       "      <td>4.76</td>\n",
       "      <td>4.79</td>\n",
       "      <td>4.86</td>\n",
       "      <td>4.41</td>\n",
       "      <td>0.0</td>\n",
       "      <td>3.0</td>\n",
       "      <td>0        11/21/2009\\n1         5/28/2009\\n2   ...</td>\n",
       "      <td>Jun</td>\n",
       "    </tr>\n",
       "    <tr>\n",
       "      <th>2</th>\n",
       "      <td>2595</td>\n",
       "      <td>2022-06-06</td>\n",
       "      <td>0</td>\n",
       "      <td>225.0</td>\n",
       "      <td>30</td>\n",
       "      <td>1125</td>\n",
       "      <td>2845.0</td>\n",
       "      <td>a few days or more</td>\n",
       "      <td>0.0</td>\n",
       "      <td>6.0</td>\n",
       "      <td>...</td>\n",
       "      <td>4.72</td>\n",
       "      <td>4.62</td>\n",
       "      <td>4.76</td>\n",
       "      <td>4.79</td>\n",
       "      <td>4.86</td>\n",
       "      <td>4.41</td>\n",
       "      <td>0.0</td>\n",
       "      <td>3.0</td>\n",
       "      <td>0        11/21/2009\\n1         5/28/2009\\n2   ...</td>\n",
       "      <td>Jun</td>\n",
       "    </tr>\n",
       "    <tr>\n",
       "      <th>3</th>\n",
       "      <td>2595</td>\n",
       "      <td>2022-06-07</td>\n",
       "      <td>0</td>\n",
       "      <td>225.0</td>\n",
       "      <td>30</td>\n",
       "      <td>1125</td>\n",
       "      <td>2845.0</td>\n",
       "      <td>a few days or more</td>\n",
       "      <td>0.0</td>\n",
       "      <td>6.0</td>\n",
       "      <td>...</td>\n",
       "      <td>4.72</td>\n",
       "      <td>4.62</td>\n",
       "      <td>4.76</td>\n",
       "      <td>4.79</td>\n",
       "      <td>4.86</td>\n",
       "      <td>4.41</td>\n",
       "      <td>0.0</td>\n",
       "      <td>3.0</td>\n",
       "      <td>0        11/21/2009\\n1         5/28/2009\\n2   ...</td>\n",
       "      <td>Jun</td>\n",
       "    </tr>\n",
       "    <tr>\n",
       "      <th>4</th>\n",
       "      <td>2595</td>\n",
       "      <td>2022-06-08</td>\n",
       "      <td>0</td>\n",
       "      <td>225.0</td>\n",
       "      <td>30</td>\n",
       "      <td>1125</td>\n",
       "      <td>2845.0</td>\n",
       "      <td>a few days or more</td>\n",
       "      <td>0.0</td>\n",
       "      <td>6.0</td>\n",
       "      <td>...</td>\n",
       "      <td>4.72</td>\n",
       "      <td>4.62</td>\n",
       "      <td>4.76</td>\n",
       "      <td>4.79</td>\n",
       "      <td>4.86</td>\n",
       "      <td>4.41</td>\n",
       "      <td>0.0</td>\n",
       "      <td>3.0</td>\n",
       "      <td>0        11/21/2009\\n1         5/28/2009\\n2   ...</td>\n",
       "      <td>Jun</td>\n",
       "    </tr>\n",
       "  </tbody>\n",
       "</table>\n",
       "<p>5 rows × 36 columns</p>\n",
       "</div>"
      ],
      "text/plain": [
       "     id       date  available  price  minimum_nights  maximum_nights  host_id  \\\n",
       "0  2595 2022-06-04          0  225.0              30            1125   2845.0   \n",
       "1  2595 2022-06-05          0  225.0              30            1125   2845.0   \n",
       "2  2595 2022-06-06          0  225.0              30            1125   2845.0   \n",
       "3  2595 2022-06-07          0  225.0              30            1125   2845.0   \n",
       "4  2595 2022-06-08          0  225.0              30            1125   2845.0   \n",
       "\n",
       "   host_response_time  host_is_superhost  host_listings_count  ...  \\\n",
       "0  a few days or more                0.0                  6.0  ...   \n",
       "1  a few days or more                0.0                  6.0  ...   \n",
       "2  a few days or more                0.0                  6.0  ...   \n",
       "3  a few days or more                0.0                  6.0  ...   \n",
       "4  a few days or more                0.0                  6.0  ...   \n",
       "\n",
       "  review_scores_accuracy  review_scores_cleanliness  review_scores_checkin  \\\n",
       "0                   4.72                       4.62                   4.76   \n",
       "1                   4.72                       4.62                   4.76   \n",
       "2                   4.72                       4.62                   4.76   \n",
       "3                   4.72                       4.62                   4.76   \n",
       "4                   4.72                       4.62                   4.76   \n",
       "\n",
       "  review_scores_communication review_scores_location  review_scores_value  \\\n",
       "0                        4.79                   4.86                 4.41   \n",
       "1                        4.79                   4.86                 4.41   \n",
       "2                        4.79                   4.86                 4.41   \n",
       "3                        4.79                   4.86                 4.41   \n",
       "4                        4.79                   4.86                 4.41   \n",
       "\n",
       "   instant_bookable calculated_host_listings_count  \\\n",
       "0               0.0                            3.0   \n",
       "1               0.0                            3.0   \n",
       "2               0.0                            3.0   \n",
       "3               0.0                            3.0   \n",
       "4               0.0                            3.0   \n",
       "\n",
       "                                              review  month  \n",
       "0  0        11/21/2009\\n1         5/28/2009\\n2   ...    Jun  \n",
       "1  0        11/21/2009\\n1         5/28/2009\\n2   ...    Jun  \n",
       "2  0        11/21/2009\\n1         5/28/2009\\n2   ...    Jun  \n",
       "3  0        11/21/2009\\n1         5/28/2009\\n2   ...    Jun  \n",
       "4  0        11/21/2009\\n1         5/28/2009\\n2   ...    Jun  \n",
       "\n",
       "[5 rows x 36 columns]"
      ]
     },
     "execution_count": 2,
     "metadata": {},
     "output_type": "execute_result"
    }
   ],
   "source": [
    "df_full = pd.read_hdf('data/df_full.h5')\n",
    "df_full.head()"
   ]
  },
  {
   "cell_type": "code",
   "execution_count": 3,
   "id": "a69307a3-ce78-4895-b57e-3a61bdaae716",
   "metadata": {},
   "outputs": [
    {
     "data": {
      "text/plain": [
       "(1036165, 36)"
      ]
     },
     "execution_count": 3,
     "metadata": {},
     "output_type": "execute_result"
    }
   ],
   "source": [
    "df_full.shape"
   ]
  },
  {
   "cell_type": "code",
   "execution_count": 4,
   "id": "2c2bbb35-c4ee-4ed2-82e2-bf83e69049fb",
   "metadata": {},
   "outputs": [
    {
     "data": {
      "text/plain": [
       "(469320, 36)"
      ]
     },
     "execution_count": 4,
     "metadata": {},
     "output_type": "execute_result"
    }
   ],
   "source": [
    "Manhattan = df_full.copy()\n",
    "Manhattan = Manhattan[Manhattan['neighbourhood_group_cleansed'] == 'Manhattan']\n",
    "Manhattan.shape"
   ]
  },
  {
   "cell_type": "markdown",
   "id": "e4296d21-4792-40db-b9f0-49e341dd3b0e",
   "metadata": {},
   "source": [
    "We will first make a baseline:"
   ]
  },
  {
   "cell_type": "code",
   "execution_count": 5,
   "id": "ab588b52-befd-4a3e-9e8b-e122cc0cbd45",
   "metadata": {},
   "outputs": [
    {
     "name": "stdout",
     "output_type": "stream",
     "text": [
      "150.0\n"
     ]
    },
    {
     "data": {
      "text/plain": [
       "0    150.0\n",
       "1    150.0\n",
       "2    150.0\n",
       "3    150.0\n",
       "4    150.0\n",
       "Name: price, dtype: float64"
      ]
     },
     "execution_count": 5,
     "metadata": {},
     "output_type": "execute_result"
    }
   ],
   "source": [
    "pred = Manhattan['price']\n",
    "m = pred.median()\n",
    "print(m)\n",
    "pred = pred.map(lambda x: m)\n",
    "pred.head()"
   ]
  },
  {
   "cell_type": "code",
   "execution_count": 6,
   "id": "f6c229f8-8672-4a3b-a33c-44bc4c1881ba",
   "metadata": {},
   "outputs": [
    {
     "data": {
      "text/plain": [
       "293408.1920075854"
      ]
     },
     "execution_count": 6,
     "metadata": {},
     "output_type": "execute_result"
    }
   ],
   "source": [
    "metrics.mean_squared_error(Manhattan['price'], pred)"
   ]
  },
  {
   "cell_type": "code",
   "execution_count": 7,
   "id": "85f161af-f1e6-4b4b-8ed5-1aff7a35acc0",
   "metadata": {},
   "outputs": [
    {
     "data": {
      "text/plain": [
       "541.6716643942024"
      ]
     },
     "execution_count": 7,
     "metadata": {},
     "output_type": "execute_result"
    }
   ],
   "source": [
    "np.sqrt(metrics.mean_squared_error(Manhattan['price'], pred))"
   ]
  },
  {
   "cell_type": "code",
   "execution_count": 8,
   "id": "ab7ffefd-ef63-44db-ba7d-e7780b87f7c0",
   "metadata": {},
   "outputs": [
    {
     "data": {
      "text/plain": [
       "126.11349825279127"
      ]
     },
     "execution_count": 8,
     "metadata": {},
     "output_type": "execute_result"
    }
   ],
   "source": [
    "residuals = Manhattan['price'] - pred\n",
    "np.abs(residuals).mean()"
   ]
  },
  {
   "cell_type": "markdown",
   "id": "d41e4cdf-a90f-4947-8ca8-f360aa4ea4a7",
   "metadata": {},
   "source": [
    "Next let's export the data"
   ]
  },
  {
   "cell_type": "code",
   "execution_count": 9,
   "id": "46516717-7e2d-4344-9653-64389992d648",
   "metadata": {},
   "outputs": [
    {
     "name": "stderr",
     "output_type": "stream",
     "text": [
      "C:\\Users\\matth\\anaconda3\\lib\\site-packages\\pandas\\core\\generic.py:2703: PerformanceWarning: \n",
      "your performance may suffer as PyTables will pickle object types that it cannot\n",
      "map directly to c-types [inferred_type->mixed,key->block3_values] [items->Index(['host_response_time', 'host_verifications', 'neighbourhood_cleansed',\n",
      "       'neighbourhood_group_cleansed', 'property_type', 'room_type',\n",
      "       'amenities', 'review_scores_rating', 'review_scores_accuracy',\n",
      "       'review_scores_cleanliness', 'review_scores_checkin',\n",
      "       'review_scores_communication', 'review_scores_location',\n",
      "       'review_scores_value', 'review', 'month'],\n",
      "      dtype='object')]\n",
      "\n",
      "  pytables.to_hdf(\n"
     ]
    }
   ],
   "source": [
    "Manhattan.to_hdf(r'data/Manhattan.h5', key='stage', mode='w') #run twice"
   ]
  },
  {
   "cell_type": "markdown",
   "id": "038abb9b-1366-4228-9022-228f98c806eb",
   "metadata": {},
   "source": [
    "As we saw in the EDA section, we should make dummies of host_response_time and room_type\n"
   ]
  },
  {
   "cell_type": "code",
   "execution_count": 10,
   "id": "d1fa1d53-e553-4325-ac2f-b9816bf049e0",
   "metadata": {},
   "outputs": [],
   "source": [
    "Manhattan_dummies = pd.get_dummies(Manhattan, columns=['host_response_time', 'room_type'])"
   ]
  },
  {
   "cell_type": "code",
   "execution_count": 11,
   "id": "6442ccc6-e822-4cf0-91bc-b73757641776",
   "metadata": {},
   "outputs": [
    {
     "data": {
      "text/plain": [
       "room_type_Private room                  -0.128061\n",
       "longitude                               -0.107898\n",
       "latitude                                -0.096309\n",
       "has_availability                        -0.076666\n",
       "number_of_reviews                       -0.054570\n",
       "host_response_time_within a day         -0.041290\n",
       "host_identity_verified                  -0.034939\n",
       "host_is_superhost                       -0.019604\n",
       "calculated_host_listings_count          -0.016046\n",
       "host_response_time_within an hour       -0.014874\n",
       "instant_bookable                        -0.012008\n",
       "host_response_time_within a few hours   -0.008531\n",
       "host_id                                  0.000784\n",
       "host_has_profile_pic                     0.001274\n",
       "id                                       0.001468\n",
       "room_type_Shared room                    0.003272\n",
       "host_listings_count                      0.004914\n",
       "available                                0.015329\n",
       "availability_365                         0.018623\n",
       "host_response_time_unknown               0.026754\n",
       "minimum_nights                           0.037256\n",
       "maximum_nights                           0.054382\n",
       "host_response_time_a few days or more    0.058663\n",
       "room_type_Entire home/apt                0.126013\n",
       "beds                                     0.241772\n",
       "accommodates                             0.258995\n",
       "price                                    1.000000\n",
       "Name: price, dtype: float64"
      ]
     },
     "execution_count": 11,
     "metadata": {},
     "output_type": "execute_result"
    }
   ],
   "source": [
    "Manhattan_dummies.corr()['price'].sort_values()"
   ]
  },
  {
   "cell_type": "markdown",
   "id": "35244ad4-8494-477b-9d09-fe93a9e5c373",
   "metadata": {},
   "source": [
    "Let's create a model. I'll keep adding features until the model doesn't get better. (Note: I did not save all of them what you are seeing is the best model)"
   ]
  },
  {
   "cell_type": "code",
   "execution_count": 12,
   "id": "2a3d111d-d34b-46aa-b0b5-8ae804d97ca1",
   "metadata": {},
   "outputs": [],
   "source": [
    "def tts_borough(df, xvars, dge):\n",
    "    X = df[xvars]\n",
    "    y = df['price']\n",
    "    poly = PolynomialFeatures(include_bias = False, degree = dge)\n",
    "    X_poly = poly.fit_transform(X)\n",
    "    X_train, X_test, y_train, y_test = train_test_split(X_poly, y, random_state=42)\n",
    "    return X_train, X_test, y_train, y_test"
   ]
  },
  {
   "cell_type": "code",
   "execution_count": 13,
   "id": "52f99b29-48a0-4182-bc7a-d15c387b544f",
   "metadata": {},
   "outputs": [],
   "source": [
    "xvars = ['accommodates', 'beds', 'room_type_Private room', 'room_type_Entire home/apt', 'longitude', 'latitude', 'has_availability']\n",
    "X_train, X_test, y_train, y_test = tts_borough(Manhattan_dummies, xvars, 2)"
   ]
  },
  {
   "cell_type": "markdown",
   "id": "253200c4-8c2f-4961-9ff5-9e9986718827",
   "metadata": {},
   "source": [
    "Let's make a linear regression model\n"
   ]
  },
  {
   "cell_type": "code",
   "execution_count": 14,
   "id": "97984e88-64f0-4a5a-b802-dfe02e9e135d",
   "metadata": {},
   "outputs": [],
   "source": [
    "lr = LinearRegression()"
   ]
  },
  {
   "cell_type": "code",
   "execution_count": 15,
   "id": "cc69f2af-4f7e-4f8d-8b42-f675555ea1fe",
   "metadata": {},
   "outputs": [
    {
     "data": {
      "text/plain": [
       "0.14992254254323414"
      ]
     },
     "execution_count": 15,
     "metadata": {},
     "output_type": "execute_result"
    }
   ],
   "source": [
    "cross_val_score(lr, X_train, y_train, cv = 5).mean()"
   ]
  },
  {
   "cell_type": "code",
   "execution_count": 16,
   "id": "a29e9577-1ccf-477e-9e81-b8a5d7a2f6b0",
   "metadata": {},
   "outputs": [
    {
     "data": {
      "text/plain": [
       "LinearRegression()"
      ]
     },
     "execution_count": 16,
     "metadata": {},
     "output_type": "execute_result"
    }
   ],
   "source": [
    "lr.fit(X_train, y_train)"
   ]
  },
  {
   "cell_type": "code",
   "execution_count": 17,
   "id": "12fe0e1a-92f7-42fa-b98a-c2844aad09a2",
   "metadata": {},
   "outputs": [],
   "source": [
    "prediction = lr.predict(X_test)"
   ]
  },
  {
   "cell_type": "markdown",
   "id": "f6f0215a-43ac-409f-989e-301b4605fed2",
   "metadata": {},
   "source": [
    "The function is\n"
   ]
  },
  {
   "cell_type": "code",
   "execution_count": 18,
   "id": "d757a798-aa1f-4518-b5ee-2ab83c7252b0",
   "metadata": {},
   "outputs": [
    {
     "name": "stdout",
     "output_type": "stream",
     "text": [
      "Model intercept: -531306042.6143767\n",
      "Model coefficient values: [-1.01403997e+05  1.74468510e+05  1.10669162e+04  6.41183001e+04\n",
      " -1.17780751e+07  4.69007473e+06 -5.17404389e+04  2.98247609e+00\n",
      " -4.54046484e+00 -1.33172658e+02 -8.63614122e+01 -1.27509522e+03\n",
      "  1.75022759e+02  9.74183237e+01  5.66306659e+00  1.85526142e+02\n",
      "  1.43533249e+02  1.68401727e+03 -1.22127733e+03 -2.83689769e+02\n",
      "  1.10669163e+04  1.55542511e-06  4.22198899e+02  2.21003791e+02\n",
      "  1.46667907e+02  6.41183005e+04  1.46014147e+03 -4.96444605e+02\n",
      "  6.02715899e+01 -6.91263456e+04  3.80068200e+04 -7.46493526e+02\n",
      " -2.30322881e+04  1.18339523e+03 -5.17404389e+04]\n"
     ]
    }
   ],
   "source": [
    "print(f'Model intercept: {lr.intercept_}')\n",
    "print(f'Model coefficient values: {lr.coef_}')"
   ]
  },
  {
   "cell_type": "markdown",
   "id": "bef43d08-321d-4752-b993-7329d58f3424",
   "metadata": {},
   "source": [
    "The R^2 value is"
   ]
  },
  {
   "cell_type": "code",
   "execution_count": 19,
   "id": "a757499c-ee69-4e3c-abc6-53c221c740ff",
   "metadata": {},
   "outputs": [
    {
     "name": "stdout",
     "output_type": "stream",
     "text": [
      "Training R2: 0.141631773839774\n",
      "Testing R2: 0.19491185140151768\n"
     ]
    }
   ],
   "source": [
    "print(f'Training R2: {lr.score(X_train, y_train)}')\n",
    "print(f'Testing R2: {lr.score(X_test, y_test)}')"
   ]
  },
  {
   "cell_type": "markdown",
   "id": "9b2ca0de-4748-4bab-9e96-81e009e015a0",
   "metadata": {},
   "source": [
    "The mean squared error is\n"
   ]
  },
  {
   "cell_type": "code",
   "execution_count": 20,
   "id": "7299fc8c-1710-4cd3-a922-6887c308e512",
   "metadata": {},
   "outputs": [
    {
     "data": {
      "text/plain": [
       "175396.3974895145"
      ]
     },
     "execution_count": 20,
     "metadata": {},
     "output_type": "execute_result"
    }
   ],
   "source": [
    "metrics.mean_squared_error(y_test, prediction)"
   ]
  },
  {
   "cell_type": "markdown",
   "id": "c68b6817-1aac-4947-9600-b1f859ed81f5",
   "metadata": {},
   "source": [
    "And the root mean squered error is\n"
   ]
  },
  {
   "cell_type": "code",
   "execution_count": 21,
   "id": "0e59ddbc-9cf0-4ca9-aec1-6356880a41bd",
   "metadata": {},
   "outputs": [
    {
     "data": {
      "text/plain": [
       "418.803530894278"
      ]
     },
     "execution_count": 21,
     "metadata": {},
     "output_type": "execute_result"
    }
   ],
   "source": [
    "np.sqrt(metrics.mean_squared_error(y_test, prediction))"
   ]
  },
  {
   "cell_type": "markdown",
   "id": "1fbd7048-84ef-4442-b2ce-bf651e53de25",
   "metadata": {},
   "source": [
    "How about the mean of residuals\n"
   ]
  },
  {
   "cell_type": "code",
   "execution_count": 22,
   "id": "9bcd8ffb-bc8a-4d26-b4a4-58a1ed8ce593",
   "metadata": {},
   "outputs": [
    {
     "data": {
      "text/plain": [
       "117.34281586432186"
      ]
     },
     "execution_count": 22,
     "metadata": {},
     "output_type": "execute_result"
    }
   ],
   "source": [
    "residuals = y_test - prediction\n",
    "np.abs(residuals).mean()"
   ]
  },
  {
   "cell_type": "markdown",
   "id": "ea2e8ab3-3b9c-4dd1-8d7f-ab645b362a0f",
   "metadata": {},
   "source": [
    "This model isn't very good. There error is high and doesn't count for much of the data. Let's try the decision tree regressor model"
   ]
  },
  {
   "cell_type": "code",
   "execution_count": 23,
   "id": "334032af-55f8-4b90-a58b-fc77485d297f",
   "metadata": {},
   "outputs": [
    {
     "data": {
      "text/plain": [
       "room_type_Private room                  -0.128061\n",
       "longitude                               -0.107898\n",
       "latitude                                -0.096309\n",
       "has_availability                        -0.076666\n",
       "number_of_reviews                       -0.054570\n",
       "host_response_time_within a day         -0.041290\n",
       "host_identity_verified                  -0.034939\n",
       "host_is_superhost                       -0.019604\n",
       "calculated_host_listings_count          -0.016046\n",
       "host_response_time_within an hour       -0.014874\n",
       "instant_bookable                        -0.012008\n",
       "host_response_time_within a few hours   -0.008531\n",
       "host_id                                  0.000784\n",
       "host_has_profile_pic                     0.001274\n",
       "id                                       0.001468\n",
       "room_type_Shared room                    0.003272\n",
       "host_listings_count                      0.004914\n",
       "available                                0.015329\n",
       "availability_365                         0.018623\n",
       "host_response_time_unknown               0.026754\n",
       "minimum_nights                           0.037256\n",
       "maximum_nights                           0.054382\n",
       "host_response_time_a few days or more    0.058663\n",
       "room_type_Entire home/apt                0.126013\n",
       "beds                                     0.241772\n",
       "accommodates                             0.258995\n",
       "price                                    1.000000\n",
       "Name: price, dtype: float64"
      ]
     },
     "execution_count": 23,
     "metadata": {},
     "output_type": "execute_result"
    }
   ],
   "source": [
    "Manhattan_dummies.corr()['price'].sort_values()"
   ]
  },
  {
   "cell_type": "markdown",
   "id": "b47d5c1a-a1b7-4151-8508-11b75d1c9218",
   "metadata": {},
   "source": [
    "Again, I did not save all of them what you are seeing is the best model\n"
   ]
  },
  {
   "cell_type": "code",
   "execution_count": 24,
   "id": "a8b8e7fb-9ebd-47d9-8c91-fd98de13f1c8",
   "metadata": {},
   "outputs": [],
   "source": [
    "xvars = ['accommodates', 'beds', 'room_type_Private room', 'room_type_Entire home/apt', 'longitude', 'latitude']\n",
    "X = Manhattan_dummies[xvars]\n",
    "y = Manhattan_dummies['price']\n",
    "X_train, X_test, y_train, y_test = train_test_split(X, y, random_state=42)"
   ]
  },
  {
   "cell_type": "code",
   "execution_count": 25,
   "id": "53e4effa-3dbc-431f-bee6-417c6299205d",
   "metadata": {},
   "outputs": [],
   "source": [
    "#I tweeked this until I got the best result\n",
    "dt = DecisionTreeRegressor(random_state=42, max_depth=35, min_samples_split=2, min_samples_leaf=2)"
   ]
  },
  {
   "cell_type": "code",
   "execution_count": 26,
   "id": "bc5b1cac-3518-4308-8f9f-4d5b87ab9d93",
   "metadata": {},
   "outputs": [
    {
     "data": {
      "text/plain": [
       "DecisionTreeRegressor(max_depth=35, min_samples_leaf=2, random_state=42)"
      ]
     },
     "execution_count": 26,
     "metadata": {},
     "output_type": "execute_result"
    }
   ],
   "source": [
    "dt.fit(X_train, y_train)"
   ]
  },
  {
   "cell_type": "code",
   "execution_count": 27,
   "id": "fce9d88f-4745-4072-8555-8dd6530c8953",
   "metadata": {},
   "outputs": [],
   "source": [
    "prediction = dt.predict(X_test)"
   ]
  },
  {
   "cell_type": "code",
   "execution_count": 28,
   "id": "b528eb37-722a-4296-950a-434c413d75c9",
   "metadata": {},
   "outputs": [
    {
     "name": "stdout",
     "output_type": "stream",
     "text": [
      "Score on training set: 0.47327498499947585\n",
      "Score on testing set: 0.6028663936001599\n"
     ]
    }
   ],
   "source": [
    "print(f'Score on training set: {dt.score(X_train, y_train)}')\n",
    "print(f'Score on testing set: {dt.score(X_test, y_test)}')"
   ]
  },
  {
   "cell_type": "code",
   "execution_count": 29,
   "id": "2fd0f4a3-e3be-4067-aaf7-d2838da51df5",
   "metadata": {},
   "outputs": [
    {
     "data": {
      "text/plain": [
       "86519.4749243413"
      ]
     },
     "execution_count": 29,
     "metadata": {},
     "output_type": "execute_result"
    }
   ],
   "source": [
    "metrics.mean_squared_error(y_test, prediction)"
   ]
  },
  {
   "cell_type": "code",
   "execution_count": 30,
   "id": "d985a70d-b32b-4559-9502-acfff6b6733a",
   "metadata": {},
   "outputs": [
    {
     "data": {
      "text/plain": [
       "294.14192989837625"
      ]
     },
     "execution_count": 30,
     "metadata": {},
     "output_type": "execute_result"
    }
   ],
   "source": [
    "np.sqrt(metrics.mean_squared_error(y_test, prediction))"
   ]
  },
  {
   "cell_type": "code",
   "execution_count": 31,
   "id": "9acec3cd-9e1e-40a6-9fc9-9e50fa5e1ac6",
   "metadata": {},
   "outputs": [
    {
     "data": {
      "text/plain": [
       "13.617887454514777"
      ]
     },
     "execution_count": 31,
     "metadata": {},
     "output_type": "execute_result"
    }
   ],
   "source": [
    "residuals = y_test - prediction\n",
    "np.abs(residuals).mean()"
   ]
  },
  {
   "cell_type": "markdown",
   "id": "ffbd5acd-23a0-43dc-8dad-038536a7d862",
   "metadata": {},
   "source": [
    "This model is definitly better than the linear regression model. However, it is somewhat underfit.\n",
    "\n",
    "Let's try bagging it\n"
   ]
  },
  {
   "cell_type": "code",
   "execution_count": 32,
   "id": "743a5955-e8cc-40f0-a7ca-59e3f680089a",
   "metadata": {},
   "outputs": [],
   "source": [
    "xvars = ['accommodates', 'beds', 'room_type_Private room', 'room_type_Entire home/apt', 'longitude', 'latitude']\n",
    "X = Manhattan_dummies[xvars]\n",
    "y = Manhattan_dummies['price']\n",
    "X_train, X_test, y_train, y_test = train_test_split(X, y, random_state=42)"
   ]
  },
  {
   "cell_type": "code",
   "execution_count": 33,
   "id": "2a3ed78f-079b-4ba8-a51d-01906e10dbd1",
   "metadata": {},
   "outputs": [
    {
     "data": {
      "text/plain": [
       "BaggingRegressor(random_state=42)"
      ]
     },
     "execution_count": 33,
     "metadata": {},
     "output_type": "execute_result"
    }
   ],
   "source": [
    "#From lesson 6.02\n",
    "bag = BaggingRegressor(random_state = 42)\n",
    "bag.fit(X_train, y_train)"
   ]
  },
  {
   "cell_type": "code",
   "execution_count": 34,
   "id": "4fabaf1d-f8a2-43e6-ab7e-e37681954c86",
   "metadata": {},
   "outputs": [],
   "source": [
    "prediction = bag.predict(X_test)"
   ]
  },
  {
   "cell_type": "code",
   "execution_count": 35,
   "id": "c34dbb56-6ea7-426d-bb29-7b22caf85bf4",
   "metadata": {},
   "outputs": [
    {
     "name": "stdout",
     "output_type": "stream",
     "text": [
      "Score on training set: 0.47280214893033623\n",
      "Score on testing set: 0.595230603765355\n"
     ]
    }
   ],
   "source": [
    "print(f'Score on training set: {bag.score(X_train, y_train)}')\n",
    "print(f'Score on testing set: {bag.score(X_test, y_test)}')"
   ]
  },
  {
   "cell_type": "code",
   "execution_count": 36,
   "id": "88e39164-a80f-43ad-8934-1401a11c1df7",
   "metadata": {},
   "outputs": [
    {
     "data": {
      "text/plain": [
       "88183.00708705328"
      ]
     },
     "execution_count": 36,
     "metadata": {},
     "output_type": "execute_result"
    }
   ],
   "source": [
    "metrics.mean_squared_error(y_test, prediction)"
   ]
  },
  {
   "cell_type": "code",
   "execution_count": 37,
   "id": "76a275e9-cbb3-4a5c-9927-3f5a047800d0",
   "metadata": {},
   "outputs": [
    {
     "data": {
      "text/plain": [
       "296.9562376631501"
      ]
     },
     "execution_count": 37,
     "metadata": {},
     "output_type": "execute_result"
    }
   ],
   "source": [
    "np.sqrt(metrics.mean_squared_error(y_test, prediction))"
   ]
  },
  {
   "cell_type": "code",
   "execution_count": 38,
   "id": "f4fc4810-3b35-4208-9972-2ef0edfc74fd",
   "metadata": {},
   "outputs": [
    {
     "data": {
      "text/plain": [
       "13.903125737731443"
      ]
     },
     "execution_count": 38,
     "metadata": {},
     "output_type": "execute_result"
    }
   ],
   "source": [
    "residuals = y_test - prediction\n",
    "np.abs(residuals).mean()"
   ]
  },
  {
   "cell_type": "markdown",
   "id": "c0a5bc3b-8faa-4db3-93ae-75dd5cbaf8ee",
   "metadata": {},
   "source": [
    "Not an improvement.\n",
    "\n",
    "Let's try a randomforest and an extratrees regressor\n"
   ]
  },
  {
   "cell_type": "code",
   "execution_count": 39,
   "id": "4dcea912-0883-4248-bd37-1e75f29ef37f",
   "metadata": {},
   "outputs": [],
   "source": [
    "xvars = ['accommodates', 'beds', 'room_type_Private room', 'room_type_Entire home/apt', 'longitude', 'latitude']\n",
    "X = Manhattan_dummies[xvars]\n",
    "y = Manhattan_dummies['price']\n",
    "X_train, X_test, y_train, y_test = train_test_split(X, y, random_state=42)"
   ]
  },
  {
   "cell_type": "code",
   "execution_count": 40,
   "id": "7e3e23da-cef0-45b7-a754-abdbc90f7a77",
   "metadata": {},
   "outputs": [],
   "source": [
    "rf = RandomForestRegressor(n_estimators = 100)"
   ]
  },
  {
   "cell_type": "code",
   "execution_count": 41,
   "id": "541cce79-a866-48f3-b755-cc613b71f47d",
   "metadata": {},
   "outputs": [
    {
     "data": {
      "text/plain": [
       "RandomForestRegressor()"
      ]
     },
     "execution_count": 41,
     "metadata": {},
     "output_type": "execute_result"
    }
   ],
   "source": [
    "rf.fit(X_train,y_train)"
   ]
  },
  {
   "cell_type": "code",
   "execution_count": 42,
   "id": "5a5e08c6-c4d5-4b57-9e99-669691420cf4",
   "metadata": {},
   "outputs": [],
   "source": [
    "prediction = rf.predict(X_test)"
   ]
  },
  {
   "cell_type": "code",
   "execution_count": 43,
   "id": "4560cbec-7f41-432b-b1b4-d7a461cd5474",
   "metadata": {},
   "outputs": [
    {
     "name": "stdout",
     "output_type": "stream",
     "text": [
      "Score on training set: 0.4732710850238875\n",
      "Score on testing set: 0.6033909604476098\n"
     ]
    }
   ],
   "source": [
    "print(f'Score on training set: {rf.score(X_train, y_train)}')\n",
    "print(f'Score on testing set: {rf.score(X_test, y_test)}')"
   ]
  },
  {
   "cell_type": "code",
   "execution_count": 44,
   "id": "be4641d2-d8c1-4a5e-a95a-d7291cd64213",
   "metadata": {},
   "outputs": [
    {
     "data": {
      "text/plain": [
       "86405.19286038929"
      ]
     },
     "execution_count": 44,
     "metadata": {},
     "output_type": "execute_result"
    }
   ],
   "source": [
    "metrics.mean_squared_error(y_test, prediction)"
   ]
  },
  {
   "cell_type": "code",
   "execution_count": 45,
   "id": "a2b5ee84-7b8b-4220-8558-b4c4060ec6f9",
   "metadata": {},
   "outputs": [
    {
     "data": {
      "text/plain": [
       "293.94760223616265"
      ]
     },
     "execution_count": 45,
     "metadata": {},
     "output_type": "execute_result"
    }
   ],
   "source": [
    "np.sqrt(metrics.mean_squared_error(y_test, prediction))"
   ]
  },
  {
   "cell_type": "code",
   "execution_count": 46,
   "id": "85e52c70-4725-4f4d-a578-0469eaa44358",
   "metadata": {},
   "outputs": [
    {
     "data": {
      "text/plain": [
       "13.603366390914191"
      ]
     },
     "execution_count": 46,
     "metadata": {},
     "output_type": "execute_result"
    }
   ],
   "source": [
    "residuals = y_test - prediction\n",
    "np.abs(residuals).mean()"
   ]
  },
  {
   "cell_type": "code",
   "execution_count": 47,
   "id": "e762393d-4cbc-4988-b2e4-f7d6c17d27d4",
   "metadata": {},
   "outputs": [],
   "source": [
    "#Extratrees\n",
    "xvars = ['accommodates', 'beds', 'room_type_Private room', 'room_type_Entire home/apt', 'longitude', 'latitude']\n",
    "X = Manhattan_dummies[xvars]\n",
    "y = Manhattan_dummies['price']\n",
    "X_train, X_test, y_train, y_test = train_test_split(X, y, random_state=42)"
   ]
  },
  {
   "cell_type": "code",
   "execution_count": 48,
   "id": "7ad1b449-2da7-4817-8876-6014ea83dac5",
   "metadata": {},
   "outputs": [],
   "source": [
    "et = ExtraTreesRegressor(n_estimators = 100)"
   ]
  },
  {
   "cell_type": "code",
   "execution_count": 49,
   "id": "08d12a53-bca8-44a7-bc38-8021942bc1b7",
   "metadata": {},
   "outputs": [
    {
     "data": {
      "text/plain": [
       "ExtraTreesRegressor()"
      ]
     },
     "execution_count": 49,
     "metadata": {},
     "output_type": "execute_result"
    }
   ],
   "source": [
    "et.fit(X_train, y_train)"
   ]
  },
  {
   "cell_type": "code",
   "execution_count": 50,
   "id": "b59b53f2-4c0a-44cf-b036-ecbcd156bce9",
   "metadata": {},
   "outputs": [],
   "source": [
    "prediction = et.predict(X_test)"
   ]
  },
  {
   "cell_type": "code",
   "execution_count": 51,
   "id": "42bfcbbd-e17f-4d90-a9bc-548d8ba6ebed",
   "metadata": {},
   "outputs": [
    {
     "name": "stdout",
     "output_type": "stream",
     "text": [
      "Score on training set: 0.47327498499947573\n",
      "Score on testing set: 0.6028663936001599\n"
     ]
    }
   ],
   "source": [
    "print(f'Score on training set: {et.score(X_train, y_train)}')\n",
    "print(f'Score on testing set: {et.score(X_test, y_test)}')"
   ]
  },
  {
   "cell_type": "code",
   "execution_count": 52,
   "id": "db1d0013-5646-42cc-aeb2-635ac1687d13",
   "metadata": {},
   "outputs": [
    {
     "data": {
      "text/plain": [
       "86519.4749243413"
      ]
     },
     "execution_count": 52,
     "metadata": {},
     "output_type": "execute_result"
    }
   ],
   "source": [
    "metrics.mean_squared_error(y_test, prediction)"
   ]
  },
  {
   "cell_type": "code",
   "execution_count": 53,
   "id": "b9d8a08b-d020-48ee-8d90-f04ff341ec35",
   "metadata": {},
   "outputs": [
    {
     "data": {
      "text/plain": [
       "294.14192989837625"
      ]
     },
     "execution_count": 53,
     "metadata": {},
     "output_type": "execute_result"
    }
   ],
   "source": [
    "np.sqrt(metrics.mean_squared_error(y_test, prediction))"
   ]
  },
  {
   "cell_type": "code",
   "execution_count": 54,
   "id": "9253f1b3-8737-460d-8e9a-eb7627acd4b6",
   "metadata": {},
   "outputs": [
    {
     "data": {
      "text/plain": [
       "13.617887454514777"
      ]
     },
     "execution_count": 54,
     "metadata": {},
     "output_type": "execute_result"
    }
   ],
   "source": [
    "residuals = y_test - prediction\n",
    "np.abs(residuals).mean()"
   ]
  },
  {
   "cell_type": "markdown",
   "id": "3e80922f-1b80-44ac-9d6d-5d4730287aaa",
   "metadata": {},
   "source": [
    "Bagging seems to be the best models. I will go with bagging for the streamlit app."
   ]
  },
  {
   "cell_type": "markdown",
   "id": "ad63c703-9370-451c-87a9-68489a0b6426",
   "metadata": {},
   "source": [
    "We will pickle this object to use for our streamlit app"
   ]
  },
  {
   "cell_type": "code",
   "execution_count": 56,
   "id": "1d74c42b-fb87-4641-b951-d7ad8c3a44d4",
   "metadata": {},
   "outputs": [],
   "source": [
    "with open('models/manhattan_pickle.pkl', 'wb') as f:\n",
    "    pickle.dump(bag, f)"
   ]
  }
 ],
 "metadata": {
  "kernelspec": {
   "display_name": "Python 3 (ipykernel)",
   "language": "python",
   "name": "python3"
  },
  "language_info": {
   "codemirror_mode": {
    "name": "ipython",
    "version": 3
   },
   "file_extension": ".py",
   "mimetype": "text/x-python",
   "name": "python",
   "nbconvert_exporter": "python",
   "pygments_lexer": "ipython3",
   "version": "3.9.7"
  }
 },
 "nbformat": 4,
 "nbformat_minor": 5
}
