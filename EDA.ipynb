{
 "cells": [
  {
   "cell_type": "code",
   "execution_count": 1,
   "id": "32f8075f-53cc-424b-8c1c-fccf199ce08c",
   "metadata": {},
   "outputs": [],
   "source": [
    "import numpy as np\n",
    "import pandas as pd\n",
    "import seaborn as sns\n",
    "import matplotlib.pyplot as plt"
   ]
  },
  {
   "cell_type": "code",
   "execution_count": 12,
   "id": "e9a007f5-173e-4cf5-8df5-4481bdfbf577",
   "metadata": {},
   "outputs": [
    {
     "data": {
      "text/html": [
       "<div>\n",
       "<style scoped>\n",
       "    .dataframe tbody tr th:only-of-type {\n",
       "        vertical-align: middle;\n",
       "    }\n",
       "\n",
       "    .dataframe tbody tr th {\n",
       "        vertical-align: top;\n",
       "    }\n",
       "\n",
       "    .dataframe thead th {\n",
       "        text-align: right;\n",
       "    }\n",
       "</style>\n",
       "<table border=\"1\" class=\"dataframe\">\n",
       "  <thead>\n",
       "    <tr style=\"text-align: right;\">\n",
       "      <th></th>\n",
       "      <th>id</th>\n",
       "      <th>date</th>\n",
       "      <th>available</th>\n",
       "      <th>price</th>\n",
       "      <th>minimum_nights</th>\n",
       "      <th>maximum_nights</th>\n",
       "      <th>host_id</th>\n",
       "      <th>host_response_time</th>\n",
       "      <th>host_is_superhost</th>\n",
       "      <th>host_listings_count</th>\n",
       "      <th>...</th>\n",
       "      <th>review_scores_accuracy</th>\n",
       "      <th>review_scores_cleanliness</th>\n",
       "      <th>review_scores_checkin</th>\n",
       "      <th>review_scores_communication</th>\n",
       "      <th>review_scores_location</th>\n",
       "      <th>review_scores_value</th>\n",
       "      <th>instant_bookable</th>\n",
       "      <th>calculated_host_listings_count</th>\n",
       "      <th>review</th>\n",
       "      <th>month</th>\n",
       "    </tr>\n",
       "  </thead>\n",
       "  <tbody>\n",
       "    <tr>\n",
       "      <th>0</th>\n",
       "      <td>2595</td>\n",
       "      <td>2022-06-04</td>\n",
       "      <td>0</td>\n",
       "      <td>225.0</td>\n",
       "      <td>30</td>\n",
       "      <td>1125</td>\n",
       "      <td>2845.0</td>\n",
       "      <td>a few days or more</td>\n",
       "      <td>0.0</td>\n",
       "      <td>6.0</td>\n",
       "      <td>...</td>\n",
       "      <td>4.72</td>\n",
       "      <td>4.62</td>\n",
       "      <td>4.76</td>\n",
       "      <td>4.79</td>\n",
       "      <td>4.86</td>\n",
       "      <td>4.41</td>\n",
       "      <td>0.0</td>\n",
       "      <td>3.0</td>\n",
       "      <td>0        11/21/2009\\n1         5/28/2009\\n2   ...</td>\n",
       "      <td>Jun</td>\n",
       "    </tr>\n",
       "    <tr>\n",
       "      <th>1</th>\n",
       "      <td>2595</td>\n",
       "      <td>2022-06-05</td>\n",
       "      <td>0</td>\n",
       "      <td>225.0</td>\n",
       "      <td>30</td>\n",
       "      <td>1125</td>\n",
       "      <td>2845.0</td>\n",
       "      <td>a few days or more</td>\n",
       "      <td>0.0</td>\n",
       "      <td>6.0</td>\n",
       "      <td>...</td>\n",
       "      <td>4.72</td>\n",
       "      <td>4.62</td>\n",
       "      <td>4.76</td>\n",
       "      <td>4.79</td>\n",
       "      <td>4.86</td>\n",
       "      <td>4.41</td>\n",
       "      <td>0.0</td>\n",
       "      <td>3.0</td>\n",
       "      <td>0        11/21/2009\\n1         5/28/2009\\n2   ...</td>\n",
       "      <td>Jun</td>\n",
       "    </tr>\n",
       "    <tr>\n",
       "      <th>2</th>\n",
       "      <td>2595</td>\n",
       "      <td>2022-06-06</td>\n",
       "      <td>0</td>\n",
       "      <td>225.0</td>\n",
       "      <td>30</td>\n",
       "      <td>1125</td>\n",
       "      <td>2845.0</td>\n",
       "      <td>a few days or more</td>\n",
       "      <td>0.0</td>\n",
       "      <td>6.0</td>\n",
       "      <td>...</td>\n",
       "      <td>4.72</td>\n",
       "      <td>4.62</td>\n",
       "      <td>4.76</td>\n",
       "      <td>4.79</td>\n",
       "      <td>4.86</td>\n",
       "      <td>4.41</td>\n",
       "      <td>0.0</td>\n",
       "      <td>3.0</td>\n",
       "      <td>0        11/21/2009\\n1         5/28/2009\\n2   ...</td>\n",
       "      <td>Jun</td>\n",
       "    </tr>\n",
       "    <tr>\n",
       "      <th>3</th>\n",
       "      <td>2595</td>\n",
       "      <td>2022-06-07</td>\n",
       "      <td>0</td>\n",
       "      <td>225.0</td>\n",
       "      <td>30</td>\n",
       "      <td>1125</td>\n",
       "      <td>2845.0</td>\n",
       "      <td>a few days or more</td>\n",
       "      <td>0.0</td>\n",
       "      <td>6.0</td>\n",
       "      <td>...</td>\n",
       "      <td>4.72</td>\n",
       "      <td>4.62</td>\n",
       "      <td>4.76</td>\n",
       "      <td>4.79</td>\n",
       "      <td>4.86</td>\n",
       "      <td>4.41</td>\n",
       "      <td>0.0</td>\n",
       "      <td>3.0</td>\n",
       "      <td>0        11/21/2009\\n1         5/28/2009\\n2   ...</td>\n",
       "      <td>Jun</td>\n",
       "    </tr>\n",
       "    <tr>\n",
       "      <th>4</th>\n",
       "      <td>2595</td>\n",
       "      <td>2022-06-08</td>\n",
       "      <td>0</td>\n",
       "      <td>225.0</td>\n",
       "      <td>30</td>\n",
       "      <td>1125</td>\n",
       "      <td>2845.0</td>\n",
       "      <td>a few days or more</td>\n",
       "      <td>0.0</td>\n",
       "      <td>6.0</td>\n",
       "      <td>...</td>\n",
       "      <td>4.72</td>\n",
       "      <td>4.62</td>\n",
       "      <td>4.76</td>\n",
       "      <td>4.79</td>\n",
       "      <td>4.86</td>\n",
       "      <td>4.41</td>\n",
       "      <td>0.0</td>\n",
       "      <td>3.0</td>\n",
       "      <td>0        11/21/2009\\n1         5/28/2009\\n2   ...</td>\n",
       "      <td>Jun</td>\n",
       "    </tr>\n",
       "  </tbody>\n",
       "</table>\n",
       "<p>5 rows × 36 columns</p>\n",
       "</div>"
      ],
      "text/plain": [
       "     id       date  available  price  minimum_nights  maximum_nights  host_id  \\\n",
       "0  2595 2022-06-04          0  225.0              30            1125   2845.0   \n",
       "1  2595 2022-06-05          0  225.0              30            1125   2845.0   \n",
       "2  2595 2022-06-06          0  225.0              30            1125   2845.0   \n",
       "3  2595 2022-06-07          0  225.0              30            1125   2845.0   \n",
       "4  2595 2022-06-08          0  225.0              30            1125   2845.0   \n",
       "\n",
       "   host_response_time  host_is_superhost  host_listings_count  ...  \\\n",
       "0  a few days or more                0.0                  6.0  ...   \n",
       "1  a few days or more                0.0                  6.0  ...   \n",
       "2  a few days or more                0.0                  6.0  ...   \n",
       "3  a few days or more                0.0                  6.0  ...   \n",
       "4  a few days or more                0.0                  6.0  ...   \n",
       "\n",
       "  review_scores_accuracy  review_scores_cleanliness  review_scores_checkin  \\\n",
       "0                   4.72                       4.62                   4.76   \n",
       "1                   4.72                       4.62                   4.76   \n",
       "2                   4.72                       4.62                   4.76   \n",
       "3                   4.72                       4.62                   4.76   \n",
       "4                   4.72                       4.62                   4.76   \n",
       "\n",
       "  review_scores_communication review_scores_location  review_scores_value  \\\n",
       "0                        4.79                   4.86                 4.41   \n",
       "1                        4.79                   4.86                 4.41   \n",
       "2                        4.79                   4.86                 4.41   \n",
       "3                        4.79                   4.86                 4.41   \n",
       "4                        4.79                   4.86                 4.41   \n",
       "\n",
       "   instant_bookable calculated_host_listings_count  \\\n",
       "0               0.0                            3.0   \n",
       "1               0.0                            3.0   \n",
       "2               0.0                            3.0   \n",
       "3               0.0                            3.0   \n",
       "4               0.0                            3.0   \n",
       "\n",
       "                                              review  month  \n",
       "0  0        11/21/2009\\n1         5/28/2009\\n2   ...    Jun  \n",
       "1  0        11/21/2009\\n1         5/28/2009\\n2   ...    Jun  \n",
       "2  0        11/21/2009\\n1         5/28/2009\\n2   ...    Jun  \n",
       "3  0        11/21/2009\\n1         5/28/2009\\n2   ...    Jun  \n",
       "4  0        11/21/2009\\n1         5/28/2009\\n2   ...    Jun  \n",
       "\n",
       "[5 rows x 36 columns]"
      ]
     },
     "execution_count": 12,
     "metadata": {},
     "output_type": "execute_result"
    }
   ],
   "source": [
    "df_full = pd.read_hdf('data/df_full.h5')\n",
    "df_full.head()"
   ]
  },
  {
   "cell_type": "markdown",
   "id": "95612c15-8845-4054-bdc6-3bd3874910e7",
   "metadata": {},
   "source": [
    "Let's run some EDA first and see what we can find\n"
   ]
  },
  {
   "cell_type": "code",
   "execution_count": 4,
   "id": "7fba92de-d863-422f-bcaf-36571ad71732",
   "metadata": {},
   "outputs": [
    {
     "data": {
      "image/png": "[encoded data removed]",
      "text/plain": [
       "<Figure size 720x576 with 1 Axes>"
      ]
     },
     "metadata": {
      "needs_background": "light"
     },
     "output_type": "display_data"
    }
   ],
   "source": [
    "#Price vs host_response_time\n",
    "plt.figure(figsize=(10,8))\n",
    "plt.tight_layout(pad=2)\n",
    "plt.title('Price vs host_response_time')\n",
    "sns.barplot(y=\"price\", x=\"host_response_time\", data=df_full)\n",
    "plt.savefig('pics/host_response_time_graph.png')"
   ]
  },
  {
   "cell_type": "markdown",
   "id": "44f3640e-49aa-421c-9ab1-90ba782549ae",
   "metadata": {},
   "source": [
    "A host that responds in a few days or more has the highest priced AirBnBs. The rest are roughly the same"
   ]
  },
  {
   "cell_type": "code",
   "execution_count": 5,
   "id": "eb15b477-1a60-4974-8a30-2a537cc658ed",
   "metadata": {},
   "outputs": [
    {
     "data": {
      "text/plain": [
       "<AxesSubplot:title={'center':'Price vs host_is_superhost'}, xlabel='host_is_superhost', ylabel='price'>"
      ]
     },
     "execution_count": 5,
     "metadata": {},
     "output_type": "execute_result"
    },
    {
     "data": {
      "image/png": "[encoded data removed]",
      "text/plain": [
       "<Figure size 720x576 with 1 Axes>"
      ]
     },
     "metadata": {
      "needs_background": "light"
     },
     "output_type": "display_data"
    }
   ],
   "source": [
    "#Price vs host_is_superhost\n",
    "plt.figure(figsize=(10,8))\n",
    "plt.tight_layout(pad=2)\n",
    "plt.title('Price vs host_is_superhost')\n",
    "sns.boxplot(data=df_full, x='host_is_superhost', y='price')"
   ]
  },
  {
   "cell_type": "markdown",
   "id": "c69c5146-49e3-4f7f-bef3-efaf1ca62199",
   "metadata": {},
   "source": [
    "There are too many outliers that we can't see the data. Let's look where the price is under $1000\n"
   ]
  },
  {
   "cell_type": "code",
   "execution_count": 6,
   "id": "e41c6ec0-210a-4e79-b0e1-48ed6e6cf2a8",
   "metadata": {},
   "outputs": [
    {
     "data": {
      "image/png": "[encoded data removed]",
      "text/plain": [
       "<Figure size 720x576 with 1 Axes>"
      ]
     },
     "metadata": {
      "needs_background": "light"
     },
     "output_type": "display_data"
    }
   ],
   "source": [
    "#Price < $1000 vs host_is_superhost\n",
    "plt.figure(figsize=(10,8))\n",
    "plt.tight_layout(pad=2)\n",
    "plt.title('Price vs host_is_superhost')\n",
    "sns.boxplot(data=df_full[df_full['price'] < 1000], x='host_is_superhost', y='price')\n",
    "plt.savefig('pics/host_is_superhost_graph.png')"
   ]
  },
  {
   "cell_type": "markdown",
   "id": "8a5fca4d-e529-4723-b96f-6dd204ac0ca9",
   "metadata": {},
   "source": [
    "They look about even with being a superhost maybe being a bit higher.\n"
   ]
  },
  {
   "cell_type": "code",
   "execution_count": 7,
   "id": "8f36df35-b375-4619-b793-9ad14fc15942",
   "metadata": {},
   "outputs": [
    {
     "data": {
      "text/plain": [
       "<AxesSubplot:title={'center':'Price vs host_has_profile_pic'}, xlabel='host_has_profile_pic', ylabel='price'>"
      ]
     },
     "execution_count": 7,
     "metadata": {},
     "output_type": "execute_result"
    },
    {
     "data": {
      "image/png": "[encoded data removed]",
      "text/plain": [
       "<Figure size 720x576 with 1 Axes>"
      ]
     },
     "metadata": {
      "needs_background": "light"
     },
     "output_type": "display_data"
    }
   ],
   "source": [
    "#Price vs host_has_profile_pic\n",
    "plt.figure(figsize=(10,8))\n",
    "plt.tight_layout(pad=2)\n",
    "plt.title('Price vs host_has_profile_pic')\n",
    "sns.boxplot(data=df_full, x='host_has_profile_pic', y='price')"
   ]
  },
  {
   "cell_type": "markdown",
   "id": "4e018b14-b687-4f5e-b831-7931ebed6f4d",
   "metadata": {},
   "source": [
    "Again there are a lot of outliers making it hard to see the data so let's zoom in on the less than $1000 group"
   ]
  },
  {
   "cell_type": "code",
   "execution_count": 8,
   "id": "01d6a7cc-db44-48b2-8bb0-6fc683fae09e",
   "metadata": {},
   "outputs": [
    {
     "data": {
      "image/png": "[encoded data removed]",
      "text/plain": [
       "<Figure size 720x576 with 1 Axes>"
      ]
     },
     "metadata": {
      "needs_background": "light"
     },
     "output_type": "display_data"
    }
   ],
   "source": [
    "#Price < $1000 vs host_has_profile_pic\n",
    "plt.figure(figsize=(10,8))\n",
    "plt.tight_layout(pad=2)\n",
    "plt.title('Price vs host_has_profile_pic')\n",
    "sns.boxplot(data=df_full[df_full['price'] < 1000], x='host_has_profile_pic', y='price')\n",
    "plt.savefig('pics/host_has_profile_pic_graph.png')"
   ]
  },
  {
   "cell_type": "markdown",
   "id": "174bd306-c97f-4a88-b56c-897cdf70d1c2",
   "metadata": {},
   "source": [
    "Having a profile pic doesn't seem to effect the price of an AirBnB much."
   ]
  },
  {
   "cell_type": "code",
   "execution_count": 9,
   "id": "04d97f75-063d-4b0f-9a40-7cbed7f53322",
   "metadata": {},
   "outputs": [
    {
     "data": {
      "image/png": "[encoded data removed]",
      "text/plain": [
       "<Figure size 720x576 with 1 Axes>"
      ]
     },
     "metadata": {
      "needs_background": "light"
     },
     "output_type": "display_data"
    }
   ],
   "source": [
    "#Price < $1000 vs host_identity_verified\n",
    "plt.figure(figsize=(10,8))\n",
    "plt.tight_layout(pad=2)\n",
    "plt.title('Price vs host_identity_verified')\n",
    "sns.boxplot(data=df_full[df_full['price'] < 1000], x='host_identity_verified', y='price')\n",
    "plt.savefig('pics/host_identity_verified_graph.png')"
   ]
  },
  {
   "cell_type": "markdown",
   "id": "ecd3b477-d30f-4531-8436-3adcb976a457",
   "metadata": {},
   "source": [
    "Having your identity verified at best gives a tiny edge on it not being verified\n"
   ]
  },
  {
   "cell_type": "code",
   "execution_count": null,
   "id": "abf84333-2f95-42eb-880b-30f500d537b7",
   "metadata": {},
   "outputs": [],
   "source": [
    "#Price vs boroughs\n",
    "plt.figure(figsize=(10,8))\n",
    "plt.tight_layout(pad=2)\n",
    "plt.title('Price vs boroughs')\n",
    "sns.barplot(y=\"price\", x=\"neighbourhood_group_cleansed\", data=df_full)\n",
    "plt.savefig('pics/neighbourhood_group_cleansed_graph.png')"
   ]
  },
  {
   "cell_type": "markdown",
   "id": "10dfb980-7755-4951-8f67-0eefaba6e708",
   "metadata": {},
   "source": [
    "Manhattan costs much more than the other boroughs of New York. Brooklyn is second highest priced, followed by Staten Island, Queens, and the Bronx has the lowest priced AirBnBs.\n"
   ]
  },
  {
   "cell_type": "code",
   "execution_count": null,
   "id": "6d9de8e3-5c6e-4404-acc8-4e065fa554a6",
   "metadata": {},
   "outputs": [],
   "source": [
    "#Price vs Room type\n",
    "plt.figure(figsize=(10,8))\n",
    "plt.tight_layout(pad=2)\n",
    "plt.title('Price vs Room type')\n",
    "sns.barplot(y=\"price\", x=\"room_type\", data=df_full)\n",
    "plt.savefig('pics/room_type_graph.png')"
   ]
  },
  {
   "cell_type": "markdown",
   "id": "3591e78c-d37d-4c93-9cdc-2a7f986a7f80",
   "metadata": {},
   "source": [
    "Hotel_room and Entire home/apt AirBnBs cost the most. A private room costs the least.\n"
   ]
  },
  {
   "cell_type": "code",
   "execution_count": null,
   "id": "636089f8-0649-4895-af5e-821ef018389d",
   "metadata": {},
   "outputs": [],
   "source": [
    "#Price < $1000 vs Has Availability\n",
    "plt.figure(figsize=(10,8))\n",
    "plt.tight_layout(pad=2)\n",
    "plt.title('Price vs Has Availability')\n",
    "sns.boxplot(data=df_full[df_full['price'] < 1000], x='has_availability', y='price')\n",
    "plt.savefig('pics/has_availability_graph.png')"
   ]
  },
  {
   "cell_type": "markdown",
   "id": "32397cf7-7b66-4320-bdf8-c97e535f6943",
   "metadata": {},
   "source": [
    "Having availability at best only gives a tiny price increase\n"
   ]
  },
  {
   "cell_type": "code",
   "execution_count": null,
   "id": "371a46a2-bba5-4316-b6ed-d05f804d0d96",
   "metadata": {},
   "outputs": [],
   "source": [
    "#Price < $1000 vs Instant Bookable\n",
    "plt.figure(figsize=(10,8))\n",
    "plt.tight_layout(pad=2)\n",
    "plt.title('Price vs Instant Bookable')\n",
    "sns.boxplot(data=df_full[df_full['price'] < 1000], x='instant_bookable', y='price')\n",
    "plt.savefig('pics/instant_bookable_graph.png')"
   ]
  },
  {
   "cell_type": "markdown",
   "id": "ea9c7046-960f-40b4-91de-fbb1955a1434",
   "metadata": {},
   "source": [
    "There is no noticeable difference in having or not having instant bookable\n"
   ]
  },
  {
   "cell_type": "code",
   "execution_count": null,
   "id": "3327a336-5919-4df5-9419-a728127bc96a",
   "metadata": {},
   "outputs": [],
   "source": [
    "#Price vs Months\n",
    "plt.figure(figsize=(10,8))\n",
    "plt.tight_layout(pad=2)\n",
    "plt.title('Price vs Months')\n",
    "sns.barplot(y=\"price\", x=\"month\", data=df_full)\n",
    "plt.savefig('pics/month_graph.png')"
   ]
  },
  {
   "cell_type": "markdown",
   "id": "d3d3a1a1-51c1-4edc-b3ec-85abe6820e4b",
   "metadata": {},
   "source": [
    "Only July seems to have an increase in price. But not by much.\n"
   ]
  },
  {
   "cell_type": "code",
   "execution_count": null,
   "id": "8370f07d-2b62-4b00-afb9-b2fb59429110",
   "metadata": {},
   "outputs": [],
   "source": [
    "boroughs = pd.get_dummies(df_full[['price', 'neighbourhood_group_cleansed']], columns=['neighbourhood_group_cleansed'])"
   ]
  },
  {
   "cell_type": "code",
   "execution_count": null,
   "id": "c7afa010-1972-47ba-8a06-c2c43474f7c1",
   "metadata": {},
   "outputs": [],
   "source": [
    "#look at the heat map\n",
    "plt.figure(figsize=(10,8))\n",
    "sns.heatmap(boroughs.corr()[['price']].sort_values(by='price',ascending=False),\n",
    "            annot = True,\n",
    "            vmin = -1,\n",
    "            vmax = 1,\n",
    "            cmap = 'coolwarm');\n",
    "plt.savefig('pics/heatmap.png')"
   ]
  },
  {
   "cell_type": "markdown",
   "id": "a8c7d19c-11d4-4260-be42-376c66170a51",
   "metadata": {},
   "source": [
    "This shows which boroughs has the biggest influence on the price"
   ]
  }
 ],
 "metadata": {
  "kernelspec": {
   "display_name": "Python 3 (ipykernel)",
   "language": "python",
   "name": "python3"
  },
  "language_info": {
   "codemirror_mode": {
    "name": "ipython",
    "version": 3
   },
   "file_extension": ".py",
   "mimetype": "text/x-python",
   "name": "python",
   "nbconvert_exporter": "python",
   "pygments_lexer": "ipython3",
   "version": "3.9.7"
  }
 },
 "nbformat": 4,
 "nbformat_minor": 5
}
