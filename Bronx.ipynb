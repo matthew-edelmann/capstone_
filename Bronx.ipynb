{
 "cells": [
  {
   "cell_type": "code",
   "execution_count": 10,
   "id": "2b6efae7-cc9e-4805-a25b-57c15475c184",
   "metadata": {},
   "outputs": [],
   "source": [
    "import numpy as np\n",
    "import pandas as pd\n",
    "import seaborn as sns\n",
    "import matplotlib.pyplot as plt\n",
    "from sklearn.model_selection import train_test_split, cross_val_score, GridSearchCV\n",
    "from sklearn.linear_model import LinearRegression\n",
    "from sklearn.tree import DecisionTreeRegressor\n",
    "from sklearn.preprocessing import StandardScaler, PolynomialFeatures\n",
    "from sklearn.ensemble import BaggingRegressor, RandomForestRegressor, ExtraTreesRegressor\n",
    "from sklearn import metrics\n",
    "import pickle"
   ]
  },
  {
   "cell_type": "code",
   "execution_count": 11,
   "id": "c5ea11d9-7a68-4346-b2de-20b5e8c56126",
   "metadata": {},
   "outputs": [
    {
     "data": {
      "text/html": [
       "<div>\n",
       "<style scoped>\n",
       "    .dataframe tbody tr th:only-of-type {\n",
       "        vertical-align: middle;\n",
       "    }\n",
       "\n",
       "    .dataframe tbody tr th {\n",
       "        vertical-align: top;\n",
       "    }\n",
       "\n",
       "    .dataframe thead th {\n",
       "        text-align: right;\n",
       "    }\n",
       "</style>\n",
       "<table border=\"1\" class=\"dataframe\">\n",
       "  <thead>\n",
       "    <tr style=\"text-align: right;\">\n",
       "      <th></th>\n",
       "      <th>id</th>\n",
       "      <th>date</th>\n",
       "      <th>available</th>\n",
       "      <th>price</th>\n",
       "      <th>minimum_nights</th>\n",
       "      <th>maximum_nights</th>\n",
       "      <th>host_id</th>\n",
       "      <th>host_response_time</th>\n",
       "      <th>host_is_superhost</th>\n",
       "      <th>host_listings_count</th>\n",
       "      <th>...</th>\n",
       "      <th>review_scores_accuracy</th>\n",
       "      <th>review_scores_cleanliness</th>\n",
       "      <th>review_scores_checkin</th>\n",
       "      <th>review_scores_communication</th>\n",
       "      <th>review_scores_location</th>\n",
       "      <th>review_scores_value</th>\n",
       "      <th>instant_bookable</th>\n",
       "      <th>calculated_host_listings_count</th>\n",
       "      <th>review</th>\n",
       "      <th>month</th>\n",
       "    </tr>\n",
       "  </thead>\n",
       "  <tbody>\n",
       "    <tr>\n",
       "      <th>0</th>\n",
       "      <td>2595</td>\n",
       "      <td>2022-06-04</td>\n",
       "      <td>0</td>\n",
       "      <td>225.0</td>\n",
       "      <td>30</td>\n",
       "      <td>1125</td>\n",
       "      <td>2845.0</td>\n",
       "      <td>a few days or more</td>\n",
       "      <td>0.0</td>\n",
       "      <td>6.0</td>\n",
       "      <td>...</td>\n",
       "      <td>4.72</td>\n",
       "      <td>4.62</td>\n",
       "      <td>4.76</td>\n",
       "      <td>4.79</td>\n",
       "      <td>4.86</td>\n",
       "      <td>4.41</td>\n",
       "      <td>0.0</td>\n",
       "      <td>3.0</td>\n",
       "      <td>0        11/21/2009\\n1         5/28/2009\\n2   ...</td>\n",
       "      <td>Jun</td>\n",
       "    </tr>\n",
       "    <tr>\n",
       "      <th>1</th>\n",
       "      <td>2595</td>\n",
       "      <td>2022-06-05</td>\n",
       "      <td>0</td>\n",
       "      <td>225.0</td>\n",
       "      <td>30</td>\n",
       "      <td>1125</td>\n",
       "      <td>2845.0</td>\n",
       "      <td>a few days or more</td>\n",
       "      <td>0.0</td>\n",
       "      <td>6.0</td>\n",
       "      <td>...</td>\n",
       "      <td>4.72</td>\n",
       "      <td>4.62</td>\n",
       "      <td>4.76</td>\n",
       "      <td>4.79</td>\n",
       "      <td>4.86</td>\n",
       "      <td>4.41</td>\n",
       "      <td>0.0</td>\n",
       "      <td>3.0</td>\n",
       "      <td>0        11/21/2009\\n1         5/28/2009\\n2   ...</td>\n",
       "      <td>Jun</td>\n",
       "    </tr>\n",
       "    <tr>\n",
       "      <th>2</th>\n",
       "      <td>2595</td>\n",
       "      <td>2022-06-06</td>\n",
       "      <td>0</td>\n",
       "      <td>225.0</td>\n",
       "      <td>30</td>\n",
       "      <td>1125</td>\n",
       "      <td>2845.0</td>\n",
       "      <td>a few days or more</td>\n",
       "      <td>0.0</td>\n",
       "      <td>6.0</td>\n",
       "      <td>...</td>\n",
       "      <td>4.72</td>\n",
       "      <td>4.62</td>\n",
       "      <td>4.76</td>\n",
       "      <td>4.79</td>\n",
       "      <td>4.86</td>\n",
       "      <td>4.41</td>\n",
       "      <td>0.0</td>\n",
       "      <td>3.0</td>\n",
       "      <td>0        11/21/2009\\n1         5/28/2009\\n2   ...</td>\n",
       "      <td>Jun</td>\n",
       "    </tr>\n",
       "    <tr>\n",
       "      <th>3</th>\n",
       "      <td>2595</td>\n",
       "      <td>2022-06-07</td>\n",
       "      <td>0</td>\n",
       "      <td>225.0</td>\n",
       "      <td>30</td>\n",
       "      <td>1125</td>\n",
       "      <td>2845.0</td>\n",
       "      <td>a few days or more</td>\n",
       "      <td>0.0</td>\n",
       "      <td>6.0</td>\n",
       "      <td>...</td>\n",
       "      <td>4.72</td>\n",
       "      <td>4.62</td>\n",
       "      <td>4.76</td>\n",
       "      <td>4.79</td>\n",
       "      <td>4.86</td>\n",
       "      <td>4.41</td>\n",
       "      <td>0.0</td>\n",
       "      <td>3.0</td>\n",
       "      <td>0        11/21/2009\\n1         5/28/2009\\n2   ...</td>\n",
       "      <td>Jun</td>\n",
       "    </tr>\n",
       "    <tr>\n",
       "      <th>4</th>\n",
       "      <td>2595</td>\n",
       "      <td>2022-06-08</td>\n",
       "      <td>0</td>\n",
       "      <td>225.0</td>\n",
       "      <td>30</td>\n",
       "      <td>1125</td>\n",
       "      <td>2845.0</td>\n",
       "      <td>a few days or more</td>\n",
       "      <td>0.0</td>\n",
       "      <td>6.0</td>\n",
       "      <td>...</td>\n",
       "      <td>4.72</td>\n",
       "      <td>4.62</td>\n",
       "      <td>4.76</td>\n",
       "      <td>4.79</td>\n",
       "      <td>4.86</td>\n",
       "      <td>4.41</td>\n",
       "      <td>0.0</td>\n",
       "      <td>3.0</td>\n",
       "      <td>0        11/21/2009\\n1         5/28/2009\\n2   ...</td>\n",
       "      <td>Jun</td>\n",
       "    </tr>\n",
       "  </tbody>\n",
       "</table>\n",
       "<p>5 rows × 36 columns</p>\n",
       "</div>"
      ],
      "text/plain": [
       "     id       date  available  price  minimum_nights  maximum_nights  host_id  \\\n",
       "0  2595 2022-06-04          0  225.0              30            1125   2845.0   \n",
       "1  2595 2022-06-05          0  225.0              30            1125   2845.0   \n",
       "2  2595 2022-06-06          0  225.0              30            1125   2845.0   \n",
       "3  2595 2022-06-07          0  225.0              30            1125   2845.0   \n",
       "4  2595 2022-06-08          0  225.0              30            1125   2845.0   \n",
       "\n",
       "   host_response_time  host_is_superhost  host_listings_count  ...  \\\n",
       "0  a few days or more                0.0                  6.0  ...   \n",
       "1  a few days or more                0.0                  6.0  ...   \n",
       "2  a few days or more                0.0                  6.0  ...   \n",
       "3  a few days or more                0.0                  6.0  ...   \n",
       "4  a few days or more                0.0                  6.0  ...   \n",
       "\n",
       "  review_scores_accuracy  review_scores_cleanliness  review_scores_checkin  \\\n",
       "0                   4.72                       4.62                   4.76   \n",
       "1                   4.72                       4.62                   4.76   \n",
       "2                   4.72                       4.62                   4.76   \n",
       "3                   4.72                       4.62                   4.76   \n",
       "4                   4.72                       4.62                   4.76   \n",
       "\n",
       "  review_scores_communication review_scores_location  review_scores_value  \\\n",
       "0                        4.79                   4.86                 4.41   \n",
       "1                        4.79                   4.86                 4.41   \n",
       "2                        4.79                   4.86                 4.41   \n",
       "3                        4.79                   4.86                 4.41   \n",
       "4                        4.79                   4.86                 4.41   \n",
       "\n",
       "   instant_bookable calculated_host_listings_count  \\\n",
       "0               0.0                            3.0   \n",
       "1               0.0                            3.0   \n",
       "2               0.0                            3.0   \n",
       "3               0.0                            3.0   \n",
       "4               0.0                            3.0   \n",
       "\n",
       "                                              review  month  \n",
       "0  0        11/21/2009\\n1         5/28/2009\\n2   ...    Jun  \n",
       "1  0        11/21/2009\\n1         5/28/2009\\n2   ...    Jun  \n",
       "2  0        11/21/2009\\n1         5/28/2009\\n2   ...    Jun  \n",
       "3  0        11/21/2009\\n1         5/28/2009\\n2   ...    Jun  \n",
       "4  0        11/21/2009\\n1         5/28/2009\\n2   ...    Jun  \n",
       "\n",
       "[5 rows x 36 columns]"
      ]
     },
     "execution_count": 11,
     "metadata": {},
     "output_type": "execute_result"
    }
   ],
   "source": [
    "df_full = pd.read_hdf('data/df_full.h5')\n",
    "df_full.head()"
   ]
  },
  {
   "cell_type": "code",
   "execution_count": 12,
   "id": "c4f7a7b7-5c7d-4ae2-8baf-5713bf00342e",
   "metadata": {},
   "outputs": [
    {
     "data": {
      "text/plain": [
       "(1036165, 36)"
      ]
     },
     "execution_count": 12,
     "metadata": {},
     "output_type": "execute_result"
    }
   ],
   "source": [
    "df_full.shape"
   ]
  },
  {
   "cell_type": "code",
   "execution_count": 13,
   "id": "e9d30171-94e3-4fed-81c1-bedb295e33de",
   "metadata": {},
   "outputs": [
    {
     "data": {
      "text/plain": [
       "(17520, 36)"
      ]
     },
     "execution_count": 13,
     "metadata": {},
     "output_type": "execute_result"
    }
   ],
   "source": [
    "Bronx = df_full.copy()\n",
    "Bronx = Bronx[Bronx['neighbourhood_group_cleansed'] == 'Bronx']\n",
    "Bronx.shape"
   ]
  },
  {
   "cell_type": "markdown",
   "id": "f2d6969d-61e7-42e2-a9fc-9eef9d8c0175",
   "metadata": {},
   "source": [
    "We will first make a baseline:"
   ]
  },
  {
   "cell_type": "code",
   "execution_count": 14,
   "id": "bcd6ba08-b2d2-4ac6-857b-c7c919ae9589",
   "metadata": {},
   "outputs": [
    {
     "name": "stdout",
     "output_type": "stream",
     "text": [
      "85.0\n"
     ]
    },
    {
     "data": {
      "text/plain": [
       "32850    85.0\n",
       "32851    85.0\n",
       "32852    85.0\n",
       "32853    85.0\n",
       "32854    85.0\n",
       "Name: price, dtype: float64"
      ]
     },
     "execution_count": 14,
     "metadata": {},
     "output_type": "execute_result"
    }
   ],
   "source": [
    "pred = Bronx['price']\n",
    "m = pred.median()\n",
    "print(m)\n",
    "pred = pred.map(lambda x: m)\n",
    "pred.head()"
   ]
  },
  {
   "cell_type": "code",
   "execution_count": 15,
   "id": "ca0e7638-8024-4317-bcdf-94424e6d459e",
   "metadata": {},
   "outputs": [
    {
     "data": {
      "text/plain": [
       "1481.3062785388129"
      ]
     },
     "execution_count": 15,
     "metadata": {},
     "output_type": "execute_result"
    }
   ],
   "source": [
    "metrics.mean_squared_error(Bronx['price'], pred)"
   ]
  },
  {
   "cell_type": "code",
   "execution_count": 16,
   "id": "2b0582c4-ad8d-48c0-93b9-a5bfad933277",
   "metadata": {},
   "outputs": [
    {
     "data": {
      "text/plain": [
       "38.48774192569386"
      ]
     },
     "execution_count": 16,
     "metadata": {},
     "output_type": "execute_result"
    }
   ],
   "source": [
    "np.sqrt(metrics.mean_squared_error(Bronx['price'], pred))"
   ]
  },
  {
   "cell_type": "code",
   "execution_count": 17,
   "id": "95db301c-a2ab-4775-a9cd-b6cc65b9d283",
   "metadata": {},
   "outputs": [
    {
     "data": {
      "text/plain": [
       "29.70433789954338"
      ]
     },
     "execution_count": 17,
     "metadata": {},
     "output_type": "execute_result"
    }
   ],
   "source": [
    "residuals = Bronx['price'] - pred\n",
    "np.abs(residuals).mean()"
   ]
  },
  {
   "cell_type": "markdown",
   "id": "98cc0035-c585-461c-8be0-b30c2b6486a3",
   "metadata": {},
   "source": [
    "Next let's export the data"
   ]
  },
  {
   "cell_type": "code",
   "execution_count": 18,
   "id": "a6eee616-de11-4f81-a789-7640dbd7c9f6",
   "metadata": {},
   "outputs": [
    {
     "name": "stderr",
     "output_type": "stream",
     "text": [
      "C:\\Users\\matth\\anaconda3\\lib\\site-packages\\pandas\\core\\generic.py:2703: PerformanceWarning: \n",
      "your performance may suffer as PyTables will pickle object types that it cannot\n",
      "map directly to c-types [inferred_type->mixed,key->block3_values] [items->Index(['host_response_time', 'host_verifications', 'neighbourhood_cleansed',\n",
      "       'neighbourhood_group_cleansed', 'property_type', 'room_type',\n",
      "       'amenities', 'review_scores_rating', 'review_scores_accuracy',\n",
      "       'review_scores_cleanliness', 'review_scores_checkin',\n",
      "       'review_scores_communication', 'review_scores_location',\n",
      "       'review_scores_value', 'review', 'month'],\n",
      "      dtype='object')]\n",
      "\n",
      "  pytables.to_hdf(\n"
     ]
    }
   ],
   "source": [
    "Bronx.to_hdf(r'data/Bronx.h5', key='stage', mode='w') #run twice"
   ]
  },
  {
   "cell_type": "markdown",
   "id": "21b7c6af-9426-4796-8451-eac3a57cedd4",
   "metadata": {},
   "source": [
    "Make dummies"
   ]
  },
  {
   "cell_type": "code",
   "execution_count": 19,
   "id": "600b7653-be20-4cce-a022-7563ec051d14",
   "metadata": {},
   "outputs": [],
   "source": [
    "Bronx_dummies = pd.get_dummies(Bronx, columns=['host_response_time', 'room_type'])"
   ]
  },
  {
   "cell_type": "code",
   "execution_count": 20,
   "id": "d1651d69-50f8-4017-a19a-d29e5d1674cc",
   "metadata": {},
   "outputs": [
    {
     "data": {
      "text/plain": [
       "room_type_Private room                  -0.507650\n",
       "latitude                                -0.199974\n",
       "host_id                                 -0.138802\n",
       "id                                      -0.136291\n",
       "room_type_Shared room                   -0.098671\n",
       "host_response_time_unknown              -0.097801\n",
       "instant_bookable                        -0.077536\n",
       "availability_365                        -0.055791\n",
       "available                               -0.043917\n",
       "has_availability                        -0.036557\n",
       "host_response_time_within a day         -0.028084\n",
       "number_of_reviews                       -0.018393\n",
       "host_response_time_within an hour        0.034249\n",
       "minimum_nights                           0.037796\n",
       "host_response_time_a few days or more    0.049188\n",
       "host_response_time_within a few hours    0.070533\n",
       "host_listings_count                      0.095179\n",
       "calculated_host_listings_count           0.114556\n",
       "host_identity_verified                   0.118757\n",
       "longitude                                0.157628\n",
       "host_is_superhost                        0.165958\n",
       "beds                                     0.179293\n",
       "maximum_nights                           0.374568\n",
       "accommodates                             0.538632\n",
       "room_type_Entire home/apt                0.541904\n",
       "price                                    1.000000\n",
       "host_has_profile_pic                          NaN\n",
       "Name: price, dtype: float64"
      ]
     },
     "execution_count": 20,
     "metadata": {},
     "output_type": "execute_result"
    }
   ],
   "source": [
    "Bronx_dummies.corr()['price'].sort_values()"
   ]
  },
  {
   "cell_type": "code",
   "execution_count": 21,
   "id": "624d6084-9adc-4e41-854c-50739fb10a14",
   "metadata": {},
   "outputs": [],
   "source": [
    "def tts_borough(df, xvars, dge):\n",
    "    X = df[xvars]\n",
    "    y = df['price']\n",
    "    poly = PolynomialFeatures(include_bias = False, degree = dge)\n",
    "    X_poly = poly.fit_transform(X)\n",
    "    X_train, X_test, y_train, y_test = train_test_split(X_poly, y, random_state=42)\n",
    "    return X_train, X_test, y_train, y_test"
   ]
  },
  {
   "cell_type": "code",
   "execution_count": 22,
   "id": "017ff163-bdd0-4993-97ea-54bf26daee79",
   "metadata": {},
   "outputs": [],
   "source": [
    "xvars = ['room_type_Entire home/apt', 'accommodates', 'room_type_Private room', 'maximum_nights', 'latitude', 'beds', 'host_is_superhost', 'longitude']\n",
    "X_train, X_test, y_train, y_test = tts_borough(Bronx_dummies, xvars, 2)"
   ]
  },
  {
   "cell_type": "markdown",
   "id": "66653c18-924e-40cc-82c8-99d74d825488",
   "metadata": {},
   "source": [
    "Let's make a linear regression model\n"
   ]
  },
  {
   "cell_type": "code",
   "execution_count": 23,
   "id": "77c6ad35-0a7b-4fa7-856a-e7e9f8b26a1c",
   "metadata": {},
   "outputs": [],
   "source": [
    "lr = LinearRegression()"
   ]
  },
  {
   "cell_type": "code",
   "execution_count": 24,
   "id": "aabbbaca-5a53-41cd-b453-dc5f9915fcf0",
   "metadata": {},
   "outputs": [
    {
     "data": {
      "text/plain": [
       "0.856677176173981"
      ]
     },
     "execution_count": 24,
     "metadata": {},
     "output_type": "execute_result"
    }
   ],
   "source": [
    "cross_val_score(lr, X_train, y_train, cv = 5).mean()"
   ]
  },
  {
   "cell_type": "code",
   "execution_count": 25,
   "id": "46c5886b-f96e-45ac-babd-eacd37d330c9",
   "metadata": {},
   "outputs": [
    {
     "data": {
      "text/plain": [
       "LinearRegression()"
      ]
     },
     "execution_count": 25,
     "metadata": {},
     "output_type": "execute_result"
    }
   ],
   "source": [
    "lr.fit(X_train, y_train)"
   ]
  },
  {
   "cell_type": "code",
   "execution_count": 26,
   "id": "aae64fda-d513-419c-aa55-386037e5f916",
   "metadata": {},
   "outputs": [],
   "source": [
    "prediction = lr.predict(X_test)"
   ]
  },
  {
   "cell_type": "markdown",
   "id": "b070ef06-2919-428b-bc1f-01dfa7df809d",
   "metadata": {},
   "source": [
    "The function is"
   ]
  },
  {
   "cell_type": "code",
   "execution_count": 27,
   "id": "1ead4c38-1d56-472f-b864-ccb18fc4b61f",
   "metadata": {},
   "outputs": [
    {
     "name": "stdout",
     "output_type": "stream",
     "text": [
      "Model intercept: 3924704.4897128073\n",
      "Model coefficient values: [-1.41110287e+08  6.20518929e+04 -4.70753150e+07 -1.89820692e+05\n",
      "  6.08636337e+05 -3.74861515e+04  2.95851988e+04 -9.86473706e+05\n",
      "  4.70847999e+07  3.57393665e+04  1.54340720e-02  1.89632602e+05\n",
      "  4.96751420e+05 -1.39529480e+04  1.47948775e+04 -8.43540016e+05\n",
      "  2.46119009e+00  3.57967582e+04 -8.03335898e-02 -3.51459757e+02\n",
      "  1.45920470e+01  4.65303669e+01  1.12952627e+03 -4.70753151e+07\n",
      "  1.89632506e+05  4.99493699e+05 -1.40484385e+04  1.47903196e+04\n",
      " -8.43718119e+05  8.84133239e-05  1.60837269e+00  3.89317370e-03\n",
      " -4.50966620e-02 -1.65844170e+00 -1.92829277e+04  8.80258313e+02\n",
      "  1.25416962e+03 -6.29440339e+03 -1.91046786e+01 -1.28613380e+02\n",
      " -2.11344131e+02  2.95851977e+04  1.69363547e+03 -1.41207075e+04]\n"
     ]
    }
   ],
   "source": [
    "print(f'Model intercept: {lr.intercept_}')\n",
    "print(f'Model coefficient values: {lr.coef_}')"
   ]
  },
  {
   "cell_type": "markdown",
   "id": "f5ee54db-3e8d-412e-9a70-7b035670a660",
   "metadata": {},
   "source": [
    "The R^2 value is"
   ]
  },
  {
   "cell_type": "code",
   "execution_count": 28,
   "id": "2578a2c2-0f1c-4445-be39-4d8f9be70e6b",
   "metadata": {},
   "outputs": [
    {
     "name": "stdout",
     "output_type": "stream",
     "text": [
      "Training R2: 0.8571985277314411\n",
      "Testing R2: 0.8578894589148285\n"
     ]
    }
   ],
   "source": [
    "print(f'Training R2: {lr.score(X_train, y_train)}')\n",
    "print(f'Testing R2: {lr.score(X_test, y_test)}')"
   ]
  },
  {
   "cell_type": "markdown",
   "id": "0398679b-1009-44d9-81e2-35c90486094b",
   "metadata": {},
   "source": [
    "The mean squared error is\n"
   ]
  },
  {
   "cell_type": "code",
   "execution_count": 29,
   "id": "981c68f4-44b6-401c-8558-2366ef4dc9ed",
   "metadata": {},
   "outputs": [
    {
     "data": {
      "text/plain": [
       "208.24912690807247"
      ]
     },
     "execution_count": 29,
     "metadata": {},
     "output_type": "execute_result"
    }
   ],
   "source": [
    "metrics.mean_squared_error(y_test, prediction)"
   ]
  },
  {
   "cell_type": "markdown",
   "id": "81ce73e2-7aa6-44dd-b3f2-94b398548ce7",
   "metadata": {},
   "source": [
    "And the root mean squered error is"
   ]
  },
  {
   "cell_type": "code",
   "execution_count": 30,
   "id": "b91e3de4-e2a5-4075-8c8d-f228d7abab66",
   "metadata": {},
   "outputs": [
    {
     "data": {
      "text/plain": [
       "14.430839438787768"
      ]
     },
     "execution_count": 30,
     "metadata": {},
     "output_type": "execute_result"
    }
   ],
   "source": [
    "np.sqrt(metrics.mean_squared_error(y_test, prediction))"
   ]
  },
  {
   "cell_type": "markdown",
   "id": "dac2091f-28dd-4911-be79-b6f01aa0b7c7",
   "metadata": {},
   "source": [
    "How about the mean of residuals\n"
   ]
  },
  {
   "cell_type": "code",
   "execution_count": 31,
   "id": "da34b21c-c182-42b2-89e0-e56e48317801",
   "metadata": {},
   "outputs": [
    {
     "data": {
      "text/plain": [
       "10.531000612429917"
      ]
     },
     "execution_count": 31,
     "metadata": {},
     "output_type": "execute_result"
    }
   ],
   "source": [
    "residuals = y_test - prediction\n",
    "np.abs(residuals).mean()"
   ]
  },
  {
   "cell_type": "markdown",
   "id": "a7a0fe22-f559-4b19-bf5e-fd71ffe931bc",
   "metadata": {},
   "source": [
    "This model is very good. Let's see if we can do better with decision tree\n"
   ]
  },
  {
   "cell_type": "code",
   "execution_count": 32,
   "id": "40008aa9-0b67-4ba0-944b-d052c525af66",
   "metadata": {},
   "outputs": [],
   "source": [
    "xvars = ['room_type_Entire home/apt', 'accommodates', 'room_type_Private room', 'maximum_nights', 'latitude']\n",
    "X = Bronx_dummies[xvars]\n",
    "y = Bronx_dummies['price']\n",
    "X_train, X_test, y_train, y_test = train_test_split(X, y, random_state=42)"
   ]
  },
  {
   "cell_type": "code",
   "execution_count": 33,
   "id": "c7d94f58-5e75-4f50-82db-4f6bdd6a0176",
   "metadata": {},
   "outputs": [],
   "source": [
    "#I tweeked this until I got the best result\n",
    "dt = DecisionTreeRegressor(random_state=42)"
   ]
  },
  {
   "cell_type": "code",
   "execution_count": 34,
   "id": "8993c97a-8c2e-4eb6-9666-2d2f480c5029",
   "metadata": {},
   "outputs": [
    {
     "data": {
      "text/plain": [
       "DecisionTreeRegressor(random_state=42)"
      ]
     },
     "execution_count": 34,
     "metadata": {},
     "output_type": "execute_result"
    }
   ],
   "source": [
    "dt.fit(X_train, y_train)"
   ]
  },
  {
   "cell_type": "code",
   "execution_count": 35,
   "id": "332e6fa7-dc9b-4e0a-b0de-f2d432c956f8",
   "metadata": {},
   "outputs": [],
   "source": [
    "prediction = dt.predict(X_test)"
   ]
  },
  {
   "cell_type": "code",
   "execution_count": 36,
   "id": "2064867e-0ff2-4ab8-a98d-53115a78b1bd",
   "metadata": {},
   "outputs": [
    {
     "name": "stdout",
     "output_type": "stream",
     "text": [
      "Score on training set: 0.9888160419467622\n",
      "Score on testing set: 0.9890075801431886\n"
     ]
    }
   ],
   "source": [
    "print(f'Score on training set: {dt.score(X_train, y_train)}')\n",
    "print(f'Score on testing set: {dt.score(X_test, y_test)}')"
   ]
  },
  {
   "cell_type": "code",
   "execution_count": 37,
   "id": "f051f176-b73a-4d33-a4b8-dabc48fd6f38",
   "metadata": {},
   "outputs": [
    {
     "data": {
      "text/plain": [
       "16.108318357721032"
      ]
     },
     "execution_count": 37,
     "metadata": {},
     "output_type": "execute_result"
    }
   ],
   "source": [
    "metrics.mean_squared_error(y_test, prediction)"
   ]
  },
  {
   "cell_type": "code",
   "execution_count": 38,
   "id": "68f3abd3-76ec-4321-89f3-29c95354ef5e",
   "metadata": {},
   "outputs": [
    {
     "data": {
      "text/plain": [
       "4.013516956202008"
      ]
     },
     "execution_count": 38,
     "metadata": {},
     "output_type": "execute_result"
    }
   ],
   "source": [
    "np.sqrt(metrics.mean_squared_error(y_test, prediction))"
   ]
  },
  {
   "cell_type": "code",
   "execution_count": 39,
   "id": "ab5d738f-c9da-4e8e-bce0-0668aa8abadc",
   "metadata": {},
   "outputs": [
    {
     "data": {
      "text/plain": [
       "2.1321772593829293"
      ]
     },
     "execution_count": 39,
     "metadata": {},
     "output_type": "execute_result"
    }
   ],
   "source": [
    "residuals = y_test - prediction\n",
    "np.abs(residuals).mean()"
   ]
  },
  {
   "cell_type": "markdown",
   "id": "66a5c258-5836-4199-b41b-a255a73025ca",
   "metadata": {},
   "source": [
    "This model is great. Let's look at bagging model now."
   ]
  },
  {
   "cell_type": "code",
   "execution_count": 40,
   "id": "5f9c50b2-a4da-4ef7-bd60-279f28efc888",
   "metadata": {},
   "outputs": [],
   "source": [
    "xvars = ['room_type_Entire home/apt', 'accommodates', 'room_type_Private room', 'maximum_nights', 'latitude']\n",
    "X = Bronx_dummies[xvars]\n",
    "y = Bronx_dummies['price']\n",
    "X_train, X_test, y_train, y_test = train_test_split(X, y, random_state=42)"
   ]
  },
  {
   "cell_type": "code",
   "execution_count": 41,
   "id": "304bed58-29b8-43c7-9876-84abe2ad926c",
   "metadata": {},
   "outputs": [
    {
     "data": {
      "text/plain": [
       "BaggingRegressor(random_state=42)"
      ]
     },
     "execution_count": 41,
     "metadata": {},
     "output_type": "execute_result"
    }
   ],
   "source": [
    "#From lesson 6.02\n",
    "bag = BaggingRegressor(random_state = 42)\n",
    "bag.fit(X_train, y_train)"
   ]
  },
  {
   "cell_type": "code",
   "execution_count": 42,
   "id": "03004343-d326-4ffc-9ffe-42240f4bfba7",
   "metadata": {},
   "outputs": [],
   "source": [
    "prediction = bag.predict(X_test)"
   ]
  },
  {
   "cell_type": "code",
   "execution_count": 43,
   "id": "e4324e68-0e90-4839-9e96-0dee19b72b9f",
   "metadata": {},
   "outputs": [
    {
     "name": "stdout",
     "output_type": "stream",
     "text": [
      "Score on training set: 0.9888120445955765\n",
      "Score on testing set: 0.9889705258511065\n"
     ]
    }
   ],
   "source": [
    "print(f'Score on training set: {bag.score(X_train, y_train)}')\n",
    "print(f'Score on testing set: {bag.score(X_test, y_test)}')"
   ]
  },
  {
   "cell_type": "code",
   "execution_count": 44,
   "id": "0df109b6-6576-4c16-a1d6-87c4ed8a69a1",
   "metadata": {},
   "outputs": [
    {
     "data": {
      "text/plain": [
       "16.16261780599123"
      ]
     },
     "execution_count": 44,
     "metadata": {},
     "output_type": "execute_result"
    }
   ],
   "source": [
    "metrics.mean_squared_error(y_test, prediction)"
   ]
  },
  {
   "cell_type": "code",
   "execution_count": 45,
   "id": "9c586e24-11ef-4a7c-93ae-bedbeec2b0ca",
   "metadata": {},
   "outputs": [
    {
     "data": {
      "text/plain": [
       "4.020275837052879"
      ]
     },
     "execution_count": 45,
     "metadata": {},
     "output_type": "execute_result"
    }
   ],
   "source": [
    "np.sqrt(metrics.mean_squared_error(y_test, prediction))"
   ]
  },
  {
   "cell_type": "code",
   "execution_count": 46,
   "id": "67090000-a0f9-4b3f-9a4c-f698f73f851d",
   "metadata": {},
   "outputs": [
    {
     "data": {
      "text/plain": [
       "2.127471242963113"
      ]
     },
     "execution_count": 46,
     "metadata": {},
     "output_type": "execute_result"
    }
   ],
   "source": [
    "residuals = y_test - prediction\n",
    "np.abs(residuals).mean()"
   ]
  },
  {
   "cell_type": "markdown",
   "id": "ce4eb2ab-015c-45a7-ad2c-996c628b32c8",
   "metadata": {},
   "source": [
    "___"
   ]
  },
  {
   "cell_type": "markdown",
   "id": "24ea5283-93d4-4e82-8373-776ab84d3b75",
   "metadata": {},
   "source": [
    "RandomForest:"
   ]
  },
  {
   "cell_type": "code",
   "execution_count": 47,
   "id": "5b9f2e7d-3085-429b-bb70-c195dde18c3d",
   "metadata": {},
   "outputs": [],
   "source": [
    "xvars = ['room_type_Entire home/apt', 'accommodates', 'room_type_Private room', 'maximum_nights', 'latitude']\n",
    "X = Bronx_dummies[xvars]\n",
    "y = Bronx_dummies['price']\n",
    "X_train, X_test, y_train, y_test = train_test_split(X, y, random_state=42)"
   ]
  },
  {
   "cell_type": "code",
   "execution_count": 48,
   "id": "b57b4c27-5070-4f48-ac3f-a4bf1f14ce52",
   "metadata": {},
   "outputs": [],
   "source": [
    "rf = RandomForestRegressor(n_estimators = 100)"
   ]
  },
  {
   "cell_type": "code",
   "execution_count": 49,
   "id": "d019b6ea-f53c-4683-a8f6-710974da4771",
   "metadata": {},
   "outputs": [
    {
     "data": {
      "text/plain": [
       "RandomForestRegressor()"
      ]
     },
     "execution_count": 49,
     "metadata": {},
     "output_type": "execute_result"
    }
   ],
   "source": [
    "rf.fit(X_train,y_train)"
   ]
  },
  {
   "cell_type": "code",
   "execution_count": 50,
   "id": "3ee7f83b-5fe1-4dec-b16b-a04d277320ac",
   "metadata": {},
   "outputs": [],
   "source": [
    "prediction = rf.predict(X_test)"
   ]
  },
  {
   "cell_type": "code",
   "execution_count": 51,
   "id": "270d51a7-68df-47a2-9f99-d63789e849cd",
   "metadata": {},
   "outputs": [
    {
     "name": "stdout",
     "output_type": "stream",
     "text": [
      "Score on training set: 0.988815684910948\n",
      "Score on testing set: 0.9890069237984309\n"
     ]
    }
   ],
   "source": [
    "print(f'Score on training set: {rf.score(X_train, y_train)}')\n",
    "print(f'Score on testing set: {rf.score(X_test, y_test)}')"
   ]
  },
  {
   "cell_type": "code",
   "execution_count": 52,
   "id": "71d576d8-fb00-4fe2-8c43-f26a09826cfa",
   "metadata": {},
   "outputs": [
    {
     "data": {
      "text/plain": [
       "16.109280166899293"
      ]
     },
     "execution_count": 52,
     "metadata": {},
     "output_type": "execute_result"
    }
   ],
   "source": [
    "metrics.mean_squared_error(y_test, prediction)"
   ]
  },
  {
   "cell_type": "code",
   "execution_count": 53,
   "id": "a8754cd2-b0f9-46a5-912f-9c0c0af9e3ad",
   "metadata": {},
   "outputs": [
    {
     "data": {
      "text/plain": [
       "4.013636775656125"
      ]
     },
     "execution_count": 53,
     "metadata": {},
     "output_type": "execute_result"
    }
   ],
   "source": [
    "np.sqrt(metrics.mean_squared_error(y_test, prediction))"
   ]
  },
  {
   "cell_type": "code",
   "execution_count": 54,
   "id": "ce248ffd-a136-4628-9366-9adfe92cce6b",
   "metadata": {},
   "outputs": [
    {
     "data": {
      "text/plain": [
       "2.12941708540968"
      ]
     },
     "execution_count": 54,
     "metadata": {},
     "output_type": "execute_result"
    }
   ],
   "source": [
    "residuals = y_test - prediction\n",
    "np.abs(residuals).mean()"
   ]
  },
  {
   "cell_type": "markdown",
   "id": "bb30b611-3589-4532-850e-52642728c3fb",
   "metadata": {},
   "source": [
    "ExtraTrees:"
   ]
  },
  {
   "cell_type": "code",
   "execution_count": 55,
   "id": "e8a3fdc8-f883-4c26-a3ef-666061bf3d19",
   "metadata": {},
   "outputs": [],
   "source": [
    "et = ExtraTreesRegressor(n_estimators = 100)"
   ]
  },
  {
   "cell_type": "code",
   "execution_count": 56,
   "id": "9e5b69e6-61c5-44d1-affd-9445475407ab",
   "metadata": {},
   "outputs": [
    {
     "data": {
      "text/plain": [
       "ExtraTreesRegressor()"
      ]
     },
     "execution_count": 56,
     "metadata": {},
     "output_type": "execute_result"
    }
   ],
   "source": [
    "et.fit(X_train, y_train)"
   ]
  },
  {
   "cell_type": "code",
   "execution_count": 57,
   "id": "ed0ce03c-a41a-43b1-bbcb-8002979da6fa",
   "metadata": {},
   "outputs": [],
   "source": [
    "prediction = et.predict(X_test)"
   ]
  },
  {
   "cell_type": "code",
   "execution_count": 58,
   "id": "cb24db17-1c09-4a5b-b2fb-caae4d74b4f1",
   "metadata": {},
   "outputs": [
    {
     "name": "stdout",
     "output_type": "stream",
     "text": [
      "Score on training set: 0.9888160419467622\n",
      "Score on testing set: 0.9890075801431886\n"
     ]
    }
   ],
   "source": [
    "print(f'Score on training set: {et.score(X_train, y_train)}')\n",
    "print(f'Score on testing set: {et.score(X_test, y_test)}')"
   ]
  },
  {
   "cell_type": "code",
   "execution_count": 59,
   "id": "94fbb944-fd19-41dd-a3ee-1a68d8ce0577",
   "metadata": {},
   "outputs": [
    {
     "data": {
      "text/plain": [
       "16.108318357721032"
      ]
     },
     "execution_count": 59,
     "metadata": {},
     "output_type": "execute_result"
    }
   ],
   "source": [
    "metrics.mean_squared_error(y_test, prediction)"
   ]
  },
  {
   "cell_type": "code",
   "execution_count": 60,
   "id": "b26565c1-8ebd-436a-b0db-ac9af2007e86",
   "metadata": {},
   "outputs": [
    {
     "data": {
      "text/plain": [
       "4.013516956202008"
      ]
     },
     "execution_count": 60,
     "metadata": {},
     "output_type": "execute_result"
    }
   ],
   "source": [
    "np.sqrt(metrics.mean_squared_error(y_test, prediction))"
   ]
  },
  {
   "cell_type": "code",
   "execution_count": 61,
   "id": "28efe68f-798f-40e1-a8c7-3367b8187b74",
   "metadata": {},
   "outputs": [
    {
     "data": {
      "text/plain": [
       "2.1321772593829396"
      ]
     },
     "execution_count": 61,
     "metadata": {},
     "output_type": "execute_result"
    }
   ],
   "source": [
    "residuals = y_test - prediction\n",
    "np.abs(residuals).mean()"
   ]
  },
  {
   "cell_type": "markdown",
   "id": "7d3689e6-4938-4b95-ab21-f26585b48a2e",
   "metadata": {},
   "source": [
    "Decision Tree and Extra Trees are the best models here. So I'll go with the decision tree for the streamlit app.\n"
   ]
  },
  {
   "cell_type": "markdown",
   "id": "c5d6f27c-33b8-4314-acfd-52541c1f890e",
   "metadata": {},
   "source": [
    "We will pickle this object to use for our streamlit app"
   ]
  },
  {
   "cell_type": "code",
   "execution_count": 49,
   "id": "b0f6c2a5-8ff1-4f80-a11b-f77ce5c3ac37",
   "metadata": {},
   "outputs": [],
   "source": [
    "with open('models/bronx_pickle.pkl', 'wb') as f:\n",
    "    pickle.dump(dt, f)"
   ]
  },
  {
   "cell_type": "code",
   "execution_count": null,
   "id": "5bcc26de-8623-4495-84eb-ad72c9a05043",
   "metadata": {},
   "outputs": [],
   "source": []
  }
 ],
 "metadata": {
  "kernelspec": {
   "display_name": "Python 3 (ipykernel)",
   "language": "python",
   "name": "python3"
  },
  "language_info": {
   "codemirror_mode": {
    "name": "ipython",
    "version": 3
   },
   "file_extension": ".py",
   "mimetype": "text/x-python",
   "name": "python",
   "nbconvert_exporter": "python",
   "pygments_lexer": "ipython3",
   "version": "3.9.7"
  }
 },
 "nbformat": 4,
 "nbformat_minor": 5
}
