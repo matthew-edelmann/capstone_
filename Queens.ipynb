{
 "cells": [
  {
   "cell_type": "code",
   "execution_count": 1,
   "id": "0122a843-0db6-43d4-a222-ac9e71a41226",
   "metadata": {},
   "outputs": [],
   "source": [
    "import numpy as np\n",
    "import pandas as pd\n",
    "import seaborn as sns\n",
    "import matplotlib.pyplot as plt\n",
    "from sklearn.model_selection import train_test_split, cross_val_score\n",
    "from sklearn.linear_model import LinearRegression\n",
    "from sklearn.tree import DecisionTreeRegressor\n",
    "from sklearn.preprocessing import StandardScaler, PolynomialFeatures\n",
    "from sklearn.ensemble import BaggingRegressor, RandomForestRegressor, ExtraTreesRegressor\n",
    "from sklearn import metrics\n",
    "import pickle"
   ]
  },
  {
   "cell_type": "code",
   "execution_count": 2,
   "id": "8ac0da8d-1af8-43b6-831f-334ed70c12e7",
   "metadata": {},
   "outputs": [
    {
     "data": {
      "text/html": [
       "<div>\n",
       "<style scoped>\n",
       "    .dataframe tbody tr th:only-of-type {\n",
       "        vertical-align: middle;\n",
       "    }\n",
       "\n",
       "    .dataframe tbody tr th {\n",
       "        vertical-align: top;\n",
       "    }\n",
       "\n",
       "    .dataframe thead th {\n",
       "        text-align: right;\n",
       "    }\n",
       "</style>\n",
       "<table border=\"1\" class=\"dataframe\">\n",
       "  <thead>\n",
       "    <tr style=\"text-align: right;\">\n",
       "      <th></th>\n",
       "      <th>id</th>\n",
       "      <th>date</th>\n",
       "      <th>available</th>\n",
       "      <th>price</th>\n",
       "      <th>minimum_nights</th>\n",
       "      <th>maximum_nights</th>\n",
       "      <th>host_id</th>\n",
       "      <th>host_response_time</th>\n",
       "      <th>host_is_superhost</th>\n",
       "      <th>host_listings_count</th>\n",
       "      <th>...</th>\n",
       "      <th>review_scores_accuracy</th>\n",
       "      <th>review_scores_cleanliness</th>\n",
       "      <th>review_scores_checkin</th>\n",
       "      <th>review_scores_communication</th>\n",
       "      <th>review_scores_location</th>\n",
       "      <th>review_scores_value</th>\n",
       "      <th>instant_bookable</th>\n",
       "      <th>calculated_host_listings_count</th>\n",
       "      <th>review</th>\n",
       "      <th>month</th>\n",
       "    </tr>\n",
       "  </thead>\n",
       "  <tbody>\n",
       "    <tr>\n",
       "      <th>0</th>\n",
       "      <td>2595</td>\n",
       "      <td>2022-06-04</td>\n",
       "      <td>0</td>\n",
       "      <td>225.0</td>\n",
       "      <td>30</td>\n",
       "      <td>1125</td>\n",
       "      <td>2845.0</td>\n",
       "      <td>a few days or more</td>\n",
       "      <td>0.0</td>\n",
       "      <td>6.0</td>\n",
       "      <td>...</td>\n",
       "      <td>4.72</td>\n",
       "      <td>4.62</td>\n",
       "      <td>4.76</td>\n",
       "      <td>4.79</td>\n",
       "      <td>4.86</td>\n",
       "      <td>4.41</td>\n",
       "      <td>0.0</td>\n",
       "      <td>3.0</td>\n",
       "      <td>0        11/21/2009\\n1         5/28/2009\\n2   ...</td>\n",
       "      <td>Jun</td>\n",
       "    </tr>\n",
       "    <tr>\n",
       "      <th>1</th>\n",
       "      <td>2595</td>\n",
       "      <td>2022-06-05</td>\n",
       "      <td>0</td>\n",
       "      <td>225.0</td>\n",
       "      <td>30</td>\n",
       "      <td>1125</td>\n",
       "      <td>2845.0</td>\n",
       "      <td>a few days or more</td>\n",
       "      <td>0.0</td>\n",
       "      <td>6.0</td>\n",
       "      <td>...</td>\n",
       "      <td>4.72</td>\n",
       "      <td>4.62</td>\n",
       "      <td>4.76</td>\n",
       "      <td>4.79</td>\n",
       "      <td>4.86</td>\n",
       "      <td>4.41</td>\n",
       "      <td>0.0</td>\n",
       "      <td>3.0</td>\n",
       "      <td>0        11/21/2009\\n1         5/28/2009\\n2   ...</td>\n",
       "      <td>Jun</td>\n",
       "    </tr>\n",
       "    <tr>\n",
       "      <th>2</th>\n",
       "      <td>2595</td>\n",
       "      <td>2022-06-06</td>\n",
       "      <td>0</td>\n",
       "      <td>225.0</td>\n",
       "      <td>30</td>\n",
       "      <td>1125</td>\n",
       "      <td>2845.0</td>\n",
       "      <td>a few days or more</td>\n",
       "      <td>0.0</td>\n",
       "      <td>6.0</td>\n",
       "      <td>...</td>\n",
       "      <td>4.72</td>\n",
       "      <td>4.62</td>\n",
       "      <td>4.76</td>\n",
       "      <td>4.79</td>\n",
       "      <td>4.86</td>\n",
       "      <td>4.41</td>\n",
       "      <td>0.0</td>\n",
       "      <td>3.0</td>\n",
       "      <td>0        11/21/2009\\n1         5/28/2009\\n2   ...</td>\n",
       "      <td>Jun</td>\n",
       "    </tr>\n",
       "    <tr>\n",
       "      <th>3</th>\n",
       "      <td>2595</td>\n",
       "      <td>2022-06-07</td>\n",
       "      <td>0</td>\n",
       "      <td>225.0</td>\n",
       "      <td>30</td>\n",
       "      <td>1125</td>\n",
       "      <td>2845.0</td>\n",
       "      <td>a few days or more</td>\n",
       "      <td>0.0</td>\n",
       "      <td>6.0</td>\n",
       "      <td>...</td>\n",
       "      <td>4.72</td>\n",
       "      <td>4.62</td>\n",
       "      <td>4.76</td>\n",
       "      <td>4.79</td>\n",
       "      <td>4.86</td>\n",
       "      <td>4.41</td>\n",
       "      <td>0.0</td>\n",
       "      <td>3.0</td>\n",
       "      <td>0        11/21/2009\\n1         5/28/2009\\n2   ...</td>\n",
       "      <td>Jun</td>\n",
       "    </tr>\n",
       "    <tr>\n",
       "      <th>4</th>\n",
       "      <td>2595</td>\n",
       "      <td>2022-06-08</td>\n",
       "      <td>0</td>\n",
       "      <td>225.0</td>\n",
       "      <td>30</td>\n",
       "      <td>1125</td>\n",
       "      <td>2845.0</td>\n",
       "      <td>a few days or more</td>\n",
       "      <td>0.0</td>\n",
       "      <td>6.0</td>\n",
       "      <td>...</td>\n",
       "      <td>4.72</td>\n",
       "      <td>4.62</td>\n",
       "      <td>4.76</td>\n",
       "      <td>4.79</td>\n",
       "      <td>4.86</td>\n",
       "      <td>4.41</td>\n",
       "      <td>0.0</td>\n",
       "      <td>3.0</td>\n",
       "      <td>0        11/21/2009\\n1         5/28/2009\\n2   ...</td>\n",
       "      <td>Jun</td>\n",
       "    </tr>\n",
       "  </tbody>\n",
       "</table>\n",
       "<p>5 rows × 36 columns</p>\n",
       "</div>"
      ],
      "text/plain": [
       "     id       date  available  price  minimum_nights  maximum_nights  host_id  \\\n",
       "0  2595 2022-06-04          0  225.0              30            1125   2845.0   \n",
       "1  2595 2022-06-05          0  225.0              30            1125   2845.0   \n",
       "2  2595 2022-06-06          0  225.0              30            1125   2845.0   \n",
       "3  2595 2022-06-07          0  225.0              30            1125   2845.0   \n",
       "4  2595 2022-06-08          0  225.0              30            1125   2845.0   \n",
       "\n",
       "   host_response_time  host_is_superhost  host_listings_count  ...  \\\n",
       "0  a few days or more                0.0                  6.0  ...   \n",
       "1  a few days or more                0.0                  6.0  ...   \n",
       "2  a few days or more                0.0                  6.0  ...   \n",
       "3  a few days or more                0.0                  6.0  ...   \n",
       "4  a few days or more                0.0                  6.0  ...   \n",
       "\n",
       "  review_scores_accuracy  review_scores_cleanliness  review_scores_checkin  \\\n",
       "0                   4.72                       4.62                   4.76   \n",
       "1                   4.72                       4.62                   4.76   \n",
       "2                   4.72                       4.62                   4.76   \n",
       "3                   4.72                       4.62                   4.76   \n",
       "4                   4.72                       4.62                   4.76   \n",
       "\n",
       "  review_scores_communication review_scores_location  review_scores_value  \\\n",
       "0                        4.79                   4.86                 4.41   \n",
       "1                        4.79                   4.86                 4.41   \n",
       "2                        4.79                   4.86                 4.41   \n",
       "3                        4.79                   4.86                 4.41   \n",
       "4                        4.79                   4.86                 4.41   \n",
       "\n",
       "   instant_bookable calculated_host_listings_count  \\\n",
       "0               0.0                            3.0   \n",
       "1               0.0                            3.0   \n",
       "2               0.0                            3.0   \n",
       "3               0.0                            3.0   \n",
       "4               0.0                            3.0   \n",
       "\n",
       "                                              review  month  \n",
       "0  0        11/21/2009\\n1         5/28/2009\\n2   ...    Jun  \n",
       "1  0        11/21/2009\\n1         5/28/2009\\n2   ...    Jun  \n",
       "2  0        11/21/2009\\n1         5/28/2009\\n2   ...    Jun  \n",
       "3  0        11/21/2009\\n1         5/28/2009\\n2   ...    Jun  \n",
       "4  0        11/21/2009\\n1         5/28/2009\\n2   ...    Jun  \n",
       "\n",
       "[5 rows x 36 columns]"
      ]
     },
     "execution_count": 2,
     "metadata": {},
     "output_type": "execute_result"
    }
   ],
   "source": [
    "df_full = pd.read_hdf('data/df_full.h5')\n",
    "df_full.head()"
   ]
  },
  {
   "cell_type": "code",
   "execution_count": 3,
   "id": "ba6c4d09-14cd-4761-a6ab-d81cdaee811b",
   "metadata": {},
   "outputs": [
    {
     "data": {
      "text/plain": [
       "(1036165, 36)"
      ]
     },
     "execution_count": 3,
     "metadata": {},
     "output_type": "execute_result"
    }
   ],
   "source": [
    "df_full.shape"
   ]
  },
  {
   "cell_type": "code",
   "execution_count": 4,
   "id": "3fbb7364-937f-4a47-948e-77c4b8d955a2",
   "metadata": {},
   "outputs": [
    {
     "data": {
      "text/plain": [
       "(81030, 36)"
      ]
     },
     "execution_count": 4,
     "metadata": {},
     "output_type": "execute_result"
    }
   ],
   "source": [
    "Queens = df_full.copy()\n",
    "Queens = Queens[Queens['neighbourhood_group_cleansed'] == 'Queens']\n",
    "Queens.shape"
   ]
  },
  {
   "cell_type": "code",
   "execution_count": 5,
   "id": "602b7d46-6100-45d1-a4c6-c7737c844055",
   "metadata": {},
   "outputs": [
    {
     "name": "stderr",
     "output_type": "stream",
     "text": [
      "C:\\Users\\matth\\anaconda3\\lib\\site-packages\\pandas\\core\\generic.py:2703: PerformanceWarning: \n",
      "your performance may suffer as PyTables will pickle object types that it cannot\n",
      "map directly to c-types [inferred_type->mixed,key->block3_values] [items->Index(['host_response_time', 'host_verifications', 'neighbourhood_cleansed',\n",
      "       'neighbourhood_group_cleansed', 'property_type', 'room_type',\n",
      "       'amenities', 'review_scores_rating', 'review_scores_accuracy',\n",
      "       'review_scores_cleanliness', 'review_scores_checkin',\n",
      "       'review_scores_communication', 'review_scores_location',\n",
      "       'review_scores_value', 'review', 'month'],\n",
      "      dtype='object')]\n",
      "\n",
      "  pytables.to_hdf(\n"
     ]
    }
   ],
   "source": [
    "Queens.to_hdf(r'data/Queens.h5', key='stage', mode='w') #run twice"
   ]
  },
  {
   "cell_type": "markdown",
   "id": "daacbc4e-81d9-4790-8179-090395a95a6c",
   "metadata": {},
   "source": [
    "Make dummies\n"
   ]
  },
  {
   "cell_type": "code",
   "execution_count": 6,
   "id": "ce461715-4c73-4403-8d6d-775800c71e03",
   "metadata": {},
   "outputs": [],
   "source": [
    "Queens_dummies = pd.get_dummies(Queens, columns=['host_response_time', 'room_type'])"
   ]
  },
  {
   "cell_type": "code",
   "execution_count": 7,
   "id": "a109a250-4a8f-47fe-9f9f-0bf4f0a45ee4",
   "metadata": {},
   "outputs": [
    {
     "data": {
      "text/plain": [
       "room_type_Private room                  -0.342764\n",
       "host_identity_verified                  -0.142984\n",
       "room_type_Shared room                   -0.090931\n",
       "host_response_time_within a few hours   -0.087238\n",
       "calculated_host_listings_count          -0.083225\n",
       "instant_bookable                        -0.038319\n",
       "host_listings_count                     -0.037789\n",
       "number_of_reviews                       -0.029600\n",
       "host_response_time_unknown              -0.017743\n",
       "host_response_time_a few days or more   -0.011464\n",
       "host_response_time_within a day         -0.010317\n",
       "latitude                                -0.009885\n",
       "minimum_nights                           0.002815\n",
       "available                                0.032124\n",
       "availability_365                         0.043416\n",
       "id                                       0.046101\n",
       "has_availability                         0.053811\n",
       "maximum_nights                           0.085111\n",
       "longitude                                0.093391\n",
       "host_is_superhost                        0.097559\n",
       "host_response_time_within an hour        0.107551\n",
       "host_id                                  0.124549\n",
       "room_type_Entire home/apt                0.371945\n",
       "beds                                     0.476443\n",
       "accommodates                             0.567580\n",
       "price                                    1.000000\n",
       "host_has_profile_pic                          NaN\n",
       "Name: price, dtype: float64"
      ]
     },
     "execution_count": 7,
     "metadata": {},
     "output_type": "execute_result"
    }
   ],
   "source": [
    "Queens_dummies.corr()['price'].sort_values()"
   ]
  },
  {
   "cell_type": "code",
   "execution_count": 8,
   "id": "eef25e90-f2bc-45a0-99b1-47ac5520fd1a",
   "metadata": {},
   "outputs": [],
   "source": [
    "def tts_borough(df, xvars, dge):\n",
    "    X = df[xvars]\n",
    "    y = df['price']\n",
    "    poly = PolynomialFeatures(include_bias = False, degree = dge)\n",
    "    X_poly = poly.fit_transform(X)\n",
    "    X_train, X_test, y_train, y_test = train_test_split(X_poly, y, random_state=42)\n",
    "    return X_train, X_test, y_train, y_test"
   ]
  },
  {
   "cell_type": "code",
   "execution_count": 9,
   "id": "5a48db62-96ad-4333-aa63-5a43d94fa348",
   "metadata": {},
   "outputs": [],
   "source": [
    "xvars = ['accommodates', 'beds', 'room_type_Entire home/apt', 'room_type_Private room', 'host_identity_verified', 'host_id', 'host_response_time_within an hour', 'host_is_superhost']\n",
    "X_train, X_test, y_train, y_test = tts_borough(Queens_dummies, xvars, 2)"
   ]
  },
  {
   "cell_type": "markdown",
   "id": "6f79cd3c-a584-4565-9cbe-bd24b3ea6e83",
   "metadata": {},
   "source": [
    "Let's make a linear regression model\n"
   ]
  },
  {
   "cell_type": "code",
   "execution_count": 10,
   "id": "1749fd52-1d92-4b22-966e-22ba9d4a669e",
   "metadata": {},
   "outputs": [],
   "source": [
    "lr = LinearRegression()"
   ]
  },
  {
   "cell_type": "code",
   "execution_count": 11,
   "id": "180ec9c5-0c56-4248-ac06-2388b14d1f9a",
   "metadata": {},
   "outputs": [
    {
     "data": {
      "text/plain": [
       "0.6705820176671878"
      ]
     },
     "execution_count": 11,
     "metadata": {},
     "output_type": "execute_result"
    }
   ],
   "source": [
    "cross_val_score(lr, X_train, y_train, cv = 5).mean()"
   ]
  },
  {
   "cell_type": "code",
   "execution_count": 12,
   "id": "7e7fc8a9-0ded-48b8-9888-d04570bd99a2",
   "metadata": {},
   "outputs": [
    {
     "data": {
      "text/plain": [
       "LinearRegression()"
      ]
     },
     "execution_count": 12,
     "metadata": {},
     "output_type": "execute_result"
    }
   ],
   "source": [
    "lr.fit(X_train, y_train)"
   ]
  },
  {
   "cell_type": "code",
   "execution_count": 13,
   "id": "dfba4d3a-e442-4b52-a604-77556d295950",
   "metadata": {},
   "outputs": [],
   "source": [
    "prediction = lr.predict(X_test)"
   ]
  },
  {
   "cell_type": "markdown",
   "id": "c2e71fc0-c486-4dee-9f55-887838377e42",
   "metadata": {},
   "source": [
    "The function is"
   ]
  },
  {
   "cell_type": "code",
   "execution_count": 14,
   "id": "330abb8a-1608-429a-b9f9-353f259dca75",
   "metadata": {},
   "outputs": [
    {
     "name": "stdout",
     "output_type": "stream",
     "text": [
      "Model intercept: -59.732709223957045\n",
      "Model coefficient values: [ 1.35389448e+01  1.99890296e+01 -9.39716620e+00  1.50712110e+01\n",
      "  5.58696038e+01  1.45256407e-05  1.28657251e+01  4.74354105e+01\n",
      "  6.86803919e+00 -3.08105071e+00  1.67234415e+01 -9.04045000e-01\n",
      " -6.54780636e+01  1.32258276e-06 -1.89553862e+01  4.84081770e+00\n",
      " -9.25669070e+00  1.22567146e+01 -1.98256601e+01  4.10688741e+01\n",
      "  1.04383773e-07  2.72422873e+01 -2.46421861e+01 -1.07610174e+01\n",
      " -1.13686838e-13  2.83143254e+01 -6.86241635e-07  3.55737955e-01\n",
      "  2.09299835e+01  1.54077466e+01  3.23882542e+01 -2.43495600e-06\n",
      " -9.60940363e+00  3.96436396e+00  5.60558504e+01 -1.29348137e-05\n",
      "  3.11770145e+01 -8.40813063e+01 -1.74958917e-13 -5.70300005e-06\n",
      "  3.81842446e-07  1.27924608e+01 -1.05916274e+01  4.69404739e+01]\n"
     ]
    }
   ],
   "source": [
    "print(f'Model intercept: {lr.intercept_}')\n",
    "print(f'Model coefficient values: {lr.coef_}')"
   ]
  },
  {
   "cell_type": "markdown",
   "id": "44650baa-de0e-47aa-b3cc-33d3031c7c20",
   "metadata": {},
   "source": [
    "The R^2 value is\n"
   ]
  },
  {
   "cell_type": "code",
   "execution_count": 15,
   "id": "60edf7b8-c501-42a7-a952-819169c43f80",
   "metadata": {},
   "outputs": [
    {
     "name": "stdout",
     "output_type": "stream",
     "text": [
      "Training R2: 0.6711136176693455\n",
      "Testing R2: 0.6730646354403718\n"
     ]
    }
   ],
   "source": [
    "print(f'Training R2: {lr.score(X_train, y_train)}')\n",
    "print(f'Testing R2: {lr.score(X_test, y_test)}')"
   ]
  },
  {
   "cell_type": "markdown",
   "id": "da176e3c-d6d8-4ef7-9170-9fca4b85297f",
   "metadata": {},
   "source": [
    "The mean squared error is\n"
   ]
  },
  {
   "cell_type": "code",
   "execution_count": 16,
   "id": "2fde2750-d483-4a16-980f-c108dded554c",
   "metadata": {},
   "outputs": [
    {
     "data": {
      "text/plain": [
       "3922.9925580837375"
      ]
     },
     "execution_count": 16,
     "metadata": {},
     "output_type": "execute_result"
    }
   ],
   "source": [
    "metrics.mean_squared_error(y_test, prediction)"
   ]
  },
  {
   "cell_type": "markdown",
   "id": "ee510fe9-4fe3-4212-92e0-a2eab9aa2967",
   "metadata": {},
   "source": [
    "And the root mean squered error is\n"
   ]
  },
  {
   "cell_type": "code",
   "execution_count": 17,
   "id": "6cf12576-c62f-4785-a77b-ed4069634e00",
   "metadata": {},
   "outputs": [
    {
     "data": {
      "text/plain": [
       "62.63379725103483"
      ]
     },
     "execution_count": 17,
     "metadata": {},
     "output_type": "execute_result"
    }
   ],
   "source": [
    "np.sqrt(metrics.mean_squared_error(y_test, prediction))"
   ]
  },
  {
   "cell_type": "markdown",
   "id": "111c436d-3608-4f01-968a-0299c4bb741a",
   "metadata": {},
   "source": [
    "How about the mean of residuals\n"
   ]
  },
  {
   "cell_type": "code",
   "execution_count": 18,
   "id": "e6126936-8a3a-44e6-8d63-b1f3cf1b9f2f",
   "metadata": {},
   "outputs": [
    {
     "data": {
      "text/plain": [
       "39.74589721731444"
      ]
     },
     "execution_count": 18,
     "metadata": {},
     "output_type": "execute_result"
    }
   ],
   "source": [
    "residuals = y_test - prediction\n",
    "np.abs(residuals).mean()"
   ]
  },
  {
   "cell_type": "markdown",
   "id": "501e8f2d-212c-4b3e-b871-a35656b12d0c",
   "metadata": {},
   "source": [
    "This model is ok, but let's see if we can do better. We will start with decision trees.\n"
   ]
  },
  {
   "cell_type": "code",
   "execution_count": 19,
   "id": "e9855192-1a46-4576-98e2-c6ef179e5fe3",
   "metadata": {},
   "outputs": [],
   "source": [
    "#Didn't use host ID because it doesn't make sense as a variable\n",
    "xvars = ['accommodates', 'beds', 'room_type_Entire home/apt', 'room_type_Private room', 'host_identity_verified', 'host_response_time_within an hour', 'host_is_superhost']\n",
    "X = Queens_dummies[xvars]\n",
    "y = Queens_dummies['price']\n",
    "X_train, X_test, y_train, y_test = train_test_split(X, y, random_state=42)"
   ]
  },
  {
   "cell_type": "code",
   "execution_count": 20,
   "id": "3a7a1421-fe9a-4987-bc6f-470a6e01930b",
   "metadata": {},
   "outputs": [],
   "source": [
    "#I tweeked this until I got the best result\n",
    "dt = DecisionTreeRegressor(random_state=42)"
   ]
  },
  {
   "cell_type": "code",
   "execution_count": 21,
   "id": "665a5337-505e-4566-89ea-344da428ee1f",
   "metadata": {},
   "outputs": [
    {
     "data": {
      "text/plain": [
       "DecisionTreeRegressor(random_state=42)"
      ]
     },
     "execution_count": 21,
     "metadata": {},
     "output_type": "execute_result"
    }
   ],
   "source": [
    "dt.fit(X_train, y_train)"
   ]
  },
  {
   "cell_type": "code",
   "execution_count": 22,
   "id": "005af5c8-ad8d-4021-afcc-ec27441d2046",
   "metadata": {},
   "outputs": [],
   "source": [
    "prediction = dt.predict(X_test)"
   ]
  },
  {
   "cell_type": "code",
   "execution_count": 23,
   "id": "227de278-b5cf-4c7a-b7ee-0df1032e6e59",
   "metadata": {},
   "outputs": [
    {
     "name": "stdout",
     "output_type": "stream",
     "text": [
      "Score on training set: 0.9229920151689808\n",
      "Score on testing set: 0.9238511265992795\n"
     ]
    }
   ],
   "source": [
    "print(f'Score on training set: {dt.score(X_train, y_train)}')\n",
    "print(f'Score on testing set: {dt.score(X_test, y_test)}')"
   ]
  },
  {
   "cell_type": "code",
   "execution_count": 24,
   "id": "67d5ca63-909a-4df3-8b55-4f3838dcf312",
   "metadata": {},
   "outputs": [
    {
     "data": {
      "text/plain": [
       "913.7324867252249"
      ]
     },
     "execution_count": 24,
     "metadata": {},
     "output_type": "execute_result"
    }
   ],
   "source": [
    "metrics.mean_squared_error(y_test, prediction)"
   ]
  },
  {
   "cell_type": "code",
   "execution_count": 25,
   "id": "d416abb8-6526-42dc-871d-13b1ea0d7faa",
   "metadata": {},
   "outputs": [
    {
     "data": {
      "text/plain": [
       "30.228008315554384"
      ]
     },
     "execution_count": 25,
     "metadata": {},
     "output_type": "execute_result"
    }
   ],
   "source": [
    "np.sqrt(metrics.mean_squared_error(y_test, prediction))"
   ]
  },
  {
   "cell_type": "code",
   "execution_count": 26,
   "id": "531154e8-9c0c-4f2e-b7b9-bac0fe10ee0c",
   "metadata": {},
   "outputs": [
    {
     "data": {
      "text/plain": [
       "18.656372874490017"
      ]
     },
     "execution_count": 26,
     "metadata": {},
     "output_type": "execute_result"
    }
   ],
   "source": [
    "residuals = y_test - prediction\n",
    "np.abs(residuals).mean()"
   ]
  },
  {
   "cell_type": "markdown",
   "id": "ac031f41-2fec-4a3b-ba08-53c94d0337ac",
   "metadata": {},
   "source": [
    "This is a much better model. Let's look at bagging now."
   ]
  },
  {
   "cell_type": "code",
   "execution_count": 50,
   "id": "7392e6d8-a5fb-474d-86b8-75ed4873161f",
   "metadata": {},
   "outputs": [],
   "source": [
    "#Didn't use host ID because it doesn't make sense as a variable\n",
    "xvars = ['accommodates', 'beds', 'room_type_Entire home/apt', 'room_type_Private room', 'host_identity_verified', 'host_response_time_within an hour', 'host_is_superhost']\n",
    "X = Queens_dummies[xvars]\n",
    "y = Queens_dummies['price']\n",
    "X_train, X_test, y_train, y_test = train_test_split(X, y, random_state=42)"
   ]
  },
  {
   "cell_type": "code",
   "execution_count": 28,
   "id": "b69310f0-feb3-440d-a31c-5d484acbd3b3",
   "metadata": {},
   "outputs": [
    {
     "data": {
      "text/plain": [
       "BaggingRegressor(random_state=42)"
      ]
     },
     "execution_count": 28,
     "metadata": {},
     "output_type": "execute_result"
    }
   ],
   "source": [
    "#From lesson 6.02\n",
    "bag = BaggingRegressor(random_state = 42)\n",
    "bag.fit(X_train, y_train)"
   ]
  },
  {
   "cell_type": "code",
   "execution_count": 29,
   "id": "b4cf6661-af09-40be-b12c-01d254853185",
   "metadata": {},
   "outputs": [],
   "source": [
    "prediction = bag.predict(X_test)"
   ]
  },
  {
   "cell_type": "code",
   "execution_count": 30,
   "id": "4497f63d-0c07-49f6-8c1a-75d20010a1aa",
   "metadata": {},
   "outputs": [
    {
     "name": "stdout",
     "output_type": "stream",
     "text": [
      "Score on training set: 0.9229761235119394\n",
      "Score on testing set: 0.9238294210101952\n"
     ]
    }
   ],
   "source": [
    "print(f'Score on training set: {bag.score(X_train, y_train)}')\n",
    "print(f'Score on testing set: {bag.score(X_test, y_test)}')"
   ]
  },
  {
   "cell_type": "code",
   "execution_count": 31,
   "id": "e87e59ba-11f5-472e-9c83-d9e0cd1895d8",
   "metadata": {},
   "outputs": [
    {
     "data": {
      "text/plain": [
       "913.9929384036823"
      ]
     },
     "execution_count": 31,
     "metadata": {},
     "output_type": "execute_result"
    }
   ],
   "source": [
    "metrics.mean_squared_error(y_test, prediction)"
   ]
  },
  {
   "cell_type": "code",
   "execution_count": 32,
   "id": "b35ef333-2cfb-4356-8860-c0ee1225e1ee",
   "metadata": {},
   "outputs": [
    {
     "data": {
      "text/plain": [
       "30.23231612701353"
      ]
     },
     "execution_count": 32,
     "metadata": {},
     "output_type": "execute_result"
    }
   ],
   "source": [
    "np.sqrt(metrics.mean_squared_error(y_test, prediction))"
   ]
  },
  {
   "cell_type": "code",
   "execution_count": 33,
   "id": "7d40cb1d-821a-487d-8120-4e9feb144e07",
   "metadata": {},
   "outputs": [
    {
     "data": {
      "text/plain": [
       "30.23231612701353"
      ]
     },
     "execution_count": 33,
     "metadata": {},
     "output_type": "execute_result"
    }
   ],
   "source": [
    "np.sqrt(metrics.mean_squared_error(y_test, prediction))"
   ]
  },
  {
   "cell_type": "markdown",
   "id": "bb7f20e8-c82a-4878-9594-d7997a1a0b26",
   "metadata": {},
   "source": [
    "___"
   ]
  },
  {
   "cell_type": "markdown",
   "id": "5ef37681-a290-480e-b10f-3cd52aba8665",
   "metadata": {},
   "source": [
    "Random Forest:"
   ]
  },
  {
   "cell_type": "code",
   "execution_count": 34,
   "id": "aacaacbb-39b0-49c8-82c7-5f3d53e18e0b",
   "metadata": {},
   "outputs": [],
   "source": [
    "#Didn't use host ID because it doesn't make sense as a variable\n",
    "xvars = ['accommodates', 'beds', 'room_type_Entire home/apt', 'room_type_Private room', 'host_identity_verified', 'host_response_time_within an hour', 'host_is_superhost']\n",
    "X = Queens_dummies[xvars]\n",
    "y = Queens_dummies['price']\n",
    "X_train, X_test, y_train, y_test = train_test_split(X, y, random_state=42)"
   ]
  },
  {
   "cell_type": "code",
   "execution_count": 35,
   "id": "ed79277a-5864-4c61-80d4-7862fb37c93a",
   "metadata": {},
   "outputs": [],
   "source": [
    "rf = RandomForestRegressor(n_estimators = 100)"
   ]
  },
  {
   "cell_type": "code",
   "execution_count": 36,
   "id": "471d2538-d936-4825-8408-81ff8e8a148c",
   "metadata": {},
   "outputs": [
    {
     "data": {
      "text/plain": [
       "RandomForestRegressor()"
      ]
     },
     "execution_count": 36,
     "metadata": {},
     "output_type": "execute_result"
    }
   ],
   "source": [
    "rf.fit(X_train,y_train)"
   ]
  },
  {
   "cell_type": "code",
   "execution_count": 37,
   "id": "973f3c78-76c1-47e2-8313-a471b2ab899a",
   "metadata": {},
   "outputs": [],
   "source": [
    "prediction = rf.predict(X_test)"
   ]
  },
  {
   "cell_type": "code",
   "execution_count": 38,
   "id": "568bbb3f-b058-487c-a0d4-846075c5eee6",
   "metadata": {},
   "outputs": [
    {
     "name": "stdout",
     "output_type": "stream",
     "text": [
      "Score on training set: 0.9229872769617867\n",
      "Score on testing set: 0.9238636912730694\n"
     ]
    }
   ],
   "source": [
    "print(f'Score on training set: {rf.score(X_train, y_train)}')\n",
    "print(f'Score on testing set: {rf.score(X_test, y_test)}')"
   ]
  },
  {
   "cell_type": "code",
   "execution_count": 39,
   "id": "ad932211-42cf-4468-943c-551dd509d2d1",
   "metadata": {},
   "outputs": [
    {
     "data": {
      "text/plain": [
       "913.5817195488478"
      ]
     },
     "execution_count": 39,
     "metadata": {},
     "output_type": "execute_result"
    }
   ],
   "source": [
    "metrics.mean_squared_error(y_test, prediction)"
   ]
  },
  {
   "cell_type": "code",
   "execution_count": 40,
   "id": "9cccace2-d490-4f9f-a152-913c172a6903",
   "metadata": {},
   "outputs": [
    {
     "data": {
      "text/plain": [
       "30.22551438021937"
      ]
     },
     "execution_count": 40,
     "metadata": {},
     "output_type": "execute_result"
    }
   ],
   "source": [
    "np.sqrt(metrics.mean_squared_error(y_test, prediction))"
   ]
  },
  {
   "cell_type": "code",
   "execution_count": 41,
   "id": "5a8bbc29-6609-481d-a5d5-8f90bf6211ba",
   "metadata": {},
   "outputs": [
    {
     "data": {
      "text/plain": [
       "18.649080140636027"
      ]
     },
     "execution_count": 41,
     "metadata": {},
     "output_type": "execute_result"
    }
   ],
   "source": [
    "residuals = y_test - prediction\n",
    "np.abs(residuals).mean()"
   ]
  },
  {
   "cell_type": "markdown",
   "id": "7d6627db-bc17-4576-a11e-81ee399661ff",
   "metadata": {},
   "source": [
    "Extra Trees:"
   ]
  },
  {
   "cell_type": "code",
   "execution_count": 42,
   "id": "b3245e8e-4054-4b02-8175-4938f7246fd6",
   "metadata": {},
   "outputs": [],
   "source": [
    "#Didn't use host ID because it doesn't make sense as a variable\n",
    "xvars = ['accommodates', 'beds', 'room_type_Entire home/apt', 'room_type_Private room', 'host_identity_verified', 'host_response_time_within an hour', 'host_is_superhost']\n",
    "X = Queens_dummies[xvars]\n",
    "y = Queens_dummies['price']\n",
    "X_train, X_test, y_train, y_test = train_test_split(X, y, random_state=42)"
   ]
  },
  {
   "cell_type": "code",
   "execution_count": 43,
   "id": "8d410ca2-1d46-4dd2-abf0-1a84e521da53",
   "metadata": {},
   "outputs": [],
   "source": [
    "et = ExtraTreesRegressor(n_estimators = 100)"
   ]
  },
  {
   "cell_type": "code",
   "execution_count": 44,
   "id": "31085d7e-e38a-45be-a584-89f11ec9a8b4",
   "metadata": {},
   "outputs": [
    {
     "data": {
      "text/plain": [
       "ExtraTreesRegressor()"
      ]
     },
     "execution_count": 44,
     "metadata": {},
     "output_type": "execute_result"
    }
   ],
   "source": [
    "et.fit(X_train, y_train)"
   ]
  },
  {
   "cell_type": "code",
   "execution_count": 45,
   "id": "c0f254e0-c719-45a9-abd7-ad61d506eb22",
   "metadata": {},
   "outputs": [],
   "source": [
    "prediction = et.predict(X_test)"
   ]
  },
  {
   "cell_type": "code",
   "execution_count": 46,
   "id": "82bd978b-9e55-4c91-b092-70944e8c0bc7",
   "metadata": {},
   "outputs": [
    {
     "name": "stdout",
     "output_type": "stream",
     "text": [
      "Score on training set: 0.9229920151689808\n",
      "Score on testing set: 0.9238511265992795\n"
     ]
    }
   ],
   "source": [
    "print(f'Score on training set: {et.score(X_train, y_train)}')\n",
    "print(f'Score on testing set: {et.score(X_test, y_test)}')"
   ]
  },
  {
   "cell_type": "code",
   "execution_count": 47,
   "id": "d3b1b7ee-8b1c-49b2-8c6e-f0ff2721fd94",
   "metadata": {},
   "outputs": [
    {
     "data": {
      "text/plain": [
       "913.7324867252249"
      ]
     },
     "execution_count": 47,
     "metadata": {},
     "output_type": "execute_result"
    }
   ],
   "source": [
    "metrics.mean_squared_error(y_test, prediction)"
   ]
  },
  {
   "cell_type": "code",
   "execution_count": 48,
   "id": "8e89936b-680a-402c-9ab8-4ed21fa6e27c",
   "metadata": {},
   "outputs": [
    {
     "data": {
      "text/plain": [
       "30.228008315554384"
      ]
     },
     "execution_count": 48,
     "metadata": {},
     "output_type": "execute_result"
    }
   ],
   "source": [
    "np.sqrt(metrics.mean_squared_error(y_test, prediction))"
   ]
  },
  {
   "cell_type": "code",
   "execution_count": 49,
   "id": "0cdab04c-6fe1-454a-8130-4950e4e18179",
   "metadata": {},
   "outputs": [
    {
     "data": {
      "text/plain": [
       "18.656372874490017"
      ]
     },
     "execution_count": 49,
     "metadata": {},
     "output_type": "execute_result"
    }
   ],
   "source": [
    "residuals = y_test - prediction\n",
    "np.abs(residuals).mean()"
   ]
  },
  {
   "cell_type": "markdown",
   "id": "06d4ff16-5794-4e34-acf9-0039c9c580c4",
   "metadata": {},
   "source": [
    "All the models, except for linear regression, are good models and basically the same. Any one can be used. So I'll go with the decision tree for the streamlit, since that's what I'll use for the other ones.\n"
   ]
  },
  {
   "cell_type": "markdown",
   "id": "7c8f959a-c314-42e3-b31c-12a0817eb3aa",
   "metadata": {},
   "source": [
    "We will pickle this object to use for our streamlit app"
   ]
  },
  {
   "cell_type": "code",
   "execution_count": 51,
   "id": "8d673006-4eeb-44a8-856b-5963234f5f12",
   "metadata": {},
   "outputs": [],
   "source": [
    "with open('models/queens_pickle.pkl', 'wb') as f:\n",
    "    pickle.dump(dt, f)"
   ]
  },
  {
   "cell_type": "code",
   "execution_count": null,
   "id": "6e277d7a-3402-4966-8fc4-59543b390e0e",
   "metadata": {},
   "outputs": [],
   "source": []
  }
 ],
 "metadata": {
  "kernelspec": {
   "display_name": "Python 3 (ipykernel)",
   "language": "python",
   "name": "python3"
  },
  "language_info": {
   "codemirror_mode": {
    "name": "ipython",
    "version": 3
   },
   "file_extension": ".py",
   "mimetype": "text/x-python",
   "name": "python",
   "nbconvert_exporter": "python",
   "pygments_lexer": "ipython3",
   "version": "3.9.7"
  }
 },
 "nbformat": 4,
 "nbformat_minor": 5
}
