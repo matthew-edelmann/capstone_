{
 "cells": [
  {
   "cell_type": "code",
   "execution_count": 1,
   "id": "948b306f-a809-46ac-adc3-484a074677dc",
   "metadata": {},
   "outputs": [],
   "source": [
    "import numpy as np\n",
    "import pandas as pd\n",
    "import seaborn as sns\n",
    "import matplotlib.pyplot as plt\n",
    "from sklearn.model_selection import train_test_split, cross_val_score\n",
    "from sklearn.linear_model import LinearRegression\n",
    "from sklearn.tree import DecisionTreeRegressor\n",
    "from sklearn.preprocessing import StandardScaler, PolynomialFeatures\n",
    "from sklearn.ensemble import BaggingRegressor, RandomForestRegressor, ExtraTreesRegressor\n",
    "from sklearn import metrics"
   ]
  },
  {
   "cell_type": "code",
   "execution_count": 2,
   "id": "1a226057-270e-408e-a03b-f368b9328100",
   "metadata": {},
   "outputs": [
    {
     "data": {
      "text/html": [
       "<div>\n",
       "<style scoped>\n",
       "    .dataframe tbody tr th:only-of-type {\n",
       "        vertical-align: middle;\n",
       "    }\n",
       "\n",
       "    .dataframe tbody tr th {\n",
       "        vertical-align: top;\n",
       "    }\n",
       "\n",
       "    .dataframe thead th {\n",
       "        text-align: right;\n",
       "    }\n",
       "</style>\n",
       "<table border=\"1\" class=\"dataframe\">\n",
       "  <thead>\n",
       "    <tr style=\"text-align: right;\">\n",
       "      <th></th>\n",
       "      <th>id</th>\n",
       "      <th>date</th>\n",
       "      <th>available</th>\n",
       "      <th>price</th>\n",
       "      <th>minimum_nights</th>\n",
       "      <th>maximum_nights</th>\n",
       "      <th>host_id</th>\n",
       "      <th>host_response_time</th>\n",
       "      <th>host_is_superhost</th>\n",
       "      <th>host_listings_count</th>\n",
       "      <th>...</th>\n",
       "      <th>review_scores_accuracy</th>\n",
       "      <th>review_scores_cleanliness</th>\n",
       "      <th>review_scores_checkin</th>\n",
       "      <th>review_scores_communication</th>\n",
       "      <th>review_scores_location</th>\n",
       "      <th>review_scores_value</th>\n",
       "      <th>instant_bookable</th>\n",
       "      <th>calculated_host_listings_count</th>\n",
       "      <th>review</th>\n",
       "      <th>month</th>\n",
       "    </tr>\n",
       "  </thead>\n",
       "  <tbody>\n",
       "    <tr>\n",
       "      <th>0</th>\n",
       "      <td>2595</td>\n",
       "      <td>2022-06-04</td>\n",
       "      <td>0</td>\n",
       "      <td>225.0</td>\n",
       "      <td>30</td>\n",
       "      <td>1125</td>\n",
       "      <td>2845.0</td>\n",
       "      <td>a few days or more</td>\n",
       "      <td>0.0</td>\n",
       "      <td>6.0</td>\n",
       "      <td>...</td>\n",
       "      <td>4.72</td>\n",
       "      <td>4.62</td>\n",
       "      <td>4.76</td>\n",
       "      <td>4.79</td>\n",
       "      <td>4.86</td>\n",
       "      <td>4.41</td>\n",
       "      <td>0.0</td>\n",
       "      <td>3.0</td>\n",
       "      <td>0        11/21/2009\\n1         5/28/2009\\n2   ...</td>\n",
       "      <td>Jun</td>\n",
       "    </tr>\n",
       "    <tr>\n",
       "      <th>1</th>\n",
       "      <td>2595</td>\n",
       "      <td>2022-06-05</td>\n",
       "      <td>0</td>\n",
       "      <td>225.0</td>\n",
       "      <td>30</td>\n",
       "      <td>1125</td>\n",
       "      <td>2845.0</td>\n",
       "      <td>a few days or more</td>\n",
       "      <td>0.0</td>\n",
       "      <td>6.0</td>\n",
       "      <td>...</td>\n",
       "      <td>4.72</td>\n",
       "      <td>4.62</td>\n",
       "      <td>4.76</td>\n",
       "      <td>4.79</td>\n",
       "      <td>4.86</td>\n",
       "      <td>4.41</td>\n",
       "      <td>0.0</td>\n",
       "      <td>3.0</td>\n",
       "      <td>0        11/21/2009\\n1         5/28/2009\\n2   ...</td>\n",
       "      <td>Jun</td>\n",
       "    </tr>\n",
       "    <tr>\n",
       "      <th>2</th>\n",
       "      <td>2595</td>\n",
       "      <td>2022-06-06</td>\n",
       "      <td>0</td>\n",
       "      <td>225.0</td>\n",
       "      <td>30</td>\n",
       "      <td>1125</td>\n",
       "      <td>2845.0</td>\n",
       "      <td>a few days or more</td>\n",
       "      <td>0.0</td>\n",
       "      <td>6.0</td>\n",
       "      <td>...</td>\n",
       "      <td>4.72</td>\n",
       "      <td>4.62</td>\n",
       "      <td>4.76</td>\n",
       "      <td>4.79</td>\n",
       "      <td>4.86</td>\n",
       "      <td>4.41</td>\n",
       "      <td>0.0</td>\n",
       "      <td>3.0</td>\n",
       "      <td>0        11/21/2009\\n1         5/28/2009\\n2   ...</td>\n",
       "      <td>Jun</td>\n",
       "    </tr>\n",
       "    <tr>\n",
       "      <th>3</th>\n",
       "      <td>2595</td>\n",
       "      <td>2022-06-07</td>\n",
       "      <td>0</td>\n",
       "      <td>225.0</td>\n",
       "      <td>30</td>\n",
       "      <td>1125</td>\n",
       "      <td>2845.0</td>\n",
       "      <td>a few days or more</td>\n",
       "      <td>0.0</td>\n",
       "      <td>6.0</td>\n",
       "      <td>...</td>\n",
       "      <td>4.72</td>\n",
       "      <td>4.62</td>\n",
       "      <td>4.76</td>\n",
       "      <td>4.79</td>\n",
       "      <td>4.86</td>\n",
       "      <td>4.41</td>\n",
       "      <td>0.0</td>\n",
       "      <td>3.0</td>\n",
       "      <td>0        11/21/2009\\n1         5/28/2009\\n2   ...</td>\n",
       "      <td>Jun</td>\n",
       "    </tr>\n",
       "    <tr>\n",
       "      <th>4</th>\n",
       "      <td>2595</td>\n",
       "      <td>2022-06-08</td>\n",
       "      <td>0</td>\n",
       "      <td>225.0</td>\n",
       "      <td>30</td>\n",
       "      <td>1125</td>\n",
       "      <td>2845.0</td>\n",
       "      <td>a few days or more</td>\n",
       "      <td>0.0</td>\n",
       "      <td>6.0</td>\n",
       "      <td>...</td>\n",
       "      <td>4.72</td>\n",
       "      <td>4.62</td>\n",
       "      <td>4.76</td>\n",
       "      <td>4.79</td>\n",
       "      <td>4.86</td>\n",
       "      <td>4.41</td>\n",
       "      <td>0.0</td>\n",
       "      <td>3.0</td>\n",
       "      <td>0        11/21/2009\\n1         5/28/2009\\n2   ...</td>\n",
       "      <td>Jun</td>\n",
       "    </tr>\n",
       "  </tbody>\n",
       "</table>\n",
       "<p>5 rows × 36 columns</p>\n",
       "</div>"
      ],
      "text/plain": [
       "     id       date  available  price  minimum_nights  maximum_nights  host_id  \\\n",
       "0  2595 2022-06-04          0  225.0              30            1125   2845.0   \n",
       "1  2595 2022-06-05          0  225.0              30            1125   2845.0   \n",
       "2  2595 2022-06-06          0  225.0              30            1125   2845.0   \n",
       "3  2595 2022-06-07          0  225.0              30            1125   2845.0   \n",
       "4  2595 2022-06-08          0  225.0              30            1125   2845.0   \n",
       "\n",
       "   host_response_time  host_is_superhost  host_listings_count  ...  \\\n",
       "0  a few days or more                0.0                  6.0  ...   \n",
       "1  a few days or more                0.0                  6.0  ...   \n",
       "2  a few days or more                0.0                  6.0  ...   \n",
       "3  a few days or more                0.0                  6.0  ...   \n",
       "4  a few days or more                0.0                  6.0  ...   \n",
       "\n",
       "  review_scores_accuracy  review_scores_cleanliness  review_scores_checkin  \\\n",
       "0                   4.72                       4.62                   4.76   \n",
       "1                   4.72                       4.62                   4.76   \n",
       "2                   4.72                       4.62                   4.76   \n",
       "3                   4.72                       4.62                   4.76   \n",
       "4                   4.72                       4.62                   4.76   \n",
       "\n",
       "  review_scores_communication review_scores_location  review_scores_value  \\\n",
       "0                        4.79                   4.86                 4.41   \n",
       "1                        4.79                   4.86                 4.41   \n",
       "2                        4.79                   4.86                 4.41   \n",
       "3                        4.79                   4.86                 4.41   \n",
       "4                        4.79                   4.86                 4.41   \n",
       "\n",
       "   instant_bookable calculated_host_listings_count  \\\n",
       "0               0.0                            3.0   \n",
       "1               0.0                            3.0   \n",
       "2               0.0                            3.0   \n",
       "3               0.0                            3.0   \n",
       "4               0.0                            3.0   \n",
       "\n",
       "                                              review  month  \n",
       "0  0        11/21/2009\\n1         5/28/2009\\n2   ...    Jun  \n",
       "1  0        11/21/2009\\n1         5/28/2009\\n2   ...    Jun  \n",
       "2  0        11/21/2009\\n1         5/28/2009\\n2   ...    Jun  \n",
       "3  0        11/21/2009\\n1         5/28/2009\\n2   ...    Jun  \n",
       "4  0        11/21/2009\\n1         5/28/2009\\n2   ...    Jun  \n",
       "\n",
       "[5 rows x 36 columns]"
      ]
     },
     "execution_count": 2,
     "metadata": {},
     "output_type": "execute_result"
    }
   ],
   "source": [
    "df_full = pd.read_hdf('data/df_full.h5')\n",
    "df_full.head()"
   ]
  },
  {
   "cell_type": "code",
   "execution_count": 3,
   "id": "2e7ec7e7-3ea2-4d6c-8c96-47facd0f5145",
   "metadata": {},
   "outputs": [
    {
     "data": {
      "text/plain": [
       "(462455, 36)"
      ]
     },
     "execution_count": 3,
     "metadata": {},
     "output_type": "execute_result"
    }
   ],
   "source": [
    "Brooklyn = df_full.copy()\n",
    "Brooklyn = Brooklyn[Brooklyn['neighbourhood_group_cleansed'] == 'Brooklyn']\n",
    "Brooklyn.shape"
   ]
  },
  {
   "cell_type": "code",
   "execution_count": 4,
   "id": "ebdbb756-4118-47a7-a8df-320665b2e59f",
   "metadata": {},
   "outputs": [
    {
     "name": "stderr",
     "output_type": "stream",
     "text": [
      "C:\\Users\\matth\\anaconda3\\lib\\site-packages\\pandas\\core\\generic.py:2703: PerformanceWarning: \n",
      "your performance may suffer as PyTables will pickle object types that it cannot\n",
      "map directly to c-types [inferred_type->mixed,key->block3_values] [items->Index(['host_response_time', 'host_verifications', 'neighbourhood_cleansed',\n",
      "       'neighbourhood_group_cleansed', 'property_type', 'room_type',\n",
      "       'amenities', 'review_scores_rating', 'review_scores_accuracy',\n",
      "       'review_scores_cleanliness', 'review_scores_checkin',\n",
      "       'review_scores_communication', 'review_scores_location',\n",
      "       'review_scores_value', 'review', 'month'],\n",
      "      dtype='object')]\n",
      "\n",
      "  pytables.to_hdf(\n"
     ]
    }
   ],
   "source": [
    "Brooklyn.to_hdf(r'data/Brooklyn.h5', key='stage', mode='w') #run twice"
   ]
  },
  {
   "cell_type": "markdown",
   "id": "ce8c2ca1-a848-4aec-9fb4-b5e882694d2b",
   "metadata": {},
   "source": [
    "As we saw in the EDA section, we should make dummies of host_response_time and room_type"
   ]
  },
  {
   "cell_type": "code",
   "execution_count": 5,
   "id": "b034be6d-b378-4ce1-a44a-b8e2d9fe2370",
   "metadata": {},
   "outputs": [],
   "source": [
    "Brooklyn_dummies = pd.get_dummies(Brooklyn, columns=['host_response_time', 'room_type'])"
   ]
  },
  {
   "cell_type": "code",
   "execution_count": 6,
   "id": "94a9e105-f726-4fee-855a-4136c433dba4",
   "metadata": {},
   "outputs": [
    {
     "data": {
      "text/plain": [
       "room_type_Private room                  -0.224055\n",
       "longitude                               -0.130335\n",
       "host_response_time_unknown              -0.032199\n",
       "minimum_nights                          -0.030349\n",
       "room_type_Shared room                   -0.028558\n",
       "host_identity_verified                  -0.022330\n",
       "has_availability                        -0.020515\n",
       "number_of_reviews                       -0.018693\n",
       "host_response_time_a few days or more   -0.007829\n",
       "host_id                                 -0.004478\n",
       "host_response_time_within a day         -0.003636\n",
       "instant_bookable                         0.002072\n",
       "host_has_profile_pic                     0.002449\n",
       "maximum_nights                           0.002897\n",
       "id                                       0.003200\n",
       "host_response_time_within an hour        0.020902\n",
       "host_is_superhost                        0.022441\n",
       "room_type_Hotel room                     0.023467\n",
       "host_response_time_within a few hours    0.023954\n",
       "available                                0.027801\n",
       "availability_365                         0.028959\n",
       "host_listings_count                      0.033849\n",
       "latitude                                 0.036924\n",
       "calculated_host_listings_count           0.050269\n",
       "room_type_Entire home/apt                0.223521\n",
       "beds                                     0.390748\n",
       "accommodates                             0.400180\n",
       "price                                    1.000000\n",
       "Name: price, dtype: float64"
      ]
     },
     "execution_count": 6,
     "metadata": {},
     "output_type": "execute_result"
    }
   ],
   "source": [
    "Brooklyn_dummies.corr()['price'].sort_values()"
   ]
  },
  {
   "cell_type": "code",
   "execution_count": 7,
   "id": "76f73d21-6500-4958-91c3-fc62bc867fce",
   "metadata": {},
   "outputs": [],
   "source": [
    "def tts_borough(df, xvars, dge):\n",
    "    X = df[xvars]\n",
    "    y = df['price']\n",
    "    poly = PolynomialFeatures(include_bias = False, degree = dge)\n",
    "    X_poly = poly.fit_transform(X)\n",
    "    X_train, X_test, y_train, y_test = train_test_split(X_poly, y, random_state=42)\n",
    "    return X_train, X_test, y_train, y_test"
   ]
  },
  {
   "cell_type": "code",
   "execution_count": 8,
   "id": "e762cd97-735f-4243-a66e-1182f869a75c",
   "metadata": {},
   "outputs": [],
   "source": [
    "xvars = ['accommodates', 'beds', 'room_type_Entire home/apt', 'room_type_Private room', 'longitude', 'calculated_host_listings_count', 'latitude']\n",
    "X_train, X_test, y_train, y_test = tts_borough(Brooklyn_dummies, xvars, 2)"
   ]
  },
  {
   "cell_type": "markdown",
   "id": "614e8ede-8813-4164-983a-fa8cec6f75ff",
   "metadata": {},
   "source": [
    "Let's make a linear regression model\n"
   ]
  },
  {
   "cell_type": "code",
   "execution_count": 9,
   "id": "69edd26f-30d9-4bc6-bcfe-7720e26e4e6a",
   "metadata": {},
   "outputs": [],
   "source": [
    "lr = LinearRegression()"
   ]
  },
  {
   "cell_type": "code",
   "execution_count": 10,
   "id": "649bf9f7-8ed4-4050-b848-aaabe35776fa",
   "metadata": {},
   "outputs": [
    {
     "data": {
      "text/plain": [
       "0.23693995535487175"
      ]
     },
     "execution_count": 10,
     "metadata": {},
     "output_type": "execute_result"
    }
   ],
   "source": [
    "cross_val_score(lr, X_train, y_train, cv = 5).mean()"
   ]
  },
  {
   "cell_type": "code",
   "execution_count": 11,
   "id": "0241d6ba-65ea-454a-b125-0eed7292dac4",
   "metadata": {},
   "outputs": [
    {
     "data": {
      "text/plain": [
       "LinearRegression()"
      ]
     },
     "execution_count": 11,
     "metadata": {},
     "output_type": "execute_result"
    }
   ],
   "source": [
    "lr.fit(X_train, y_train)"
   ]
  },
  {
   "cell_type": "code",
   "execution_count": 12,
   "id": "dddf4363-e964-4b4c-98e3-d1b13d95cf49",
   "metadata": {},
   "outputs": [],
   "source": [
    "prediction = lr.predict(X_test)"
   ]
  },
  {
   "cell_type": "markdown",
   "id": "f58e033e-111a-4baf-90b9-1ad9e8cc9cd6",
   "metadata": {},
   "source": [
    "The function is\n"
   ]
  },
  {
   "cell_type": "code",
   "execution_count": 13,
   "id": "9cdef568-0987-4d26-8eb4-47dfb733b561",
   "metadata": {},
   "outputs": [
    {
     "name": "stdout",
     "output_type": "stream",
     "text": [
      "Model intercept: -15406621.897594526\n",
      "Model coefficient values: [-5.26436381e+04  2.78350672e+04  3.34510335e+05  3.67277968e+05\n",
      " -8.81992474e+05 -8.70833509e+03 -8.62931914e+05 -9.33417673e-01\n",
      "  3.84730906e+00 -1.18270134e+02 -1.42481970e+02 -4.57576651e+02\n",
      " -5.33558791e-01  4.65937042e+02 -7.32733525e-01  1.45074871e+02\n",
      "  1.39450233e+02  2.28706922e+02 -2.39224814e-01 -2.71905682e+02\n",
      "  3.34510335e+05 -1.16488081e-08  8.05531778e+03  9.61180334e-01\n",
      " -1.79888183e+03  3.67277968e+05  8.77667433e+03  1.03901432e+01\n",
      " -2.09819313e+03 -9.03086270e+03 -1.72470942e+02 -1.13555209e+04\n",
      "  5.80316626e-01 -9.97598825e+01  3.09877578e+02]\n"
     ]
    }
   ],
   "source": [
    "print(f'Model intercept: {lr.intercept_}')\n",
    "print(f'Model coefficient values: {lr.coef_}')"
   ]
  },
  {
   "cell_type": "markdown",
   "id": "fccdf149-1ad9-456d-93a7-b8271a1ef17f",
   "metadata": {},
   "source": [
    "The R^2 value is"
   ]
  },
  {
   "cell_type": "code",
   "execution_count": 14,
   "id": "9fbf0627-7a02-4edb-b743-9a6f37e0a77c",
   "metadata": {},
   "outputs": [
    {
     "name": "stdout",
     "output_type": "stream",
     "text": [
      "Training R2: 0.23614506938114876\n",
      "Testing R2: 0.2441888702106123\n"
     ]
    }
   ],
   "source": [
    "print(f'Training R2: {lr.score(X_train, y_train)}')\n",
    "print(f'Testing R2: {lr.score(X_test, y_test)}')"
   ]
  },
  {
   "cell_type": "markdown",
   "id": "4b2baedc-9824-42be-b1ee-8e8a0a47bc0b",
   "metadata": {},
   "source": [
    "The mean squared error is\n"
   ]
  },
  {
   "cell_type": "code",
   "execution_count": 15,
   "id": "444d8c3a-cf21-484b-82bf-78e817079a24",
   "metadata": {},
   "outputs": [
    {
     "data": {
      "text/plain": [
       "34223.0373617357"
      ]
     },
     "execution_count": 15,
     "metadata": {},
     "output_type": "execute_result"
    }
   ],
   "source": [
    "metrics.mean_squared_error(y_test, prediction)"
   ]
  },
  {
   "cell_type": "markdown",
   "id": "18132378-d8a8-46a7-ba9f-409f9c4b553d",
   "metadata": {},
   "source": [
    "And the root mean squered error is\n"
   ]
  },
  {
   "cell_type": "code",
   "execution_count": 16,
   "id": "58bf994b-4d8e-42c1-8604-ff5cde5cb3c8",
   "metadata": {},
   "outputs": [
    {
     "data": {
      "text/plain": [
       "184.99469549621065"
      ]
     },
     "execution_count": 16,
     "metadata": {},
     "output_type": "execute_result"
    }
   ],
   "source": [
    "np.sqrt(metrics.mean_squared_error(y_test, prediction))"
   ]
  },
  {
   "cell_type": "markdown",
   "id": "48c98692-96ea-4dd5-832f-1d5c61d40be2",
   "metadata": {},
   "source": [
    "How about the mean of residuals"
   ]
  },
  {
   "cell_type": "code",
   "execution_count": 17,
   "id": "4226cb93-5721-4f88-ab81-2bf558f8030d",
   "metadata": {},
   "outputs": [
    {
     "data": {
      "text/plain": [
       "58.22872328815034"
      ]
     },
     "execution_count": 17,
     "metadata": {},
     "output_type": "execute_result"
    }
   ],
   "source": [
    "residuals = y_test - prediction\n",
    "np.abs(residuals).mean()"
   ]
  },
  {
   "cell_type": "markdown",
   "id": "99c6369f-235b-4d97-bad5-813fdac1775b",
   "metadata": {},
   "source": [
    "This model is not great. Let's try to improve it! We will go with Decision tree."
   ]
  },
  {
   "cell_type": "code",
   "execution_count": 18,
   "id": "09b43280-1296-4bb0-b612-10395614cb1e",
   "metadata": {},
   "outputs": [],
   "source": [
    "xvars = ['accommodates', 'beds', 'room_type_Entire home/apt', 'room_type_Private room', 'longitude']\n",
    "X = Brooklyn_dummies[xvars]\n",
    "y = Brooklyn_dummies['price']\n",
    "X_train, X_test, y_train, y_test = train_test_split(X, y, random_state=42)"
   ]
  },
  {
   "cell_type": "code",
   "execution_count": 19,
   "id": "cb9a90d6-6153-4f79-a4d4-a9bf69d49336",
   "metadata": {},
   "outputs": [],
   "source": [
    "#I tweeked this until I got the best result\n",
    "dt = DecisionTreeRegressor(random_state=42)"
   ]
  },
  {
   "cell_type": "code",
   "execution_count": 20,
   "id": "f3299da0-120e-414a-ba8e-9d04253f5a63",
   "metadata": {},
   "outputs": [
    {
     "data": {
      "text/plain": [
       "DecisionTreeRegressor(random_state=42)"
      ]
     },
     "execution_count": 20,
     "metadata": {},
     "output_type": "execute_result"
    }
   ],
   "source": [
    "dt.fit(X_train, y_train)"
   ]
  },
  {
   "cell_type": "code",
   "execution_count": 21,
   "id": "88746ce9-5639-429f-b4a3-8a6ea9335536",
   "metadata": {},
   "outputs": [],
   "source": [
    "prediction = dt.predict(X_test)"
   ]
  },
  {
   "cell_type": "code",
   "execution_count": 22,
   "id": "32ffb117-6054-4ae1-bc9f-ab788a5ea7b3",
   "metadata": {},
   "outputs": [
    {
     "name": "stdout",
     "output_type": "stream",
     "text": [
      "Score on training set: 0.9857853579984303\n",
      "Score on testing set: 0.9844286292511029\n"
     ]
    }
   ],
   "source": [
    "print(f'Score on training set: {dt.score(X_train, y_train)}')\n",
    "print(f'Score on testing set: {dt.score(X_test, y_test)}')"
   ]
  },
  {
   "cell_type": "code",
   "execution_count": 23,
   "id": "a066f29f-f502-4c07-81d2-17e8198e8b7c",
   "metadata": {},
   "outputs": [
    {
     "data": {
      "text/plain": [
       "705.0698010512767"
      ]
     },
     "execution_count": 23,
     "metadata": {},
     "output_type": "execute_result"
    }
   ],
   "source": [
    "metrics.mean_squared_error(y_test, prediction)"
   ]
  },
  {
   "cell_type": "code",
   "execution_count": 24,
   "id": "89d9aeed-0f66-4e25-ad42-fdf3b9c25032",
   "metadata": {},
   "outputs": [
    {
     "data": {
      "text/plain": [
       "26.55315049200898"
      ]
     },
     "execution_count": 24,
     "metadata": {},
     "output_type": "execute_result"
    }
   ],
   "source": [
    "np.sqrt(metrics.mean_squared_error(y_test, prediction))"
   ]
  },
  {
   "cell_type": "code",
   "execution_count": 25,
   "id": "3082e188-5a7e-4be3-a92a-374f4a9edcc2",
   "metadata": {},
   "outputs": [
    {
     "data": {
      "text/plain": [
       "7.699352561114326"
      ]
     },
     "execution_count": 25,
     "metadata": {},
     "output_type": "execute_result"
    }
   ],
   "source": [
    "residuals = y_test - prediction\n",
    "np.abs(residuals).mean()"
   ]
  },
  {
   "cell_type": "markdown",
   "id": "2249dff2-fd92-4e5a-a54a-98099c80b35f",
   "metadata": {},
   "source": [
    "This model is very good! Let's try the bagging model.\n"
   ]
  },
  {
   "cell_type": "code",
   "execution_count": 26,
   "id": "95137c6f-d25b-4ce2-909d-35fab30e5e00",
   "metadata": {},
   "outputs": [],
   "source": [
    "xvars = ['accommodates', 'beds', 'room_type_Entire home/apt', 'room_type_Private room', 'longitude']\n",
    "X = Brooklyn_dummies[xvars]\n",
    "y = Brooklyn_dummies['price']\n",
    "X_train, X_test, y_train, y_test = train_test_split(X, y, random_state=42)"
   ]
  },
  {
   "cell_type": "code",
   "execution_count": 27,
   "id": "88571723-3860-49d9-9fac-460a18d42f11",
   "metadata": {},
   "outputs": [
    {
     "data": {
      "text/plain": [
       "BaggingRegressor(random_state=42)"
      ]
     },
     "execution_count": 27,
     "metadata": {},
     "output_type": "execute_result"
    }
   ],
   "source": [
    "#From lesson 6.02\n",
    "bag = BaggingRegressor(random_state = 42)\n",
    "bag.fit(X_train, y_train)"
   ]
  },
  {
   "cell_type": "code",
   "execution_count": 28,
   "id": "e1f0348b-6418-4c17-8bb5-84c0ce7904af",
   "metadata": {},
   "outputs": [],
   "source": [
    "prediction = bag.predict(X_test)"
   ]
  },
  {
   "cell_type": "code",
   "execution_count": 29,
   "id": "4215b7ce-01c9-40ac-8a77-8b55783307e4",
   "metadata": {},
   "outputs": [
    {
     "name": "stdout",
     "output_type": "stream",
     "text": [
      "Score on training set: 0.9857823912653305\n",
      "Score on testing set: 0.9844264832704798\n"
     ]
    }
   ],
   "source": [
    "print(f'Score on training set: {bag.score(X_train, y_train)}')\n",
    "print(f'Score on testing set: {bag.score(X_test, y_test)}')"
   ]
  },
  {
   "cell_type": "code",
   "execution_count": 30,
   "id": "3f48ef4e-da90-4de0-b193-cb055b4dd6e9",
   "metadata": {},
   "outputs": [
    {
     "data": {
      "text/plain": [
       "705.1669707966654"
      ]
     },
     "execution_count": 30,
     "metadata": {},
     "output_type": "execute_result"
    }
   ],
   "source": [
    "metrics.mean_squared_error(y_test, prediction)"
   ]
  },
  {
   "cell_type": "code",
   "execution_count": 31,
   "id": "f6a41bbd-1cba-4492-83a1-f52e80ed4dec",
   "metadata": {},
   "outputs": [
    {
     "data": {
      "text/plain": [
       "26.55498015056056"
      ]
     },
     "execution_count": 31,
     "metadata": {},
     "output_type": "execute_result"
    }
   ],
   "source": [
    "np.sqrt(metrics.mean_squared_error(y_test, prediction))"
   ]
  },
  {
   "cell_type": "code",
   "execution_count": 32,
   "id": "b240e2e5-a3ef-4d1f-bf8f-8a22ca5ff53f",
   "metadata": {},
   "outputs": [
    {
     "data": {
      "text/plain": [
       "7.698506449112763"
      ]
     },
     "execution_count": 32,
     "metadata": {},
     "output_type": "execute_result"
    }
   ],
   "source": [
    "residuals = y_test - prediction\n",
    "np.abs(residuals).mean()"
   ]
  },
  {
   "cell_type": "markdown",
   "id": "ea646d6b-9260-42af-8588-c31f61839f62",
   "metadata": {},
   "source": [
    "___"
   ]
  },
  {
   "cell_type": "markdown",
   "id": "6f5f0ae9-fc3b-420a-abf7-505bdb03661d",
   "metadata": {},
   "source": [
    "RandomForest:"
   ]
  },
  {
   "cell_type": "code",
   "execution_count": 33,
   "id": "3c71b9fa-7873-4940-90dd-6aeb002f324e",
   "metadata": {},
   "outputs": [],
   "source": [
    "xvars = ['accommodates', 'beds', 'room_type_Entire home/apt', 'room_type_Private room', 'longitude']\n",
    "X = Brooklyn_dummies[xvars]\n",
    "y = Brooklyn_dummies['price']\n",
    "X_train, X_test, y_train, y_test = train_test_split(X, y, random_state=42)"
   ]
  },
  {
   "cell_type": "code",
   "execution_count": 34,
   "id": "15c301e5-4c5e-4ba7-947f-9631b1e77bc2",
   "metadata": {},
   "outputs": [],
   "source": [
    "rf = RandomForestRegressor(n_estimators = 100)"
   ]
  },
  {
   "cell_type": "code",
   "execution_count": 35,
   "id": "6c0a189b-1c76-4f1b-a2a0-d87052241c2a",
   "metadata": {},
   "outputs": [
    {
     "data": {
      "text/plain": [
       "RandomForestRegressor()"
      ]
     },
     "execution_count": 35,
     "metadata": {},
     "output_type": "execute_result"
    }
   ],
   "source": [
    "rf.fit(X_train,y_train)"
   ]
  },
  {
   "cell_type": "code",
   "execution_count": 36,
   "id": "2e31eddf-c09f-449d-a798-db67d6fb9a5f",
   "metadata": {},
   "outputs": [],
   "source": [
    "prediction = rf.predict(X_test)"
   ]
  },
  {
   "cell_type": "code",
   "execution_count": 37,
   "id": "59ef020f-2301-4132-8ea0-2d46fab86cd3",
   "metadata": {},
   "outputs": [
    {
     "name": "stdout",
     "output_type": "stream",
     "text": [
      "Score on training set: 0.9857849647988912\n",
      "Score on testing set: 0.9844215131757307\n"
     ]
    }
   ],
   "source": [
    "print(f'Score on training set: {rf.score(X_train, y_train)}')\n",
    "print(f'Score on testing set: {rf.score(X_test, y_test)}')"
   ]
  },
  {
   "cell_type": "code",
   "execution_count": 38,
   "id": "423e23d5-e4d9-42da-901f-ce37ddb30c58",
   "metadata": {},
   "outputs": [
    {
     "data": {
      "text/plain": [
       "705.392016091163"
      ]
     },
     "execution_count": 38,
     "metadata": {},
     "output_type": "execute_result"
    }
   ],
   "source": [
    "metrics.mean_squared_error(y_test, prediction)"
   ]
  },
  {
   "cell_type": "code",
   "execution_count": 39,
   "id": "c99be7e9-ce05-4635-bbc0-a05c1e1d4d40",
   "metadata": {},
   "outputs": [
    {
     "data": {
      "text/plain": [
       "26.55921715885397"
      ]
     },
     "execution_count": 39,
     "metadata": {},
     "output_type": "execute_result"
    }
   ],
   "source": [
    "np.sqrt(metrics.mean_squared_error(y_test, prediction))"
   ]
  },
  {
   "cell_type": "code",
   "execution_count": 40,
   "id": "4064cf2c-e65d-4598-8d57-fe99e61f0ae0",
   "metadata": {},
   "outputs": [
    {
     "data": {
      "text/plain": [
       "7.699553443069883"
      ]
     },
     "execution_count": 40,
     "metadata": {},
     "output_type": "execute_result"
    }
   ],
   "source": [
    "residuals = y_test - prediction\n",
    "np.abs(residuals).mean()"
   ]
  },
  {
   "cell_type": "markdown",
   "id": "3eae8b0f-60f2-4966-9a24-d82bdb0b11ea",
   "metadata": {},
   "source": [
    "ExtraTrees:"
   ]
  },
  {
   "cell_type": "code",
   "execution_count": 41,
   "id": "f226a64a-2678-4350-9933-d8f3016de27f",
   "metadata": {},
   "outputs": [],
   "source": [
    "xvars = ['accommodates', 'beds', 'room_type_Entire home/apt', 'room_type_Private room', 'longitude']\n",
    "X = Brooklyn_dummies[xvars]\n",
    "y = Brooklyn_dummies['price']\n",
    "X_train, X_test, y_train, y_test = train_test_split(X, y, random_state=42)"
   ]
  },
  {
   "cell_type": "code",
   "execution_count": 42,
   "id": "b90dd19a-55a6-4f67-9b17-aa355140ee62",
   "metadata": {},
   "outputs": [],
   "source": [
    "et = ExtraTreesRegressor(n_estimators = 100)"
   ]
  },
  {
   "cell_type": "code",
   "execution_count": 43,
   "id": "43e5dbc4-98d6-45ec-8876-aebd459ca292",
   "metadata": {},
   "outputs": [
    {
     "data": {
      "text/plain": [
       "ExtraTreesRegressor()"
      ]
     },
     "execution_count": 43,
     "metadata": {},
     "output_type": "execute_result"
    }
   ],
   "source": [
    "et.fit(X_train, y_train)"
   ]
  },
  {
   "cell_type": "code",
   "execution_count": 44,
   "id": "d9d0e136-75de-49d4-b775-f23b26741af1",
   "metadata": {},
   "outputs": [],
   "source": [
    "prediction = et.predict(X_test)"
   ]
  },
  {
   "cell_type": "code",
   "execution_count": 45,
   "id": "32d49f65-bdf1-44d9-a421-8bc9652bf3b8",
   "metadata": {},
   "outputs": [
    {
     "name": "stdout",
     "output_type": "stream",
     "text": [
      "Score on training set: 0.9857853579984303\n",
      "Score on testing set: 0.9844286292511029\n"
     ]
    }
   ],
   "source": [
    "print(f'Score on training set: {et.score(X_train, y_train)}')\n",
    "print(f'Score on testing set: {et.score(X_test, y_test)}')"
   ]
  },
  {
   "cell_type": "code",
   "execution_count": 46,
   "id": "f948204c-a03a-40b1-a62c-e37d5afbfb0b",
   "metadata": {},
   "outputs": [
    {
     "data": {
      "text/plain": [
       "705.0698010512764"
      ]
     },
     "execution_count": 46,
     "metadata": {},
     "output_type": "execute_result"
    }
   ],
   "source": [
    "metrics.mean_squared_error(y_test, prediction)"
   ]
  },
  {
   "cell_type": "code",
   "execution_count": 47,
   "id": "42e13fa4-7712-4038-83ed-5764e422eda8",
   "metadata": {},
   "outputs": [
    {
     "data": {
      "text/plain": [
       "26.553150492008974"
      ]
     },
     "execution_count": 47,
     "metadata": {},
     "output_type": "execute_result"
    }
   ],
   "source": [
    "np.sqrt(metrics.mean_squared_error(y_test, prediction))"
   ]
  },
  {
   "cell_type": "code",
   "execution_count": 48,
   "id": "a1ef913d-7d1f-4726-8bc4-c384a6c3fcad",
   "metadata": {},
   "outputs": [
    {
     "data": {
      "text/plain": [
       "7.699352561114326"
      ]
     },
     "execution_count": 48,
     "metadata": {},
     "output_type": "execute_result"
    }
   ],
   "source": [
    "residuals = y_test - prediction\n",
    "np.abs(residuals).mean()"
   ]
  },
  {
   "cell_type": "markdown",
   "id": "7b78203a-1ef9-4e93-9b9b-7185e1222334",
   "metadata": {},
   "source": [
    "All the models, except for linear regression, are good models and basically the same. Any one can be used. So I'll go with the decision tree for the streamlit, since that's what I'll use for the other ones.\n"
   ]
  },
  {
   "cell_type": "code",
   "execution_count": null,
   "id": "4be396b3-2337-4bca-8367-3810dd4664c6",
   "metadata": {},
   "outputs": [],
   "source": []
  }
 ],
 "metadata": {
  "kernelspec": {
   "display_name": "Python 3 (ipykernel)",
   "language": "python",
   "name": "python3"
  },
  "language_info": {
   "codemirror_mode": {
    "name": "ipython",
    "version": 3
   },
   "file_extension": ".py",
   "mimetype": "text/x-python",
   "name": "python",
   "nbconvert_exporter": "python",
   "pygments_lexer": "ipython3",
   "version": "3.9.7"
  }
 },
 "nbformat": 4,
 "nbformat_minor": 5
}
