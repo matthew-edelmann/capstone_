{
 "cells": [
  {
   "cell_type": "code",
   "execution_count": 1,
   "id": "854173c4-550a-421b-982f-c676f8def274",
   "metadata": {},
   "outputs": [],
   "source": [
    "import numpy as np\n",
    "import pandas as pd\n",
    "import seaborn as sns\n",
    "import matplotlib.pyplot as plt\n",
    "from sklearn.model_selection import train_test_split, cross_val_score, GridSearchCV\n",
    "from sklearn.linear_model import LinearRegression\n",
    "from sklearn.tree import DecisionTreeRegressor\n",
    "from sklearn.preprocessing import StandardScaler, PolynomialFeatures\n",
    "from sklearn.ensemble import BaggingRegressor, RandomForestRegressor, ExtraTreesRegressor\n",
    "from sklearn import metrics\n",
    "import pickle"
   ]
  },
  {
   "cell_type": "code",
   "execution_count": 2,
   "id": "4bf7a3c2-8872-4c21-844a-97e8e523b179",
   "metadata": {},
   "outputs": [
    {
     "data": {
      "text/html": [
       "<div>\n",
       "<style scoped>\n",
       "    .dataframe tbody tr th:only-of-type {\n",
       "        vertical-align: middle;\n",
       "    }\n",
       "\n",
       "    .dataframe tbody tr th {\n",
       "        vertical-align: top;\n",
       "    }\n",
       "\n",
       "    .dataframe thead th {\n",
       "        text-align: right;\n",
       "    }\n",
       "</style>\n",
       "<table border=\"1\" class=\"dataframe\">\n",
       "  <thead>\n",
       "    <tr style=\"text-align: right;\">\n",
       "      <th></th>\n",
       "      <th>id</th>\n",
       "      <th>date</th>\n",
       "      <th>available</th>\n",
       "      <th>price</th>\n",
       "      <th>minimum_nights</th>\n",
       "      <th>maximum_nights</th>\n",
       "      <th>host_id</th>\n",
       "      <th>host_response_time</th>\n",
       "      <th>host_is_superhost</th>\n",
       "      <th>host_listings_count</th>\n",
       "      <th>...</th>\n",
       "      <th>review_scores_accuracy</th>\n",
       "      <th>review_scores_cleanliness</th>\n",
       "      <th>review_scores_checkin</th>\n",
       "      <th>review_scores_communication</th>\n",
       "      <th>review_scores_location</th>\n",
       "      <th>review_scores_value</th>\n",
       "      <th>instant_bookable</th>\n",
       "      <th>calculated_host_listings_count</th>\n",
       "      <th>review</th>\n",
       "      <th>month</th>\n",
       "    </tr>\n",
       "  </thead>\n",
       "  <tbody>\n",
       "    <tr>\n",
       "      <th>0</th>\n",
       "      <td>2595</td>\n",
       "      <td>2022-06-04</td>\n",
       "      <td>0</td>\n",
       "      <td>225.0</td>\n",
       "      <td>30</td>\n",
       "      <td>1125</td>\n",
       "      <td>2845.0</td>\n",
       "      <td>a few days or more</td>\n",
       "      <td>0.0</td>\n",
       "      <td>6.0</td>\n",
       "      <td>...</td>\n",
       "      <td>4.72</td>\n",
       "      <td>4.62</td>\n",
       "      <td>4.76</td>\n",
       "      <td>4.79</td>\n",
       "      <td>4.86</td>\n",
       "      <td>4.41</td>\n",
       "      <td>0.0</td>\n",
       "      <td>3.0</td>\n",
       "      <td>0        11/21/2009\\n1         5/28/2009\\n2   ...</td>\n",
       "      <td>Jun</td>\n",
       "    </tr>\n",
       "    <tr>\n",
       "      <th>1</th>\n",
       "      <td>2595</td>\n",
       "      <td>2022-06-05</td>\n",
       "      <td>0</td>\n",
       "      <td>225.0</td>\n",
       "      <td>30</td>\n",
       "      <td>1125</td>\n",
       "      <td>2845.0</td>\n",
       "      <td>a few days or more</td>\n",
       "      <td>0.0</td>\n",
       "      <td>6.0</td>\n",
       "      <td>...</td>\n",
       "      <td>4.72</td>\n",
       "      <td>4.62</td>\n",
       "      <td>4.76</td>\n",
       "      <td>4.79</td>\n",
       "      <td>4.86</td>\n",
       "      <td>4.41</td>\n",
       "      <td>0.0</td>\n",
       "      <td>3.0</td>\n",
       "      <td>0        11/21/2009\\n1         5/28/2009\\n2   ...</td>\n",
       "      <td>Jun</td>\n",
       "    </tr>\n",
       "    <tr>\n",
       "      <th>2</th>\n",
       "      <td>2595</td>\n",
       "      <td>2022-06-06</td>\n",
       "      <td>0</td>\n",
       "      <td>225.0</td>\n",
       "      <td>30</td>\n",
       "      <td>1125</td>\n",
       "      <td>2845.0</td>\n",
       "      <td>a few days or more</td>\n",
       "      <td>0.0</td>\n",
       "      <td>6.0</td>\n",
       "      <td>...</td>\n",
       "      <td>4.72</td>\n",
       "      <td>4.62</td>\n",
       "      <td>4.76</td>\n",
       "      <td>4.79</td>\n",
       "      <td>4.86</td>\n",
       "      <td>4.41</td>\n",
       "      <td>0.0</td>\n",
       "      <td>3.0</td>\n",
       "      <td>0        11/21/2009\\n1         5/28/2009\\n2   ...</td>\n",
       "      <td>Jun</td>\n",
       "    </tr>\n",
       "    <tr>\n",
       "      <th>3</th>\n",
       "      <td>2595</td>\n",
       "      <td>2022-06-07</td>\n",
       "      <td>0</td>\n",
       "      <td>225.0</td>\n",
       "      <td>30</td>\n",
       "      <td>1125</td>\n",
       "      <td>2845.0</td>\n",
       "      <td>a few days or more</td>\n",
       "      <td>0.0</td>\n",
       "      <td>6.0</td>\n",
       "      <td>...</td>\n",
       "      <td>4.72</td>\n",
       "      <td>4.62</td>\n",
       "      <td>4.76</td>\n",
       "      <td>4.79</td>\n",
       "      <td>4.86</td>\n",
       "      <td>4.41</td>\n",
       "      <td>0.0</td>\n",
       "      <td>3.0</td>\n",
       "      <td>0        11/21/2009\\n1         5/28/2009\\n2   ...</td>\n",
       "      <td>Jun</td>\n",
       "    </tr>\n",
       "    <tr>\n",
       "      <th>4</th>\n",
       "      <td>2595</td>\n",
       "      <td>2022-06-08</td>\n",
       "      <td>0</td>\n",
       "      <td>225.0</td>\n",
       "      <td>30</td>\n",
       "      <td>1125</td>\n",
       "      <td>2845.0</td>\n",
       "      <td>a few days or more</td>\n",
       "      <td>0.0</td>\n",
       "      <td>6.0</td>\n",
       "      <td>...</td>\n",
       "      <td>4.72</td>\n",
       "      <td>4.62</td>\n",
       "      <td>4.76</td>\n",
       "      <td>4.79</td>\n",
       "      <td>4.86</td>\n",
       "      <td>4.41</td>\n",
       "      <td>0.0</td>\n",
       "      <td>3.0</td>\n",
       "      <td>0        11/21/2009\\n1         5/28/2009\\n2   ...</td>\n",
       "      <td>Jun</td>\n",
       "    </tr>\n",
       "  </tbody>\n",
       "</table>\n",
       "<p>5 rows × 36 columns</p>\n",
       "</div>"
      ],
      "text/plain": [
       "     id       date  available  price  minimum_nights  maximum_nights  host_id  \\\n",
       "0  2595 2022-06-04          0  225.0              30            1125   2845.0   \n",
       "1  2595 2022-06-05          0  225.0              30            1125   2845.0   \n",
       "2  2595 2022-06-06          0  225.0              30            1125   2845.0   \n",
       "3  2595 2022-06-07          0  225.0              30            1125   2845.0   \n",
       "4  2595 2022-06-08          0  225.0              30            1125   2845.0   \n",
       "\n",
       "   host_response_time  host_is_superhost  host_listings_count  ...  \\\n",
       "0  a few days or more                0.0                  6.0  ...   \n",
       "1  a few days or more                0.0                  6.0  ...   \n",
       "2  a few days or more                0.0                  6.0  ...   \n",
       "3  a few days or more                0.0                  6.0  ...   \n",
       "4  a few days or more                0.0                  6.0  ...   \n",
       "\n",
       "  review_scores_accuracy  review_scores_cleanliness  review_scores_checkin  \\\n",
       "0                   4.72                       4.62                   4.76   \n",
       "1                   4.72                       4.62                   4.76   \n",
       "2                   4.72                       4.62                   4.76   \n",
       "3                   4.72                       4.62                   4.76   \n",
       "4                   4.72                       4.62                   4.76   \n",
       "\n",
       "  review_scores_communication review_scores_location  review_scores_value  \\\n",
       "0                        4.79                   4.86                 4.41   \n",
       "1                        4.79                   4.86                 4.41   \n",
       "2                        4.79                   4.86                 4.41   \n",
       "3                        4.79                   4.86                 4.41   \n",
       "4                        4.79                   4.86                 4.41   \n",
       "\n",
       "   instant_bookable calculated_host_listings_count  \\\n",
       "0               0.0                            3.0   \n",
       "1               0.0                            3.0   \n",
       "2               0.0                            3.0   \n",
       "3               0.0                            3.0   \n",
       "4               0.0                            3.0   \n",
       "\n",
       "                                              review  month  \n",
       "0  0        11/21/2009\\n1         5/28/2009\\n2   ...    Jun  \n",
       "1  0        11/21/2009\\n1         5/28/2009\\n2   ...    Jun  \n",
       "2  0        11/21/2009\\n1         5/28/2009\\n2   ...    Jun  \n",
       "3  0        11/21/2009\\n1         5/28/2009\\n2   ...    Jun  \n",
       "4  0        11/21/2009\\n1         5/28/2009\\n2   ...    Jun  \n",
       "\n",
       "[5 rows x 36 columns]"
      ]
     },
     "execution_count": 2,
     "metadata": {},
     "output_type": "execute_result"
    }
   ],
   "source": [
    "df_full = pd.read_hdf('../data/df_full.h5')\n",
    "df_full.head()"
   ]
  },
  {
   "cell_type": "code",
   "execution_count": 3,
   "id": "d46f6e94-e2e5-4557-9dcf-91702dd51f6c",
   "metadata": {},
   "outputs": [
    {
     "data": {
      "text/plain": [
       "(1036165, 36)"
      ]
     },
     "execution_count": 3,
     "metadata": {},
     "output_type": "execute_result"
    }
   ],
   "source": [
    "df_full.shape"
   ]
  },
  {
   "cell_type": "code",
   "execution_count": 4,
   "id": "956ee942-c8a3-469a-9823-9b8e79663b41",
   "metadata": {},
   "outputs": [
    {
     "data": {
      "text/plain": [
       "(5840, 36)"
      ]
     },
     "execution_count": 4,
     "metadata": {},
     "output_type": "execute_result"
    }
   ],
   "source": [
    "Staten_Island = df_full.copy()\n",
    "Staten_Island = Staten_Island[Staten_Island['neighbourhood_group_cleansed'] == 'Staten Island']\n",
    "Staten_Island.shape"
   ]
  },
  {
   "cell_type": "markdown",
   "id": "a6037927-deb5-47d3-b5e3-e7f29fb9e071",
   "metadata": {},
   "source": [
    "We will first make a baseline:"
   ]
  },
  {
   "cell_type": "code",
   "execution_count": 5,
   "id": "2cca3af2-4c4b-41c0-987e-d7aeb9da426d",
   "metadata": {},
   "outputs": [
    {
     "name": "stdout",
     "output_type": "stream",
     "text": [
      "75.0\n"
     ]
    },
    {
     "data": {
      "text/plain": [
       "29565    75.0\n",
       "29566    75.0\n",
       "29567    75.0\n",
       "29568    75.0\n",
       "29569    75.0\n",
       "Name: price, dtype: float64"
      ]
     },
     "execution_count": 5,
     "metadata": {},
     "output_type": "execute_result"
    }
   ],
   "source": [
    "pred = Staten_Island['price']\n",
    "m = pred.median()\n",
    "print(m)\n",
    "pred = pred.map(lambda x: m)\n",
    "pred.head()"
   ]
  },
  {
   "cell_type": "code",
   "execution_count": 6,
   "id": "d886f9ea-217c-4e19-b460-1ab087e6ab99",
   "metadata": {},
   "outputs": [
    {
     "data": {
      "text/plain": [
       "14305.233561643836"
      ]
     },
     "execution_count": 6,
     "metadata": {},
     "output_type": "execute_result"
    }
   ],
   "source": [
    "metrics.mean_squared_error(Staten_Island['price'], pred)"
   ]
  },
  {
   "cell_type": "code",
   "execution_count": 7,
   "id": "6a543b70-32f9-4ce6-8fb2-c05c71a76a5d",
   "metadata": {},
   "outputs": [
    {
     "data": {
      "text/plain": [
       "119.60448804975437"
      ]
     },
     "execution_count": 7,
     "metadata": {},
     "output_type": "execute_result"
    }
   ],
   "source": [
    "np.sqrt(metrics.mean_squared_error(Staten_Island['price'], pred))"
   ]
  },
  {
   "cell_type": "code",
   "execution_count": 8,
   "id": "b6d35435-b308-470e-a16d-cbee0cd8cee9",
   "metadata": {},
   "outputs": [
    {
     "data": {
      "text/plain": [
       "55.72054794520548"
      ]
     },
     "execution_count": 8,
     "metadata": {},
     "output_type": "execute_result"
    }
   ],
   "source": [
    "residuals = Staten_Island['price'] - pred\n",
    "np.abs(residuals).mean()"
   ]
  },
  {
   "cell_type": "markdown",
   "id": "bccc2b9a-d393-45ef-87de-2eb8c489ddaa",
   "metadata": {},
   "source": [
    "Next let's export the data"
   ]
  },
  {
   "cell_type": "code",
   "execution_count": 9,
   "id": "e7cebc60-c9b4-42c2-96a9-649e4a0ad606",
   "metadata": {},
   "outputs": [
    {
     "name": "stderr",
     "output_type": "stream",
     "text": [
      "C:\\Users\\matth\\anaconda3\\lib\\site-packages\\pandas\\core\\generic.py:2703: PerformanceWarning: \n",
      "your performance may suffer as PyTables will pickle object types that it cannot\n",
      "map directly to c-types [inferred_type->mixed,key->block3_values] [items->Index(['host_response_time', 'host_verifications', 'neighbourhood_cleansed',\n",
      "       'neighbourhood_group_cleansed', 'property_type', 'room_type',\n",
      "       'amenities', 'review_scores_rating', 'review_scores_accuracy',\n",
      "       'review_scores_cleanliness', 'review_scores_checkin',\n",
      "       'review_scores_communication', 'review_scores_location',\n",
      "       'review_scores_value', 'review', 'month'],\n",
      "      dtype='object')]\n",
      "\n",
      "  pytables.to_hdf(\n"
     ]
    }
   ],
   "source": [
    "Staten_Island.to_hdf(r'../data/Staten_Island.h5', key='stage', mode='w') #run twice"
   ]
  },
  {
   "cell_type": "markdown",
   "id": "5eba3501-238a-4101-8f1c-f4595f228eb7",
   "metadata": {},
   "source": [
    "Make dummies"
   ]
  },
  {
   "cell_type": "code",
   "execution_count": 10,
   "id": "7b8c5104-6546-44a0-b0a3-e0f49d457256",
   "metadata": {},
   "outputs": [],
   "source": [
    "Staten_Island_dummies = pd.get_dummies(Staten_Island, columns=['host_response_time', 'room_type'])"
   ]
  },
  {
   "cell_type": "code",
   "execution_count": 11,
   "id": "06f4f40b-3d89-4f5c-a608-ec543de7b12d",
   "metadata": {},
   "outputs": [
    {
     "data": {
      "text/plain": [
       "latitude                                -0.689581\n",
       "room_type_Private room                  -0.529195\n",
       "longitude                               -0.515542\n",
       "host_response_time_unknown              -0.239379\n",
       "instant_bookable                        -0.142014\n",
       "maximum_nights                          -0.139553\n",
       "host_response_time_within a day         -0.123903\n",
       "minimum_nights                          -0.114987\n",
       "number_of_reviews                       -0.053676\n",
       "calculated_host_listings_count          -0.047242\n",
       "id                                      -0.028807\n",
       "host_id                                  0.018747\n",
       "host_is_superhost                        0.022879\n",
       "host_response_time_within a few hours    0.064620\n",
       "host_listings_count                      0.099251\n",
       "host_has_profile_pic                     0.102953\n",
       "available                                0.215412\n",
       "host_response_time_within an hour        0.216848\n",
       "has_availability                         0.264027\n",
       "availability_365                         0.286863\n",
       "host_identity_verified                   0.329696\n",
       "room_type_Entire home/apt                0.529195\n",
       "accommodates                             0.840103\n",
       "beds                                     0.875658\n",
       "price                                    1.000000\n",
       "Name: price, dtype: float64"
      ]
     },
     "execution_count": 11,
     "metadata": {},
     "output_type": "execute_result"
    }
   ],
   "source": [
    "Staten_Island_dummies.corr()['price'].sort_values()"
   ]
  },
  {
   "cell_type": "markdown",
   "id": "31938a83-712a-438f-a4f5-be729df5e96b",
   "metadata": {},
   "source": [
    "We see much more correlation in Staten Island variables then with Manhattan ones"
   ]
  },
  {
   "cell_type": "code",
   "execution_count": 12,
   "id": "acaab0cf-20f6-4bfb-87ae-fd77874eab15",
   "metadata": {},
   "outputs": [],
   "source": [
    "def tts_borough(df, xvars, dge):\n",
    "    X = df[xvars]\n",
    "    y = df['price']\n",
    "    poly = PolynomialFeatures(include_bias = False, degree = dge)\n",
    "    X_poly = poly.fit_transform(X)\n",
    "    X_train, X_test, y_train, y_test = train_test_split(X_poly, y, random_state=42)\n",
    "    return X_train, X_test, y_train, y_test"
   ]
  },
  {
   "cell_type": "code",
   "execution_count": 13,
   "id": "35e7d533-bc61-4a26-9554-b8877e803201",
   "metadata": {},
   "outputs": [],
   "source": [
    "xvars = ['beds', 'accommodates', 'latitude', 'room_type_Entire home/apt', 'room_type_Private room', 'longitude']\n",
    "X_train, X_test, y_train, y_test = tts_borough(Staten_Island_dummies, xvars, 2)"
   ]
  },
  {
   "cell_type": "markdown",
   "id": "bac6085a-265a-4ba0-b30b-ee626b83a8f9",
   "metadata": {},
   "source": [
    "Let's make a linear regression model\n"
   ]
  },
  {
   "cell_type": "code",
   "execution_count": 14,
   "id": "e8dde9ea-d408-4f9e-8cc7-2dee184b5c7a",
   "metadata": {},
   "outputs": [],
   "source": [
    "lr = LinearRegression()"
   ]
  },
  {
   "cell_type": "code",
   "execution_count": 15,
   "id": "68a1d746-2ffd-4b1c-9f8a-7afa19fecf1c",
   "metadata": {},
   "outputs": [
    {
     "data": {
      "text/plain": [
       "0.9730873678018096"
      ]
     },
     "execution_count": 15,
     "metadata": {},
     "output_type": "execute_result"
    }
   ],
   "source": [
    "cross_val_score(lr, X_train, y_train, cv = 5).mean()"
   ]
  },
  {
   "cell_type": "markdown",
   "id": "d8f99806-d50e-46ea-8913-0dd74e9d46b2",
   "metadata": {},
   "source": [
    "Very good cross_val_score\n"
   ]
  },
  {
   "cell_type": "code",
   "execution_count": 16,
   "id": "55110602-1140-4d51-9797-49b8e26028f5",
   "metadata": {},
   "outputs": [
    {
     "data": {
      "text/plain": [
       "LinearRegression()"
      ]
     },
     "execution_count": 16,
     "metadata": {},
     "output_type": "execute_result"
    }
   ],
   "source": [
    "lr.fit(X_train, y_train)"
   ]
  },
  {
   "cell_type": "code",
   "execution_count": 17,
   "id": "cc37ac3c-677d-4085-8a75-3f59f9a3ee3e",
   "metadata": {},
   "outputs": [],
   "source": [
    "prediction = lr.predict(X_test)"
   ]
  },
  {
   "cell_type": "markdown",
   "id": "2e4c8232-eba0-479b-8913-4c8642bbacc1",
   "metadata": {},
   "source": [
    "The function is"
   ]
  },
  {
   "cell_type": "code",
   "execution_count": 18,
   "id": "5c20466d-84df-495e-80fd-40222973ec75",
   "metadata": {},
   "outputs": [
    {
     "name": "stdout",
     "output_type": "stream",
     "text": [
      "Model intercept: 39100712601091.34\n",
      "Model coefficient values: [-1.33634782e+11 -1.20139656e+11  2.49563574e+10  3.64554119e+10\n",
      " -3.59565453e+10 -4.63510027e+09  7.86418896e+07 -1.38274257e+08\n",
      "  4.50920104e+09  5.11453354e+10  5.10366747e+10  1.35661822e+09\n",
      "  7.76550408e+07  4.75339035e+08 -4.36894494e+10 -4.36535580e+10\n",
      " -1.94695026e+09 -5.54421477e+09 -8.93706749e+11 -8.90508553e+11\n",
      " -1.76907124e+10  3.93241117e+10  0.00000000e+00  5.78818320e+11\n",
      " -3.94564617e+10  5.78531039e+11 -9.90881436e+08]\n"
     ]
    }
   ],
   "source": [
    "print(f'Model intercept: {lr.intercept_}')\n",
    "print(f'Model coefficient values: {lr.coef_}')"
   ]
  },
  {
   "cell_type": "markdown",
   "id": "a27ae7dc-58ad-427b-a86c-3dac56b91574",
   "metadata": {},
   "source": [
    "The R^2 value is\n"
   ]
  },
  {
   "cell_type": "code",
   "execution_count": 19,
   "id": "9374f950-55b6-483b-bc38-751b606c8f40",
   "metadata": {},
   "outputs": [
    {
     "name": "stdout",
     "output_type": "stream",
     "text": [
      "Training R2: 0.9733313324844002\n",
      "Testing R2: 0.9744491143128797\n"
     ]
    }
   ],
   "source": [
    "print(f'Training R2: {lr.score(X_train, y_train)}')\n",
    "print(f'Testing R2: {lr.score(X_test, y_test)}')"
   ]
  },
  {
   "cell_type": "markdown",
   "id": "5a053efd-b02e-49c8-b831-7600bf0b772c",
   "metadata": {},
   "source": [
    "The mean squared error is\n"
   ]
  },
  {
   "cell_type": "code",
   "execution_count": 20,
   "id": "bf7f3b32-0358-4094-9063-25de5a03bb5a",
   "metadata": {},
   "outputs": [
    {
     "data": {
      "text/plain": [
       "337.1530138825717"
      ]
     },
     "execution_count": 20,
     "metadata": {},
     "output_type": "execute_result"
    }
   ],
   "source": [
    "metrics.mean_squared_error(y_test, prediction)"
   ]
  },
  {
   "cell_type": "markdown",
   "id": "586e5618-e802-49eb-a443-1a195e2f0e92",
   "metadata": {},
   "source": [
    "And the root mean squered error is\n"
   ]
  },
  {
   "cell_type": "code",
   "execution_count": 21,
   "id": "7c1be769-3528-4c8d-95f1-ac0d9807a6d5",
   "metadata": {},
   "outputs": [
    {
     "data": {
      "text/plain": [
       "18.361726876374448"
      ]
     },
     "execution_count": 21,
     "metadata": {},
     "output_type": "execute_result"
    }
   ],
   "source": [
    "np.sqrt(metrics.mean_squared_error(y_test, prediction))"
   ]
  },
  {
   "cell_type": "markdown",
   "id": "4b055d18-3a73-4c03-ad12-416470b4253d",
   "metadata": {},
   "source": [
    "How about the mean of residuals\n"
   ]
  },
  {
   "cell_type": "code",
   "execution_count": 22,
   "id": "1d625ae1-436b-467f-9595-4aa1ddecead6",
   "metadata": {},
   "outputs": [
    {
     "data": {
      "text/plain": [
       "7.564854452054795"
      ]
     },
     "execution_count": 22,
     "metadata": {},
     "output_type": "execute_result"
    }
   ],
   "source": [
    "residuals = y_test - prediction\n",
    "np.abs(residuals).mean()"
   ]
  },
  {
   "cell_type": "markdown",
   "id": "17524260-3e47-4bff-b59b-1da3f0df13ba",
   "metadata": {},
   "source": [
    "The linear regression model is really good. But let's see if we can do even better! We will try with Decision Tree"
   ]
  },
  {
   "cell_type": "code",
   "execution_count": 23,
   "id": "da3ea564-86c0-4433-870a-65f4a1a04d35",
   "metadata": {},
   "outputs": [],
   "source": [
    "xvars = ['beds', 'accommodates', 'latitude']\n",
    "X = Staten_Island_dummies[xvars]\n",
    "y = Staten_Island_dummies['price']\n",
    "X_train, X_test, y_train, y_test = train_test_split(X, y, random_state=42)"
   ]
  },
  {
   "cell_type": "code",
   "execution_count": 24,
   "id": "2fea25a3-e83e-46cd-b00c-29be72b976b1",
   "metadata": {},
   "outputs": [],
   "source": [
    "#I tweeked this until I got the best result\n",
    "dt = DecisionTreeRegressor(random_state=42)"
   ]
  },
  {
   "cell_type": "code",
   "execution_count": 25,
   "id": "70515f64-8ec1-491c-ae1a-fe550c03cf63",
   "metadata": {},
   "outputs": [
    {
     "data": {
      "text/plain": [
       "DecisionTreeRegressor(random_state=42)"
      ]
     },
     "execution_count": 25,
     "metadata": {},
     "output_type": "execute_result"
    }
   ],
   "source": [
    "dt.fit(X_train, y_train)"
   ]
  },
  {
   "cell_type": "code",
   "execution_count": 26,
   "id": "6b6e148b-5064-4d0a-a4dd-9ed5a33ca548",
   "metadata": {},
   "outputs": [],
   "source": [
    "prediction = dt.predict(X_test)"
   ]
  },
  {
   "cell_type": "code",
   "execution_count": 27,
   "id": "6269fcc3-0662-4ab3-8ea8-c9a211ff251e",
   "metadata": {},
   "outputs": [
    {
     "name": "stdout",
     "output_type": "stream",
     "text": [
      "Score on training set: 0.9733315022216071\n",
      "Score on testing set: 0.9744500709956425\n"
     ]
    }
   ],
   "source": [
    "print(f'Score on training set: {dt.score(X_train, y_train)}')\n",
    "print(f'Score on testing set: {dt.score(X_test, y_test)}')"
   ]
  },
  {
   "cell_type": "code",
   "execution_count": 28,
   "id": "d59ecd9e-8b46-4bc7-b626-5fa51681781a",
   "metadata": {},
   "outputs": [
    {
     "data": {
      "text/plain": [
       "337.1403901136449"
      ]
     },
     "execution_count": 28,
     "metadata": {},
     "output_type": "execute_result"
    }
   ],
   "source": [
    "metrics.mean_squared_error(y_test, prediction)"
   ]
  },
  {
   "cell_type": "code",
   "execution_count": 29,
   "id": "78f6d24b-3950-4d5d-942f-0643b89a25df",
   "metadata": {},
   "outputs": [
    {
     "data": {
      "text/plain": [
       "18.361383120931954"
      ]
     },
     "execution_count": 29,
     "metadata": {},
     "output_type": "execute_result"
    }
   ],
   "source": [
    "np.sqrt(metrics.mean_squared_error(y_test, prediction))"
   ]
  },
  {
   "cell_type": "code",
   "execution_count": 30,
   "id": "d796106b-1d30-4dcc-9c6a-0f8ef8445007",
   "metadata": {},
   "outputs": [
    {
     "data": {
      "text/plain": [
       "7.5585589891145"
      ]
     },
     "execution_count": 30,
     "metadata": {},
     "output_type": "execute_result"
    }
   ],
   "source": [
    "residuals = y_test - prediction\n",
    "np.abs(residuals).mean()"
   ]
  },
  {
   "cell_type": "markdown",
   "id": "4695492d-19e7-464b-89bf-483f11b80f6c",
   "metadata": {},
   "source": [
    "Not much of a difference. Let's try the bagging model."
   ]
  },
  {
   "cell_type": "code",
   "execution_count": 31,
   "id": "dc076edb-a9e8-4e76-a10b-ed0bc1ba6104",
   "metadata": {},
   "outputs": [],
   "source": [
    "xvars = ['beds', 'accommodates', 'latitude']\n",
    "X = Staten_Island_dummies[xvars]\n",
    "y = Staten_Island_dummies['price']\n",
    "X_train, X_test, y_train, y_test = train_test_split(X, y, random_state=42)"
   ]
  },
  {
   "cell_type": "code",
   "execution_count": 32,
   "id": "ff068df0-51b7-405e-8515-877638945397",
   "metadata": {},
   "outputs": [
    {
     "data": {
      "text/plain": [
       "BaggingRegressor(random_state=42)"
      ]
     },
     "execution_count": 32,
     "metadata": {},
     "output_type": "execute_result"
    }
   ],
   "source": [
    "#From lesson 6.02\n",
    "bag = BaggingRegressor(random_state = 42)\n",
    "bag.fit(X_train, y_train)"
   ]
  },
  {
   "cell_type": "code",
   "execution_count": 33,
   "id": "549cbfc2-85d2-4389-9ee5-5967145e4ee4",
   "metadata": {},
   "outputs": [],
   "source": [
    "prediction = bag.predict(X_test)"
   ]
  },
  {
   "cell_type": "code",
   "execution_count": 34,
   "id": "f8ce7e84-6169-49fd-a0e9-fc6381143b03",
   "metadata": {},
   "outputs": [
    {
     "name": "stdout",
     "output_type": "stream",
     "text": [
      "Score on training set: 0.9733123505922943\n",
      "Score on testing set: 0.9744209033250809\n"
     ]
    }
   ],
   "source": [
    "print(f'Score on training set: {bag.score(X_train, y_train)}')\n",
    "print(f'Score on testing set: {bag.score(X_test, y_test)}')"
   ]
  },
  {
   "cell_type": "code",
   "execution_count": 35,
   "id": "0f1836dc-e1eb-41c0-9f24-2ab7a130bd75",
   "metadata": {},
   "outputs": [
    {
     "data": {
      "text/plain": [
       "337.52526788885"
      ]
     },
     "execution_count": 35,
     "metadata": {},
     "output_type": "execute_result"
    }
   ],
   "source": [
    "metrics.mean_squared_error(y_test, prediction)"
   ]
  },
  {
   "cell_type": "code",
   "execution_count": 36,
   "id": "48ee606c-cdb5-49e0-9a9f-543f70c50037",
   "metadata": {},
   "outputs": [
    {
     "data": {
      "text/plain": [
       "18.37186076283102"
      ]
     },
     "execution_count": 36,
     "metadata": {},
     "output_type": "execute_result"
    }
   ],
   "source": [
    "np.sqrt(metrics.mean_squared_error(y_test, prediction))"
   ]
  },
  {
   "cell_type": "code",
   "execution_count": 37,
   "id": "f1485aa7-549b-440f-a393-395f2c68db69",
   "metadata": {},
   "outputs": [
    {
     "data": {
      "text/plain": [
       "7.636950988061424"
      ]
     },
     "execution_count": 37,
     "metadata": {},
     "output_type": "execute_result"
    }
   ],
   "source": [
    "residuals = y_test - prediction\n",
    "np.abs(residuals).mean()"
   ]
  },
  {
   "cell_type": "markdown",
   "id": "f1420397-3d5e-4873-b3f9-78b89a25bbc2",
   "metadata": {},
   "source": [
    "___"
   ]
  },
  {
   "cell_type": "markdown",
   "id": "7e20ab0d-506b-4222-a18b-a57f0297dc9d",
   "metadata": {},
   "source": [
    "RandomForest:"
   ]
  },
  {
   "cell_type": "code",
   "execution_count": 38,
   "id": "588f2a6b-b01d-4208-ac09-616a9445f3df",
   "metadata": {},
   "outputs": [],
   "source": [
    "xvars = ['beds', 'accommodates', 'latitude']\n",
    "X = Staten_Island_dummies[xvars]\n",
    "y = Staten_Island_dummies['price']\n",
    "X_train, X_test, y_train, y_test = train_test_split(X, y, random_state=42)"
   ]
  },
  {
   "cell_type": "code",
   "execution_count": 39,
   "id": "33ec8ac3-bc29-4dbf-9e68-27e3477d94f7",
   "metadata": {},
   "outputs": [],
   "source": [
    "rf = RandomForestRegressor(n_estimators = 100)"
   ]
  },
  {
   "cell_type": "code",
   "execution_count": 40,
   "id": "2ab310ac-14ba-4929-bed8-ce813eb34552",
   "metadata": {},
   "outputs": [
    {
     "data": {
      "text/plain": [
       "RandomForestRegressor()"
      ]
     },
     "execution_count": 40,
     "metadata": {},
     "output_type": "execute_result"
    }
   ],
   "source": [
    "rf.fit(X_train,y_train)"
   ]
  },
  {
   "cell_type": "code",
   "execution_count": 41,
   "id": "cc36c596-30a7-4cb2-a073-7fb71230203c",
   "metadata": {},
   "outputs": [],
   "source": [
    "prediction = rf.predict(X_test)"
   ]
  },
  {
   "cell_type": "code",
   "execution_count": 42,
   "id": "571c7a19-a62e-407f-af01-ccc1182b0f42",
   "metadata": {},
   "outputs": [
    {
     "name": "stdout",
     "output_type": "stream",
     "text": [
      "Score on training set: 0.9733307987557265\n",
      "Score on testing set: 0.9744517595830207\n"
     ]
    }
   ],
   "source": [
    "print(f'Score on training set: {rf.score(X_train, y_train)}')\n",
    "print(f'Score on testing set: {rf.score(X_test, y_test)}')"
   ]
  },
  {
   "cell_type": "code",
   "execution_count": 43,
   "id": "09e885c0-81fa-49f0-b5cc-e10613657717",
   "metadata": {},
   "outputs": [
    {
     "data": {
      "text/plain": [
       "337.11810860329985"
      ]
     },
     "execution_count": 43,
     "metadata": {},
     "output_type": "execute_result"
    }
   ],
   "source": [
    "metrics.mean_squared_error(y_test, prediction)"
   ]
  },
  {
   "cell_type": "code",
   "execution_count": 44,
   "id": "dab9b0a1-b742-4b90-9f70-89da2535a694",
   "metadata": {},
   "outputs": [
    {
     "data": {
      "text/plain": [
       "18.36077636167109"
      ]
     },
     "execution_count": 44,
     "metadata": {},
     "output_type": "execute_result"
    }
   ],
   "source": [
    "np.sqrt(metrics.mean_squared_error(y_test, prediction))"
   ]
  },
  {
   "cell_type": "code",
   "execution_count": 45,
   "id": "2cc7a3d7-b355-43a1-8bde-98fa0586af4f",
   "metadata": {},
   "outputs": [
    {
     "data": {
      "text/plain": [
       "7.562081334842878"
      ]
     },
     "execution_count": 45,
     "metadata": {},
     "output_type": "execute_result"
    }
   ],
   "source": [
    "residuals = y_test - prediction\n",
    "np.abs(residuals).mean()"
   ]
  },
  {
   "cell_type": "markdown",
   "id": "776a04aa-b21b-4249-bc1c-1253c905537d",
   "metadata": {},
   "source": [
    "ExtraTrees:"
   ]
  },
  {
   "cell_type": "code",
   "execution_count": 46,
   "id": "b96a8cad-a03c-4cb9-8028-b1c389c3eac2",
   "metadata": {},
   "outputs": [],
   "source": [
    "xvars = ['beds', 'accommodates', 'latitude']\n",
    "X = Staten_Island_dummies[xvars]\n",
    "y = Staten_Island_dummies['price']\n",
    "X_train, X_test, y_train, y_test = train_test_split(X, y, random_state=42)"
   ]
  },
  {
   "cell_type": "code",
   "execution_count": 47,
   "id": "0a9aead7-5275-43fa-987d-5e4f155a8eb1",
   "metadata": {},
   "outputs": [],
   "source": [
    "et = ExtraTreesRegressor(n_estimators = 100)"
   ]
  },
  {
   "cell_type": "code",
   "execution_count": 48,
   "id": "57c1d14d-c6bf-4c8f-b724-4205b2b50628",
   "metadata": {},
   "outputs": [
    {
     "data": {
      "text/plain": [
       "ExtraTreesRegressor()"
      ]
     },
     "execution_count": 48,
     "metadata": {},
     "output_type": "execute_result"
    }
   ],
   "source": [
    "et.fit(X_train, y_train)"
   ]
  },
  {
   "cell_type": "code",
   "execution_count": 49,
   "id": "40210831-af7e-4b0d-9c31-31d63e8e04d6",
   "metadata": {},
   "outputs": [],
   "source": [
    "prediction = et.predict(X_test)"
   ]
  },
  {
   "cell_type": "code",
   "execution_count": 50,
   "id": "43e11d63-8c61-4687-a47b-415f1a7978f4",
   "metadata": {},
   "outputs": [
    {
     "name": "stdout",
     "output_type": "stream",
     "text": [
      "Score on training set: 0.9733315022216071\n",
      "Score on testing set: 0.9744500709956425\n"
     ]
    }
   ],
   "source": [
    "print(f'Score on training set: {et.score(X_train, y_train)}')\n",
    "print(f'Score on testing set: {et.score(X_test, y_test)}')"
   ]
  },
  {
   "cell_type": "code",
   "execution_count": 51,
   "id": "178fff6c-f1fa-4482-b4b1-87b6cc4220aa",
   "metadata": {},
   "outputs": [
    {
     "data": {
      "text/plain": [
       "337.14039011364497"
      ]
     },
     "execution_count": 51,
     "metadata": {},
     "output_type": "execute_result"
    }
   ],
   "source": [
    "metrics.mean_squared_error(y_test, prediction)"
   ]
  },
  {
   "cell_type": "code",
   "execution_count": 52,
   "id": "4a5d1c3d-8ae6-4152-862f-fdc51d7faf59",
   "metadata": {},
   "outputs": [
    {
     "data": {
      "text/plain": [
       "18.361383120931958"
      ]
     },
     "execution_count": 52,
     "metadata": {},
     "output_type": "execute_result"
    }
   ],
   "source": [
    "np.sqrt(metrics.mean_squared_error(y_test, prediction))"
   ]
  },
  {
   "cell_type": "code",
   "execution_count": 53,
   "id": "d5ba5b6c-18e9-4fb9-8f4c-9b83e5046198",
   "metadata": {},
   "outputs": [
    {
     "data": {
      "text/plain": [
       "7.558558989114516"
      ]
     },
     "execution_count": 53,
     "metadata": {},
     "output_type": "execute_result"
    }
   ],
   "source": [
    "residuals = y_test - prediction\n",
    "np.abs(residuals).mean()"
   ]
  },
  {
   "cell_type": "markdown",
   "id": "ea22ef60-5bc9-4603-8731-e2103535de83",
   "metadata": {},
   "source": [
    "Decision Tree and Extra Trees are the best models here. So I'll go with the decision tree for the streamlit app."
   ]
  },
  {
   "cell_type": "markdown",
   "id": "de5d6f8d-7862-4a05-9249-59e081ea464f",
   "metadata": {},
   "source": [
    "We will pickle this object to use for our streamlit app\n"
   ]
  },
  {
   "cell_type": "code",
   "execution_count": 54,
   "id": "365b66b5-15cf-470f-a611-3dddf5645e98",
   "metadata": {},
   "outputs": [],
   "source": [
    "with open('pickled/staten_island_pickle.pkl', 'wb') as f:\n",
    "    pickle.dump(dt, f)"
   ]
  },
  {
   "cell_type": "code",
   "execution_count": null,
   "id": "47c97419-33bd-47f0-b8bc-d7dfb0fa1da2",
   "metadata": {},
   "outputs": [],
   "source": []
  }
 ],
 "metadata": {
  "kernelspec": {
   "display_name": "Python 3 (ipykernel)",
   "language": "python",
   "name": "python3"
  },
  "language_info": {
   "codemirror_mode": {
    "name": "ipython",
    "version": 3
   },
   "file_extension": ".py",
   "mimetype": "text/x-python",
   "name": "python",
   "nbconvert_exporter": "python",
   "pygments_lexer": "ipython3",
   "version": "3.9.7"
  }
 },
 "nbformat": 4,
 "nbformat_minor": 5
}
